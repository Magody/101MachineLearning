{
 "cells": [
  {
   "cell_type": "markdown",
   "id": "1894f082",
   "metadata": {
    "id": "1894f082"
   },
   "source": [
    "# UNIDAD 3: Análisis de sentimientos\n",
    "\n",
    "En esta notebook veremos cómo abordar el análisis de sentimientos a nivel de oración.\n"
   ]
  },
  {
   "cell_type": "markdown",
   "id": "bb0bf012",
   "metadata": {
    "id": "bb0bf012"
   },
   "source": [
    "<b> Descripción del Dataset</b>\n",
    "\n",
    "- Título: Disneyland Reviews\n",
    "\n",
    "- Fuente: https://www.kaggle.com/datasets/arushchillar/disneyland-reviews\n",
    "\n",
    " Utilizaremos el dataset <i>DisneylandReviews.csv</i> que está disponible en la plataforma <i>Kaggle</i>. El dataset contiene opiniones sobre tres de los parques temáticos que tiene Disney, en concreto en las ciudades de Paris, Hong Kong y California.\n",
    "\n",
    "El dataset se tiene en 6 columnas:\n",
    "\n",
    "\n",
    "- <b>Review_ID</b>: identificación única proporcionada a cada reseña.<br>\n",
    "- <b>Rating</b>: calificación que va desde 1 (insatisfecho), hasta 5 (satisfecho).<br>\n",
    "- <b>Year_Month</b>: año y día de cuando el turista visitó el parque temático.<br>\n",
    "- <b>Reviewer_Location</b>: país de origen del visitante.<br>\n",
    "- <b>Review_Text</b>: texto del comentario realizados por el visitante.<br>\n",
    "- <b>Branch</b>: ubicación del parque calificado.<br>"
   ]
  },
  {
   "cell_type": "code",
   "execution_count": 1,
   "id": "d1333f6b",
   "metadata": {
    "id": "d1333f6b"
   },
   "outputs": [],
   "source": [
    "import warnings\n",
    "warnings.filterwarnings('ignore', category=DeprecationWarning)\n"
   ]
  },
  {
   "cell_type": "markdown",
   "id": "3d8d20de",
   "metadata": {
    "id": "3d8d20de"
   },
   "source": [
    "## 1. Preparación del dataset: pre-procesamiento de texto\n",
    "\n",
    "\n",
    "En este primer apartado realizaremos la carga del dataset original, seleccionaremos un subconjunto de los registros y prepararemos el texto de los comentarios antes de realizar el análisis.\n",
    "\n",
    "## 1.1 Carga y creación del dataset"
   ]
  },
  {
   "cell_type": "code",
   "execution_count": 2,
   "id": "bbf74bac",
   "metadata": {
    "colab": {
     "base_uri": "https://localhost:8080/",
     "height": 503
    },
    "id": "bbf74bac",
    "outputId": "edddcdd1-a217-400e-cdf7-d0df4af49355"
   },
   "outputs": [
    {
     "name": "stdout",
     "output_type": "stream",
     "text": [
      "(42656, 6)\n"
     ]
    },
    {
     "data": {
      "text/html": [
       "<div>\n",
       "<style scoped>\n",
       "    .dataframe tbody tr th:only-of-type {\n",
       "        vertical-align: middle;\n",
       "    }\n",
       "\n",
       "    .dataframe tbody tr th {\n",
       "        vertical-align: top;\n",
       "    }\n",
       "\n",
       "    .dataframe thead th {\n",
       "        text-align: right;\n",
       "    }\n",
       "</style>\n",
       "<table border=\"1\" class=\"dataframe\">\n",
       "  <thead>\n",
       "    <tr style=\"text-align: right;\">\n",
       "      <th></th>\n",
       "      <th>Review_ID</th>\n",
       "      <th>Rating</th>\n",
       "      <th>Year_Month</th>\n",
       "      <th>Reviewer_Location</th>\n",
       "      <th>Review_Text</th>\n",
       "      <th>Branch</th>\n",
       "    </tr>\n",
       "  </thead>\n",
       "  <tbody>\n",
       "    <tr>\n",
       "      <th>0</th>\n",
       "      <td>670772142</td>\n",
       "      <td>4</td>\n",
       "      <td>2019-4</td>\n",
       "      <td>Australia</td>\n",
       "      <td>If you've ever been to Disneyland anywhere you'll find Disneyland Hong Kong very similar in the layout when you walk into main street! It has a very familiar feel. One of the rides  its a Small World  is absolutely fabulous and worth doing. The day we visited was fairly hot and relatively busy b...</td>\n",
       "      <td>Disneyland_HongKong</td>\n",
       "    </tr>\n",
       "    <tr>\n",
       "      <th>1</th>\n",
       "      <td>670682799</td>\n",
       "      <td>4</td>\n",
       "      <td>2019-5</td>\n",
       "      <td>Philippines</td>\n",
       "      <td>Its been a while since d last time we visit HK Disneyland .. Yet, this time we only stay in Tomorrowland .. AKA Marvel land!Now they have Iron Man Experience n d Newly open Ant Man n d Wasp!!Ironman .. Great feature n so Exciting, especially d whole scenery of HK (HK central area to Kowloon)!Ant...</td>\n",
       "      <td>Disneyland_HongKong</td>\n",
       "    </tr>\n",
       "    <tr>\n",
       "      <th>2</th>\n",
       "      <td>670623270</td>\n",
       "      <td>4</td>\n",
       "      <td>2019-4</td>\n",
       "      <td>United Arab Emirates</td>\n",
       "      <td>Thanks God it wasn't too hot or too humid when I was visiting the park   otherwise it would be a big issue (there is not a lot of shade).I have arrived around 10:30am and left at 6pm. Unfortunately I didn   t last until evening parade, but 8.5 hours was too much for me. There is plenty to do and...</td>\n",
       "      <td>Disneyland_HongKong</td>\n",
       "    </tr>\n",
       "    <tr>\n",
       "      <th>3</th>\n",
       "      <td>670607911</td>\n",
       "      <td>4</td>\n",
       "      <td>2019-4</td>\n",
       "      <td>Australia</td>\n",
       "      <td>HK Disneyland is a great compact park. Unfortunately there is quite a bit of maintenance work going on at present so a number of areas are closed off (including the famous castle) If you go midweek, it is not too crowded and certainly no where near as bus as LA Disneyland. We did notice on this ...</td>\n",
       "      <td>Disneyland_HongKong</td>\n",
       "    </tr>\n",
       "    <tr>\n",
       "      <th>4</th>\n",
       "      <td>670607296</td>\n",
       "      <td>4</td>\n",
       "      <td>2019-4</td>\n",
       "      <td>United Kingdom</td>\n",
       "      <td>the location is not in the city, took around 1 hour from Kowlon, my kids like disneyland so much, everything is fine.   but its really crowded and hot in Hong Kong</td>\n",
       "      <td>Disneyland_HongKong</td>\n",
       "    </tr>\n",
       "  </tbody>\n",
       "</table>\n",
       "</div>"
      ],
      "text/plain": [
       "   Review_ID  Rating Year_Month     Reviewer_Location  \\\n",
       "0  670772142       4     2019-4             Australia   \n",
       "1  670682799       4     2019-5           Philippines   \n",
       "2  670623270       4     2019-4  United Arab Emirates   \n",
       "3  670607911       4     2019-4             Australia   \n",
       "4  670607296       4     2019-4        United Kingdom   \n",
       "\n",
       "                                                                                                                                                                                                                                                                                                   Review_Text  \\\n",
       "0  If you've ever been to Disneyland anywhere you'll find Disneyland Hong Kong very similar in the layout when you walk into main street! It has a very familiar feel. One of the rides  its a Small World  is absolutely fabulous and worth doing. The day we visited was fairly hot and relatively busy b...   \n",
       "1  Its been a while since d last time we visit HK Disneyland .. Yet, this time we only stay in Tomorrowland .. AKA Marvel land!Now they have Iron Man Experience n d Newly open Ant Man n d Wasp!!Ironman .. Great feature n so Exciting, especially d whole scenery of HK (HK central area to Kowloon)!Ant...   \n",
       "2  Thanks God it wasn't too hot or too humid when I was visiting the park   otherwise it would be a big issue (there is not a lot of shade).I have arrived around 10:30am and left at 6pm. Unfortunately I didn   t last until evening parade, but 8.5 hours was too much for me. There is plenty to do and...   \n",
       "3  HK Disneyland is a great compact park. Unfortunately there is quite a bit of maintenance work going on at present so a number of areas are closed off (including the famous castle) If you go midweek, it is not too crowded and certainly no where near as bus as LA Disneyland. We did notice on this ...   \n",
       "4                                                                                                                                          the location is not in the city, took around 1 hour from Kowlon, my kids like disneyland so much, everything is fine.   but its really crowded and hot in Hong Kong   \n",
       "\n",
       "                Branch  \n",
       "0  Disneyland_HongKong  \n",
       "1  Disneyland_HongKong  \n",
       "2  Disneyland_HongKong  \n",
       "3  Disneyland_HongKong  \n",
       "4  Disneyland_HongKong  "
      ]
     },
     "execution_count": 2,
     "metadata": {},
     "output_type": "execute_result"
    }
   ],
   "source": [
    "import pandas as pd\n",
    "pd.set_option('display.max_colwidth', 300)\n",
    "\n",
    "# Cargamos el archivo de comentarios:\n",
    "dl = pd.read_csv('./DisneylandReviews.csv', encoding = \"ISO-8859-1\")\n",
    "print(dl.shape) # Dimensión del dataset\n",
    "dl.head()"
   ]
  },
  {
   "cell_type": "markdown",
   "id": "c30e2753-9ccf-4fd4-b565-1b4e6e2c618c",
   "metadata": {},
   "source": [
    "Como observamos, el tamaño del dataset contiene más de 42K comentarios. Para un primer experimento vamos a concencentrarnos en el análisis de un subconjunto del dataset: filtraremos solo comentarios de **Disneyland_Paris**\n",
    "\n"
   ]
  },
  {
   "cell_type": "code",
   "execution_count": 3,
   "id": "99646f8f-4bfb-4c5b-942e-48b550ee5aeb",
   "metadata": {
    "colab": {
     "base_uri": "https://localhost:8080/",
     "height": 206
    },
    "id": "99646f8f-4bfb-4c5b-942e-48b550ee5aeb",
    "outputId": "dc213560-1b7b-4a74-fced-b51654888b4c"
   },
   "outputs": [
    {
     "name": "stdout",
     "output_type": "stream",
     "text": [
      "(13628, 2)\n"
     ]
    },
    {
     "data": {
      "text/html": [
       "<div>\n",
       "<style scoped>\n",
       "    .dataframe tbody tr th:only-of-type {\n",
       "        vertical-align: middle;\n",
       "    }\n",
       "\n",
       "    .dataframe tbody tr th {\n",
       "        vertical-align: top;\n",
       "    }\n",
       "\n",
       "    .dataframe thead th {\n",
       "        text-align: right;\n",
       "    }\n",
       "</style>\n",
       "<table border=\"1\" class=\"dataframe\">\n",
       "  <thead>\n",
       "    <tr style=\"text-align: right;\">\n",
       "      <th></th>\n",
       "      <th>Rating</th>\n",
       "      <th>Review_Text</th>\n",
       "    </tr>\n",
       "  </thead>\n",
       "  <tbody>\n",
       "    <tr>\n",
       "      <th>35891</th>\n",
       "      <td>5</td>\n",
       "      <td>We had a fantastic 5 days hopping between both parks.  Can't wait to return. My daughter had a great time meeting all the characters and princesses.  Can't wait to return</td>\n",
       "    </tr>\n",
       "    <tr>\n",
       "      <th>33496</th>\n",
       "      <td>4</td>\n",
       "      <td>We are Disney fans. This was very Disney in feel. We managed to accomplish everything we wanted, that was not under refurbishment, in both parks in one very long 13 hour day! Glad we went! It was fun. Most lines were under 20 minutes. Except Crushes Coaster, one hour, but with the wait. Like no ...</td>\n",
       "    </tr>\n",
       "    <tr>\n",
       "      <th>41409</th>\n",
       "      <td>4</td>\n",
       "      <td>Great Place    Great rides but it is crowded    be sure to reach early !!</td>\n",
       "    </tr>\n",
       "    <tr>\n",
       "      <th>35801</th>\n",
       "      <td>3</td>\n",
       "      <td>I have a nine year old son with ADHD, Tourette's Syndrome and OCD. The special pass given to us was invaluable, but the attitude of some of the ride staff was appalling. On visiting the Ratatouille ride my son was asked to pick up his 3d glasses, because of his OCD he picked them up from the bac...</td>\n",
       "    </tr>\n",
       "    <tr>\n",
       "      <th>31092</th>\n",
       "      <td>5</td>\n",
       "      <td>Disneyland is so beautiful and large.To see all you need to stay there at least 3 days,as there is a lot of people and large quits, but it is worth it! Very good organized! We have the best holidays experience!</td>\n",
       "    </tr>\n",
       "  </tbody>\n",
       "</table>\n",
       "</div>"
      ],
      "text/plain": [
       "       Rating  \\\n",
       "35891       5   \n",
       "33496       4   \n",
       "41409       4   \n",
       "35801       3   \n",
       "31092       5   \n",
       "\n",
       "                                                                                                                                                                                                                                                                                                       Review_Text  \n",
       "35891                                                                                                                                   We had a fantastic 5 days hopping between both parks.  Can't wait to return. My daughter had a great time meeting all the characters and princesses.  Can't wait to return  \n",
       "33496  We are Disney fans. This was very Disney in feel. We managed to accomplish everything we wanted, that was not under refurbishment, in both parks in one very long 13 hour day! Glad we went! It was fun. Most lines were under 20 minutes. Except Crushes Coaster, one hour, but with the wait. Like no ...  \n",
       "41409                                                                                                                                                                                                                                    Great Place    Great rides but it is crowded    be sure to reach early !!  \n",
       "35801  I have a nine year old son with ADHD, Tourette's Syndrome and OCD. The special pass given to us was invaluable, but the attitude of some of the ride staff was appalling. On visiting the Ratatouille ride my son was asked to pick up his 3d glasses, because of his OCD he picked them up from the bac...  \n",
       "31092                                                                                           Disneyland is so beautiful and large.To see all you need to stay there at least 3 days,as there is a lot of people and large quits, but it is worth it! Very good organized! We have the best holidays experience!  "
      ]
     },
     "execution_count": 3,
     "metadata": {},
     "output_type": "execute_result"
    }
   ],
   "source": [
    "#Seleccionamos las filas y columnas con las que trabajaremos:\n",
    "\n",
    "data = dl[dl['Branch']== 'Disneyland_Paris']\n",
    "\n",
    "data = data[['Rating', 'Review_Text']]\n",
    "\n",
    "print(data.shape)\n",
    "\n",
    "data.sample(5) "
   ]
  },
  {
   "cell_type": "markdown",
   "id": "e1cadf53-8a33-45da-9176-03f5dfd3eac6",
   "metadata": {},
   "source": [
    "Por tanto, vamos a trabajar con 13628 comentarios."
   ]
  },
  {
   "cell_type": "code",
   "execution_count": 4,
   "id": "ecdf4211-88d4-4cf7-8cfc-e9f3593e8b2e",
   "metadata": {
    "colab": {
     "base_uri": "https://localhost:8080/",
     "height": 447
    },
    "id": "ecdf4211-88d4-4cf7-8cfc-e9f3593e8b2e",
    "outputId": "f1c1060b-bdb5-4159-e25f-da09a624cc12"
   },
   "outputs": [
    {
     "data": {
      "text/plain": [
       "<Axes: >"
      ]
     },
     "execution_count": 4,
     "metadata": {},
     "output_type": "execute_result"
    },
    {
     "data": {
      "image/png": "[encoded data removed]",
      "text/plain": [
       "<Figure size 640x480 with 1 Axes>"
      ]
     },
     "metadata": {},
     "output_type": "display_data"
    }
   ],
   "source": [
    "#Graficamos un histograma para tener una idea de la distribución de calificaciones numéricas:\n",
    "\n",
    "data.Rating.hist(bins=[0,1,2,3,4,5])"
   ]
  },
  {
   "cell_type": "markdown",
   "id": "5864a2ae-4515-4e33-a0d1-18f02740b307",
   "metadata": {
    "id": "5864a2ae-4515-4e33-a0d1-18f02740b307"
   },
   "source": [
    "Como observamos en el histograma, hay más calificaciones positivas (de 4 puntos o más). \n",
    "\n",
    "Para seguir con la tarea de clasificación binaria, necesitaremos sólo las opiniones que tienen las calificaciones más altas y las más bajas, por ello, vamos a seleccionar las filas que cumplan estas características:\n",
    "\n",
    "- Las opiniones cuya calificación sea mayor que 3 serán etiquetadas con '1', mientras que etiquetaremos con '0' las opiniones que tengan una calificación menor a 3. Las etiquetas se asignan a la columna <b>sentiment</b>.\n"
   ]
  },
  {
   "cell_type": "code",
   "execution_count": 6,
   "id": "16d52608",
   "metadata": {
    "colab": {
     "base_uri": "https://localhost:8080/"
    },
    "id": "16d52608",
    "outputId": "3f964bfb-382b-4b94-fe0d-74f584c10c37"
   },
   "outputs": [
    {
     "name": "stdout",
     "output_type": "stream",
     "text": [
      "sentiment\n",
      "1    9674\n",
      "0    1872\n",
      "Name: count, dtype: int64\n",
      "(11546, 3)\n"
     ]
    }
   ],
   "source": [
    "# Creación de una nueva columna: sentiment\n",
    "\n",
    "cond = data['Rating'] != 3  # Descartar reseñas neutrales (calificación = 3)\n",
    "data = data.loc[cond]\n",
    "\n",
    "data['sentiment'] = data['Rating'].apply(lambda x : 1 if x > 3 else 0)\n",
    "\n",
    "print(data.sentiment.value_counts()) # Calificaciones por clase.\n",
    "\n",
    "print(data.shape) # Tamaño final del dataset"
   ]
  },
  {
   "cell_type": "code",
   "execution_count": 7,
   "id": "c8fad82c-97fc-4273-bf24-df02492018a2",
   "metadata": {
    "colab": {
     "base_uri": "https://localhost:8080/",
     "height": 362
    },
    "id": "c8fad82c-97fc-4273-bf24-df02492018a2",
    "outputId": "57e502ab-bd39-4c38-f13e-320d9e8f1c69"
   },
   "outputs": [
    {
     "data": {
      "text/html": [
       "<div>\n",
       "<style scoped>\n",
       "    .dataframe tbody tr th:only-of-type {\n",
       "        vertical-align: middle;\n",
       "    }\n",
       "\n",
       "    .dataframe tbody tr th {\n",
       "        vertical-align: top;\n",
       "    }\n",
       "\n",
       "    .dataframe thead th {\n",
       "        text-align: right;\n",
       "    }\n",
       "</style>\n",
       "<table border=\"1\" class=\"dataframe\">\n",
       "  <thead>\n",
       "    <tr style=\"text-align: right;\">\n",
       "      <th></th>\n",
       "      <th>Rating</th>\n",
       "      <th>Review_Text</th>\n",
       "      <th>sentiment</th>\n",
       "    </tr>\n",
       "  </thead>\n",
       "  <tbody>\n",
       "    <tr>\n",
       "      <th>31112</th>\n",
       "      <td>5</td>\n",
       "      <td>Located 30 minutes from centre of Paris, Disneyland has two parks, Disneyland Park and Walt Disney Studio. If you go to both parks in one day, I recommend you to start in Walt Disney Studio, because it close at 7pm and Disneyland Park closes at 10pm. In Walt Disney Studio I loved the Hollywood T...</td>\n",
       "      <td>1</td>\n",
       "    </tr>\n",
       "    <tr>\n",
       "      <th>41597</th>\n",
       "      <td>1</td>\n",
       "      <td>The scenes were the only thing that was good! We were glad to be home away from all that pushing and shoving (people will push you to the ground even if you are carrying a 8 month baby in your arms!   this is one eg what happened to me) And the buses needed to run more regular at the end of the ...</td>\n",
       "      <td>0</td>\n",
       "    </tr>\n",
       "    <tr>\n",
       "      <th>40386</th>\n",
       "      <td>5</td>\n",
       "      <td>We visited Disney as a group of 4 from the 12th 16th November on the 2 nights free package, the parks were lovely as the Christmas season had started and pretty quiet due to a lack of European school holidays   always try to avoid times when there are French school holidays as they make insanely...</td>\n",
       "      <td>1</td>\n",
       "    </tr>\n",
       "    <tr>\n",
       "      <th>39267</th>\n",
       "      <td>5</td>\n",
       "      <td>Arrived at 9.30am, left 12.30am after finale, all the hours inbetween are a bit of a blur! The weather was poor but this made no diference at all, what a fantastic place. Leave the budget at home, splurge on whatever you want and get stuck into it. Superb rides that we hardly had to queue for, l...</td>\n",
       "      <td>1</td>\n",
       "    </tr>\n",
       "    <tr>\n",
       "      <th>36983</th>\n",
       "      <td>5</td>\n",
       "      <td>Took my three young children in January 2015. Really wasn't keen but went for the family experience. I was so surprised by how I ended up buying into the Disney dream. The scale of it, the quality of the rides and the ... I can't believe I'm writing this ... the magic! The kids absolutely loved ...</td>\n",
       "      <td>1</td>\n",
       "    </tr>\n",
       "    <tr>\n",
       "      <th>39651</th>\n",
       "      <td>2</td>\n",
       "      <td>We have been to Disneyland Paris 5 times with our children and usually love it but I have to say that this was definitely the last time! Half the rides were closed and the prices had gone up so much since last year it wasn't even funny. It was roughly   16 for burger and chips a small bottle of ...</td>\n",
       "      <td>0</td>\n",
       "    </tr>\n",
       "    <tr>\n",
       "      <th>42349</th>\n",
       "      <td>5</td>\n",
       "      <td>First went to Eurodisney ( as it was then called) just after it opened. Stayed at the Newport Bay Club hotel for 5 days and had a great time, despite the bad press it was getting. Our sons were age 2 and 6. We returned every year for 5 or 7 days, although there was only the Magic Kingdom park th...</td>\n",
       "      <td>1</td>\n",
       "    </tr>\n",
       "    <tr>\n",
       "      <th>30240</th>\n",
       "      <td>5</td>\n",
       "      <td>Great visit with a friend again, short wait times and the parade was good! Illumination at 11pm I would recommend</td>\n",
       "      <td>1</td>\n",
       "    </tr>\n",
       "    <tr>\n",
       "      <th>35967</th>\n",
       "      <td>4</td>\n",
       "      <td>Enjoyed the two days in the park. Very busy but to be expected. Be prepared to pay through the nose for food. Had dinner in planet hollywood which was average and dinner in rainforest cafe which was yum and great choice on the menu. Average 100 to 150 euros for a meal for four.</td>\n",
       "      <td>1</td>\n",
       "    </tr>\n",
       "    <tr>\n",
       "      <th>40922</th>\n",
       "      <td>4</td>\n",
       "      <td>Well, it was a great day out and a real surprise for my children as they thought we had got on the wrong train to get to Notre Dame Catherdral. We visited Eurodisney on the first day in Paris as the weather was good and the day we had thought we would go later in the week had rain forecast. So I...</td>\n",
       "      <td>1</td>\n",
       "    </tr>\n",
       "  </tbody>\n",
       "</table>\n",
       "</div>"
      ],
      "text/plain": [
       "       Rating  \\\n",
       "31112       5   \n",
       "41597       1   \n",
       "40386       5   \n",
       "39267       5   \n",
       "36983       5   \n",
       "39651       2   \n",
       "42349       5   \n",
       "30240       5   \n",
       "35967       4   \n",
       "40922       4   \n",
       "\n",
       "                                                                                                                                                                                                                                                                                                       Review_Text  \\\n",
       "31112  Located 30 minutes from centre of Paris, Disneyland has two parks, Disneyland Park and Walt Disney Studio. If you go to both parks in one day, I recommend you to start in Walt Disney Studio, because it close at 7pm and Disneyland Park closes at 10pm. In Walt Disney Studio I loved the Hollywood T...   \n",
       "41597  The scenes were the only thing that was good! We were glad to be home away from all that pushing and shoving (people will push you to the ground even if you are carrying a 8 month baby in your arms!   this is one eg what happened to me) And the buses needed to run more regular at the end of the ...   \n",
       "40386  We visited Disney as a group of 4 from the 12th 16th November on the 2 nights free package, the parks were lovely as the Christmas season had started and pretty quiet due to a lack of European school holidays   always try to avoid times when there are French school holidays as they make insanely...   \n",
       "39267  Arrived at 9.30am, left 12.30am after finale, all the hours inbetween are a bit of a blur! The weather was poor but this made no diference at all, what a fantastic place. Leave the budget at home, splurge on whatever you want and get stuck into it. Superb rides that we hardly had to queue for, l...   \n",
       "36983  Took my three young children in January 2015. Really wasn't keen but went for the family experience. I was so surprised by how I ended up buying into the Disney dream. The scale of it, the quality of the rides and the ... I can't believe I'm writing this ... the magic! The kids absolutely loved ...   \n",
       "39651  We have been to Disneyland Paris 5 times with our children and usually love it but I have to say that this was definitely the last time! Half the rides were closed and the prices had gone up so much since last year it wasn't even funny. It was roughly   16 for burger and chips a small bottle of ...   \n",
       "42349  First went to Eurodisney ( as it was then called) just after it opened. Stayed at the Newport Bay Club hotel for 5 days and had a great time, despite the bad press it was getting. Our sons were age 2 and 6. We returned every year for 5 or 7 days, although there was only the Magic Kingdom park th...   \n",
       "30240                                                                                                                                                                                            Great visit with a friend again, short wait times and the parade was good! Illumination at 11pm I would recommend   \n",
       "35967                       Enjoyed the two days in the park. Very busy but to be expected. Be prepared to pay through the nose for food. Had dinner in planet hollywood which was average and dinner in rainforest cafe which was yum and great choice on the menu. Average 100 to 150 euros for a meal for four.   \n",
       "40922  Well, it was a great day out and a real surprise for my children as they thought we had got on the wrong train to get to Notre Dame Catherdral. We visited Eurodisney on the first day in Paris as the weather was good and the day we had thought we would go later in the week had rain forecast. So I...   \n",
       "\n",
       "       sentiment  \n",
       "31112          1  \n",
       "41597          0  \n",
       "40386          1  \n",
       "39267          1  \n",
       "36983          1  \n",
       "39651          0  \n",
       "42349          1  \n",
       "30240          1  \n",
       "35967          1  \n",
       "40922          1  "
      ]
     },
     "execution_count": 7,
     "metadata": {},
     "output_type": "execute_result"
    }
   ],
   "source": [
    "data.sample(10) # Muestra de clalificaciones realizadas a la sucursal de Paris"
   ]
  },
  {
   "cell_type": "markdown",
   "id": "903f1f58-ac1b-43bd-af43-3e992a51c909",
   "metadata": {
    "id": "903f1f58-ac1b-43bd-af43-3e992a51c909"
   },
   "source": [
    "A partir del dataset creado realizaremos las siguientes tareas."
   ]
  },
  {
   "cell_type": "markdown",
   "id": "e7fa6736",
   "metadata": {
    "id": "e7fa6736"
   },
   "source": [
    "## 1.2 Limpieza de texto:\n",
    "Antes de trabajar con los textos de las reseñas, hay que limpiarlos. Exploremos si hay comentarios con direcciones para identificar ésta y otras  tareas de limpieza que necesitamos aplicar:"
   ]
  },
  {
   "cell_type": "code",
   "execution_count": 8,
   "id": "79c6f61f-2f43-48a9-a483-7bd7388b0a02",
   "metadata": {
    "colab": {
     "base_uri": "https://localhost:8080/",
     "height": 226
    },
    "id": "79c6f61f-2f43-48a9-a483-7bd7388b0a02",
    "outputId": "22927422-bee0-47bd-f36b-0f296daad774"
   },
   "outputs": [
    {
     "data": {
      "text/plain": [
       "\"Hi allHaving just returned from DLP I thought it might be useful to write a short idiots guide with some of the info I wish I'd known before I went.Firstly   getting there. We drove (going through the chunnel) so if you're flying we can't help you with this bit. Our Satnav got us there no problem and most people will have some form of access to a satnav these days. There are signs to DLP but they are few and far between so don't rely on them to guide you there. There is also a very good guide that we used to get us there. It's here under post number 9: https://www.tripadvisor.co.uk/ShowTopic-g226865-i2224-k5776128/Driving-to-DLP-and-advise-please-Marne-la-Vallee-Seine-et MarneIle-de-France.html Be aware of the advice about 3 4 of the way down where you need to be in the fast lane to get to the right road   this is easy to miss and the French tend to drive nose to tail so changing lanes can be traumatic! There are guides to avoiding the toll on the A1 but, given what you're spending on the rest of the trip, I'd say it's not worth the hassle   it cost us   22 each way (yep, it's expensive).It goes without saying that you need the extra kit to drive on the French roads but these are readily available at Halfords and other car placesDAVEY CROCKETT RANCHWe stayed at the Davey Crockett ranch which, for us, turned out to be an excellent choice. I'll go over why that was in a moment. The ranch itself was perfect for our needs (be aware they wont let you in until 4pm on the day of arrival). We're 2 adults with a 6 and 9 year old. There were 2 separate rooms with an internal area which had a freezer, fridge, dishwasher, tv but no oven. The reason we went with Davey Crockett was the self catering option. We researched the meal plans beforehand and we thought they were really expensive   we also preferred to cook our own food as lots of the food on site was 'junk' food (chips burgers etc). Not saying that we don't like that but it's good to have a real meal in the day as well. The park states that there's to be no 'pique nique' in the grounds but everyone does it and they don't seem to stop anyone. This is a MAJOR benefit as the prices for food within the park are exorbitant (about   8 for a hotdog and chips etc). This may sound like we're being tight and grumpy but trust me   once you're in the queue for that   8 burger you'll be wincing too   we were very happy with our baguettes which we took with us each morning. Getting food: If you have room I'd recommend taking a lot of sundries with you if you're staying in Davey Crockett. Although reception gives you a guide to finding the big supermarket (Auchan) actually finding it for the first time (before you get familiar with the local roads) can be quite stressful. Again, your Satnav may guide you there no problem but it's worth having a meal ready to go on the first day to avoid trauma. Auchan itself is very well provisioned and has everything you'd need for your trip. We stocked up for the week in 1 shop and never had to go back.But what about the bread? Well there's the 'Park Natural' which is open to Davey Crockett ranch users whilst the pool is being renovated and that contains a great Boulangerie where we picked up our bread for the remainder of the trip. The advantage of this was it was just around the corner from the ranches and therefore much easier to find that Auchan.DISNEY HOTEL OR NOT DISNEY HOTELOK, so we can't comment on the other hotels and you know how we felt about our own. The main and overwhelming reason why you should go for a Disney hotel is the access to magic hour which is super super important to getting the most out of the parks. Basically you get access to the park from 08:30 when the general public get access from 10:00. This time is utterly precious for getting access to characters and the popular rides. If you're smart you can whizz through a lot of the rides that you'd spend hours queueing for later on within this time. Also, your kids are going to want to have their autograph books signed and this is by far the best time to do this (queues for the popular characters can easily be 2 hours plus once the park opens to the general public).AUTOGRAPH HUNTINGWhilst I'm on the subject   if you're looking for one of the princess autographs here's what you should do. Plan to be one of the first at the gate at 08:30 (which probably means getting there at 08:15 or so). Know where the princess meeting booth is (so you might want to do this on the first day and actually get the autograph on the second). Once the gate is opened leg it as fast as you can to the booth (you wont be the only one!!) and get as far up the queue as you can. We didn't do this ('cos we didn't know) and ended up spending from 08:30 to 11:00 in the queue (and you don't get to know which princess it's going to be!). There's precious little to see whilst you're queueing so make sure you have something to keep your little ones amused!There's also a trick to seeing Mickey. He's got his own special house in the main park where you can greet him which usually has brutal queues but he also appears in the Studio park in the morning (next to Aladdin's carpet ride). We only had to wait 30 mins to see him here. So if you manage to time it right this can be a great time saver. The CASTLE LIGHT UP EVENING SHOWDo this once. Seriously. It is worth seeing but the crowds are huge and getting out afterwards takes forever. Make sure you have good hold on young children and have a contingency plan for getting separated (even for them   the main bandstand for example). We did it mid week, I'd hate to think what it was like on a Saturday. Also, don't worry so much about getting prime position. We were somewhat to the side but still got to see everything and the castle was spectacular. The RIDESThis is something I wish we'd known before we got there as, if your time is limited, there's definitely some which you should prioritise. We were there for 4 days and it was only by day 4 that we had fully covered both parks.Here's a quick guide to some of the rides and what we thought of them (this is clearly subjective but I'll try to be as open as possible)I'll also only name rides you can't see inside.HYPERSPACE MOUNTAINThis is a full on rollercoaster in the dark with flashing light effects. The height limit is 1.2m but I'd urge caution in letting young children onto this (my daughter is just under 1.2m and I'm very glad she wasn't allowed on   she'd have been terrified). It's easily the most intense ride in the park so if you're looking for thrills   that's the one to go for.SPACE TOURSThis is a great family ride. Basically it's a simulator but it's very well done and suitable for all ages   my 6 year old loved it and she's never seen Star Wars!BUZZ LIGHYEARBasically you're on a track and you shoot targets using a light gun. It was alright but we went on when there was no queue and we didn't go on it again for the remainder of our stay.IT'S A SMALL WORLD AFTER ALLA boat ride through the countries of the world with dolls decked out in national gear. My kids loved it and it's fun for the parents to see the rather patronising view of each country. Its queue also moves really fast so it's worth doing for that alone. As an aside if you've ever played Portal 2 look up at the ceiling whilst you're on the ride   you'll get what I mean...PETER PANA great ride, well worth the queue time. You fly over London and Neverland. It's one of those rides that does a great job of making you feel you're part of a story   especially when you're flying through the stars.PINOCCHIO and SNOW WHITEBasically train rides with models at the side telling the story of the character. Could be scary for very young children. Not worth a huge wait.PIRATES OF THE CARIBBEANArgh! (not in a piratey way). The queue for this was an abomination and is longer than the ride itself. Only go on this one at off peak times. The ride itself is amazingly well done and keeps your attention but we only went on it once as we just couldn't face that queue again! It's suitable for everyone.INDIANA JONESA great fun rollercoaster with a 360 loop. This was one of my eldest daughter's (9) favourites. It's exciting but not terrifying. Again, this is one of the ones you can get onto multiple times if you go off peak.BIG THUNDER MOUNTAINThis was our family favourite rollercoaster. It has a brilliant mix of thrills and character (the ending was exhilarating each time even though you knew it was coming). This was my youngest daughter's (6) favourite ride in the park. The queues can be big so it's worth fast passing this one.STUDIOS PARK RIDESThis park shuts at 7 so you should plan for this when considering what rides to go on. If you time it right you can get on a lot of rides as the park tends to empty towards 7 as people migrate into the other park   we got on a lot of rides quickly this way.AEROSMITH COASTERFast, noisy and jarring. LIke Hyperspace mountain but not so much fun. Not suitable for young children and certainly not worth queueing for hours for. If I went again I'd skip this altogether.HAUNTED HOUSE and CRUSH COASTERThese were both shut for our visit so I can't commentTOWER OF TERRORAgain, we caught this at zero queue time. It's essentially a jumping bean style ride which takes you up and then drops you down. It's very well put together and is the best one of these type of rides I've been on   The ride itself contains ghostly images which may be scary and unsettling for young children (my 9 year old didn't like this at all)MICKEY'S MAGIQUE SHOWTotally worth it. It's a live 1 2 hour show that takes in lots of Disney favourites such as The Lion King and Frozen. It's a bit like seeing 6 West End shows in 1 2 an hour. It says on the guide that you should get there 20 minutes before but it's more like 40   we got there then and we were one of the last ones let in. It doesn't matter where you sit in the theatre (but the way some patrons acted in order to get seats tells you a lot about how people can lose themselves in certain circumstances). We were at the back and had a great time. ARMAGEDDON SPECIAL EFFECTSEssentially a long winded affair where you end up being in a circular room where things explode and flames shoot out of the ceiling. OK but not worth queueing for hours for.TRAM TOURGood fun. You get taken to a 'back lot' set for a movie where you see lots of special effects. I wont spoil it by telling you what but it's very impressive (but only really worth doing once)RATATOUILLE By far and away my favourite ride of all the rides at both parks. It puts you in the place of a rat in a restaurant and does a great job of really making you feel tiny   we did this one 3 times. The queues can get big but it does move quickly. It's not at all scary and a great family ride.FAST PASS   How best to use itFast Pass is an excellent system. Basically you use your ticket to scan a fast pass booth next to the ride and this gives you a time slot to come back at. You then return at this time and get on the ride within 5 minutes as you take a different queue. Be aware that fast pass can sell out very quickly for the popular rides so it's worth planning getting these tickets into your day. We used it to get repeat rides on our favourites. It makes you feel great moving past all the queues (equally you look enviously on Fast Passers when you're in the real queue!).PARK EXHAUSTIONOK. This is really worth considering. My wife's fitbit registered us as clocking up about 20k in an average day. This is a lot (especially for little ones) so you should consider breaking your day accordingly.Because of the magic hour we always arrived at 08:30 but then bailed at around 14:00 when the park became mega busy. If you're in Davey Crockett and still have access to Park Natural go swimming at the aqua centre. This worked out brilliantly for us as it gave the kids a break and got us off our feet. We then had an early dinner and returned to the park for about 18:00 when many day visitors and coaches were leaving.I guess if you're in one of the catered hotels you could do the same with the hotel pool (but I can't comment as I wasn't there).Apart from the night where we saw the castle illuminations we would then leave at about 21:00 as this allowed us to avoid the big queues.FINAL THOUGHTSWas it worth it? Totally. Yes, it's really expensive but our kids had the time of their lives and I took memories back that will stay with me forever. The parks are beautifully maintained and I can't say I had a really negative thing to say about them. We came on Monday and left on Saturday. We had 3 hours in the park on Saturday morning and it was clearly much much busier than mid week (to the point where it was hard to negotiate the number of people around you). So if you've not booked yet it'd be worthwhile avoiding the weekend if at all possible.Oh, and next time   we'll book the Sleeping Beauty suite at the main hotel   it overlooks the main street in the park and has a grand piano   the site doesn't even give you a price for it (you have to phone). I guess I'll get saving now : )I've probably missed lots of stuff but I'm sure you can pick that up from other posts.Hope your trip will be as good as ours!\""
      ]
     },
     "execution_count": 8,
     "metadata": {},
     "output_type": "execute_result"
    }
   ],
   "source": [
    "#Presentar la primera reseña que incluye una dirección web:\n",
    "data[data['Review_Text'].str.contains('http', case=False, na=False)].iloc[0].Review_Text\n"
   ]
  },
  {
   "cell_type": "markdown",
   "id": "96ebbe65-b931-4526-b149-999c49a7b5e8",
   "metadata": {},
   "source": [
    "Si observamos la primera reseña, nos daremos cuenta de que necesitamos quitar algunos signos de puntuación, quitar URls, números, completar contracciones y otras tareas.\n",
    "\n",
    "Vamos a definir una función general para agupar a todas las tareas de limpieza.\n"
   ]
  },
  {
   "cell_type": "code",
   "execution_count": 10,
   "id": "a5ab40e0-ab94-4705-83ab-12ad725090a5",
   "metadata": {},
   "outputs": [],
   "source": [
    "# Importar librerías necesarias:\n",
    "\n",
    "import re\n",
    "from bs4 import BeautifulSoup\n",
    "import string\n",
    "import nltk\n",
    "from nltk.tokenize import word_tokenize\n",
    "from nltk.stem import WordNetLemmatizer\n",
    "import pandas as pd\n",
    "import re\n",
    "from bs4 import BeautifulSoup\n",
    "import string\n",
    "from nltk.stem import WordNetLemmatizer\n",
    "\n",
    "\n",
    "def remove_urls(text):\n",
    "\t#Quitar URLs\n",
    "\turl_pattern = re.compile(r'https?://\\S+|www\\.\\S+')\n",
    "\treturn url_pattern.sub(r'', text)\n",
    "\n",
    "def remove_emoji(text):\n",
    "\t# Reference : https://gist.github.com/slowkow/7a7f61f495e3dbb7e3d767f97bd7304b\n",
    "    emoji_pattern = re.compile(\"[\"\n",
    "                           u\"\\U0001F600-\\U0001F64F\"  # emoticons\n",
    "                           u\"\\U0001F300-\\U0001F5FF\"  # symbols & pictographs\n",
    "                           u\"\\U0001F680-\\U0001F6FF\"  # transport & map symbols\n",
    "                           u\"\\U0001F1E0-\\U0001F1FF\"  # flags (iOS)\n",
    "                           u\"\\U00002702-\\U000027B0\"\n",
    "                           u\"\\U000024C2-\\U0001F251\"\n",
    "                           \"]+\", flags=re.UNICODE)\n",
    "    return emoji_pattern.sub(r'', text)\n",
    "\n",
    "def remove_hashtags_mentions(text):\n",
    "    # Expresión regular para eliminar hashtags y menciones\n",
    "    text_cleaned = re.sub(r'[@#]\\w+', '', text)\n",
    "    # Elimina espacios adicionales que pudieran quedar tras la limpieza\n",
    "    text_cleaned = re.sub(r'\\s+', ' ', text_cleaned).strip()\n",
    "    return text_cleaned\n",
    "\n",
    "def remove_html(text):\n",
    "\t#Limpiar código HTML\n",
    "    return BeautifulSoup(text, \"lxml\").text\n",
    "\n",
    "\n",
    "def remove_punctuation(text, punctuation):\n",
    "    #Verificar letra a letra y juntar todo el texto\n",
    "    punctuationfree = \"\".join([i for i in text if i not in string.punctuation]) \n",
    "    return punctuationfree\n",
    "\n",
    "def remove_numbers(text):\n",
    "    \"\"\" Remover números \"\"\"\n",
    "    text = ''.join([i for i in text if not i.isdigit()])\n",
    "    return text\n",
    "\n",
    "def replace_strings(text, patterns):\n",
    "\t# Reemplazar ciertas cadenas de texto por otras\n",
    "    for (pattern, repl) in patterns:\n",
    "        (text, count) = re.subn(pattern, repl, text) #specifies strings or a set of strings or patterns that match it\n",
    "    return text\n",
    "\n",
    "\n",
    "#defining the function to remove stopwords from tokenized te\n",
    "def remove_stopwords(text, stopwords):\n",
    "    output= [i for i in text if i not in stopwords]\n",
    "    return output\n",
    "\n",
    "def stemming_es(token):\n",
    "\t# stemming the texto en español:\n",
    "    es_stemmer = SnowballStemmer('spanish') # for english\n",
    "    return es_stemmer.stem(token) # Para una palabra en español\n",
    "     \n",
    "\n",
    "def stemming_eng(text):\n",
    "\t# stemming the texto en inglés:\n",
    "    eng_stemmer = PorterStemmer() # for english\n",
    "    stem_text = [eng_stemmer.stem(word) for word in text]\n",
    "    return stem_text\n",
    "\n",
    "def lemmatizer_eng(text, wordnet_lemmatizer):\n",
    "\t#defining the function for lemmatization:\n",
    "    lemm_text = [wordnet_lemmatizer.lemmatize(word) for word in text]\n",
    "    return lemm_text\n",
    "\n",
    "# Aplicar tareas de limpieza de texto que hagan falta:\n",
    "\n",
    "def prep_dataset_DL(df, new_col, raw_col):\n",
    "    \n",
    "    #Convertir el texto en minúsculas:\n",
    "    df[new_col]= df[raw_col].apply(lambda x: x.lower())\n",
    "    \n",
    "    #Eliminar URLs:\n",
    "    df[new_col]= df[new_col].apply(lambda x:remove_urls(x))\n",
    "    \n",
    "    #Eliminar signos de puntuación:\n",
    "    PUNCTUATION = \"\"\"!\"#$%&()*+,-./:;<=>?@[\\]^_`{|}~\"\"\"\n",
    "    df[new_col]= df[new_col].apply(lambda x:remove_punctuation(x, PUNCTUATION))\n",
    "    \n",
    "    #Eliminar números:\n",
    "    df[new_col]= df[new_col].apply(lambda x:remove_numbers(x))\n",
    "    \n",
    "    # Reemplazar cadenas de texto por equivales (como las contracciones):\n",
    "    contraction_patterns = [ (r'won\\'t', 'will not'), (r'can\\'t', 'can not'), (r'i\\'m', 'i am'), (r'ain\\'t', 'is not'), (r'(\\w+)\\'ll', '\\g<1> will'), (r'(\\w+)n\\'t', '\\g<1> not'),\n",
    "                             (r'(\\w+)\\'ve', '\\g<1> have'), (r'(\\w+)\\'s', '\\g<1> is'), (r'(\\w+)\\'re', '\\g<1> are'), (r'(\\w+)\\'d', '\\g<1> would'), (r'&', 'and'), (r'dammit', 'damn it'), (r'dont', 'do not'), (r'wont', 'will not') ]\n",
    "    \n",
    "    patterns = [(re.compile(regex), repl) for (regex, repl) in contraction_patterns]\n",
    "    df[new_col]= df[new_col].apply(lambda x:replace_strings(x, patterns))\n",
    "    \n",
    "    # Tokenizar texto:\n",
    "    wordnet_lemmatizer = WordNetLemmatizer() #defining the object for Lemmatization\n",
    "    df[new_col]= df[new_col].apply(lambda x: word_tokenize(x))\n",
    "    \n",
    "    #Eliminación de palabras vacias:\n",
    "    STOPWORDS = nltk.corpus.stopwords.words('english')\n",
    "    STOPWORDS = STOPWORDS + ['hi', 'ok', 'u', 'well', 'oh', 'ltgt', 'im', 'r']\n",
    "    df[new_col]= df[new_col].apply(lambda x: remove_stopwords(x, STOPWORDS))\n",
    "    \n",
    "    #Lematizar:\n",
    "    wordnet_lemmatizer = WordNetLemmatizer() # #defining the object for Lemmatization\n",
    "    df[new_col]=df[new_col].apply(lambda x:lemmatizer_eng(x, wordnet_lemmatizer))\n",
    "    \n",
    "    #Convertir la lista de tokens a string preprocesado:\n",
    "    df[new_col] = [' '.join(w) for w in df[new_col].to_list()]\n",
    "    return df\n",
    "# Observar el resultado:\n",
    "dataP = data.copy()\n",
    "dataP = prep_dataset_DL(dataP, 'text', 'Review_Text')\n"
   ]
  },
  {
   "cell_type": "code",
   "execution_count": 11,
   "id": "946b7059-8e70-4dc7-a776-f25ef060227a",
   "metadata": {},
   "outputs": [
    {
     "data": {
      "text/html": [
       "<div>\n",
       "<style scoped>\n",
       "    .dataframe tbody tr th:only-of-type {\n",
       "        vertical-align: middle;\n",
       "    }\n",
       "\n",
       "    .dataframe tbody tr th {\n",
       "        vertical-align: top;\n",
       "    }\n",
       "\n",
       "    .dataframe thead th {\n",
       "        text-align: right;\n",
       "    }\n",
       "</style>\n",
       "<table border=\"1\" class=\"dataframe\">\n",
       "  <thead>\n",
       "    <tr style=\"text-align: right;\">\n",
       "      <th></th>\n",
       "      <th>Rating</th>\n",
       "      <th>Review_Text</th>\n",
       "      <th>sentiment</th>\n",
       "      <th>text</th>\n",
       "    </tr>\n",
       "  </thead>\n",
       "  <tbody>\n",
       "    <tr>\n",
       "      <th>29026</th>\n",
       "      <td>5</td>\n",
       "      <td>We've been to Disneyland Hongkong and Tokyo, so far this one is the best. We're looking forward to visit the biggest one in Orlando. 1 day is not enough, it is recommended to stay in Disney Hotel   Resort so you can enjoy the fast track save huge amount of time, if you're not staying there, plan...</td>\n",
       "      <td>1</td>\n",
       "      <td>weve disneyland hongkong tokyo far one best looking forward visit biggest one orlando day enough recommended stay disney hotel resort enjoy fast track save huge amount time youre staying plan strategize visit getting fast track pass kiosk nearby attraction come back time ride projection firework...</td>\n",
       "    </tr>\n",
       "    <tr>\n",
       "      <th>29027</th>\n",
       "      <td>4</td>\n",
       "      <td>I went to Disneyland Paris in April 2018 on Easter weekend, I know it says June 2018 but I can't choose a date before then, and I loved it, me and my mum went and as I have autism we managed to get a disability pass for both parks. Disney are excellent with disability access and cater to all typ...</td>\n",
       "      <td>1</td>\n",
       "      <td>went disneyland paris april easter weekend know say june cant choose date loved mum went autism managed get disability pas park disney excellent disability access cater type disability visible wheelchair user etc invisible autism etc managed get lot ride pas queue normal queue entrance disabilit...</td>\n",
       "    </tr>\n",
       "    <tr>\n",
       "      <th>29028</th>\n",
       "      <td>5</td>\n",
       "      <td>What a fantastic place, the queues were decent as this is the best time of year to go apparently, we managed to see almost everything, I was a bit disappointed the Haunted Mansion wasn't open but it can not be helped! The fireworks were amazing and the parade was so entertaining!A definite must ...</td>\n",
       "      <td>1</td>\n",
       "      <td>fantastic place queue decent best time year go apparently managed see almost everything bit disappointed haunted mansion wasnt open helped firework amazing parade entertaininga definite must disney lover</td>\n",
       "    </tr>\n",
       "    <tr>\n",
       "      <th>29029</th>\n",
       "      <td>4</td>\n",
       "      <td>We didn't realise it was school holidays when we went, so consequently it was extremely busy with ride wait times of up to 95 minutes or more, which was disappointing. We only went on 2 rides (Indiana Jones &amp; the Temple of Doom which was fast &amp; furious fun &amp; Pirates of the Caribbean which was am...</td>\n",
       "      <td>1</td>\n",
       "      <td>didnt realise school holiday went consequently extremely busy ride wait time minute disappointing went ride indiana jones temple doom fast furious fun pirate caribbean amazing enjoyed also liked walking aladdin enchanted passage different world colourful done heaven kid adult alike ate silver sp...</td>\n",
       "    </tr>\n",
       "    <tr>\n",
       "      <th>29030</th>\n",
       "      <td>5</td>\n",
       "      <td>A Trip to Disney makes you all warm and fuzzy and an actual kid again. It's not as big as the US one but makes a fun filled happy day out. We went on the rides possible and they were incredible. By the end of the day you are exhausted but nothing a good coffee won't solve to get you till the fir...</td>\n",
       "      <td>1</td>\n",
       "      <td>trip disney make warm fuzzy actual kid big u one make fun filled happy day went ride possible incredible end day exhausted nothing good coffee solve get till firework show start magical enchanting take back kid watching favorite disney movie minute cautious though day trip last train pm literall...</td>\n",
       "    </tr>\n",
       "    <tr>\n",
       "      <th>...</th>\n",
       "      <td>...</td>\n",
       "      <td>...</td>\n",
       "      <td>...</td>\n",
       "      <td>...</td>\n",
       "    </tr>\n",
       "    <tr>\n",
       "      <th>42651</th>\n",
       "      <td>5</td>\n",
       "      <td>i went to disneyland paris in july 03 and thought it was brilliant. i visited all the hotels and stayed in the newport bay and also the kyriad hotels. the newport is a really nice hotel within walking distance of the parks. very big hotel. the kyriad is further away but still a really nice hotel...</td>\n",
       "      <td>1</td>\n",
       "      <td>went disneyland paris july thought brilliant visited hotel stayed newport bay also kyriad hotel newport really nice hotel within walking distance park big hotel kyriad away still really nice hoteli saw room hotel pretty much thought park brill july didnt really queue much thought food expensive ...</td>\n",
       "    </tr>\n",
       "    <tr>\n",
       "      <th>42652</th>\n",
       "      <td>5</td>\n",
       "      <td>2 adults and 1 child of 11 visited Disneyland Paris beginning of Feb 04 and had an absolute fantastic time.We went on a Thursday for 3 nights and there were no queues until the Saturday when lots more people seemed to arrive.We stayed in the Sequioa Lodge which was really nice, drinks in the hot...</td>\n",
       "      <td>1</td>\n",
       "      <td>adult child visited disneyland paris beginning feb absolute fantastic timewe went thursday night queue saturday lot people seemed arrivewe stayed sequioa lodge really nice drink hotel pretty expensive expecting found cheaper buy alcohol hotel shopthe ride fantastic much better ever expected park...</td>\n",
       "    </tr>\n",
       "    <tr>\n",
       "      <th>42653</th>\n",
       "      <td>5</td>\n",
       "      <td>My eleven year old daughter and myself went to visit my son in London and we decided to go on to Disneyland Paris. We stayed for two nights and three days at the Hotel Du Moulon, which was great value for money and close to Disneyland. The highlight of our stay was the Walt Disney Studios. Unfor...</td>\n",
       "      <td>1</td>\n",
       "      <td>eleven year old daughter went visit son london decided go disneyland paris stayed two night three day hotel du moulon great value money close disneyland highlight stay walt disney studio unfortunately third day rush see everything would suggest three night four day see went may would recommend l...</td>\n",
       "    </tr>\n",
       "    <tr>\n",
       "      <th>42654</th>\n",
       "      <td>4</td>\n",
       "      <td>This hotel, part of the Disneyland Paris complex, is a wonderful place for families. Since we have 3 kids, we needed a room with a  crew area . This consisted of a nice bath with separate toilet area from the shower tub, a large room with TV and 2 double beds, plus a smaller room with bunk beds ...</td>\n",
       "      <td>1</td>\n",
       "      <td>hotel part disneyland paris complex wonderful place family since kid needed room crew area consisted nice bath separate toilet area shower tub large room tv double bed plus smaller room bunk bed nd tv rate reasonable included unlimited entry park also included wonderful breakfast service fantast...</td>\n",
       "    </tr>\n",
       "    <tr>\n",
       "      <th>42655</th>\n",
       "      <td>4</td>\n",
       "      <td>I went to the Disneyparis resort, in 1996, with a small child. The minute you enter, the transport to disneyland paris, you are treated like a special guest. The compnay really know how to treat there guest from start to finsh. We arrive at the disneyland resort. The hotels are out of this world...</td>\n",
       "      <td>1</td>\n",
       "      <td>went disneyparis resort small child minute enter transport disneyland paris treated like special guest compnay really know treat guest start finsh arrive disneyland resort hotel world like storybook coming alive front eye hotel santa fa based around mexico villiage room themed mexico style large...</td>\n",
       "    </tr>\n",
       "  </tbody>\n",
       "</table>\n",
       "<p>11546 rows × 4 columns</p>\n",
       "</div>"
      ],
      "text/plain": [
       "       Rating  \\\n",
       "29026       5   \n",
       "29027       4   \n",
       "29028       5   \n",
       "29029       4   \n",
       "29030       5   \n",
       "...       ...   \n",
       "42651       5   \n",
       "42652       5   \n",
       "42653       5   \n",
       "42654       4   \n",
       "42655       4   \n",
       "\n",
       "                                                                                                                                                                                                                                                                                                       Review_Text  \\\n",
       "29026  We've been to Disneyland Hongkong and Tokyo, so far this one is the best. We're looking forward to visit the biggest one in Orlando. 1 day is not enough, it is recommended to stay in Disney Hotel   Resort so you can enjoy the fast track save huge amount of time, if you're not staying there, plan...   \n",
       "29027  I went to Disneyland Paris in April 2018 on Easter weekend, I know it says June 2018 but I can't choose a date before then, and I loved it, me and my mum went and as I have autism we managed to get a disability pass for both parks. Disney are excellent with disability access and cater to all typ...   \n",
       "29028  What a fantastic place, the queues were decent as this is the best time of year to go apparently, we managed to see almost everything, I was a bit disappointed the Haunted Mansion wasn't open but it can not be helped! The fireworks were amazing and the parade was so entertaining!A definite must ...   \n",
       "29029  We didn't realise it was school holidays when we went, so consequently it was extremely busy with ride wait times of up to 95 minutes or more, which was disappointing. We only went on 2 rides (Indiana Jones & the Temple of Doom which was fast & furious fun & Pirates of the Caribbean which was am...   \n",
       "29030  A Trip to Disney makes you all warm and fuzzy and an actual kid again. It's not as big as the US one but makes a fun filled happy day out. We went on the rides possible and they were incredible. By the end of the day you are exhausted but nothing a good coffee won't solve to get you till the fir...   \n",
       "...                                                                                                                                                                                                                                                                                                            ...   \n",
       "42651  i went to disneyland paris in july 03 and thought it was brilliant. i visited all the hotels and stayed in the newport bay and also the kyriad hotels. the newport is a really nice hotel within walking distance of the parks. very big hotel. the kyriad is further away but still a really nice hotel...   \n",
       "42652  2 adults and 1 child of 11 visited Disneyland Paris beginning of Feb 04 and had an absolute fantastic time.We went on a Thursday for 3 nights and there were no queues until the Saturday when lots more people seemed to arrive.We stayed in the Sequioa Lodge which was really nice, drinks in the hot...   \n",
       "42653  My eleven year old daughter and myself went to visit my son in London and we decided to go on to Disneyland Paris. We stayed for two nights and three days at the Hotel Du Moulon, which was great value for money and close to Disneyland. The highlight of our stay was the Walt Disney Studios. Unfor...   \n",
       "42654  This hotel, part of the Disneyland Paris complex, is a wonderful place for families. Since we have 3 kids, we needed a room with a  crew area . This consisted of a nice bath with separate toilet area from the shower tub, a large room with TV and 2 double beds, plus a smaller room with bunk beds ...   \n",
       "42655  I went to the Disneyparis resort, in 1996, with a small child. The minute you enter, the transport to disneyland paris, you are treated like a special guest. The compnay really know how to treat there guest from start to finsh. We arrive at the disneyland resort. The hotels are out of this world...   \n",
       "\n",
       "       sentiment  \\\n",
       "29026          1   \n",
       "29027          1   \n",
       "29028          1   \n",
       "29029          1   \n",
       "29030          1   \n",
       "...          ...   \n",
       "42651          1   \n",
       "42652          1   \n",
       "42653          1   \n",
       "42654          1   \n",
       "42655          1   \n",
       "\n",
       "                                                                                                                                                                                                                                                                                                              text  \n",
       "29026  weve disneyland hongkong tokyo far one best looking forward visit biggest one orlando day enough recommended stay disney hotel resort enjoy fast track save huge amount time youre staying plan strategize visit getting fast track pass kiosk nearby attraction come back time ride projection firework...  \n",
       "29027  went disneyland paris april easter weekend know say june cant choose date loved mum went autism managed get disability pas park disney excellent disability access cater type disability visible wheelchair user etc invisible autism etc managed get lot ride pas queue normal queue entrance disabilit...  \n",
       "29028                                                                                                  fantastic place queue decent best time year go apparently managed see almost everything bit disappointed haunted mansion wasnt open helped firework amazing parade entertaininga definite must disney lover  \n",
       "29029  didnt realise school holiday went consequently extremely busy ride wait time minute disappointing went ride indiana jones temple doom fast furious fun pirate caribbean amazing enjoyed also liked walking aladdin enchanted passage different world colourful done heaven kid adult alike ate silver sp...  \n",
       "29030  trip disney make warm fuzzy actual kid big u one make fun filled happy day went ride possible incredible end day exhausted nothing good coffee solve get till firework show start magical enchanting take back kid watching favorite disney movie minute cautious though day trip last train pm literall...  \n",
       "...                                                                                                                                                                                                                                                                                                            ...  \n",
       "42651  went disneyland paris july thought brilliant visited hotel stayed newport bay also kyriad hotel newport really nice hotel within walking distance park big hotel kyriad away still really nice hoteli saw room hotel pretty much thought park brill july didnt really queue much thought food expensive ...  \n",
       "42652  adult child visited disneyland paris beginning feb absolute fantastic timewe went thursday night queue saturday lot people seemed arrivewe stayed sequioa lodge really nice drink hotel pretty expensive expecting found cheaper buy alcohol hotel shopthe ride fantastic much better ever expected park...  \n",
       "42653  eleven year old daughter went visit son london decided go disneyland paris stayed two night three day hotel du moulon great value money close disneyland highlight stay walt disney studio unfortunately third day rush see everything would suggest three night four day see went may would recommend l...  \n",
       "42654  hotel part disneyland paris complex wonderful place family since kid needed room crew area consisted nice bath separate toilet area shower tub large room tv double bed plus smaller room bunk bed nd tv rate reasonable included unlimited entry park also included wonderful breakfast service fantast...  \n",
       "42655  went disneyparis resort small child minute enter transport disneyland paris treated like special guest compnay really know treat guest start finsh arrive disneyland resort hotel world like storybook coming alive front eye hotel santa fa based around mexico villiage room themed mexico style large...  \n",
       "\n",
       "[11546 rows x 4 columns]"
      ]
     },
     "execution_count": 11,
     "metadata": {},
     "output_type": "execute_result"
    }
   ],
   "source": [
    "dataP\n",
    "#dataP.sample(5, random_state = 42)"
   ]
  },
  {
   "cell_type": "markdown",
   "id": "1f6ed8c2",
   "metadata": {
    "id": "1f6ed8c2"
   },
   "source": [
    "# 2. Clasificación: Crear un clasificador automático de opiniones positivas y negativas."
   ]
  },
  {
   "cell_type": "markdown",
   "id": "3a45ae89",
   "metadata": {
    "id": "3a45ae89"
   },
   "source": [
    "<div style=\"background-color: #EDF7FF; border-color: #7C9DBF; border-left: 5px solid #7C9DBF; padding: 0.5em;\">\n",
    "<i>Primer paso</i>: Crea dos listas: una con los textos y otra con las etiquetas de valoración (0 y 1).\n",
    "</div>"
   ]
  },
  {
   "cell_type": "code",
   "execution_count": 12,
   "id": "ec874492",
   "metadata": {
    "colab": {
     "base_uri": "https://localhost:8080/"
    },
    "id": "ec874492",
    "outputId": "d6c0b672-b87b-4095-f3b9-f9def30fc4a6"
   },
   "outputs": [],
   "source": [
    "opinions = dataP.text # unir todos los tokens de un mensaje en un solo string\n",
    "labels = data['sentiment'].to_list()"
   ]
  },
  {
   "cell_type": "markdown",
   "id": "9720bc32",
   "metadata": {
    "id": "9720bc32"
   },
   "source": [
    "<div style=\"background-color: #EDF7FF; border-color: #7C9DBF; border-left: 5px solid #7C9DBF; padding: 0.5em;\">\n",
    "\n",
    "<i>Segundo paso</i>: Vectorizamos las opiniones con un vectorizador tf.idf, usando 'word' como analyzer.\n",
    "\n",
    "</div>"
   ]
  },
  {
   "cell_type": "code",
   "execution_count": 13,
   "id": "9fbcfdd4",
   "metadata": {
    "colab": {
     "base_uri": "https://localhost:8080/"
    },
    "id": "9fbcfdd4",
    "outputId": "bedd196a-c2d5-4abf-ab75-76678029d7ae"
   },
   "outputs": [
    {
     "data": {
      "text/plain": [
       "array([[0., 0., 0., ..., 0., 0., 0.],\n",
       "       [0., 0., 0., ..., 0., 0., 0.],\n",
       "       [0., 0., 0., ..., 0., 0., 0.],\n",
       "       ...,\n",
       "       [0., 0., 0., ..., 0., 0., 0.],\n",
       "       [0., 0., 0., ..., 0., 0., 0.],\n",
       "       [0., 0., 0., ..., 0., 0., 0.]])"
      ]
     },
     "execution_count": 13,
     "metadata": {},
     "output_type": "execute_result"
    }
   ],
   "source": [
    "from sklearn.feature_extraction.text import TfidfVectorizer\n",
    "\n",
    "vectorizer = TfidfVectorizer(\n",
    "    analyzer= 'word',\n",
    " )\n",
    "\n",
    "X = vectorizer.fit_transform(opinions)\n",
    "\n",
    "opinions_vector_matrix = X.toarray()\n",
    "\n",
    "opinions_vector_matrix"
   ]
  },
  {
   "cell_type": "markdown",
   "id": "3122e026",
   "metadata": {
    "id": "3122e026"
   },
   "source": [
    "<div style=\"background-color: #EDF7FF; border-color: #7C9DBF; border-left: 5px solid #7C9DBF; padding: 0.5em;\">\n",
    "<i>Tercer paso</i>: Preparar el corpus de entrenamiento y test, y entrenar un clasificador con Logistic Regression.\n",
    "</div>"
   ]
  },
  {
   "cell_type": "code",
   "execution_count": 14,
   "id": "0b251acc",
   "metadata": {
    "colab": {
     "base_uri": "https://localhost:8080/"
    },
    "id": "0b251acc",
    "outputId": "ed169f4f-902e-4c77-81da-263913a4a9fe"
   },
   "outputs": [
    {
     "data": {
      "text/html": [
       "<style>#sk-container-id-1 {\n",
       "  /* Definition of color scheme common for light and dark mode */\n",
       "  --sklearn-color-text: black;\n",
       "  --sklearn-color-line: gray;\n",
       "  /* Definition of color scheme for unfitted estimators */\n",
       "  --sklearn-color-unfitted-level-0: #fff5e6;\n",
       "  --sklearn-color-unfitted-level-1: #f6e4d2;\n",
       "  --sklearn-color-unfitted-level-2: #ffe0b3;\n",
       "  --sklearn-color-unfitted-level-3: chocolate;\n",
       "  /* Definition of color scheme for fitted estimators */\n",
       "  --sklearn-color-fitted-level-0: #f0f8ff;\n",
       "  --sklearn-color-fitted-level-1: #d4ebff;\n",
       "  --sklearn-color-fitted-level-2: #b3dbfd;\n",
       "  --sklearn-color-fitted-level-3: cornflowerblue;\n",
       "\n",
       "  /* Specific color for light theme */\n",
       "  --sklearn-color-text-on-default-background: var(--sg-text-color, var(--theme-code-foreground, var(--jp-content-font-color1, black)));\n",
       "  --sklearn-color-background: var(--sg-background-color, var(--theme-background, var(--jp-layout-color0, white)));\n",
       "  --sklearn-color-border-box: var(--sg-text-color, var(--theme-code-foreground, var(--jp-content-font-color1, black)));\n",
       "  --sklearn-color-icon: #696969;\n",
       "\n",
       "  @media (prefers-color-scheme: dark) {\n",
       "    /* Redefinition of color scheme for dark theme */\n",
       "    --sklearn-color-text-on-default-background: var(--sg-text-color, var(--theme-code-foreground, var(--jp-content-font-color1, white)));\n",
       "    --sklearn-color-background: var(--sg-background-color, var(--theme-background, var(--jp-layout-color0, #111)));\n",
       "    --sklearn-color-border-box: var(--sg-text-color, var(--theme-code-foreground, var(--jp-content-font-color1, white)));\n",
       "    --sklearn-color-icon: #878787;\n",
       "  }\n",
       "}\n",
       "\n",
       "#sk-container-id-1 {\n",
       "  color: var(--sklearn-color-text);\n",
       "}\n",
       "\n",
       "#sk-container-id-1 pre {\n",
       "  padding: 0;\n",
       "}\n",
       "\n",
       "#sk-container-id-1 input.sk-hidden--visually {\n",
       "  border: 0;\n",
       "  clip: rect(1px 1px 1px 1px);\n",
       "  clip: rect(1px, 1px, 1px, 1px);\n",
       "  height: 1px;\n",
       "  margin: -1px;\n",
       "  overflow: hidden;\n",
       "  padding: 0;\n",
       "  position: absolute;\n",
       "  width: 1px;\n",
       "}\n",
       "\n",
       "#sk-container-id-1 div.sk-dashed-wrapped {\n",
       "  border: 1px dashed var(--sklearn-color-line);\n",
       "  margin: 0 0.4em 0.5em 0.4em;\n",
       "  box-sizing: border-box;\n",
       "  padding-bottom: 0.4em;\n",
       "  background-color: var(--sklearn-color-background);\n",
       "}\n",
       "\n",
       "#sk-container-id-1 div.sk-container {\n",
       "  /* jupyter's `normalize.less` sets `[hidden] { display: none; }`\n",
       "     but bootstrap.min.css set `[hidden] { display: none !important; }`\n",
       "     so we also need the `!important` here to be able to override the\n",
       "     default hidden behavior on the sphinx rendered scikit-learn.org.\n",
       "     See: https://github.com/scikit-learn/scikit-learn/issues/21755 */\n",
       "  display: inline-block !important;\n",
       "  position: relative;\n",
       "}\n",
       "\n",
       "#sk-container-id-1 div.sk-text-repr-fallback {\n",
       "  display: none;\n",
       "}\n",
       "\n",
       "div.sk-parallel-item,\n",
       "div.sk-serial,\n",
       "div.sk-item {\n",
       "  /* draw centered vertical line to link estimators */\n",
       "  background-image: linear-gradient(var(--sklearn-color-text-on-default-background), var(--sklearn-color-text-on-default-background));\n",
       "  background-size: 2px 100%;\n",
       "  background-repeat: no-repeat;\n",
       "  background-position: center center;\n",
       "}\n",
       "\n",
       "/* Parallel-specific style estimator block */\n",
       "\n",
       "#sk-container-id-1 div.sk-parallel-item::after {\n",
       "  content: \"\";\n",
       "  width: 100%;\n",
       "  border-bottom: 2px solid var(--sklearn-color-text-on-default-background);\n",
       "  flex-grow: 1;\n",
       "}\n",
       "\n",
       "#sk-container-id-1 div.sk-parallel {\n",
       "  display: flex;\n",
       "  align-items: stretch;\n",
       "  justify-content: center;\n",
       "  background-color: var(--sklearn-color-background);\n",
       "  position: relative;\n",
       "}\n",
       "\n",
       "#sk-container-id-1 div.sk-parallel-item {\n",
       "  display: flex;\n",
       "  flex-direction: column;\n",
       "}\n",
       "\n",
       "#sk-container-id-1 div.sk-parallel-item:first-child::after {\n",
       "  align-self: flex-end;\n",
       "  width: 50%;\n",
       "}\n",
       "\n",
       "#sk-container-id-1 div.sk-parallel-item:last-child::after {\n",
       "  align-self: flex-start;\n",
       "  width: 50%;\n",
       "}\n",
       "\n",
       "#sk-container-id-1 div.sk-parallel-item:only-child::after {\n",
       "  width: 0;\n",
       "}\n",
       "\n",
       "/* Serial-specific style estimator block */\n",
       "\n",
       "#sk-container-id-1 div.sk-serial {\n",
       "  display: flex;\n",
       "  flex-direction: column;\n",
       "  align-items: center;\n",
       "  background-color: var(--sklearn-color-background);\n",
       "  padding-right: 1em;\n",
       "  padding-left: 1em;\n",
       "}\n",
       "\n",
       "\n",
       "/* Toggleable style: style used for estimator/Pipeline/ColumnTransformer box that is\n",
       "clickable and can be expanded/collapsed.\n",
       "- Pipeline and ColumnTransformer use this feature and define the default style\n",
       "- Estimators will overwrite some part of the style using the `sk-estimator` class\n",
       "*/\n",
       "\n",
       "/* Pipeline and ColumnTransformer style (default) */\n",
       "\n",
       "#sk-container-id-1 div.sk-toggleable {\n",
       "  /* Default theme specific background. It is overwritten whether we have a\n",
       "  specific estimator or a Pipeline/ColumnTransformer */\n",
       "  background-color: var(--sklearn-color-background);\n",
       "}\n",
       "\n",
       "/* Toggleable label */\n",
       "#sk-container-id-1 label.sk-toggleable__label {\n",
       "  cursor: pointer;\n",
       "  display: block;\n",
       "  width: 100%;\n",
       "  margin-bottom: 0;\n",
       "  padding: 0.5em;\n",
       "  box-sizing: border-box;\n",
       "  text-align: center;\n",
       "}\n",
       "\n",
       "#sk-container-id-1 label.sk-toggleable__label-arrow:before {\n",
       "  /* Arrow on the left of the label */\n",
       "  content: \"▸\";\n",
       "  float: left;\n",
       "  margin-right: 0.25em;\n",
       "  color: var(--sklearn-color-icon);\n",
       "}\n",
       "\n",
       "#sk-container-id-1 label.sk-toggleable__label-arrow:hover:before {\n",
       "  color: var(--sklearn-color-text);\n",
       "}\n",
       "\n",
       "/* Toggleable content - dropdown */\n",
       "\n",
       "#sk-container-id-1 div.sk-toggleable__content {\n",
       "  max-height: 0;\n",
       "  max-width: 0;\n",
       "  overflow: hidden;\n",
       "  text-align: left;\n",
       "  /* unfitted */\n",
       "  background-color: var(--sklearn-color-unfitted-level-0);\n",
       "}\n",
       "\n",
       "#sk-container-id-1 div.sk-toggleable__content.fitted {\n",
       "  /* fitted */\n",
       "  background-color: var(--sklearn-color-fitted-level-0);\n",
       "}\n",
       "\n",
       "#sk-container-id-1 div.sk-toggleable__content pre {\n",
       "  margin: 0.2em;\n",
       "  border-radius: 0.25em;\n",
       "  color: var(--sklearn-color-text);\n",
       "  /* unfitted */\n",
       "  background-color: var(--sklearn-color-unfitted-level-0);\n",
       "}\n",
       "\n",
       "#sk-container-id-1 div.sk-toggleable__content.fitted pre {\n",
       "  /* unfitted */\n",
       "  background-color: var(--sklearn-color-fitted-level-0);\n",
       "}\n",
       "\n",
       "#sk-container-id-1 input.sk-toggleable__control:checked~div.sk-toggleable__content {\n",
       "  /* Expand drop-down */\n",
       "  max-height: 200px;\n",
       "  max-width: 100%;\n",
       "  overflow: auto;\n",
       "}\n",
       "\n",
       "#sk-container-id-1 input.sk-toggleable__control:checked~label.sk-toggleable__label-arrow:before {\n",
       "  content: \"▾\";\n",
       "}\n",
       "\n",
       "/* Pipeline/ColumnTransformer-specific style */\n",
       "\n",
       "#sk-container-id-1 div.sk-label input.sk-toggleable__control:checked~label.sk-toggleable__label {\n",
       "  color: var(--sklearn-color-text);\n",
       "  background-color: var(--sklearn-color-unfitted-level-2);\n",
       "}\n",
       "\n",
       "#sk-container-id-1 div.sk-label.fitted input.sk-toggleable__control:checked~label.sk-toggleable__label {\n",
       "  background-color: var(--sklearn-color-fitted-level-2);\n",
       "}\n",
       "\n",
       "/* Estimator-specific style */\n",
       "\n",
       "/* Colorize estimator box */\n",
       "#sk-container-id-1 div.sk-estimator input.sk-toggleable__control:checked~label.sk-toggleable__label {\n",
       "  /* unfitted */\n",
       "  background-color: var(--sklearn-color-unfitted-level-2);\n",
       "}\n",
       "\n",
       "#sk-container-id-1 div.sk-estimator.fitted input.sk-toggleable__control:checked~label.sk-toggleable__label {\n",
       "  /* fitted */\n",
       "  background-color: var(--sklearn-color-fitted-level-2);\n",
       "}\n",
       "\n",
       "#sk-container-id-1 div.sk-label label.sk-toggleable__label,\n",
       "#sk-container-id-1 div.sk-label label {\n",
       "  /* The background is the default theme color */\n",
       "  color: var(--sklearn-color-text-on-default-background);\n",
       "}\n",
       "\n",
       "/* On hover, darken the color of the background */\n",
       "#sk-container-id-1 div.sk-label:hover label.sk-toggleable__label {\n",
       "  color: var(--sklearn-color-text);\n",
       "  background-color: var(--sklearn-color-unfitted-level-2);\n",
       "}\n",
       "\n",
       "/* Label box, darken color on hover, fitted */\n",
       "#sk-container-id-1 div.sk-label.fitted:hover label.sk-toggleable__label.fitted {\n",
       "  color: var(--sklearn-color-text);\n",
       "  background-color: var(--sklearn-color-fitted-level-2);\n",
       "}\n",
       "\n",
       "/* Estimator label */\n",
       "\n",
       "#sk-container-id-1 div.sk-label label {\n",
       "  font-family: monospace;\n",
       "  font-weight: bold;\n",
       "  display: inline-block;\n",
       "  line-height: 1.2em;\n",
       "}\n",
       "\n",
       "#sk-container-id-1 div.sk-label-container {\n",
       "  text-align: center;\n",
       "}\n",
       "\n",
       "/* Estimator-specific */\n",
       "#sk-container-id-1 div.sk-estimator {\n",
       "  font-family: monospace;\n",
       "  border: 1px dotted var(--sklearn-color-border-box);\n",
       "  border-radius: 0.25em;\n",
       "  box-sizing: border-box;\n",
       "  margin-bottom: 0.5em;\n",
       "  /* unfitted */\n",
       "  background-color: var(--sklearn-color-unfitted-level-0);\n",
       "}\n",
       "\n",
       "#sk-container-id-1 div.sk-estimator.fitted {\n",
       "  /* fitted */\n",
       "  background-color: var(--sklearn-color-fitted-level-0);\n",
       "}\n",
       "\n",
       "/* on hover */\n",
       "#sk-container-id-1 div.sk-estimator:hover {\n",
       "  /* unfitted */\n",
       "  background-color: var(--sklearn-color-unfitted-level-2);\n",
       "}\n",
       "\n",
       "#sk-container-id-1 div.sk-estimator.fitted:hover {\n",
       "  /* fitted */\n",
       "  background-color: var(--sklearn-color-fitted-level-2);\n",
       "}\n",
       "\n",
       "/* Specification for estimator info (e.g. \"i\" and \"?\") */\n",
       "\n",
       "/* Common style for \"i\" and \"?\" */\n",
       "\n",
       ".sk-estimator-doc-link,\n",
       "a:link.sk-estimator-doc-link,\n",
       "a:visited.sk-estimator-doc-link {\n",
       "  float: right;\n",
       "  font-size: smaller;\n",
       "  line-height: 1em;\n",
       "  font-family: monospace;\n",
       "  background-color: var(--sklearn-color-background);\n",
       "  border-radius: 1em;\n",
       "  height: 1em;\n",
       "  width: 1em;\n",
       "  text-decoration: none !important;\n",
       "  margin-left: 1ex;\n",
       "  /* unfitted */\n",
       "  border: var(--sklearn-color-unfitted-level-1) 1pt solid;\n",
       "  color: var(--sklearn-color-unfitted-level-1);\n",
       "}\n",
       "\n",
       ".sk-estimator-doc-link.fitted,\n",
       "a:link.sk-estimator-doc-link.fitted,\n",
       "a:visited.sk-estimator-doc-link.fitted {\n",
       "  /* fitted */\n",
       "  border: var(--sklearn-color-fitted-level-1) 1pt solid;\n",
       "  color: var(--sklearn-color-fitted-level-1);\n",
       "}\n",
       "\n",
       "/* On hover */\n",
       "div.sk-estimator:hover .sk-estimator-doc-link:hover,\n",
       ".sk-estimator-doc-link:hover,\n",
       "div.sk-label-container:hover .sk-estimator-doc-link:hover,\n",
       ".sk-estimator-doc-link:hover {\n",
       "  /* unfitted */\n",
       "  background-color: var(--sklearn-color-unfitted-level-3);\n",
       "  color: var(--sklearn-color-background);\n",
       "  text-decoration: none;\n",
       "}\n",
       "\n",
       "div.sk-estimator.fitted:hover .sk-estimator-doc-link.fitted:hover,\n",
       ".sk-estimator-doc-link.fitted:hover,\n",
       "div.sk-label-container:hover .sk-estimator-doc-link.fitted:hover,\n",
       ".sk-estimator-doc-link.fitted:hover {\n",
       "  /* fitted */\n",
       "  background-color: var(--sklearn-color-fitted-level-3);\n",
       "  color: var(--sklearn-color-background);\n",
       "  text-decoration: none;\n",
       "}\n",
       "\n",
       "/* Span, style for the box shown on hovering the info icon */\n",
       ".sk-estimator-doc-link span {\n",
       "  display: none;\n",
       "  z-index: 9999;\n",
       "  position: relative;\n",
       "  font-weight: normal;\n",
       "  right: .2ex;\n",
       "  padding: .5ex;\n",
       "  margin: .5ex;\n",
       "  width: min-content;\n",
       "  min-width: 20ex;\n",
       "  max-width: 50ex;\n",
       "  color: var(--sklearn-color-text);\n",
       "  box-shadow: 2pt 2pt 4pt #999;\n",
       "  /* unfitted */\n",
       "  background: var(--sklearn-color-unfitted-level-0);\n",
       "  border: .5pt solid var(--sklearn-color-unfitted-level-3);\n",
       "}\n",
       "\n",
       ".sk-estimator-doc-link.fitted span {\n",
       "  /* fitted */\n",
       "  background: var(--sklearn-color-fitted-level-0);\n",
       "  border: var(--sklearn-color-fitted-level-3);\n",
       "}\n",
       "\n",
       ".sk-estimator-doc-link:hover span {\n",
       "  display: block;\n",
       "}\n",
       "\n",
       "/* \"?\"-specific style due to the `<a>` HTML tag */\n",
       "\n",
       "#sk-container-id-1 a.estimator_doc_link {\n",
       "  float: right;\n",
       "  font-size: 1rem;\n",
       "  line-height: 1em;\n",
       "  font-family: monospace;\n",
       "  background-color: var(--sklearn-color-background);\n",
       "  border-radius: 1rem;\n",
       "  height: 1rem;\n",
       "  width: 1rem;\n",
       "  text-decoration: none;\n",
       "  /* unfitted */\n",
       "  color: var(--sklearn-color-unfitted-level-1);\n",
       "  border: var(--sklearn-color-unfitted-level-1) 1pt solid;\n",
       "}\n",
       "\n",
       "#sk-container-id-1 a.estimator_doc_link.fitted {\n",
       "  /* fitted */\n",
       "  border: var(--sklearn-color-fitted-level-1) 1pt solid;\n",
       "  color: var(--sklearn-color-fitted-level-1);\n",
       "}\n",
       "\n",
       "/* On hover */\n",
       "#sk-container-id-1 a.estimator_doc_link:hover {\n",
       "  /* unfitted */\n",
       "  background-color: var(--sklearn-color-unfitted-level-3);\n",
       "  color: var(--sklearn-color-background);\n",
       "  text-decoration: none;\n",
       "}\n",
       "\n",
       "#sk-container-id-1 a.estimator_doc_link.fitted:hover {\n",
       "  /* fitted */\n",
       "  background-color: var(--sklearn-color-fitted-level-3);\n",
       "}\n",
       "</style><div id=\"sk-container-id-1\" class=\"sk-top-container\"><div class=\"sk-text-repr-fallback\"><pre>LogisticRegression(random_state=42)</pre><b>In a Jupyter environment, please rerun this cell to show the HTML representation or trust the notebook. <br />On GitHub, the HTML representation is unable to render, please try loading this page with nbviewer.org.</b></div><div class=\"sk-container\" hidden><div class=\"sk-item\"><div class=\"sk-estimator fitted sk-toggleable\"><input class=\"sk-toggleable__control sk-hidden--visually\" id=\"sk-estimator-id-1\" type=\"checkbox\" checked><label for=\"sk-estimator-id-1\" class=\"sk-toggleable__label fitted sk-toggleable__label-arrow fitted\">&nbsp;&nbsp;LogisticRegression<a class=\"sk-estimator-doc-link fitted\" rel=\"noreferrer\" target=\"_blank\" href=\"https://scikit-learn.org/1.5/modules/generated/sklearn.linear_model.LogisticRegression.html\">?<span>Documentation for LogisticRegression</span></a><span class=\"sk-estimator-doc-link fitted\">i<span>Fitted</span></span></label><div class=\"sk-toggleable__content fitted\"><pre>LogisticRegression(random_state=42)</pre></div> </div></div></div></div>"
      ],
      "text/plain": [
       "LogisticRegression(random_state=42)"
      ]
     },
     "execution_count": 14,
     "metadata": {},
     "output_type": "execute_result"
    }
   ],
   "source": [
    "from sklearn.model_selection import train_test_split\n",
    "from sklearn.linear_model import LogisticRegression\n",
    "\n",
    "# Dividir el dataset en entrenamiento y prueba\n",
    "X_train, X_test, y_train, y_test = train_test_split(opinions_vector_matrix, labels, test_size=0.2, random_state=42)\n",
    "\n",
    "# Entrenar el modelo\n",
    "logistic_model = LogisticRegression(random_state=42)\n",
    "logistic_model.fit(X_train, y_train)"
   ]
  },
  {
   "cell_type": "markdown",
   "id": "8c78a34d",
   "metadata": {
    "id": "8c78a34d"
   },
   "source": [
    "<div style=\"background-color: #EDF7FF; border-color: #7C9DBF; border-left: 5px solid #7C9DBF; padding: 0.5em;\">\n",
    "<i>Cuarto paso</i>: Utilizar el modelo entrenado para predecir la categoría 1 (positivo) o 0 (negativo) de las opiniones del conjunto de test y mostrar las palabras más informativas para cada categoría.\n",
    "</div>"
   ]
  },
  {
   "cell_type": "code",
   "execution_count": 15,
   "id": "160fc014",
   "metadata": {
    "colab": {
     "base_uri": "https://localhost:8080/"
    },
    "id": "160fc014",
    "outputId": "30617b11-80f3-43e5-dd23-b141ba85a460"
   },
   "outputs": [
    {
     "name": "stdout",
     "output_type": "stream",
     "text": [
      "Matriz de Confusión:\n",
      " [[ 225  175]\n",
      " [  19 1891]]\n",
      "\n",
      "Reporte de Clasificación:\n",
      "               precision    recall  f1-score   support\n",
      "\n",
      "           0       0.92      0.56      0.70       400\n",
      "           1       0.92      0.99      0.95      1910\n",
      "\n",
      "    accuracy                           0.92      2310\n",
      "   macro avg       0.92      0.78      0.82      2310\n",
      "weighted avg       0.92      0.92      0.91      2310\n",
      "\n"
     ]
    }
   ],
   "source": [
    "# %%\n",
    "from sklearn.metrics import classification_report, confusion_matrix\n",
    "\n",
    "# Predicciones\n",
    "y_pred = logistic_model.predict(X_test)\n",
    "\n",
    "# Métricas de evaluación\n",
    "print(\"Matriz de Confusión:\\n\", confusion_matrix(y_test, y_pred))\n",
    "print(\"\\nReporte de Clasificación:\\n\", classification_report(y_test, y_pred))"
   ]
  },
  {
   "cell_type": "markdown",
   "id": "d4ad38ec-f2b6-4c7a-9fac-469b243a92be",
   "metadata": {},
   "source": [
    "<div style=\"background-color: #EDF7FF; border-color: #7C9DBF; border-left: 5px solid #7C9DBF; padding: 0.5em;\">\n",
    "<i>Quinto paso</i>: Mostrar las palabras <b>más informativas</b> para cada categoría.\n",
    "</div>"
   ]
  },
  {
   "cell_type": "code",
   "execution_count": 22,
   "id": "9fc99e74",
   "metadata": {},
   "outputs": [
    {
     "name": "stdout",
     "output_type": "stream",
     "text": [
      "['aa' 'aaa' 'aaahs' ... 'zurg' 'zurgs' 'zurich']\n",
      "[0 1]\n",
      "[[ 0.02626881  0.          0.01824426 ...  0.01173976  0.00715113\n",
      "  -0.04372392]]\n",
      "0.02626880553333234\n"
     ]
    }
   ],
   "source": [
    "print(vectorizer.get_feature_names_out())\n",
    "print(logistic_model.classes_)\n",
    "print(logistic_model.coef_)\n",
    "print(logistic_model.coef_[0][0])"
   ]
  },
  {
   "cell_type": "code",
   "execution_count": null,
   "id": "0cd8d2d7-7bcb-4e8f-a4b4-4d97916c05ac",
   "metadata": {},
   "outputs": [
    {
     "name": "stdout",
     "output_type": "stream",
     "text": [
      "0 -5.101148463751575 money\n",
      "0 -3.982035451242198 poor\n",
      "0 -3.896605054490257 closed\n",
      "0 -3.6260149550300307 hour\n",
      "0 -3.36257901904183 rude\n",
      "0 -3.284302839562604 disappointed\n",
      "0 -3.1836434502475477 waste\n",
      "0 -3.021474824088382 staff\n",
      "0 -2.993734422486426 dirty\n",
      "0 -2.850408416253118 told\n",
      "1 5.777708186679882 great\n",
      "1 4.925988714976113 amazing\n",
      "1 4.393148346198249 loved\n",
      "1 3.378822620325672 fantastic\n",
      "1 3.033362567581125 magical\n",
      "1 2.7220940507663034 good\n",
      "1 2.7052835693766304 lot\n",
      "1 2.603135655400223 time\n",
      "1 2.557415286540539 firework\n",
      "1 2.554058690330339 enjoyed\n"
     ]
    }
   ],
   "source": [
    "def most_informative_feature_for_classification(vectorizer, classifier, n=10):\n",
    "    class_labels = classifier.classes_\n",
    "    feature_names = vectorizer.get_feature_names_out() # Obtener el vocabulario\n",
    "    topn_class1 = sorted(zip(classifier.coef_[0], feature_names))[:n] # coeficiente de cada palabra del vocabulario: classifier.coef_[0]\n",
    "    topn_class2 = sorted(zip(classifier.coef_[0], feature_names))[-n:]\n",
    "\n",
    "    for coef, feat in topn_class1:\n",
    "        print (class_labels[0], coef, feat)\n",
    "\n",
    "    for coef, feat in reversed(topn_class2):\n",
    "        print (class_labels[1], coef, feat)\n",
    "        \n",
    "most_informative_feature_for_classification(vectorizer, logistic_model)"
   ]
  },
  {
   "cell_type": "markdown",
   "id": "4af23001",
   "metadata": {
    "id": "4af23001"
   },
   "source": [
    "<div style=\"background-color: #EDF7FF; border-color: #7C9DBF; border-left: 5px solid #7C9DBF; padding: 0.5em;\">\n",
    "Identificar sobre qué aspectos se hacen valoraciones negativas.\n",
    "</div>\n",
    "<br>\n",
    "<i>Primer paso<i>: Elegir dos palabras más informativas de la categoría 0 (negativo) y filtar un conjunto de opiniones en las que aparezcan estas palabras. Preprocesar las opiniones quitando los caracteres de salto de línea.\n"
   ]
  },
  {
   "cell_type": "code",
   "execution_count": 23,
   "id": "7eb6ab69",
   "metadata": {
    "colab": {
     "base_uri": "https://localhost:8080/"
    },
    "id": "7eb6ab69",
    "outputId": "42e891b4-8034-49ff-b998-645573e74c8a"
   },
   "outputs": [
    {
     "data": {
      "text/plain": [
       "[\"We booked tickets on line for Disneyland, this is something I recommend, the lines were already long when we got there, so booking your tickets in advance does help.I was advised to buy a fast passes, but i decided not to, because it was not clear to me on the website if this also counted as an entrance ticket, meaning; a total price of 90 euro with entrancevinstead or 74 or 68 or an extra 90 euro's, depending on age of child.But even if we would have, the lines were long there as well, and also, what kind of system is this? People that do not have that much to spend will be held back, because people with money obviously can skip the lines.absolutely ridiculous.Getting something to eat was horrible, again lines everywhere.just to eat someting right.And don't get me started on the staff, trying to figure out the amount of 3 icecreams with a small casio computer, and not being able to, or very rude staff. Only 2 ladies were friendly, have to be honest. All in all, very disappointing, long waiting lines, not being able to sit somewhere like a human being, and bad service.Our kids were so disappointed that they wanted to leave.We even heard people saying: 'Never again'.Absolutely not worth the money.\",\n",
       " \"We went to Disneyland Paris during the Easter break with family members who had come over from the States. As we had all experience Disneyland in Anaheim and Disneyworld in Orlando, perhaps our expectations were just too high. First off, the moving sidewalks from the parking lot to the park entrance were broken. Not a great first impression. Furthermore, there was a lot of gardening work ongoing when we arrived. Isn't Disney supposed to be magic, with everything looking in top shape and perfect? The security line moved, but was the first bottleneck. The second major bottleneck was to actually enter the park. As we had bought tickets online, we thought we would be able to enter the park fairly easily. However, there was pretty much mass chaos at the ticket check point, with many people jumping the queue and others just standing around. We eventually made it through and made our way to Fantasyland.We managed to ride a few rides, but when it came time to get on the Teacups, they had closed the ride. Not for the day, but for about 45 minutes to disperse the line. This caused many people just to loiter around the entrance, waiting for the ride to open again. Not great. We did manage to eat lunch  early  enough that we didn't have to wait a long time. However, the food that we got was not what we ordered. None of us had the wherewithal to go back and try to fix the order. so we just ate what we got. When it came time for ice cream, it took about 45 minutes just to get to the front of the line, and then another 10 minutes to process the order. This was because the staff at the counter were poorly trained, and only one person knew how to use the register, and others seemed like trainees. There were plenty of other foodcarts around the park that were empty. Not enough staff at the park to operate these. There were also plenty of rides (like Autopia and Dumbo) that were closed for renovation. Disneyland Paris does not carry the iconic felt mouse ears. We definitely won't be going back, and I can't recommend Disneyland Paris to anyone who is looking for a true Disney experience.\"]"
      ]
     },
     "execution_count": 23,
     "metadata": {},
     "output_type": "execute_result"
    }
   ],
   "source": [
    "characters2delete = ['\\n', '\\r', '..']\n",
    "\n",
    "def preprocess(text):\n",
    "    for c2d in characters2delete:\n",
    "        text = text.replace(c2d, '')\n",
    "    return text\n",
    "\n",
    "df_neg = data[(data['Review_Text'].str.contains('poor|staff')) & (data['sentiment']==0)]\n",
    "neg_opinions = df_neg['Review_Text'].to_list()[:100]\n",
    "\n",
    "neg_opinions = [preprocess(opinion) for opinion in neg_opinions]\n",
    "neg_opinions[:2]"
   ]
  },
  {
   "cell_type": "markdown",
   "id": "b5c24dbb",
   "metadata": {
    "id": "b5c24dbb"
   },
   "source": [
    "<i>Segundo paso</i>: Utilizar el diccionario de opiniones (archivo AFINN-111) para extraer la polaridad de cada opinión como la media de los valores de las opinion words del texto."
   ]
  },
  {
   "cell_type": "code",
   "execution_count": 26,
   "id": "e5a23c47",
   "metadata": {},
   "outputs": [
    {
     "data": {
      "text/plain": [
       "['abc', '-1']"
      ]
     },
     "execution_count": 26,
     "metadata": {},
     "output_type": "execute_result"
    }
   ],
   "source": [
    "re.split(\"\\s+\", \"abc   -1\")"
   ]
  },
  {
   "cell_type": "code",
   "execution_count": 34,
   "id": "32785b27",
   "metadata": {},
   "outputs": [
    {
     "data": {
      "text/plain": [
       "['limited', '-1']"
      ]
     },
     "execution_count": 34,
     "metadata": {},
     "output_type": "execute_result"
    }
   ],
   "source": [
    "re.split(\"\\s+(-?\\d+)\", \"limited\\t-1\")[:2]"
   ]
  },
  {
   "cell_type": "code",
   "execution_count": 36,
   "id": "895f6b09",
   "metadata": {
    "colab": {
     "base_uri": "https://localhost:8080/"
    },
    "id": "895f6b09",
    "outputId": "6fd78806-5a70-4836-efec-378094df199d"
   },
   "outputs": [
    {
     "data": {
      "text/plain": [
       "[0.2727272727272727,\n",
       " 1.3333333333333333,\n",
       " -0.875,\n",
       " -1.25,\n",
       " -1.0,\n",
       " 1.0,\n",
       " 0.36666666666666664,\n",
       " 0.0625,\n",
       " 0.5454545454545454,\n",
       " 0.2727272727272727]"
      ]
     },
     "execution_count": 36,
     "metadata": {},
     "output_type": "execute_result"
    }
   ],
   "source": [
    "#Creamos una lista de opinion words y pesos a partir del diccionario AFINN\n",
    "opinion_words_file = './AFINN-111.txt'\n",
    "\n",
    "opinion_words = []\n",
    "words_and_opinions = {}\n",
    "with open(opinion_words_file, 'r') as of:\n",
    "    ol = of.readlines()\n",
    "    for wo in ol:\n",
    "        wo_split = re.split(\"\\s+(-?\\d+)\", wo)[:2]\n",
    "        if len(wo_split) < 2:\n",
    "            continue\n",
    "        w, o = wo_split\n",
    "        words_and_opinions.update({w:o})\n",
    "        opinion_words.append(w)\n",
    "\n",
    "def get_polarity(opinion):\n",
    "    tokens = nltk.word_tokenize(opinion.lower())\n",
    "    lst = [token for token in tokens if token in opinion_words]\n",
    "    lst = [int(words_and_opinions[el]) for el in lst]\n",
    "    if len(lst) != 0:\n",
    "        return sum(lst)/len(lst)\n",
    "    else:\n",
    "        return 0\n",
    "\n",
    "polarities = []\n",
    "\n",
    "for opinion in neg_opinions:\n",
    "    polarities.append(get_polarity(opinion))\n",
    "\n",
    "polarities[:10]\n"
   ]
  },
  {
   "cell_type": "markdown",
   "id": "1561cfe1",
   "metadata": {
    "id": "1561cfe1"
   },
   "source": [
    "<i>Tercer paso:</i> Seleccionar opiniones con polaridad negativa más alta, que ejemplifiquen los aspectos peor valorados. ¿Cuáles son estos aspectos?"
   ]
  },
  {
   "cell_type": "code",
   "execution_count": 37,
   "id": "412f2bf5",
   "metadata": {
    "colab": {
     "base_uri": "https://localhost:8080/"
    },
    "id": "412f2bf5",
    "outputId": "40cce0e1-defc-41ac-f145-af3504d0b5ba"
   },
   "outputs": [
    {
     "name": "stdout",
     "output_type": "stream",
     "text": [
      "Its a shame this park carry the name Disney. They build the place years back and they are now just collecting cash without any effort, it does not compare in anything with the American parks which are truly amazing. The whole park now is designed to get money from their guests on every step without offering any services. The staff are truly miserable and seems like they hate their job. In the whole park there were no characters walking around at all so a kid can take a picture. There were 3 characters who a kid could meet in the whole park but you had to wait forever just to take a picture. Many rides where closed and the wait time for anything was 60 minutes or more, who in the world can make a a kid stand still in a waiting line for 60 Minutes or more? Avoid at all costs especially if you have young children. PS. Parking is    30 to park 30 minutes walk from the entrance after spending    75 person for your ticket.just ridiculous \n",
      "I know Disneyland is a money machine but hadn   t realised how much service and enjoyment had been sacrificed to achieve this aim. We visited with our 2 grandchildren and entered the park just after the gates opened. Even then it was manic, probably too many people for the park to cope with. The story was Q,Q and Q. The worst was Peter Pan, the board outside said a 100 minute wait but this became an actual 127 minutes! The reason for this is Fast Pass. As a day visitor you are a third class customer. The pecking order starts with those who are on special deals in the resort hotels, then comes those who have paid even more money for Fast Pass. These people are able to queue jump leaving you to watch as they go to the front of the line. The Q situation extended to the catering facilities, even a coffee took 42 minutes. The guy was morose, monosyllabic and unhelpful. There were a number of these    solo    food stations around the site and all seemed to have the same issues. Having visited Disney in California a few years back and loved the experience, Paris was an awful, poor value experience and will not be repeated.\n",
      "Visited the Park today   20 4   and can conclude that they simply let too many people in. Already at opening, queues at the attractions where 1 hour plus. At midday   the so called fast track was at 4 hours plus waiting time. And the food? Ofcourse also here endless queues and the menu still consists of pre made sad deep fried varieties of unhealthy fast food. Coffee? Don   t. They only offer a poor variety of freeze dried machine coffee. \n"
     ]
    }
   ],
   "source": [
    "opinions2analyze_aspect = []\n",
    "\n",
    "for i in range(len(neg_opinions)):\n",
    "    if polarities[i] < -0.5:\n",
    "        opinions2analyze_aspect.append(neg_opinions[i])\n",
    "\n",
    "print(\"\\n\".join(opinions2analyze_aspect[:3]))\n"
   ]
  },
  {
   "cell_type": "code",
   "execution_count": null,
   "id": "9142b7d3-4933-4bd3-b8f4-fe62622d027f",
   "metadata": {
    "colab": {
     "base_uri": "https://localhost:8080/",
     "height": 333
    },
    "id": "9142b7d3-4933-4bd3-b8f4-fe62622d027f",
    "outputId": "a44dc50a-4b23-4ec8-86c9-5523f47f6158"
   },
   "outputs": [],
   "source": [
    "print(\"\\n\\nDe lo observado, ¿cuáles son los aspectos peor valorados: \")\n",
    "\n",
    "#############################################\n",
    "# SOLUCIÓN                                  #\n",
    "#############################################\n",
    "\n",
    "\n"
   ]
  },
  {
   "cell_type": "markdown",
   "id": "fd22b5d6-b863-4ff6-92a6-a4e35325fa38",
   "metadata": {
    "id": "fd22b5d6-b863-4ff6-92a6-a4e35325fa38"
   },
   "source": [
    "### Evaluación del modelo de regresión logística\n",
    "\n"
   ]
  },
  {
   "cell_type": "markdown",
   "id": "b69d8d2f",
   "metadata": {
    "id": "b69d8d2f"
   },
   "source": [
    "<div style=\"background-color: #EDF7FF; border-color: #7C9DBF; border-left: 5px solid #7C9DBF; padding: 0.5em;\">\n",
    "    \n",
    "Obtener los resultados de las métricas de evaluación del clasificador basado en regresión logística: matriz de confusión y métricas por clase. Discutir los resultados.\n",
    "</div>"
   ]
  },
  {
   "cell_type": "code",
   "execution_count": 38,
   "id": "afc6ad8f",
   "metadata": {
    "colab": {
     "base_uri": "https://localhost:8080/"
    },
    "id": "afc6ad8f",
    "outputId": "2296e3c9-4b93-4cf4-c857-1a496d792997"
   },
   "outputs": [
    {
     "data": {
      "text/plain": [
       "<sklearn.metrics._plot.confusion_matrix.ConfusionMatrixDisplay at 0x18b1d63d790>"
      ]
     },
     "execution_count": 38,
     "metadata": {},
     "output_type": "execute_result"
    },
    {
     "data": {
      "image/png": "[encoded data removed]",
      "text/plain": [
       "<Figure size 640x480 with 2 Axes>"
      ]
     },
     "metadata": {},
     "output_type": "display_data"
    }
   ],
   "source": [
    "from sklearn.metrics import ConfusionMatrixDisplay\n",
    "\n",
    "# Mostrar matriz de confusión gráficamente\n",
    "ConfusionMatrixDisplay.from_predictions(y_test, y_pred, display_labels=[\"Negativo\", \"Positivo\"])"
   ]
  },
  {
   "cell_type": "markdown",
   "id": "82c5988e-ce7e-4b4c-afca-023941c34fa7",
   "metadata": {
    "id": "82c5988e-ce7e-4b4c-afca-023941c34fa7"
   },
   "source": [
    "<div style=\"background-color: #EDF7FF; border-color: #7C9DBF; border-left: 5px solid #7C9DBF; padding: 0.5em;\">\n",
    "Entrenar un nuevo clasificador, por ejemplo, usar SVM, y obtener sus métricas con el conjunto de test\n",
    "    \n",
    "</div>"
   ]
  },
  {
   "cell_type": "code",
   "execution_count": 39,
   "id": "210a7df8",
   "metadata": {
    "colab": {
     "base_uri": "https://localhost:8080/"
    },
    "id": "210a7df8",
    "outputId": "2b9cf2e0-903d-48d6-deec-05a0a868428e"
   },
   "outputs": [
    {
     "name": "stdout",
     "output_type": "stream",
     "text": [
      "Matriz de Confusión (SVM):\n",
      " [[ 281  119]\n",
      " [  40 1870]]\n",
      "\n",
      "Reporte de Clasificación (SVM):\n",
      "               precision    recall  f1-score   support\n",
      "\n",
      "           0       0.88      0.70      0.78       400\n",
      "           1       0.94      0.98      0.96      1910\n",
      "\n",
      "    accuracy                           0.93      2310\n",
      "   macro avg       0.91      0.84      0.87      2310\n",
      "weighted avg       0.93      0.93      0.93      2310\n",
      "\n"
     ]
    }
   ],
   "source": [
    "from sklearn.svm import SVC\n",
    "\n",
    "# Crear y entrenar el modelo SVM\n",
    "svm_model = SVC(kernel='linear', random_state=42)\n",
    "svm_model.fit(X_train, y_train)\n",
    "\n",
    "# Predicciones SVM\n",
    "y_pred_svm = svm_model.predict(X_test)\n",
    "\n",
    "# Métricas de evaluación para SVM\n",
    "print(\"Matriz de Confusión (SVM):\\n\", confusion_matrix(y_test, y_pred_svm))\n",
    "print(\"\\nReporte de Clasificación (SVM):\\n\", classification_report(y_test, y_pred_svm))\n"
   ]
  },
  {
   "cell_type": "markdown",
   "id": "3cc46d32-c604-4f08-891e-d62f9198fd16",
   "metadata": {
    "id": "3cc46d32-c604-4f08-891e-d62f9198fd16"
   },
   "source": [
    "### Prueba del modelo en otra parte del dataset\n",
    "\n",
    "Según se indicó al inicio, como parte de la preparación del dataset elegimos únicamente a las reseñas de Disneyland Paris. En este punto intentaremos ver cómo funciona el clasifidor con las reseñas realizadas en otro subconjunto de datos. Por tanto, implementar el código necesario para responder la pregunta.\n",
    "\n",
    "¿El mejor modelo de clasificación creado (basado en regresión logística o SVM), a partir de este subconjunto de texto es igual de preciso para clasificar las reseñas de otra de las dos divisiones de Disneyland, esto es, Hong Kong o California?.\n",
    "\n"
   ]
  },
  {
   "cell_type": "code",
   "execution_count": 42,
   "id": "069f4e7c",
   "metadata": {},
   "outputs": [
    {
     "data": {
      "text/plain": [
       "38736         Disneyland_Paris\n",
       "32736         Disneyland_Paris\n",
       "19905    Disneyland_California\n",
       "18916    Disneyland_California\n",
       "16529    Disneyland_California\n",
       "34399         Disneyland_Paris\n",
       "25348    Disneyland_California\n",
       "7890       Disneyland_HongKong\n",
       "19071    Disneyland_California\n",
       "31004         Disneyland_Paris\n",
       "Name: Branch, dtype: object"
      ]
     },
     "execution_count": 42,
     "metadata": {},
     "output_type": "execute_result"
    }
   ],
   "source": [
    "dl['Branch'].sample(10)"
   ]
  },
  {
   "cell_type": "code",
   "execution_count": 44,
   "id": "20e52d68-3d5e-4a76-b3c1-3363c5a0fc76",
   "metadata": {
    "colab": {
     "base_uri": "https://localhost:8080/",
     "height": 281
    },
    "id": "20e52d68-3d5e-4a76-b3c1-3363c5a0fc76",
    "outputId": "080ad50b-2d84-4e29-ed25-b7259b4b87d0"
   },
   "outputs": [
    {
     "name": "stdout",
     "output_type": "stream",
     "text": [
      "\n",
      "Reporte de Clasificación para Hong Kong (Regresión Logística):\n",
      "               precision    recall  f1-score   support\n",
      "\n",
      "           0       0.90      0.22      0.35       508\n",
      "           1       0.95      1.00      0.97      7746\n",
      "\n",
      "    accuracy                           0.95      8254\n",
      "   macro avg       0.92      0.61      0.66      8254\n",
      "weighted avg       0.95      0.95      0.94      8254\n",
      "\n"
     ]
    }
   ],
   "source": [
    "# Filtrar otro subconjunto de datos\n",
    "data_hk = dl[dl['Branch'] == 'Disneyland_HongKong']\n",
    "data_hk = data_hk[['Rating', 'Review_Text']]\n",
    "data_hk = data_hk[(data_hk['Rating'] != 3)]\n",
    "data_hk['sentiment'] = data_hk['Rating'].apply(lambda x: 1 if x > 3 else 0)\n",
    "\n",
    "# Preprocesar el nuevo conjunto de datos\n",
    "data_hk_processed = prep_dataset_DL(data_hk, 'text', 'Review_Text')\n",
    "\n",
    "# Vectorizar opiniones\n",
    "opinions_hk = data_hk_processed['text']\n",
    "X_hk = vectorizer.transform(opinions_hk)\n",
    "\n",
    "# Predicciones y evaluación\n",
    "y_hk = data_hk['sentiment'].to_list()\n",
    "y_pred_hk = logistic_model.predict(X_hk)\n",
    "\n",
    "print(\"\\nReporte de Clasificación para Hong Kong (Regresión Logística):\\n\", classification_report(y_hk, y_pred_hk))"
   ]
  },
  {
   "cell_type": "code",
   "execution_count": null,
   "id": "efe0c7cb",
   "metadata": {},
   "outputs": [],
   "source": [
    "y_pred_hk_svm = svm_model.predict(X_hk)\n",
    "print(\"\\nReporte de Clasificación para Hong Kong (SVM):\\n\", classification_report(y_hk, y_pred_hk_svm))"
   ]
  }
 ],
 "metadata": {
  "colab": {
   "provenance": []
  },
  "kernelspec": {
   "display_name": "env_master",
   "language": "python",
   "name": "python3"
  },
  "language_info": {
   "codemirror_mode": {
    "name": "ipython",
    "version": 3
   },
   "file_extension": ".py",
   "mimetype": "text/x-python",
   "name": "python",
   "nbconvert_exporter": "python",
   "pygments_lexer": "ipython3",
   "version": "3.11.10"
  }
 },
 "nbformat": 4,
 "nbformat_minor": 5
}
