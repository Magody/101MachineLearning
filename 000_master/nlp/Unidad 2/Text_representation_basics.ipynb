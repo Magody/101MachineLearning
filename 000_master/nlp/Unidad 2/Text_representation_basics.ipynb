{
 "cells": [
  {
   "cell_type": "markdown",
   "id": "66731514-806c-4942-886a-df5fe9de5197",
   "metadata": {},
   "source": [
    "# UNIDAD 2: Representación vectorial de texto\n",
    "\n",
    "\n",
    "## 1. Modelo espacio-vectorial\n",
    "\n",
    "### 1.1 Vectorizador TF-IDF\n",
    "\n",
    "El vectorizador TF-IDF es una técnica, basada en el modelo espacio-vectorial, que se utiliza para transformar una colección de documentos **sin procesar** en una matriz de características numéricas que se puede utilizar como *entrada para algoritmos de aprendizaje automático*.\n",
    "\n",
    "Funciona calculando la frecuencia de término (TF) de cada palabra de un documento, que representa la frecuencia con la que aparece la palabra, y la frecuencia inversa del documento (IDF) de cada palabra, que representa la rareza o la frecuencia común de la palabra en todo el corpus.\n",
    "\n",
    "**sklearn** ofrece la clase *TfidfVectorizer*, la cual podemos utilizar para transformar un conjunto de documentos. \n",
    "\n",
    "Para calcular la matriz TF-IDF usamos el método **fit_transform**, el cual convierte los documentos en una matriz de TF-IDF donde cada fila representa un documento y cada columna representa una palabra. Los valores en la matriz corresponden a los pesos TF-IDF de cada palabra en cada documento.\n"
   ]
  },
  {
   "cell_type": "code",
   "execution_count": 1,
   "id": "924c3ee5-90c8-4c5e-a80a-04c0ee9a1523",
   "metadata": {},
   "outputs": [],
   "source": [
    "import pandas as pd\n",
    "from sklearn.feature_extraction.text import TfidfVectorizer\n",
    "tfidf = TfidfVectorizer(stop_words=['spanish'])\n",
    "\n",
    "reviews = pd.DataFrame(['El pescado al horno es el mejor.',\n",
    "           'El servicio es insuperable',\n",
    "           'El pescado al horno es insuperable, pero el servicio es malo.',\n",
    "           'El mejor servicio es el pescado al horno.'], columns = ['review'])\n",
    "\n",
    "# Crear el TfidfVectorizer, eliminando stop words para optimizar el análisis\n",
    "data_vector = tfidf.fit_transform(reviews['review'].to_list()).toarray()"
   ]
  },
  {
   "cell_type": "code",
   "execution_count": 2,
   "id": "d007d721-6d38-4e1b-a3d4-99b8ae471f42",
   "metadata": {},
   "outputs": [
    {
     "data": {
      "text/html": [
       "<div>\n",
       "<style scoped>\n",
       "    .dataframe tbody tr th:only-of-type {\n",
       "        vertical-align: middle;\n",
       "    }\n",
       "\n",
       "    .dataframe tbody tr th {\n",
       "        vertical-align: top;\n",
       "    }\n",
       "\n",
       "    .dataframe thead th {\n",
       "        text-align: right;\n",
       "    }\n",
       "</style>\n",
       "<table border=\"1\" class=\"dataframe\">\n",
       "  <thead>\n",
       "    <tr style=\"text-align: right;\">\n",
       "      <th></th>\n",
       "      <th>review</th>\n",
       "    </tr>\n",
       "  </thead>\n",
       "  <tbody>\n",
       "    <tr>\n",
       "      <th>0</th>\n",
       "      <td>El pescado al horno es el mejor.</td>\n",
       "    </tr>\n",
       "    <tr>\n",
       "      <th>1</th>\n",
       "      <td>El servicio es insuperable</td>\n",
       "    </tr>\n",
       "    <tr>\n",
       "      <th>2</th>\n",
       "      <td>El pescado al horno es insuperable, pero el servicio es malo.</td>\n",
       "    </tr>\n",
       "    <tr>\n",
       "      <th>3</th>\n",
       "      <td>El mejor servicio es el pescado al horno.</td>\n",
       "    </tr>\n",
       "  </tbody>\n",
       "</table>\n",
       "</div>"
      ],
      "text/plain": [
       "                                                          review\n",
       "0                               El pescado al horno es el mejor.\n",
       "1                                     El servicio es insuperable\n",
       "2  El pescado al horno es insuperable, pero el servicio es malo.\n",
       "3                      El mejor servicio es el pescado al horno."
      ]
     },
     "execution_count": 2,
     "metadata": {},
     "output_type": "execute_result"
    }
   ],
   "source": [
    "pd.set_option('display.max_colwidth', 200)\n",
    "reviews"
   ]
  },
  {
   "cell_type": "code",
   "execution_count": 3,
   "id": "13a9edda-7620-4cf8-a5c8-d7f5e8295aa6",
   "metadata": {},
   "outputs": [
    {
     "name": "stdout",
     "output_type": "stream",
     "text": [
      "[[0.35651171 0.58294337 0.29147169 0.35651171 0.         0.\n",
      "  0.44036289 0.         0.35651171 0.        ]\n",
      " [0.         0.41599288 0.41599288 0.         0.6284927  0.\n",
      "  0.         0.         0.         0.50881901]\n",
      " [0.2517201  0.41159535 0.41159535 0.2517201  0.3109244  0.39436818\n",
      "  0.         0.39436818 0.2517201  0.2517201 ]\n",
      " [0.3358091  0.54909189 0.27454594 0.3358091  0.         0.\n",
      "  0.41479105 0.         0.3358091  0.3358091 ]]\n"
     ]
    }
   ],
   "source": [
    "# Mostrar la matriz TF-IDF\n",
    "print(data_vector)"
   ]
  },
  {
   "cell_type": "code",
   "execution_count": 4,
   "id": "1451c2fb-c76e-4a21-963a-9f88ff386f11",
   "metadata": {},
   "outputs": [
    {
     "name": "stdout",
     "output_type": "stream",
     "text": [
      "0                                 El pescado al horno es el mejor.\n",
      "1                                       El servicio es insuperable\n",
      "2    El pescado al horno es insuperable, pero el servicio es malo.\n",
      "3                        El mejor servicio es el pescado al horno.\n",
      "Name: review, dtype: object\n",
      "[[1.     0.3638 0.6291 0.9419]\n",
      " [0.3638 1.     0.6659 0.5135]\n",
      " [0.6291 0.6659 1.     0.6771]\n",
      " [0.9419 0.5135 0.6771 1.    ]]\n"
     ]
    }
   ],
   "source": [
    "#Determinar la similitud entre documentos:\n",
    "from sklearn.metrics.pairwise import cosine_similarity\n",
    "import numpy as np\n",
    "\n",
    "print(reviews.review)\n",
    "\n",
    "def cosine_similarity_matrix(features):\n",
    "    norms = np.linalg.norm(features, axis=1, keepdims=True)\n",
    "    normalized_features = features / norms\n",
    "    similarity_matrix = np.inner(normalized_features, normalized_features)\n",
    "    rounded_similarity_matrix = np.round(similarity_matrix, 4)\n",
    "    return rounded_similarity_matrix\n",
    "\n",
    "sim = cosine_similarity_matrix(data_vector)\n",
    "print(sim)"
   ]
  },
  {
   "cell_type": "code",
   "execution_count": 5,
   "id": "18c9b57c-e99b-489a-80f2-38ec1e23b476",
   "metadata": {},
   "outputs": [
    {
     "name": "stdout",
     "output_type": "stream",
     "text": [
      "['al' 'el' 'es' 'horno' 'insuperable' 'malo' 'mejor' 'pero' 'pescado'\n",
      " 'servicio']\n",
      "[1.22314355 1.         1.         1.22314355 1.51082562 1.91629073\n",
      " 1.51082562 1.91629073 1.22314355 1.22314355]\n"
     ]
    }
   ],
   "source": [
    "# Mostrar las palabras\n",
    "print(tfidf.get_feature_names_out())\n",
    "\n",
    "# Verificar el valor IDF de cada palabra:\n",
    "print(tfidf.idf_)"
   ]
  },
  {
   "cell_type": "code",
   "execution_count": 6,
   "id": "e9e5f6fc-5a4f-4ac3-a46f-fe08659338cb",
   "metadata": {},
   "outputs": [
    {
     "name": "stdout",
     "output_type": "stream",
     "text": [
      "review    El servicio es insuperable\n",
      "Name: 1, dtype: object\n",
      "[0.         0.41599288 0.41599288 0.         0.6284927  0.\n",
      " 0.         0.         0.         0.50881901] \n",
      "\n"
     ]
    }
   ],
   "source": [
    "#¿Cómo se interpreta cada valor?\n",
    "print(reviews.iloc[1])\n",
    "print(data_vector[1],'\\n') # Vector de características del documento 1.\n",
    "\n",
    "# El -> 0.34399327\n",
    "# servicio -> 0.51971385\n",
    "# es -> 0.42075315\n",
    "# insuperable -> 0.65919112"
   ]
  },
  {
   "cell_type": "markdown",
   "id": "5841e6c6-90b7-42d3-b8ba-d3691f2a90a3",
   "metadata": {},
   "source": [
    "Cada número en la matriz TF-IDF indica la importancia relativa de una palabra en un documento. Un valor más alto significa que la palabra es más relevante en ese documento en comparación con los otros. Esto nos permite identificar qué palabras son significativas para cada documento, lo cual es útil para tareas de clasificación, búsqueda, y análisis de similitud de texto."
   ]
  },
  {
   "cell_type": "code",
   "execution_count": 7,
   "id": "5999128f-ae80-4880-a8d9-b0e974b870a5",
   "metadata": {},
   "outputs": [],
   "source": [
    "# Cálculo luego del preprocesamiento de texto:"
   ]
  },
  {
   "cell_type": "code",
   "execution_count": 8,
   "id": "dc4161bf-b40c-4f65-93bd-fbcc6f3eff9b",
   "metadata": {},
   "outputs": [
    {
     "data": {
      "text/html": [
       "<div>\n",
       "<style scoped>\n",
       "    .dataframe tbody tr th:only-of-type {\n",
       "        vertical-align: middle;\n",
       "    }\n",
       "\n",
       "    .dataframe tbody tr th {\n",
       "        vertical-align: top;\n",
       "    }\n",
       "\n",
       "    .dataframe thead th {\n",
       "        text-align: right;\n",
       "    }\n",
       "</style>\n",
       "<table border=\"1\" class=\"dataframe\">\n",
       "  <thead>\n",
       "    <tr style=\"text-align: right;\">\n",
       "      <th></th>\n",
       "      <th>review</th>\n",
       "      <th>clean_msg</th>\n",
       "      <th>msg_lower</th>\n",
       "      <th>msg_tokenized</th>\n",
       "      <th>no_stopwords</th>\n",
       "    </tr>\n",
       "  </thead>\n",
       "  <tbody>\n",
       "    <tr>\n",
       "      <th>0</th>\n",
       "      <td>El pescado al horno es el mejor.</td>\n",
       "      <td>El pescado al horno es el mejor</td>\n",
       "      <td>el pescado al horno es el mejor</td>\n",
       "      <td>[el, pescado, al, horno, es, el, mejor]</td>\n",
       "      <td>[pescado, horno, mejor]</td>\n",
       "    </tr>\n",
       "    <tr>\n",
       "      <th>1</th>\n",
       "      <td>El servicio es insuperable</td>\n",
       "      <td>El servicio es insuperable</td>\n",
       "      <td>el servicio es insuperable</td>\n",
       "      <td>[el, servicio, es, insuperable]</td>\n",
       "      <td>[servicio, insuperable]</td>\n",
       "    </tr>\n",
       "    <tr>\n",
       "      <th>2</th>\n",
       "      <td>El pescado al horno es insuperable, pero el servicio es malo.</td>\n",
       "      <td>El pescado al horno es insuperable pero el servicio es malo</td>\n",
       "      <td>el pescado al horno es insuperable pero el servicio es malo</td>\n",
       "      <td>[el, pescado, al, horno, es, insuperable, pero, el, servicio, es, malo]</td>\n",
       "      <td>[pescado, horno, insuperable, servicio, malo]</td>\n",
       "    </tr>\n",
       "    <tr>\n",
       "      <th>3</th>\n",
       "      <td>El mejor servicio es el pescado al horno.</td>\n",
       "      <td>El mejor servicio es el pescado al horno</td>\n",
       "      <td>el mejor servicio es el pescado al horno</td>\n",
       "      <td>[el, mejor, servicio, es, el, pescado, al, horno]</td>\n",
       "      <td>[mejor, servicio, pescado, horno]</td>\n",
       "    </tr>\n",
       "  </tbody>\n",
       "</table>\n",
       "</div>"
      ],
      "text/plain": [
       "                                                          review  \\\n",
       "0                               El pescado al horno es el mejor.   \n",
       "1                                     El servicio es insuperable   \n",
       "2  El pescado al horno es insuperable, pero el servicio es malo.   \n",
       "3                      El mejor servicio es el pescado al horno.   \n",
       "\n",
       "                                                     clean_msg  \\\n",
       "0                              El pescado al horno es el mejor   \n",
       "1                                   El servicio es insuperable   \n",
       "2  El pescado al horno es insuperable pero el servicio es malo   \n",
       "3                     El mejor servicio es el pescado al horno   \n",
       "\n",
       "                                                     msg_lower  \\\n",
       "0                              el pescado al horno es el mejor   \n",
       "1                                   el servicio es insuperable   \n",
       "2  el pescado al horno es insuperable pero el servicio es malo   \n",
       "3                     el mejor servicio es el pescado al horno   \n",
       "\n",
       "                                                             msg_tokenized  \\\n",
       "0                                  [el, pescado, al, horno, es, el, mejor]   \n",
       "1                                          [el, servicio, es, insuperable]   \n",
       "2  [el, pescado, al, horno, es, insuperable, pero, el, servicio, es, malo]   \n",
       "3                        [el, mejor, servicio, es, el, pescado, al, horno]   \n",
       "\n",
       "                                    no_stopwords  \n",
       "0                        [pescado, horno, mejor]  \n",
       "1                        [servicio, insuperable]  \n",
       "2  [pescado, horno, insuperable, servicio, malo]  \n",
       "3              [mejor, servicio, pescado, horno]  "
      ]
     },
     "execution_count": 8,
     "metadata": {},
     "output_type": "execute_result"
    }
   ],
   "source": [
    "from preprocessing import remove_urls, remove_html, remove_punctuation, remove_emoji\n",
    "from preprocessing import remove_hashtags_mentions, remove_numbers, replace_strings\n",
    "from preprocessing import remove_stopwords, stemming_eng, lemmatizer_eng\n",
    "from nltk.tokenize import word_tokenize\n",
    "import nltk\n",
    "# Preprocesamiento de texto:\n",
    "import string\n",
    "PUNCTUATION = string.punctuation\n",
    "reviews['clean_msg']= reviews['review'].apply(lambda x:remove_punctuation(x, PUNCTUATION))\n",
    "reviews['msg_lower']= reviews['clean_msg'].apply(lambda x: x.lower())\n",
    "reviews['msg_tokenized']= reviews['msg_lower'].apply(lambda x: word_tokenize(x))\n",
    "STOPWORDS = nltk.corpus.stopwords.words('spanish')\n",
    "reviews['no_stopwords']= reviews['msg_tokenized'].apply(lambda x:remove_stopwords(x, STOPWORDS))\n",
    "reviews"
   ]
  },
  {
   "cell_type": "code",
   "execution_count": 9,
   "id": "ae0bfe98-086a-4612-9d4f-538722743675",
   "metadata": {},
   "outputs": [
    {
     "name": "stdout",
     "output_type": "stream",
     "text": [
      "[1.22314355 1.51082562 1.91629073 1.51082562 1.22314355 1.22314355]\n"
     ]
    },
    {
     "data": {
      "text/plain": [
       "array(['horno', 'insuperable', 'malo', 'mejor', 'pescado', 'servicio'],\n",
       "      dtype=object)"
      ]
     },
     "execution_count": 9,
     "metadata": {},
     "output_type": "execute_result"
    }
   ],
   "source": [
    "clean_reviews = [' '.join(r) for r in reviews['no_stopwords']]\n",
    "tfidf2 = TfidfVectorizer()\n",
    "data_vector2 = tfidf2.fit_transform(clean_reviews).toarray()\n",
    "\n",
    "# Verificar el valor IDF de cada texto:\n",
    "print(tfidf2.idf_)\n",
    "\n",
    "tfidf2.get_feature_names_out()"
   ]
  },
  {
   "cell_type": "code",
   "execution_count": 10,
   "id": "f7e0da19-88f4-4ed8-8579-90f8e4afd628",
   "metadata": {},
   "outputs": [
    {
     "data": {
      "text/plain": [
       "array([[0.53256952, 0.        , 0.        , 0.65782931, 0.53256952,\n",
       "        0.        ],\n",
       "       [0.        , 0.77722116, 0.        , 0.        , 0.        ,\n",
       "        0.62922751],\n",
       "       [0.37849896, 0.46752152, 0.59299177, 0.        , 0.37849896,\n",
       "        0.37849896],\n",
       "       [0.47006328, 0.        , 0.        , 0.58062167, 0.47006328,\n",
       "        0.47006328]])"
      ]
     },
     "execution_count": 10,
     "metadata": {},
     "output_type": "execute_result"
    }
   ],
   "source": [
    "data_vector2"
   ]
  },
  {
   "cell_type": "code",
   "execution_count": 11,
   "id": "241d94ad-a846-4078-98c9-4b75d118a71d",
   "metadata": {},
   "outputs": [
    {
     "data": {
      "text/plain": [
       "array([0.        , 0.77722116, 0.        , 0.        , 0.        ,\n",
       "       0.62922751])"
      ]
     },
     "execution_count": 11,
     "metadata": {},
     "output_type": "execute_result"
    }
   ],
   "source": [
    "#[servicio, insuperable]\n",
    "data_vector2[1]"
   ]
  },
  {
   "cell_type": "markdown",
   "id": "8ec452e3-44a5-4770-98eb-330741d4687c",
   "metadata": {},
   "source": [
    "## 2. Modelo probabilístico de tópicos \n",
    "\n",
    "### 2.1 LDA"
   ]
  },
  {
   "cell_type": "code",
   "execution_count": 12,
   "id": "ddd54d35-ad88-4d8b-997c-17fc3764a6d5",
   "metadata": {},
   "outputs": [
    {
     "data": {
      "text/html": [
       "<div>\n",
       "<style scoped>\n",
       "    .dataframe tbody tr th:only-of-type {\n",
       "        vertical-align: middle;\n",
       "    }\n",
       "\n",
       "    .dataframe tbody tr th {\n",
       "        vertical-align: top;\n",
       "    }\n",
       "\n",
       "    .dataframe thead th {\n",
       "        text-align: right;\n",
       "    }\n",
       "</style>\n",
       "<table border=\"1\" class=\"dataframe\">\n",
       "  <thead>\n",
       "    <tr style=\"text-align: right;\">\n",
       "      <th></th>\n",
       "      <th>target</th>\n",
       "      <th>text</th>\n",
       "    </tr>\n",
       "  </thead>\n",
       "  <tbody>\n",
       "    <tr>\n",
       "      <th>3245</th>\n",
       "      <td>ham</td>\n",
       "      <td>Funny fact Nobody teaches volcanoes 2 erupt, tsunamis 2 arise, hurricanes 2 sway aroundn no 1 teaches hw 2 choose a wife Natural disasters just happens</td>\n",
       "    </tr>\n",
       "    <tr>\n",
       "      <th>944</th>\n",
       "      <td>ham</td>\n",
       "      <td>I sent my scores to sophas and i had to do secondary application for a few schools. I think if you are thinking of applying, do a research on cost also. Contact joke ogunrinde, her school is one me the less expensive ones</td>\n",
       "    </tr>\n",
       "    <tr>\n",
       "      <th>1044</th>\n",
       "      <td>spam</td>\n",
       "      <td>We know someone who you know that fancies you. Call 09058097218 to find out who. POBox 6, LS15HB 150p</td>\n",
       "    </tr>\n",
       "    <tr>\n",
       "      <th>2484</th>\n",
       "      <td>ham</td>\n",
       "      <td>Only if you promise your getting out as SOON as you can. And you'll text me in the morning to let me know you made it in ok.</td>\n",
       "    </tr>\n",
       "    <tr>\n",
       "      <th>812</th>\n",
       "      <td>spam</td>\n",
       "      <td>Congratulations ur awarded either å£500 of CD gift vouchers &amp; Free entry 2 our å£100 weekly draw txt MUSIC to 87066 TnCs www.Ldew.com1win150ppmx3age16</td>\n",
       "    </tr>\n",
       "  </tbody>\n",
       "</table>\n",
       "</div>"
      ],
      "text/plain": [
       "     target  \\\n",
       "3245    ham   \n",
       "944     ham   \n",
       "1044   spam   \n",
       "2484    ham   \n",
       "812    spam   \n",
       "\n",
       "                                                                                                                                                                                                                               text  \n",
       "3245                                                                        Funny fact Nobody teaches volcanoes 2 erupt, tsunamis 2 arise, hurricanes 2 sway aroundn no 1 teaches hw 2 choose a wife Natural disasters just happens  \n",
       "944   I sent my scores to sophas and i had to do secondary application for a few schools. I think if you are thinking of applying, do a research on cost also. Contact joke ogunrinde, her school is one me the less expensive ones  \n",
       "1044                                                                                                                          We know someone who you know that fancies you. Call 09058097218 to find out who. POBox 6, LS15HB 150p  \n",
       "2484                                                                                                   Only if you promise your getting out as SOON as you can. And you'll text me in the morning to let me know you made it in ok.  \n",
       "812                                                                          Congratulations ur awarded either å£500 of CD gift vouchers & Free entry 2 our å£100 weekly draw txt MUSIC to 87066 TnCs www.Ldew.com1win150ppmx3age16  "
      ]
     },
     "execution_count": 12,
     "metadata": {},
     "output_type": "execute_result"
    }
   ],
   "source": [
    "#Comencemos importando la biblioteca pandas y leyendo los datos.\n",
    "import pandas as pd\n",
    "\n",
    "# Cargar el dataset, cada línea está compuesta por dos columnas:\n",
    "# v1 contiene la etiqueta (ham o spam) y\n",
    "# v2 contiene el texto sin formato.\n",
    "# Además, algunas filas tienen celdas sin valor.\n",
    "data = pd.read_csv(\"../datasets/spam.csv\",encoding=\"ISO-8859-1\",\n",
    "                   header=None, skiprows=1,\n",
    "                   names = [\"target\", \"text\", \"v3\", \"v4\", \"v5\"])\n",
    "\n",
    "#Ampliación de ancho del display para ver mejor el texto de la columna de mensajes.\n",
    "pd.set_option('display.max_colwidth', 300)\n",
    "\n",
    "#Usar las dos primeras columnas y renombrarlas:\n",
    "data= data [['target','text']]\n",
    "data.sample(5, random_state=42)\n"
   ]
  },
  {
   "cell_type": "markdown",
   "id": "0c126460-f0e2-4132-8e4e-91c8e354dd44",
   "metadata": {},
   "source": [
    "#### Limpieza de texto"
   ]
  },
  {
   "cell_type": "code",
   "execution_count": 13,
   "id": "2fce0e5e-336c-4f2d-919a-6858d764ecb9",
   "metadata": {},
   "outputs": [],
   "source": [
    "# Importar librerías necesarias:\n",
    "\n",
    "import re\n",
    "from bs4 import BeautifulSoup\n",
    "import string\n",
    "import nltk\n",
    "from nltk.tokenize import word_tokenize\n",
    "from nltk.stem import WordNetLemmatizer\n",
    "from preprocessing import remove_urls, remove_html, remove_punctuation, remove_emoji\n",
    "from preprocessing import remove_hashtags_mentions, remove_numbers, replace_strings\n",
    "from preprocessing import remove_stopwords, stemming_eng, lemmatizer_eng"
   ]
  },
  {
   "cell_type": "code",
   "execution_count": 14,
   "id": "1493a6a9-3964-4e0f-8d62-2adbe8b6262b",
   "metadata": {},
   "outputs": [
    {
     "data": {
      "text/html": [
       "<div>\n",
       "<style scoped>\n",
       "    .dataframe tbody tr th:only-of-type {\n",
       "        vertical-align: middle;\n",
       "    }\n",
       "\n",
       "    .dataframe tbody tr th {\n",
       "        vertical-align: top;\n",
       "    }\n",
       "\n",
       "    .dataframe thead th {\n",
       "        text-align: right;\n",
       "    }\n",
       "</style>\n",
       "<table border=\"1\" class=\"dataframe\">\n",
       "  <thead>\n",
       "    <tr style=\"text-align: right;\">\n",
       "      <th></th>\n",
       "      <th>target</th>\n",
       "      <th>text</th>\n",
       "      <th>clean_text</th>\n",
       "      <th>tokenized_text</th>\n",
       "      <th>norm_text</th>\n",
       "    </tr>\n",
       "  </thead>\n",
       "  <tbody>\n",
       "    <tr>\n",
       "      <th>3245</th>\n",
       "      <td>ham</td>\n",
       "      <td>Funny fact Nobody teaches volcanoes 2 erupt, tsunamis 2 arise, hurricanes 2 sway aroundn no 1 teaches hw 2 choose a wife Natural disasters just happens</td>\n",
       "      <td>funny fact nobody teaches volcanoes  erupt tsunamis  arise hurricanes  sway aroundn no  teaches hw  choose a wife natural disasters just happens</td>\n",
       "      <td>[funny, fact, nobody, teaches, volcanoes, erupt, tsunamis, arise, hurricanes, sway, aroundn, no, teaches, hw, choose, a, wife, natural, disasters, just, happens]</td>\n",
       "      <td>[funny, fact, nobody, teach, volcano, erupt, tsunami, arise, hurricane, sway, aroundn, teach, hw, choose, wife, natural, disaster, happens]</td>\n",
       "    </tr>\n",
       "    <tr>\n",
       "      <th>944</th>\n",
       "      <td>ham</td>\n",
       "      <td>I sent my scores to sophas and i had to do secondary application for a few schools. I think if you are thinking of applying, do a research on cost also. Contact joke ogunrinde, her school is one me the less expensive ones</td>\n",
       "      <td>i sent my scores to sophas and i had to do secondary application for a few schools i think if you are thinking of applying do a research on cost also contact joke ogunrinde her school is one me the less expensive ones</td>\n",
       "      <td>[i, sent, my, scores, to, sophas, and, i, had, to, do, secondary, application, for, a, few, schools, i, think, if, you, are, thinking, of, applying, do, a, research, on, cost, also, contact, joke, ogunrinde, her, school, is, one, me, the, less, expensive, ones]</td>\n",
       "      <td>[sent, score, sophas, secondary, application, school, think, thinking, applying, research, cost, also, contact, joke, ogunrinde, school, one, le, expensive, one]</td>\n",
       "    </tr>\n",
       "    <tr>\n",
       "      <th>1044</th>\n",
       "      <td>spam</td>\n",
       "      <td>We know someone who you know that fancies you. Call 09058097218 to find out who. POBox 6, LS15HB 150p</td>\n",
       "      <td>we know someone who you know that fancies you call  to find out who pobox  lshb p</td>\n",
       "      <td>[we, know, someone, who, you, know, that, fancies, you, call, to, find, out, who, pobox, lshb, p]</td>\n",
       "      <td>[know, someone, know, fancy, call, find, pobox, lshb, p]</td>\n",
       "    </tr>\n",
       "    <tr>\n",
       "      <th>2484</th>\n",
       "      <td>ham</td>\n",
       "      <td>Only if you promise your getting out as SOON as you can. And you'll text me in the morning to let me know you made it in ok.</td>\n",
       "      <td>only if you promise your getting out as soon as you can and youll text me in the morning to let me know you made it in ok</td>\n",
       "      <td>[only, if, you, promise, your, getting, out, as, soon, as, you, can, and, youll, text, me, in, the, morning, to, let, me, know, you, made, it, in, ok]</td>\n",
       "      <td>[promise, getting, soon, youll, text, morning, let, know, made]</td>\n",
       "    </tr>\n",
       "    <tr>\n",
       "      <th>812</th>\n",
       "      <td>spam</td>\n",
       "      <td>Congratulations ur awarded either å£500 of CD gift vouchers &amp; Free entry 2 our å£100 weekly draw txt MUSIC to 87066 TnCs www.Ldew.com1win150ppmx3age16</td>\n",
       "      <td>congratulations ur awarded either å£ of cd gift vouchers  free entry  our å£ weekly draw txt music to  tncs</td>\n",
       "      <td>[congratulations, ur, awarded, either, å£, of, cd, gift, vouchers, free, entry, our, å£, weekly, draw, txt, music, to, tncs]</td>\n",
       "      <td>[congratulation, ur, awarded, either, å£, cd, gift, voucher, free, entry, å£, weekly, draw, txt, music, tncs]</td>\n",
       "    </tr>\n",
       "  </tbody>\n",
       "</table>\n",
       "</div>"
      ],
      "text/plain": [
       "     target  \\\n",
       "3245    ham   \n",
       "944     ham   \n",
       "1044   spam   \n",
       "2484    ham   \n",
       "812    spam   \n",
       "\n",
       "                                                                                                                                                                                                                               text  \\\n",
       "3245                                                                        Funny fact Nobody teaches volcanoes 2 erupt, tsunamis 2 arise, hurricanes 2 sway aroundn no 1 teaches hw 2 choose a wife Natural disasters just happens   \n",
       "944   I sent my scores to sophas and i had to do secondary application for a few schools. I think if you are thinking of applying, do a research on cost also. Contact joke ogunrinde, her school is one me the less expensive ones   \n",
       "1044                                                                                                                          We know someone who you know that fancies you. Call 09058097218 to find out who. POBox 6, LS15HB 150p   \n",
       "2484                                                                                                   Only if you promise your getting out as SOON as you can. And you'll text me in the morning to let me know you made it in ok.   \n",
       "812                                                                          Congratulations ur awarded either å£500 of CD gift vouchers & Free entry 2 our å£100 weekly draw txt MUSIC to 87066 TnCs www.Ldew.com1win150ppmx3age16   \n",
       "\n",
       "                                                                                                                                                                                                                     clean_text  \\\n",
       "3245                                                                           funny fact nobody teaches volcanoes  erupt tsunamis  arise hurricanes  sway aroundn no  teaches hw  choose a wife natural disasters just happens   \n",
       "944   i sent my scores to sophas and i had to do secondary application for a few schools i think if you are thinking of applying do a research on cost also contact joke ogunrinde her school is one me the less expensive ones   \n",
       "1044                                                                                                                                          we know someone who you know that fancies you call  to find out who pobox  lshb p   \n",
       "2484                                                                                                  only if you promise your getting out as soon as you can and youll text me in the morning to let me know you made it in ok   \n",
       "812                                                                                                                congratulations ur awarded either å£ of cd gift vouchers  free entry  our å£ weekly draw txt music to  tncs    \n",
       "\n",
       "                                                                                                                                                                                                                                                             tokenized_text  \\\n",
       "3245                                                                                                      [funny, fact, nobody, teaches, volcanoes, erupt, tsunamis, arise, hurricanes, sway, aroundn, no, teaches, hw, choose, a, wife, natural, disasters, just, happens]   \n",
       "944   [i, sent, my, scores, to, sophas, and, i, had, to, do, secondary, application, for, a, few, schools, i, think, if, you, are, thinking, of, applying, do, a, research, on, cost, also, contact, joke, ogunrinde, her, school, is, one, me, the, less, expensive, ones]   \n",
       "1044                                                                                                                                                                      [we, know, someone, who, you, know, that, fancies, you, call, to, find, out, who, pobox, lshb, p]   \n",
       "2484                                                                                                                 [only, if, you, promise, your, getting, out, as, soon, as, you, can, and, youll, text, me, in, the, morning, to, let, me, know, you, made, it, in, ok]   \n",
       "812                                                                                                                                            [congratulations, ur, awarded, either, å£, of, cd, gift, vouchers, free, entry, our, å£, weekly, draw, txt, music, to, tncs]   \n",
       "\n",
       "                                                                                                                                                              norm_text  \n",
       "3245                        [funny, fact, nobody, teach, volcano, erupt, tsunami, arise, hurricane, sway, aroundn, teach, hw, choose, wife, natural, disaster, happens]  \n",
       "944   [sent, score, sophas, secondary, application, school, think, thinking, applying, research, cost, also, contact, joke, ogunrinde, school, one, le, expensive, one]  \n",
       "1044                                                                                                           [know, someone, know, fancy, call, find, pobox, lshb, p]  \n",
       "2484                                                                                                    [promise, getting, soon, youll, text, morning, let, know, made]  \n",
       "812                                                       [congratulation, ur, awarded, either, å£, cd, gift, voucher, free, entry, å£, weekly, draw, txt, music, tncs]  "
      ]
     },
     "execution_count": 14,
     "metadata": {},
     "output_type": "execute_result"
    }
   ],
   "source": [
    "# Aplicar tareas de limpieza de texto que hagan falta:\n",
    "\n",
    "#Convertir el texto en minúsculas:\n",
    "data['clean_text']= data['text'].apply(lambda x: x.lower())\n",
    "data.sample(5)\n",
    "\n",
    "#Eliminar URLs:\n",
    "data['clean_text']= data['clean_text'].apply(lambda x:remove_urls(x))\n",
    "\n",
    "#Eliminar signos de puntuación:\n",
    "PUNCTUATION = \"\"\"!\"#$%&()*+,-./:;<=>?@[\\]^_`{|}~\"\"\"\n",
    "data['clean_text']= data['clean_text'].apply(lambda x:remove_punctuation(x, PUNCTUATION))\n",
    "\n",
    "#Eliminar números:\n",
    "data['clean_text']= data['clean_text'].apply(lambda x:remove_numbers(x))\n",
    "\n",
    "# Reemplazar cadenas de texto por equivales (como las contracciones):\n",
    "contraction_patterns = [ (r'won\\'t', 'will not'), (r'can\\'t', 'can not'), (r'i\\'m', 'i am'), (r'ain\\'t', 'is not'), (r'(\\w+)\\'ll', '\\g<1> will'), (r'(\\w+)n\\'t', '\\g<1> not'),\n",
    "                         (r'(\\w+)\\'ve', '\\g<1> have'), (r'(\\w+)\\'s', '\\g<1> is'), (r'(\\w+)\\'re', '\\g<1> are'), (r'(\\w+)\\'d', '\\g<1> would'), (r'&', 'and'), (r'dammit', 'damn it'), (r'dont', 'do not'), (r'wont', 'will not') ]\n",
    "\n",
    "patterns = [(re.compile(regex), repl) for (regex, repl) in contraction_patterns]\n",
    "data['clean_text']= data['clean_text'].apply(lambda x:replace_strings(x, patterns))\n",
    "\n",
    "# Tokenizar texto:\n",
    "wordnet_lemmatizer = WordNetLemmatizer() #defining the object for Lemmatization\n",
    "data['tokenized_text']= data['clean_text'].apply(lambda x: word_tokenize(x))\n",
    "\n",
    "#Eliminación de palabras vacias:\n",
    "STOPWORDS = nltk.corpus.stopwords.words('english')\n",
    "STOPWORDS = STOPWORDS + ['hi', 'ok', 'u', 'well', 'oh', 'ltgt']\n",
    "data['norm_text']= data['tokenized_text'].apply(lambda x: remove_stopwords(x, STOPWORDS))\n",
    "\n",
    "#Lematizar:\n",
    "wordnet_lemmatizer = WordNetLemmatizer() # #defining the object for Lemmatization\n",
    "data['norm_text']=data['norm_text'].apply(lambda x:lemmatizer_eng(x, wordnet_lemmatizer))\n",
    "\n",
    "# Observar el resultado:\n",
    "\n",
    "data.sample(5, random_state = 42)"
   ]
  },
  {
   "cell_type": "markdown",
   "id": "34c71fe9-c0a5-44fd-836f-8683a331c58e",
   "metadata": {},
   "source": [
    "#### Aplicación de LDA"
   ]
  },
  {
   "cell_type": "code",
   "execution_count": 15,
   "id": "1f9ae2ae-1162-4c5c-963a-40cde670b679",
   "metadata": {},
   "outputs": [
    {
     "data": {
      "text/plain": [
       "['go jurong point crazy available bugis n great world la e buffet cine got amore wat',\n",
       " 'lar joking wif oni',\n",
       " 'free entry wkly comp win fa cup final tkts st may text fa receive entry questionstd txt ratetcs apply over',\n",
       " 'dun say early hor c already say',\n",
       " 'nah think go usf life around though']"
      ]
     },
     "execution_count": 15,
     "metadata": {},
     "output_type": "execute_result"
    }
   ],
   "source": [
    "# Obtener cadenas transformadas del texto:\n",
    "transformed_sentences = [' '.join(w) for w in data['norm_text'].to_list()] # unir todos los tokens de un mensaje en un solo string\n",
    "\n",
    "transformed_sentences[:5]"
   ]
  },
  {
   "cell_type": "code",
   "execution_count": 16,
   "id": "29121024-5279-43d3-b28f-f32775a5d30f",
   "metadata": {},
   "outputs": [
    {
     "data": {
      "text/plain": [
       "[['point', 'crazy', 'bugis', 'world', 'la', 'cine'],\n",
       " ['joking', 'wif', 'oni'],\n",
       " ['entry',\n",
       "  'comp',\n",
       "  'win',\n",
       "  'tkts',\n",
       "  'st',\n",
       "  'entry',\n",
       "  'questionstd',\n",
       "  'txt',\n",
       "  'ratetcs',\n",
       "  'apply'],\n",
       " ['dun', 'hor', 'c'],\n",
       " ['life']]"
      ]
     },
     "execution_count": 16,
     "metadata": {},
     "output_type": "execute_result"
    }
   ],
   "source": [
    "# Seleccionar los tokens que son sustantivos\n",
    "from nltk import pos_tag\n",
    "\n",
    "def get_noun_and_collocation(sentence):\n",
    "    nouns_and_collocations = []\n",
    "    noun_tags = ['NN', 'NNS']\n",
    "    tokens_pos_tagged = pos_tag(word_tokenize(sentence))\n",
    "    for tpos in tokens_pos_tagged:\n",
    "        if '_' in tpos[0]:\n",
    "            nouns_and_collocations.append(tpos[0])\n",
    "        elif tpos[1] in noun_tags:\n",
    "            nouns_and_collocations.append(tpos[0])\n",
    "    return nouns_and_collocations\n",
    "            \n",
    "noun_stream = [get_noun_and_collocation(email) for email in transformed_sentences]\n",
    "\n",
    "noun_stream[:5]"
   ]
  },
  {
   "cell_type": "code",
   "execution_count": 17,
   "id": "0d8a1274-8174-42b5-a450-96517401eb17",
   "metadata": {},
   "outputs": [
    {
     "data": {
      "text/plain": [
       "[(0,\n",
       "  '0.047*\"time\" + 0.026*\"call\" + 0.021*\"tell\" + 0.019*\"da\" + 0.017*\"anything\" + 0.012*\"wat\" + 0.011*\"week\" + 0.011*\"point\" + 0.010*\"help\" + 0.010*\"show\"'),\n",
       " (1,\n",
       "  '0.053*\"call\" + 0.021*\"phone\" + 0.019*\"day\" + 0.019*\"min\" + 0.017*\"message\" + 0.017*\"im\" + 0.014*\"text\" + 0.012*\"sorry\" + 0.012*\"stop\" + 0.010*\"didnt\"'),\n",
       " (2,\n",
       "  '0.060*\"im\" + 0.026*\"day\" + 0.025*\"night\" + 0.019*\"work\" + 0.015*\"gon\" + 0.013*\"name\" + 0.012*\"tomorrow\" + 0.011*\"havent\" + 0.011*\"lor\" + 0.009*\"home\"'),\n",
       " (3,\n",
       "  '0.015*\"lor\" + 0.014*\"im\" + 0.012*\"day\" + 0.011*\"call\" + 0.011*\"think\" + 0.011*\"wife\" + 0.010*\"txt\" + 0.010*\"time\" + 0.009*\"eat\" + 0.008*\"talk\"'),\n",
       " (4,\n",
       "  '0.027*\"number\" + 0.021*\"ill\" + 0.018*\"face\" + 0.017*\"im\" + 0.017*\"something\" + 0.015*\"sorry\" + 0.014*\"meeting\" + 0.013*\"yup\" + 0.012*\"call\" + 0.012*\"please\"'),\n",
       " (5,\n",
       "  '0.020*\"today\" + 0.019*\"thanks\" + 0.018*\"k\" + 0.016*\"week\" + 0.013*\"pls\" + 0.013*\"call\" + 0.011*\"stuff\" + 0.009*\"service\" + 0.009*\"game\" + 0.008*\"weekend\"'),\n",
       " (6,\n",
       "  '0.025*\"home\" + 0.018*\"hey\" + 0.017*\"claim\" + 0.016*\"way\" + 0.013*\"cash\" + 0.012*\"contact\" + 0.012*\"babe\" + 0.012*\"text\" + 0.011*\"txt\" + 0.011*\"å£\"'),\n",
       " (7,\n",
       "  '0.040*\"thing\" + 0.025*\"r\" + 0.016*\"year\" + 0.014*\"guy\" + 0.014*\"thats\" + 0.011*\"school\" + 0.011*\"let\" + 0.011*\"day\" + 0.011*\"pick\" + 0.010*\"baby\"'),\n",
       " (8,\n",
       "  '0.018*\"call\" + 0.015*\"ppm\" + 0.012*\"cash\" + 0.012*\"box\" + 0.011*\"tc\" + 0.011*\"send\" + 0.010*\"holiday\" + 0.010*\"collection\" + 0.009*\"please\" + 0.009*\"night\"'),\n",
       " (9,\n",
       "  '0.018*\"get\" + 0.013*\"thats\" + 0.011*\"today\" + 0.011*\"care\" + 0.011*\"time\" + 0.010*\"hey\" + 0.010*\"fun\" + 0.010*\"haha\" + 0.009*\"yo\" + 0.009*\"hour\"')]"
      ]
     },
     "execution_count": 17,
     "metadata": {},
     "output_type": "execute_result"
    }
   ],
   "source": [
    "#!pip install gensim\n",
    "import gensim\n",
    "import gensim.corpora as corpora\n",
    "\n",
    "num_topics = 10\n",
    "dictionary = corpora.Dictionary(noun_stream)\n",
    "corpus = [dictionary.doc2bow(text) for text in noun_stream]\n",
    "ldamodel = gensim.models.ldamodel.LdaModel(corpus, \n",
    "                                               num_topics=num_topics, \n",
    "                                               random_state=1,\n",
    "                                               id2word = dictionary)\n",
    "\n",
    "ldamodel.print_topics(num_topics= num_topics, num_words=10)"
   ]
  },
  {
   "cell_type": "markdown",
   "id": "87e9f49d-6446-4604-94ef-b7c240ffb1e6",
   "metadata": {},
   "source": [
    "#### Visualización"
   ]
  },
  {
   "cell_type": "code",
   "execution_count": 18,
   "id": "7f72b910-e8aa-49c0-affb-87ab325e0e77",
   "metadata": {},
   "outputs": [
    {
     "data": {
      "text/html": [
       "\n",
       "<link rel=\"stylesheet\" type=\"text/css\" href=\"https://cdn.jsdelivr.net/gh/bmabey/pyLDAvis@3.4.0/pyLDAvis/js/ldavis.v1.0.0.css\">\n",
       "\n",
       "\n",
       "<div id=\"ldavis_el7161553999119368942594856\" style=\"background-color:white;\"></div>\n",
       "<script type=\"text/javascript\">\n",
       "\n",
       "var ldavis_el7161553999119368942594856_data = {\"mdsDat\": {\"x\": [0.021635849969291243, -0.12137759126536903, 0.14662186552087011, 0.05568466362065316, -0.10105004727585488, 0.02741356038115612, 0.0319362685532852, -0.007011337576641626, 0.09733065247367774, -0.1511838844010683], \"y\": [0.011098787517916231, 0.11778405826762225, 0.0950646341766188, -0.04757420445257194, -0.0402670635273815, 0.1397173392283075, -0.1391770292522499, -0.054909791940434924, -0.05404029019845226, -0.02769643981937433], \"topics\": [1, 2, 3, 4, 5, 6, 7, 8, 9, 10], \"cluster\": [1, 1, 1, 1, 1, 1, 1, 1, 1, 1], \"Freq\": [13.602396476512821, 11.176768547375012, 10.8571766657599, 10.187731995816476, 9.89472485577632, 9.460944040454212, 9.292503956786028, 9.248478514540036, 8.478756092423328, 7.800518854555868]}, \"tinfo\": {\"Term\": [\"im\", \"thing\", \"time\", \"call\", \"number\", \"night\", \"tell\", \"min\", \"face\", \"thats\", \"home\", \"anything\", \"thanks\", \"sorry\", \"r\", \"da\", \"work\", \"cash\", \"day\", \"k\", \"ill\", \"ppm\", \"something\", \"year\", \"\\u00e5\\u00a3\", \"message\", \"box\", \"hey\", \"gon\", \"babe\", \"mayb\", \"surprise\", \"gap\", \"user\", \"txts\", \"information\", \"contract\", \"izzit\", \"oops\", \"island\", \"awaiting\", \"colour\", \"camera\", \"bos\", \"yay\", \"miracle\", \"finger\", \"men\", \"december\", \"mobileupd\", \"frens\", \"bluetooth\", \"jst\", \"moby\", \"la\", \"want\", \"jesus\", \"eerie\", \"etc\", \"tat\", \"orange\", \"min\", \"station\", \"video\", \"delivery\", \"goin\", \"lunch\", \"message\", \"log\", \"phone\", \"mths\", \"call\", \"didnt\", \"wan\", \"sorry\", \"stop\", \"food\", \"age\", \"text\", \"day\", \"see\", \"ask\", \"tone\", \"reply\", \"im\", \"send\", \"today\", \"morning\", \"home\", \"p\", \"da\", \"tomorrow\", \"week\", \"meet\", \"truth\", \"neva\", \"btnationalrate\", \"brings\", \"inc\", \"kate\", \"training\", \"cm\", \"holder\", \"operator\", \"extra\", \"tick\", \"gym\", \"selection\", \"speak\", \"midnight\", \"ae\", \"qxj\", \"happen\", \"beer\", \"land\", \"student\", \"ampm\", \"mi\", \"tease\", \"login\", \"pilate\", \"hols\", \"comp\", \"alex\", \"huh\", \"entry\", \"die\", \"gift\", \"darlin\", \"house\", \"contact\", \"liao\", \"exam\", \"home\", \"hey\", \"pa\", \"\\u00e5\\u00a3\", \"movie\", \"cash\", \"way\", \"credit\", \"claim\", \"hr\", \"prize\", \"b\", \"babe\", \"someone\", \"cant\", \"dream\", \"txt\", \"love\", \"ya\", \"text\", \"service\", \"lol\", \"ask\", \"stop\", \"show\", \"call\", \"parent\", \"saturday\", \"hair\", \"tuesday\", \"fr\", \"honey\", \"find\", \"doc\", \"fyi\", \"sweet\", \"rcvd\", \"tyler\", \"marry\", \"sure\", \"father\", \"ad\", \"brain\", \"course\", \"luck\", \"pizza\", \"know\", \"hahahause\", \"internet\", \"iq\", \"logo\", \"joy\", \"dare\", \"sleep\", \"feb\", \"rd\", \"yar\", \"shes\", \"drop\", \"gon\", \"havent\", \"name\", \"night\", \"im\", \"th\", \"mean\", \"dad\", \"work\", \"bit\", \"day\", \"tomorrow\", \"yes\", \"story\", \"person\", \"everything\", \"youre\", \"hope\", \"lor\", \"place\", \"anything\", \"home\", \"babe\", \"today\", \"time\", \"morning\", \"love\", \"life\", \"get\", \"sex\", \"finish\", \"smth\", \"expires\", \"charity\", \"statement\", \"asap\", \"waste\", \"version\", \"gee\", \"thought\", \"bb\", \"run\", \"eatin\", \"buzz\", \"discus\", \"lt\", \"drivin\", \"point\", \"amt\", \"polys\", \"bin\", \"murder\", \"buying\", \"everybody\", \"celebration\", \"normptone\", \"wwq\", \"idea\", \"study\", \"sir\", \"lei\", \"tell\", \"sent\", \"tot\", \"come\", \"time\", \"water\", \"account\", \"code\", \"anything\", \"da\", \"help\", \"wat\", \"jus\", \"show\", \"id\", \"problem\", \"call\", \"mob\", \"week\", \"pls\", \"friend\", \"wif\", \"lor\", \"\\u00ec\", \"tomorrow\", \"co\", \"work\", \"txt\", \"ill\", \"mine\", \"cheer\", \"hiya\", \"member\", \"street\", \"activity\", \"bathe\", \"touch\", \"notice\", \"havnt\", \"travel\", \"earth\", \"shirt\", \"mm\", \"coz\", \"evng\", \"befor\", \"di\", \"saw\", \"slept\", \"ride\", \"nvm\", \"purchase\", \"thru\", \"cr\", \"ice\", \"messageits\", \"purity\", \"action\", \"imagine\", \"ni\", \"ntt\", \"fight\", \"kick\", \"stuff\", \"reference\", \"player\", \"thanks\", \"ltd\", \"order\", \"gb\", \"k\", \"friendship\", \"collect\", \"game\", \"ringtone\", \"today\", \"weekend\", \"pls\", \"week\", \"box\", \"po\", \"bus\", \"service\", \"c\", \"others\", \"til\", \"p\", \"customer\", \"wait\", \"call\", \"friend\", \"claim\", \"please\", \"reply\", \"msg\", \"nothing\", \"home\", \"gud\", \"txt\", \"tomorrow\", \"wife\", \"ha\", \"wasnt\", \"cool\", \"egg\", \"em\", \"dog\", \"xx\", \"sol\", \"skxh\", \"del\", \"toclaim\", \"stockport\", \"cost\\u00e5\\u00a3pm\", \"maxmins\", \"boytoy\", \"bring\", \"meh\", \"heard\", \"cell\", \"suck\", \"model\", \"door\", \"costa\", \"ate\", \"xy\", \"radio\", \"buck\", \"spree\", \"cancer\", \"fuck\", \"mrt\", \"summer\", \"auction\", \"think\", \"eat\", \"kiss\", \"reason\", \"class\", \"talk\", \"job\", \"lor\", \"luv\", \"txt\", \"town\", \"await\", \"im\", \"day\", \"meet\", \"place\", \"e\", \"time\", \"babe\", \"call\", \"hope\", \"god\", \"love\", \"tc\", \"pobox\", \"dun\", \"friend\", \"malaria\", \"energy\", \"wish\", \"semester\", \"frm\", \"bx\", \"insurance\", \"law\", \"ring\", \"bid\", \"convey\", \"cinema\", \"master\", \"goal\", \"drive\", \"access\", \"ex\", \"respond\", \"uncle\", \"airport\", \"rally\", \"reward\", \"facebook\", \"business\", \"germany\", \"shut\", \"bank\", \"pack\", \"pleasure\", \"rem\", \"school\", \"thing\", \"pas\", \"baby\", \"regard\", \"smile\", \"evening\", \"pain\", \"tomo\", \"guy\", \"congrats\", \"r\", \"let\", \"plan\", \"year\", \"pick\", \"minute\", \"thats\", \"mom\", \"people\", \"tonight\", \"need\", \"day\", \"money\", \"call\", \"hope\", \"c\", \"hour\", \"im\", \"online\", \"match\", \"none\", \"cancel\", \"share\", \"savamob\", \"rentl\", \"java\", \"dload\", \"videophones\", \"noline\", \"hate\", \"std\", \"photo\", \"oredi\", \"lem\", \"standard\", \"return\", \"freemsg\", \"cup\", \"dint\", \"identifier\", \"ip\", \"cover\", \"pie\", \"intro\", \"jess\", \"cream\", \"ringtones\", \"cuz\", \"link\", \"yo\", \"fun\", \"forget\", \"ho\", \"birthday\", \"haha\", \"worry\", \"get\", \"pmin\", \"rate\", \"play\", \"leh\", \"thats\", \"game\", \"care\", \"hour\", \"trip\", \"shit\", \"yeah\", \"hey\", \"today\", \"time\", \"dude\", \"detail\", \"r\", \"number\", \"friend\", \"text\", \"\\u00ec\", \"use\", \"msg\", \"work\", \"day\", \"lor\", \"okie\", \"kid\", \"camcorder\", \"face\", \"ge\", \"handset\", \"aha\", \"sight\", \"pin\", \"thnk\", \"battery\", \"report\", \"eye\", \"holla\", \"self\", \"nite\", \"skype\", \"support\", \"realy\", \"choice\", \"vote\", \"juicy\", \"si\", \"vomit\", \"campus\", \"bishan\", \"advance\", \"choose\", \"mother\", \"blackberry\", \"meeting\", \"yup\", \"lot\", \"thanx\", \"wot\", \"something\", \"number\", \"wil\", \"nope\", \"ill\", \"family\", \"voice\", \"sorry\", \"life\", \"please\", \"tonight\", \"im\", \"reply\", \"da\", \"call\", \"bit\", \"phone\", \"lor\", \"feel\", \"year\", \"co\", \"care\", \"text\", \"park\", \"flag\", \"poly\", \"england\", \"computer\", \"bill\", \"shd\", \"joking\", \"cute\", \"stock\", \"hmm\", \"south\", \"feeling\", \"season\", \"adult\", \"error\", \"mall\", \"noe\", \"eng\", \"wwx\", \"yer\", \"i\\u0089\\u00fb\\u00f7m\", \"wp\", \"sk\", \"cashbalance\", \"ibiza\", \"bud\", \"lab\", \"oni\", \"rush\", \"sign\", \"site\", \"ppm\", \"email\", \"nyt\", \"pay\", \"rent\", \"walk\", \"decision\", \"test\", \"collection\", \"wen\", \"chennai\", \"box\", \"landline\", \"try\", \"holiday\", \"tc\", \"sae\", \"po\", \"cash\", \"send\", \"mobile\", \"gud\", \"\\u00e5\\u00a3\", \"call\", \"please\", \"month\", \"night\", \"prize\", \"thats\", \"way\", \"claim\"], \"Freq\": [340.0, 119.0, 219.0, 424.0, 114.0, 110.0, 78.0, 83.0, 41.0, 88.0, 156.0, 81.0, 76.0, 91.0, 132.0, 103.0, 103.0, 74.0, 236.0, 77.0, 94.0, 39.0, 64.0, 73.0, 55.0, 89.0, 49.0, 106.0, 56.0, 79.0, 15.790630503959765, 13.596907315232693, 11.66939445391804, 10.612868579146744, 11.113915590132816, 14.612111163676246, 7.385563705317592, 7.043461978235114, 10.20488363521072, 6.631357589069523, 6.2024433278334135, 16.49036609653021, 33.30674125333397, 5.701386350126085, 5.551392776585859, 5.5212793249827135, 7.694938706483579, 9.525284008928375, 5.116870839302224, 11.95386142265851, 4.868516889692213, 4.808026865044762, 4.8058545184797845, 4.804548479326387, 9.093149300719999, 17.854993624159814, 4.4665689881554265, 4.466230119632719, 4.465207932700695, 4.368519175119982, 24.312843752232897, 65.61297040269355, 5.861490564377338, 23.168822024898653, 15.739382420598659, 10.548826415043623, 25.855905889179102, 59.14868575937754, 9.689427934639145, 70.55961522430569, 13.604690925864848, 179.80520093022895, 35.64934174282058, 31.06930003848919, 41.79198035776011, 40.25633346142844, 13.89393952879514, 15.166295948373579, 49.35314015018057, 66.56265063358649, 25.89052629213425, 23.81548522544928, 23.3008436066699, 32.34535929434869, 57.612649762248026, 24.522342638360474, 33.5425203900696, 22.15355120008826, 27.441033968527602, 18.72119738183795, 18.4945509511237, 17.610147163094247, 18.192218036528413, 16.897406992628856, 10.081776696551715, 9.606563002933086, 8.461820335617718, 8.0236739220148, 7.8834762942244625, 11.435712526901055, 7.652333520345881, 7.212121407462507, 6.36843754006829, 13.11437720135281, 6.033378889256418, 6.022295000760788, 8.357489746459713, 5.986087282259812, 18.279473171238095, 5.522161885058001, 5.2232074384793235, 5.223166491379726, 5.080557570788339, 4.851146040280706, 15.408807635307639, 5.762710043925544, 9.539686889564576, 4.410450751622092, 4.409216442251849, 6.0334057505537535, 4.041436800363859, 4.04018185365542, 8.819418235508392, 5.222560146728899, 13.303423081078021, 16.230940225242122, 8.022465163634704, 19.38334277131284, 10.875197180248996, 23.802159834324527, 34.47209870402239, 18.20709049191582, 9.889442600940491, 70.61371220740907, 51.43931626137903, 16.33935111098074, 30.381191255809792, 16.821519259994872, 36.77869796082377, 43.806881721129955, 13.13553473150282, 46.58004729926873, 22.09925840783309, 29.71809982132325, 28.543433013622614, 33.73285483643631, 24.03623573084142, 20.146886285683593, 16.35605883792338, 30.64803007323279, 28.742473916570983, 17.86660716934938, 32.3611885843848, 23.862504721518967, 17.65123852854263, 17.699189220054347, 20.13012876706784, 16.399065740418187, 17.00670235413253, 18.08309091896793, 9.071558387181407, 16.46745999882561, 6.6966097516668395, 6.696040155825341, 6.694336459660324, 8.643154853861734, 6.2548140336626465, 8.204687612115682, 5.869018178546838, 5.86848422222168, 5.811763931967289, 5.540323829226268, 5.438633469970648, 7.454457336990083, 7.384955188768486, 5.110991759221963, 15.604743136673248, 12.235437994046716, 6.231781359808279, 14.41842455751726, 4.3160055704031395, 3.9866792560874766, 3.9560696847013146, 3.9551048720804083, 9.039998959042803, 3.8770597408662413, 24.034111169672528, 3.666185177624676, 7.7909713780475105, 8.644036295471203, 24.463684442832058, 12.492841855129367, 39.74426454011934, 30.731445803644917, 35.68129858109709, 67.07260239272952, 163.93523785635426, 20.103748395390916, 15.56850920411475, 20.904780891798737, 52.76919673715894, 22.42372180411186, 70.14306891800908, 32.28751545494463, 16.54642443863536, 12.573752467099226, 20.800927341185293, 15.861370565435642, 21.028708399990432, 23.0368538604985, 29.455596940924377, 18.998988303698248, 20.46547548499877, 24.8948105806321, 19.078382963383806, 22.772609757958392, 24.113460007122793, 17.669187577438976, 17.235363019116086, 16.975884429046523, 16.6553311635298, 14.826459041616953, 16.586613695190422, 15.48895725857783, 13.506667618114564, 9.045993395622357, 20.942322397214443, 6.929588145934562, 6.830503642287151, 6.5118776992776235, 5.738457700499008, 7.63628834330162, 5.387821779460729, 8.497768925082696, 5.2889265814928645, 5.034846709063496, 4.970588180075458, 4.9698279714632685, 4.967967460912383, 27.02226186492906, 4.837987912055511, 4.618296580814636, 4.616434875906151, 4.264180600320319, 4.194766925342706, 4.193605711166427, 4.189200920338845, 5.742257549202358, 5.7422002200375735, 7.249466970066144, 6.864997884123216, 23.12031947395961, 14.347675716279698, 53.02393560607943, 11.399137639749915, 15.878668977204509, 16.692835082674662, 120.14398535900808, 9.084562188409697, 24.051916012986904, 17.183042438452762, 43.70784600261612, 50.004900572229126, 26.189073225968965, 30.829790287644602, 16.57388781496594, 25.37900496142328, 13.407957545574648, 21.477552257069696, 66.9556631503405, 11.620406717379954, 29.228727649419962, 23.12809951936386, 21.654938247772666, 11.053568183649435, 19.385596701804744, 13.050817153048566, 15.858415061029307, 14.693003912145043, 15.84870373938639, 15.099536963205471, 14.553167330018097, 16.79901055822584, 12.470805420063563, 12.029382178772225, 8.445988497248981, 8.377626388198824, 6.412660470667796, 6.0463668189203785, 6.045801315536644, 5.672914764340084, 5.235459326790418, 5.234181579144913, 5.2339321776525995, 4.863248479636988, 6.45853990519107, 10.476367206182688, 6.047370224924339, 4.421126044161967, 4.411295565340509, 6.0464816596075375, 4.408863610788714, 4.40886506079739, 4.401873988965751, 4.388110506610852, 4.387402902376845, 6.322295349960855, 5.674553854147709, 4.052398697852342, 4.052300967267564, 4.051117180184279, 4.049616131202631, 11.339057408158641, 6.738203078578078, 5.234384000356116, 5.23520470526687, 28.152273411383902, 7.669782032755401, 16.545443480986915, 48.31356988811697, 9.917233420560876, 15.179876350006559, 5.2342517595648435, 43.9320937512034, 10.37672028993738, 11.743017065283622, 22.172136028752664, 11.107456222354388, 50.015875433998616, 19.455197931735842, 32.177476616509836, 38.98765232574191, 19.182129977811858, 15.011117380223741, 12.723104609715982, 22.903770966548944, 17.966152701914385, 8.041412876438335, 9.561958674745965, 18.186562140751924, 16.128441865824335, 12.706149948266406, 32.01431468021732, 17.095727573655882, 17.23508964754002, 16.469997789551577, 16.340792736442786, 13.419684137755407, 12.08969209964147, 14.012125202673994, 12.264836907634464, 12.350356099345401, 12.128466491651151, 25.28750356090599, 14.705929512506486, 12.368819446645904, 16.07470934479219, 10.501519843374165, 10.155617265126386, 10.155019431822952, 9.711092156560525, 9.397670005878169, 8.952321906011477, 12.024521812350017, 8.637457302247272, 8.6374001808834, 8.637306457480543, 8.63724989069302, 13.01445723130076, 13.412706271061657, 7.179755589127408, 7.178826119167709, 7.081420329357729, 6.766848541905412, 6.4190653952606525, 8.57038406580587, 5.731720696334222, 4.900944807302265, 4.900284306871477, 4.900232731271088, 4.900386348919558, 4.553322765086678, 5.174095841878715, 11.991272741965894, 6.629220438708172, 9.396795993553297, 13.762643946819441, 25.535046478024764, 21.02910699342237, 16.854565697255126, 13.989060832527255, 17.12459113953273, 19.619746591428424, 17.620223786049678, 36.01523953334989, 11.912837899877502, 23.180157803591374, 12.817685778866016, 11.800815695832542, 34.5361134267437, 29.057817484277997, 16.8887276003085, 16.27047257742578, 14.453727044909552, 23.15053898998302, 17.0708382724004, 25.917852784791762, 15.730490460337757, 12.902033513979653, 15.226661175393394, 13.642496090119643, 12.840042969770137, 13.068050380444786, 13.466166321882099, 11.921699304250524, 10.4038304225239, 10.401542670674601, 13.463036162328367, 9.29642344116434, 8.870933734661499, 8.518571471318625, 8.077793590731444, 7.736653294912193, 7.345971188093589, 9.296285086647739, 6.564812327419997, 6.168703346393166, 6.169190310715374, 15.382367364409177, 8.384139359734167, 5.817647825118498, 5.816284433956881, 13.78660488983655, 4.676573307079601, 4.579053526880734, 5.700154881869623, 6.785843472339854, 4.252937768980333, 4.247671582104379, 4.235627385672061, 13.73191236895935, 3.8985364106260674, 5.036458461086915, 5.034906602749142, 26.736419875161275, 94.23889566248815, 8.484475253518955, 24.419620113811767, 8.038938304382414, 19.69877227201441, 12.648384069878242, 13.004797288102836, 8.84263424428569, 33.03849425204308, 15.051670655781969, 59.65629746203522, 26.34675254969868, 22.785400530652453, 36.74372625310854, 24.86697146804593, 20.569878454265695, 32.514557681139586, 11.97297000200456, 18.3630738018304, 16.97397266704994, 17.390221490190083, 25.269513389391854, 12.957887481135815, 19.955466744750705, 12.10054920739473, 11.602857507825245, 11.082778522301924, 11.740473407399975, 13.312841898542464, 16.890817811598684, 9.28811720662147, 8.50498433659292, 8.049428241077655, 7.6945084510589625, 6.948547813462451, 6.948533718286228, 6.9485152861327055, 6.948439389029969, 6.9484242096094215, 6.94556993642434, 6.913737065169864, 6.879923279533947, 9.254279025488245, 8.863340096876957, 6.134360017482481, 10.766782510699276, 9.42884453027249, 5.810569424151458, 5.810096693625838, 5.808720245455483, 5.590627752251443, 5.094737767852972, 5.030358592578291, 5.029952000956484, 5.029167008065317, 5.0286639186986015, 5.321901591200596, 4.672098245794837, 8.16745853615511, 20.69981366294374, 22.38425878167296, 8.340454055157021, 6.945782448312004, 19.551974071498535, 22.259794038649876, 11.305228000602504, 41.25241296844108, 15.62740970181552, 17.784251398913067, 16.763596919501914, 13.940018691255771, 29.228149911682415, 19.666791208519395, 24.900232557991114, 20.23093437316512, 14.695704458323732, 11.05038938298608, 17.521104217035568, 22.71570142932638, 25.542449987978287, 24.44833687131643, 9.955395859932473, 11.71649488393763, 17.057108363695924, 14.643743133301184, 13.011390533157815, 13.74849777372003, 11.148113408226195, 11.055551470216535, 11.754911828854558, 12.13513137594854, 12.122711357207756, 11.68989403367256, 18.14897115822364, 13.990228957028968, 15.52902579624687, 38.17694367469613, 8.369450042291698, 7.60191389293193, 7.601274250068119, 6.801675443031459, 6.481434043589228, 6.131152788688995, 5.901142284293265, 7.943966269125003, 12.042520909752195, 8.53620846560848, 4.947071962159813, 6.8334642520541475, 4.905182064120738, 10.609614536173606, 4.597238009961546, 4.2452575017968455, 4.175277988080336, 4.172330263274382, 12.704909612960916, 4.263281812674049, 5.265596216229498, 3.830201348618973, 3.79645683278269, 4.936431127883055, 3.577132141435416, 3.7226056656791675, 30.657001977923414, 27.250770034323484, 21.967978011221422, 15.270527576768956, 11.403517191802235, 35.92540477010625, 58.45310756238725, 10.728272014933019, 10.685198752745743, 43.81989985739686, 13.778032531240518, 7.561976222685432, 32.33624788953449, 25.70988180647239, 26.150429243632278, 15.761499944524425, 36.33394521392549, 19.920496611256215, 18.276913647069854, 26.650624993102277, 11.514300154995047, 15.817394890162044, 14.8089827567728, 10.446482246760755, 12.331723974705033, 11.920527546842122, 11.504689110938813, 11.469580818864536, 13.442492021600948, 10.364596853968733, 11.636169107477919, 10.707745697467548, 15.746734393216798, 12.32812476228957, 6.940047591402249, 6.832538886992297, 6.1876389236069365, 6.119445185140522, 10.635468748028188, 5.296241046467142, 10.597869370838344, 4.921533508887508, 4.921381703059623, 4.470029597763633, 4.4681992401460855, 7.655795609009673, 4.224019565992192, 4.224019565992192, 4.224019565992192, 3.618763100138731, 4.292483079875632, 4.277641773967473, 4.728547149462727, 4.880878810788234, 3.279206156281347, 3.2780909321421516, 3.2780399491607985, 3.277491939267061, 7.315349549392279, 5.11663326149448, 30.239501436494436, 14.45787547968038, 7.8259534811964615, 12.15447078359672, 7.888384999653799, 11.799374089848962, 5.682142434867457, 16.455449960122777, 20.01736154909514, 13.385047233140357, 6.965557371937593, 23.098163889780658, 13.957999007297953, 11.778491643585308, 20.390006447850702, 22.500074533713917, 12.598037353255942, 15.39521611033962, 24.044417168624065, 21.540259324584106, 15.752221350851215, 16.366641721823857, 16.974560047999717, 35.048977095846595, 18.34353220097038, 13.800418156502188, 17.182671206143766, 13.989054273015816, 14.469791322676457, 13.93490623160057, 12.011983638760297], \"Total\": [340.0, 119.0, 219.0, 424.0, 114.0, 110.0, 78.0, 83.0, 41.0, 88.0, 156.0, 81.0, 76.0, 91.0, 132.0, 103.0, 103.0, 74.0, 236.0, 77.0, 94.0, 39.0, 64.0, 73.0, 55.0, 89.0, 49.0, 106.0, 56.0, 79.0, 16.643710443956504, 14.44924424291531, 12.521686779572011, 11.46525501211993, 12.302068303862226, 16.196347721541493, 8.237887880019201, 7.895840566668598, 11.470909241571672, 7.484579494855962, 7.054727986713655, 18.802761193554158, 38.125619859866546, 6.553731093341404, 6.403857707420373, 6.373575731773972, 8.883213673008001, 11.012809789956878, 5.969173209167993, 13.9738044231956, 5.720934206486155, 5.660295875416267, 5.658297170247165, 5.657075818586676, 10.730714816770984, 21.229098657635934, 5.318856302869932, 5.318567200238583, 5.317606309649833, 5.221028887668905, 29.73760305430407, 83.95208868267977, 7.0367277612715124, 30.08265479198998, 20.493247703885952, 13.285580824404219, 35.58933242157173, 89.36673658059982, 12.440361716453298, 129.71913177905182, 18.823159049009185, 424.45001873117667, 61.75553197240141, 55.53016105351969, 91.04596941013422, 89.0601796161902, 20.794685892449387, 23.949615141748744, 138.42755484554044, 236.04701089135165, 54.600366603469986, 48.25798375532382, 54.16656813008961, 100.88634260348162, 340.84053998798396, 66.01879930247705, 165.6180713518565, 68.5287228683786, 156.05503225393082, 66.55757278892266, 103.1564384128612, 81.75690873880637, 133.53540533983355, 58.634429692319856, 10.92636073034475, 10.451263747877062, 9.306435227311509, 8.868243678852876, 8.72810800436458, 12.686771909852414, 8.49688519762444, 8.056788636919357, 7.213006468981355, 14.949667505436386, 6.8779140740019065, 6.868626199292286, 9.537974784498138, 6.872431706059447, 21.033601025477502, 6.366853013326336, 6.06774379578724, 6.067702995478246, 5.925375387749819, 5.695760134731072, 18.127371395667662, 6.826786710488079, 11.349555400295618, 5.254996064002065, 5.253807514738823, 7.205800652724881, 4.886033989261653, 4.884854312833003, 10.67948645997752, 6.381499037413352, 16.64378377264417, 20.598352753569863, 9.969764981391803, 25.41729165058943, 14.065934080217069, 36.423550654636806, 57.02699729582562, 27.158611855838053, 13.283036627216182, 156.05503225393082, 106.45804345412472, 25.059018315518944, 55.496699777532044, 26.413239939953193, 74.1099294940589, 93.82498194955656, 19.157584470233157, 104.2992825259646, 39.18162801625379, 61.09947634172154, 58.224751477009875, 79.83453419330755, 52.08524869411622, 41.15858637366881, 30.43331851863296, 98.12806690789255, 88.59078122503261, 36.14050882731191, 138.42755484554044, 73.93804116522412, 46.9113808032009, 48.25798375532382, 89.0601796161902, 55.495761862526976, 424.45001873117667, 18.930048137049525, 9.918338829614589, 18.161335098145997, 7.543247749706959, 7.542710144676232, 7.541098133537534, 9.79843263329525, 7.101942131523344, 9.374065578884496, 6.715691763232638, 6.71520794506382, 6.665329982458309, 6.386991164999329, 6.28536990908037, 8.618263846989175, 8.56673986849611, 5.957643207817534, 18.207320737956145, 14.541434768749722, 7.413398646980718, 17.235445408449305, 5.162648083503881, 4.837382349335168, 4.802725436404797, 4.80180688313217, 10.976364591020465, 4.764051015862795, 29.53657331061447, 4.533351503404229, 9.678774507101826, 10.900389777727325, 31.94533005822673, 15.98842160106886, 56.58574010670797, 43.6633646630522, 53.48499919484921, 110.61265017805609, 340.84053998798396, 29.652771899026373, 21.893437241559237, 31.800562879692507, 103.17948688705383, 36.65974696810226, 236.04701089135165, 81.75690873880637, 30.68296116711284, 19.98743308717014, 47.15346043788826, 31.18132189769772, 50.76190840562976, 69.4145560852496, 136.10143102819978, 54.62418367504261, 81.8462097975994, 156.05503225393082, 79.83453419330755, 165.6180713518565, 219.64915113205518, 68.5287228683786, 88.59078122503261, 80.44377468606514, 91.60904881335775, 15.675837182026417, 17.814753565853085, 16.793225844235128, 14.691906398556952, 9.895234028736509, 23.40504739830495, 7.7788990384357595, 7.679924297485328, 7.361198006278674, 6.58790440763445, 8.821540907188693, 6.237154131823639, 9.843536831893562, 6.138247947927674, 5.8841523657878625, 5.819852305093352, 5.819165706133256, 5.817407077892755, 31.679691991553668, 5.687281421491693, 5.467537441580226, 5.465790300295713, 5.11351004184951, 5.044174040336689, 5.0429692193548235, 5.039063094952435, 6.91470640733977, 6.9147504058811124, 8.739313978780187, 8.351652634587879, 29.9524021712104, 18.813634659522688, 78.25873919345761, 15.040780117153004, 21.78111269625983, 23.19202443852779, 219.64915113205518, 11.754259085207371, 37.09376914652855, 25.166683214981383, 81.8462097975994, 103.1564384128612, 49.14649147698749, 63.92031460151784, 28.22493991284186, 55.495761862526976, 23.169963823679755, 47.917169286375405, 424.45001873117667, 20.920807580478336, 133.53540533983355, 90.04078773037838, 89.64773461600582, 21.27853091650276, 136.10143102819978, 37.98368488224426, 81.75690873880637, 60.76317220583353, 103.17948688705383, 98.12806690789255, 94.65519310172799, 17.643492196735895, 13.315300354425172, 12.873950726749039, 9.290405632643077, 9.2220543371407, 7.257112026887068, 6.890774190764745, 6.890198864901481, 6.5174557692008515, 6.079782430183544, 6.078553602818876, 6.078366271475606, 5.7076028064054, 7.637190643156384, 12.425367333194728, 7.200044722404366, 5.265447663802261, 5.256246526183495, 7.205157868825274, 5.253816811294764, 5.25393690610591, 5.247352192883471, 5.23243899619257, 5.231786940731389, 7.6268824969777, 6.854116199602259, 4.896707235114246, 4.8966135013101555, 4.8954940661716035, 4.894070138436567, 13.953424193494286, 8.309962912989588, 6.3884783103058576, 6.39842858345457, 37.62220015967352, 9.618441086150382, 22.231302418726173, 76.44776817748698, 12.957464993058412, 21.31701666102842, 6.406615768464796, 77.93595775570465, 14.539244882971, 17.32304223794272, 45.29217168749646, 18.086458379890953, 165.6180713518565, 42.24431234191957, 90.04078773037838, 133.53540533983355, 49.419257905157124, 33.52297681385384, 25.49364212021785, 73.93804116522412, 51.4938857288527, 11.905265830306528, 17.21765612343853, 66.55757278892266, 60.08946692619534, 35.80151444938749, 424.45001873117667, 89.64773461600582, 104.2992825259646, 93.21813414883167, 100.88634260348162, 64.65486568760241, 37.821507718186034, 156.05503225393082, 49.40891586837253, 98.12806690789255, 81.75690873880637, 26.13840024035317, 15.556600643371235, 13.219594813404944, 17.261347961003267, 11.35221286233978, 11.00626219381036, 11.005749096376006, 10.561723455145968, 10.248204000675853, 9.802853876008239, 13.203203280865472, 9.487983271306534, 9.487927782557929, 9.487835509168338, 9.487778952676907, 14.297287031652495, 14.939767312891563, 8.030485644796507, 8.029544093215462, 7.93212718866017, 7.617514586196802, 7.270700951746747, 9.756221073314924, 6.602038165839904, 5.751498059918891, 5.750906317169159, 5.750855196416974, 5.751044917989603, 5.403867987480967, 6.154594997195157, 14.319209042969629, 7.9237547774682495, 11.655980524236229, 18.07978790295534, 36.38053317064278, 29.383719774764252, 25.5749056765182, 20.23407740964253, 32.28236777863839, 42.59559753045262, 36.47158817258514, 136.10143102819978, 19.729580697524995, 98.12806690789255, 25.29036302628596, 20.644518378211693, 340.84053998798396, 236.04701089135165, 58.634429692319856, 54.62418367504261, 41.9001561257281, 219.64915113205518, 79.83453419330755, 424.45001873117667, 69.4145560852496, 31.42687240166881, 88.59078122503261, 54.05744007485102, 32.87263530081057, 45.85909056555715, 89.64773461600582, 12.770204925027452, 11.25190924632641, 11.249829056309592, 14.619546572821314, 10.144682837027295, 9.719389813571661, 9.366640754461045, 8.926636040550976, 8.58473722763102, 8.194010327092276, 10.459006143690468, 7.412845306412026, 7.016758172226852, 7.0174963806878985, 17.52023927072101, 9.555046117779384, 6.665667956275156, 6.664407726454671, 16.005919790314742, 5.524790428988926, 5.427063976076691, 6.811466357119029, 8.11115573556614, 5.100943401408496, 5.096017048444571, 5.084862487616837, 16.530417195430346, 4.74655075318416, 6.192996163462846, 6.205853868343866, 33.22646850770642, 119.37562388461441, 10.494055696425171, 31.811717646847693, 10.014628878359, 26.18451045184935, 16.46677850681311, 17.570248821903764, 11.401750321367185, 56.36233728993679, 21.70765997018515, 132.9811316360767, 46.34051648274758, 38.906157673447375, 73.83738171343045, 54.00965726854545, 41.256510938360876, 88.17167005973124, 18.419569115334845, 49.60644693510984, 50.23681472062524, 63.91324600818061, 236.04701089135165, 50.44839312541234, 424.45001873117667, 69.4145560852496, 51.4938857288527, 51.120265530679774, 340.84053998798396, 14.161040198112428, 18.371110399291375, 10.136327003401567, 9.35333821142252, 8.89772051917953, 8.542660390749571, 7.7966742103907105, 7.796660054707016, 7.796641753075782, 7.796567714125737, 7.796552619563662, 7.793860530993411, 7.761913249782723, 7.728117235143503, 10.411059167316303, 10.026098034323692, 6.9824911468985915, 12.301134770464973, 10.799813082502194, 6.658747440928187, 6.658310682653369, 6.657048827411805, 6.5160691650736515, 5.942997569867906, 5.878512147642922, 5.8781289560231675, 5.877413106492636, 5.876912007844239, 6.231133712579718, 5.520348146713881, 9.679349117477212, 24.93488030334434, 30.089647832903804, 10.333513870816878, 8.423081379379052, 26.954738022601823, 34.842095830742906, 15.467016128361085, 91.60904881335775, 28.116627999566052, 35.03582459396365, 32.43653887228317, 25.404993172090727, 88.17167005973124, 45.29217168749646, 68.15970187761884, 51.120265530679774, 29.212838056992062, 18.75229555356604, 53.52440803962264, 106.45804345412472, 165.6180713518565, 219.64915113205518, 17.482431580230028, 28.945524091923563, 132.9811316360767, 114.80671587607803, 89.64773461600582, 138.42755484554044, 37.98368488224426, 36.271988986197414, 64.65486568760241, 103.17948688705383, 236.04701089135165, 136.10143102819978, 18.998754590671464, 14.84021891592732, 16.697747874956168, 41.81761531582521, 9.219143333265094, 8.451619242509786, 8.451015040023405, 7.6513437428106, 7.331259564301098, 6.98087241167186, 6.750931656252784, 9.116762229776555, 13.91331584236624, 9.914146003394585, 5.796863106340414, 8.018373336970575, 5.7981858513733275, 12.556606795722304, 5.446928157836703, 5.094972842259252, 5.02508683681557, 5.022348323831908, 15.374381751325426, 5.172822405311962, 6.429728381670838, 4.679865835393753, 4.646147927201157, 6.126315364111513, 4.466621849225741, 4.687214928014208, 42.27632324219885, 37.63738467688168, 33.10385883713427, 22.37692332484103, 16.30965988401479, 64.21864003044386, 114.80671587607803, 15.311873707347436, 16.001254741350184, 94.65519310172799, 22.065837598165846, 10.727755499752737, 91.04596941013422, 80.44377468606514, 93.21813414883167, 50.23681472062524, 340.84053998798396, 100.88634260348162, 103.1564384128612, 424.45001873117667, 36.65974696810226, 129.71913177905182, 136.10143102819978, 28.842635802135273, 73.83738171343045, 60.76317220583353, 68.15970187761884, 138.42755484554044, 14.285807629501116, 11.24978296395009, 12.630541810531, 11.672572509736137, 17.32502726688357, 13.633912466365013, 7.783314525183521, 7.6758547771683645, 7.030861732537892, 6.9626338422186755, 12.153414068081803, 6.139538451813821, 12.289560430255161, 5.76474683711389, 5.764597273587747, 5.313417237394134, 5.311739521820764, 9.15378315179832, 5.0872445835816285, 5.0872445835816285, 5.0872445835816285, 4.461967684430592, 5.304203215689803, 5.302008024173223, 5.927831981870035, 6.120783866139789, 4.1223547726241065, 4.121338034567461, 4.1212753744388495, 4.120728305519661, 9.232766515217513, 6.4544610951873365, 39.001554753450264, 18.576847300826387, 10.125891393954445, 16.372247146474276, 10.449049668022887, 16.596743892517708, 7.273535039814231, 24.512586512538405, 31.71844345709094, 21.95012001334127, 9.70157486164257, 49.419257905157124, 25.354879790879245, 20.431898051999227, 45.483889818109006, 54.05744007485102, 23.967792143743836, 33.52297681385384, 74.1099294940589, 66.01879930247705, 42.41391381870257, 49.40891586837253, 55.496699777532044, 424.45001873117667, 93.21813414883167, 44.30081384573981, 110.61265017805609, 61.09947634172154, 88.17167005973124, 93.82498194955656, 104.2992825259646], \"Category\": [\"Default\", \"Default\", \"Default\", \"Default\", \"Default\", \"Default\", \"Default\", \"Default\", \"Default\", \"Default\", \"Default\", \"Default\", \"Default\", \"Default\", \"Default\", \"Default\", \"Default\", \"Default\", \"Default\", \"Default\", \"Default\", \"Default\", \"Default\", \"Default\", \"Default\", \"Default\", \"Default\", \"Default\", \"Default\", \"Default\", \"Topic1\", \"Topic1\", \"Topic1\", \"Topic1\", \"Topic1\", \"Topic1\", \"Topic1\", \"Topic1\", \"Topic1\", \"Topic1\", \"Topic1\", \"Topic1\", \"Topic1\", \"Topic1\", \"Topic1\", \"Topic1\", \"Topic1\", \"Topic1\", \"Topic1\", \"Topic1\", \"Topic1\", \"Topic1\", \"Topic1\", \"Topic1\", \"Topic1\", \"Topic1\", \"Topic1\", \"Topic1\", \"Topic1\", \"Topic1\", \"Topic1\", \"Topic1\", \"Topic1\", \"Topic1\", \"Topic1\", \"Topic1\", \"Topic1\", \"Topic1\", \"Topic1\", \"Topic1\", \"Topic1\", \"Topic1\", \"Topic1\", \"Topic1\", \"Topic1\", \"Topic1\", \"Topic1\", \"Topic1\", \"Topic1\", \"Topic1\", \"Topic1\", \"Topic1\", \"Topic1\", \"Topic1\", \"Topic1\", \"Topic1\", \"Topic1\", \"Topic1\", \"Topic1\", \"Topic1\", \"Topic1\", \"Topic1\", \"Topic1\", \"Topic1\", \"Topic2\", \"Topic2\", \"Topic2\", \"Topic2\", \"Topic2\", \"Topic2\", \"Topic2\", \"Topic2\", \"Topic2\", \"Topic2\", \"Topic2\", \"Topic2\", \"Topic2\", \"Topic2\", \"Topic2\", \"Topic2\", \"Topic2\", \"Topic2\", \"Topic2\", \"Topic2\", \"Topic2\", \"Topic2\", \"Topic2\", \"Topic2\", \"Topic2\", \"Topic2\", \"Topic2\", \"Topic2\", \"Topic2\", \"Topic2\", \"Topic2\", \"Topic2\", \"Topic2\", \"Topic2\", \"Topic2\", \"Topic2\", \"Topic2\", \"Topic2\", \"Topic2\", \"Topic2\", \"Topic2\", \"Topic2\", \"Topic2\", \"Topic2\", \"Topic2\", \"Topic2\", \"Topic2\", \"Topic2\", \"Topic2\", \"Topic2\", \"Topic2\", \"Topic2\", \"Topic2\", \"Topic2\", \"Topic2\", \"Topic2\", \"Topic2\", \"Topic2\", \"Topic2\", \"Topic2\", \"Topic2\", \"Topic2\", \"Topic2\", \"Topic2\", \"Topic2\", \"Topic3\", \"Topic3\", \"Topic3\", \"Topic3\", \"Topic3\", \"Topic3\", \"Topic3\", \"Topic3\", \"Topic3\", \"Topic3\", \"Topic3\", \"Topic3\", \"Topic3\", \"Topic3\", \"Topic3\", \"Topic3\", \"Topic3\", \"Topic3\", \"Topic3\", \"Topic3\", \"Topic3\", \"Topic3\", \"Topic3\", \"Topic3\", \"Topic3\", \"Topic3\", \"Topic3\", \"Topic3\", \"Topic3\", \"Topic3\", \"Topic3\", \"Topic3\", \"Topic3\", \"Topic3\", \"Topic3\", \"Topic3\", \"Topic3\", \"Topic3\", \"Topic3\", \"Topic3\", \"Topic3\", \"Topic3\", \"Topic3\", \"Topic3\", \"Topic3\", \"Topic3\", \"Topic3\", \"Topic3\", \"Topic3\", \"Topic3\", \"Topic3\", \"Topic3\", \"Topic3\", \"Topic3\", \"Topic3\", \"Topic3\", \"Topic3\", \"Topic3\", \"Topic3\", \"Topic3\", \"Topic3\", \"Topic3\", \"Topic4\", \"Topic4\", \"Topic4\", \"Topic4\", \"Topic4\", \"Topic4\", \"Topic4\", \"Topic4\", \"Topic4\", \"Topic4\", \"Topic4\", \"Topic4\", \"Topic4\", \"Topic4\", \"Topic4\", \"Topic4\", \"Topic4\", \"Topic4\", \"Topic4\", \"Topic4\", \"Topic4\", \"Topic4\", \"Topic4\", \"Topic4\", \"Topic4\", \"Topic4\", \"Topic4\", \"Topic4\", \"Topic4\", \"Topic4\", \"Topic4\", \"Topic4\", \"Topic4\", \"Topic4\", \"Topic4\", \"Topic4\", \"Topic4\", \"Topic4\", \"Topic4\", \"Topic4\", \"Topic4\", \"Topic4\", \"Topic4\", \"Topic4\", \"Topic4\", \"Topic4\", \"Topic4\", \"Topic4\", \"Topic4\", \"Topic4\", \"Topic4\", \"Topic4\", \"Topic4\", \"Topic4\", \"Topic4\", \"Topic4\", \"Topic4\", \"Topic4\", \"Topic4\", \"Topic4\", \"Topic4\", \"Topic5\", \"Topic5\", \"Topic5\", \"Topic5\", \"Topic5\", \"Topic5\", \"Topic5\", \"Topic5\", \"Topic5\", \"Topic5\", \"Topic5\", \"Topic5\", \"Topic5\", \"Topic5\", \"Topic5\", \"Topic5\", \"Topic5\", \"Topic5\", \"Topic5\", \"Topic5\", \"Topic5\", \"Topic5\", \"Topic5\", \"Topic5\", \"Topic5\", \"Topic5\", \"Topic5\", \"Topic5\", \"Topic5\", \"Topic5\", \"Topic5\", \"Topic5\", \"Topic5\", \"Topic5\", \"Topic5\", \"Topic5\", \"Topic5\", \"Topic5\", \"Topic5\", \"Topic5\", \"Topic5\", \"Topic5\", \"Topic5\", \"Topic5\", \"Topic5\", \"Topic5\", \"Topic5\", \"Topic5\", \"Topic5\", \"Topic5\", \"Topic5\", \"Topic5\", \"Topic5\", \"Topic5\", \"Topic5\", \"Topic5\", \"Topic5\", \"Topic5\", \"Topic5\", \"Topic5\", \"Topic5\", \"Topic5\", \"Topic5\", \"Topic5\", \"Topic5\", \"Topic5\", \"Topic5\", \"Topic5\", \"Topic5\", \"Topic5\", \"Topic5\", \"Topic6\", \"Topic6\", \"Topic6\", \"Topic6\", \"Topic6\", \"Topic6\", \"Topic6\", \"Topic6\", \"Topic6\", \"Topic6\", \"Topic6\", \"Topic6\", \"Topic6\", \"Topic6\", \"Topic6\", \"Topic6\", \"Topic6\", \"Topic6\", \"Topic6\", \"Topic6\", \"Topic6\", \"Topic6\", \"Topic6\", \"Topic6\", \"Topic6\", \"Topic6\", \"Topic6\", \"Topic6\", \"Topic6\", \"Topic6\", \"Topic6\", \"Topic6\", \"Topic6\", \"Topic6\", \"Topic6\", \"Topic6\", \"Topic6\", \"Topic6\", \"Topic6\", \"Topic6\", \"Topic6\", \"Topic6\", \"Topic6\", \"Topic6\", \"Topic6\", \"Topic6\", \"Topic6\", \"Topic6\", \"Topic6\", \"Topic6\", \"Topic6\", \"Topic6\", \"Topic6\", \"Topic6\", \"Topic6\", \"Topic6\", \"Topic6\", \"Topic6\", \"Topic6\", \"Topic6\", \"Topic6\", \"Topic7\", \"Topic7\", \"Topic7\", \"Topic7\", \"Topic7\", \"Topic7\", \"Topic7\", \"Topic7\", \"Topic7\", \"Topic7\", \"Topic7\", \"Topic7\", \"Topic7\", \"Topic7\", \"Topic7\", \"Topic7\", \"Topic7\", \"Topic7\", \"Topic7\", \"Topic7\", \"Topic7\", \"Topic7\", \"Topic7\", \"Topic7\", \"Topic7\", \"Topic7\", \"Topic7\", \"Topic7\", \"Topic7\", \"Topic7\", \"Topic7\", \"Topic7\", \"Topic7\", \"Topic7\", \"Topic7\", \"Topic7\", \"Topic7\", \"Topic7\", \"Topic7\", \"Topic7\", \"Topic7\", \"Topic7\", \"Topic7\", \"Topic7\", \"Topic7\", \"Topic7\", \"Topic7\", \"Topic7\", \"Topic7\", \"Topic7\", \"Topic7\", \"Topic7\", \"Topic7\", \"Topic7\", \"Topic7\", \"Topic7\", \"Topic7\", \"Topic7\", \"Topic7\", \"Topic8\", \"Topic8\", \"Topic8\", \"Topic8\", \"Topic8\", \"Topic8\", \"Topic8\", \"Topic8\", \"Topic8\", \"Topic8\", \"Topic8\", \"Topic8\", \"Topic8\", \"Topic8\", \"Topic8\", \"Topic8\", \"Topic8\", \"Topic8\", \"Topic8\", \"Topic8\", \"Topic8\", \"Topic8\", \"Topic8\", \"Topic8\", \"Topic8\", \"Topic8\", \"Topic8\", \"Topic8\", \"Topic8\", \"Topic8\", \"Topic8\", \"Topic8\", \"Topic8\", \"Topic8\", \"Topic8\", \"Topic8\", \"Topic8\", \"Topic8\", \"Topic8\", \"Topic8\", \"Topic8\", \"Topic8\", \"Topic8\", \"Topic8\", \"Topic8\", \"Topic8\", \"Topic8\", \"Topic8\", \"Topic8\", \"Topic8\", \"Topic8\", \"Topic8\", \"Topic8\", \"Topic8\", \"Topic8\", \"Topic8\", \"Topic8\", \"Topic8\", \"Topic8\", \"Topic8\", \"Topic8\", \"Topic8\", \"Topic8\", \"Topic8\", \"Topic8\", \"Topic9\", \"Topic9\", \"Topic9\", \"Topic9\", \"Topic9\", \"Topic9\", \"Topic9\", \"Topic9\", \"Topic9\", \"Topic9\", \"Topic9\", \"Topic9\", \"Topic9\", \"Topic9\", \"Topic9\", \"Topic9\", \"Topic9\", \"Topic9\", \"Topic9\", \"Topic9\", \"Topic9\", \"Topic9\", \"Topic9\", \"Topic9\", \"Topic9\", \"Topic9\", \"Topic9\", \"Topic9\", \"Topic9\", \"Topic9\", \"Topic9\", \"Topic9\", \"Topic9\", \"Topic9\", \"Topic9\", \"Topic9\", \"Topic9\", \"Topic9\", \"Topic9\", \"Topic9\", \"Topic9\", \"Topic9\", \"Topic9\", \"Topic9\", \"Topic9\", \"Topic9\", \"Topic9\", \"Topic9\", \"Topic9\", \"Topic9\", \"Topic9\", \"Topic9\", \"Topic9\", \"Topic9\", \"Topic9\", \"Topic9\", \"Topic9\", \"Topic9\", \"Topic10\", \"Topic10\", \"Topic10\", \"Topic10\", \"Topic10\", \"Topic10\", \"Topic10\", \"Topic10\", \"Topic10\", \"Topic10\", \"Topic10\", \"Topic10\", \"Topic10\", \"Topic10\", \"Topic10\", \"Topic10\", \"Topic10\", \"Topic10\", \"Topic10\", \"Topic10\", \"Topic10\", \"Topic10\", \"Topic10\", \"Topic10\", \"Topic10\", \"Topic10\", \"Topic10\", \"Topic10\", \"Topic10\", \"Topic10\", \"Topic10\", \"Topic10\", \"Topic10\", \"Topic10\", \"Topic10\", \"Topic10\", \"Topic10\", \"Topic10\", \"Topic10\", \"Topic10\", \"Topic10\", \"Topic10\", \"Topic10\", \"Topic10\", \"Topic10\", \"Topic10\", \"Topic10\", \"Topic10\", \"Topic10\", \"Topic10\", \"Topic10\", \"Topic10\", \"Topic10\", \"Topic10\", \"Topic10\", \"Topic10\", \"Topic10\", \"Topic10\", \"Topic10\", \"Topic10\", \"Topic10\", \"Topic10\", \"Topic10\"], \"logprob\": [30.0, 29.0, 28.0, 27.0, 26.0, 25.0, 24.0, 23.0, 22.0, 21.0, 20.0, 19.0, 18.0, 17.0, 16.0, 15.0, 14.0, 13.0, 12.0, 11.0, 10.0, 9.0, 8.0, 7.0, 6.0, 5.0, 4.0, 3.0, 2.0, 1.0, -5.3793, -5.5289, -5.6818, -5.7767, -5.7305, -5.4569, -6.1392, -6.1866, -5.8159, -6.2469, -6.3138, -5.3359, -4.633, -6.398, -6.4247, -6.4301, -6.0982, -5.8848, -6.5062, -5.6577, -6.5559, -6.5684, -6.5689, -6.5692, -5.9312, -5.2564, -6.6421, -6.6422, -6.6424, -6.6643, -4.9477, -3.9549, -6.3703, -4.9959, -5.3826, -5.7827, -4.8862, -4.0587, -5.8677, -3.8823, -5.5283, -2.9468, -4.565, -4.7025, -4.406, -4.4435, -5.5073, -5.4196, -4.2397, -3.9406, -4.8848, -4.9684, -4.9902, -4.6623, -4.085, -4.9391, -4.6259, -5.0407, -4.8267, -5.2091, -5.2212, -5.2702, -5.2377, -5.3116, -5.6316, -5.6799, -5.8067, -5.8599, -5.8775, -5.5056, -5.9073, -5.9666, -6.091, -5.3686, -6.145, -6.1468, -5.8192, -6.1529, -5.0365, -6.2335, -6.2892, -6.2892, -6.3169, -6.3631, -5.2074, -6.1909, -5.6869, -6.4583, -6.4586, -6.145, -6.5457, -6.546, -5.7654, -6.2893, -5.3543, -5.1554, -5.8601, -4.9779, -5.5558, -4.7725, -4.4022, -5.0405, -5.6508, -3.6851, -4.0019, -5.1487, -4.5285, -5.1197, -4.3374, -4.1625, -5.367, -4.1011, -4.8468, -4.5506, -4.5909, -4.4238, -4.7628, -4.9393, -5.1477, -4.5197, -4.5839, -5.0594, -4.4654, -4.77, -5.0715, -5.0688, -4.9401, -5.1451, -5.1087, -5.0183, -5.7082, -5.1119, -6.0117, -6.0118, -6.012, -5.7565, -6.08, -5.8086, -6.1436, -6.1437, -6.1534, -6.2012, -6.2198, -5.9045, -5.9139, -6.2819, -5.1657, -5.409, -6.0836, -5.2448, -6.451, -6.5303, -6.5381, -6.5383, -5.7116, -6.5582, -4.7338, -6.6142, -5.8603, -5.7564, -4.7161, -5.3881, -4.2308, -4.488, -4.3387, -3.7075, -2.8138, -4.9124, -5.1681, -4.8733, -3.9474, -4.8032, -3.6628, -4.4386, -5.1071, -5.3817, -4.8783, -5.1494, -4.8674, -4.7762, -4.5304, -4.9689, -4.8946, -4.6986, -4.9647, -4.7877, -4.7305, -5.0415, -5.0663, -5.0815, -5.1006, -5.1532, -5.0411, -5.1095, -5.2465, -5.6473, -4.8079, -5.9139, -5.9283, -5.976, -6.1025, -5.8167, -6.1655, -5.7099, -6.184, -6.2333, -6.2461, -6.2463, -6.2466, -4.553, -6.2732, -6.3196, -6.32, -6.3994, -6.4158, -6.4161, -6.4172, -6.1018, -6.1018, -5.8687, -5.9232, -4.7089, -5.1861, -3.8789, -5.4161, -5.0847, -5.0347, -3.061, -5.6431, -4.6694, -5.0057, -4.0721, -3.9375, -4.5843, -4.4212, -5.0418, -4.6157, -5.2538, -4.7827, -3.6456, -5.3969, -4.4745, -4.7086, -4.7744, -5.4469, -4.8851, -5.2808, -5.086, -5.1623, -5.0866, -5.135, -5.1719, -4.9992, -5.2971, -5.3331, -5.6868, -5.6949, -5.9622, -6.021, -6.0211, -6.0848, -6.165, -6.1653, -6.1653, -6.2388, -5.9551, -5.4714, -6.0209, -6.3341, -6.3363, -6.021, -6.3369, -6.3369, -6.3384, -6.3416, -6.3417, -5.9764, -6.0845, -6.4212, -6.4212, -6.4215, -6.4219, -5.3922, -5.9127, -6.1652, -6.1651, -4.4828, -5.7832, -5.0144, -3.9428, -5.5262, -5.1005, -6.1653, -4.0378, -5.4809, -5.3572, -4.7216, -5.4129, -3.9081, -4.8524, -4.3492, -4.1572, -4.8665, -5.1117, -5.2771, -4.6892, -4.932, -5.7359, -5.5627, -4.9198, -5.0399, -5.2784, -4.3543, -4.9816, -4.9735, -5.0189, -5.0268, -5.2238, -5.3281, -5.1806, -5.3137, -5.3068, -5.3249, -4.5453, -5.0874, -5.2605, -4.9984, -5.4241, -5.4576, -5.4577, -5.5024, -5.5352, -5.5837, -5.2887, -5.6195, -5.6195, -5.6196, -5.6196, -5.2096, -5.1794, -5.8044, -5.8045, -5.8182, -5.8636, -5.9164, -5.6273, -6.0296, -6.1862, -6.1864, -6.1864, -6.1863, -6.2598, -6.132, -5.2915, -5.8842, -5.5353, -5.1537, -4.5356, -4.7297, -4.951, -5.1374, -4.9351, -4.7991, -4.9066, -4.1917, -5.298, -4.6324, -5.2248, -5.3075, -4.2336, -4.4064, -4.949, -4.9863, -5.1047, -4.6336, -4.9383, -4.5207, -5.02, -5.2183, -5.0526, -5.1625, -5.2231, -5.2055, -5.1755, -5.2793, -5.4155, -5.4157, -5.1577, -5.5281, -5.5749, -5.6154, -5.6686, -5.7117, -5.7635, -5.5281, -5.876, -5.9382, -5.9381, -5.0245, -5.6313, -5.9968, -5.997, -5.134, -6.2151, -6.2362, -6.0172, -5.8428, -6.3101, -6.3113, -6.3142, -5.138, -6.3971, -6.141, -6.1413, -4.4717, -3.2119, -5.6194, -4.5623, -5.6734, -4.7771, -5.2202, -5.1924, -5.5781, -4.26, -5.0462, -3.6691, -4.4863, -4.6316, -4.1537, -4.5441, -4.7339, -4.276, -5.275, -4.8473, -4.926, -4.9018, -4.5281, -5.196, -4.7642, -5.2644, -5.3064, -5.3523, -5.2946, -5.1642, -4.9262, -5.5242, -5.6123, -5.6673, -5.7124, -5.8144, -5.8144, -5.8144, -5.8144, -5.8144, -5.8148, -5.8194, -5.8243, -5.5278, -5.571, -5.939, -5.3765, -5.5092, -5.9933, -5.9933, -5.9936, -6.0318, -6.1247, -6.1374, -6.1375, -6.1377, -6.1378, -6.0811, -6.2113, -5.6528, -4.7228, -4.6446, -5.6318, -5.8148, -4.7799, -4.6502, -5.3277, -4.0332, -5.0039, -4.8746, -4.9337, -5.1182, -4.3778, -4.774, -4.5381, -4.7457, -5.0654, -5.3505, -4.8895, -4.6299, -4.5126, -4.5564, -5.4548, -5.2919, -4.9164, -5.0689, -5.1871, -5.132, -5.3417, -5.35, -5.2887, -5.2568, -5.2579, -5.2942, -4.7674, -5.0277, -4.9233, -4.0238, -5.5415, -5.6376, -5.6377, -5.7489, -5.7971, -5.8527, -5.8909, -5.5936, -5.1776, -5.5217, -6.0672, -5.7442, -6.0757, -5.3043, -6.1406, -6.2202, -6.2369, -6.2376, -5.1241, -6.216, -6.0048, -6.3231, -6.332, -6.0694, -6.3915, -6.3516, -4.2432, -4.361, -4.5765, -4.9401, -5.2321, -4.0846, -3.5978, -5.2932, -5.2972, -3.886, -5.043, -5.6429, -4.1899, -4.4192, -4.4022, -4.9085, -4.0733, -4.6743, -4.7604, -4.3832, -5.2225, -4.9049, -4.9708, -5.3198, -5.1539, -5.1878, -5.2233, -5.2263, -4.9842, -5.2443, -5.1285, -5.2117, -4.826, -5.0708, -5.6454, -5.661, -5.7601, -5.7712, -5.2185, -5.9157, -5.222, -5.989, -5.9891, -6.0853, -6.0857, -5.5472, -6.1419, -6.1419, -6.1419, -6.2965, -6.1258, -6.1293, -6.029, -5.9973, -6.3951, -6.3954, -6.3954, -6.3956, -5.5927, -5.9502, -4.1735, -4.9114, -5.5252, -5.085, -5.5173, -5.1146, -5.8453, -4.782, -4.5861, -4.9885, -5.6417, -4.4429, -4.9466, -5.1164, -4.5676, -4.4691, -5.0491, -4.8486, -4.4028, -4.5127, -4.8257, -4.7874, -4.751, -4.0259, -4.6734, -4.958, -4.7388, -4.9444, -4.9106, -4.9483, -5.0968], \"loglift\": [30.0, 29.0, 28.0, 27.0, 26.0, 25.0, 24.0, 23.0, 22.0, 21.0, 20.0, 19.0, 18.0, 17.0, 16.0, 15.0, 14.0, 13.0, 12.0, 11.0, 10.0, 9.0, 8.0, 7.0, 6.0, 5.0, 4.0, 3.0, 2.0, 1.0, 1.9423, 1.9341, 1.9244, 1.9177, 1.8934, 1.892, 1.8857, 1.8807, 1.878, 1.8739, 1.8662, 1.8637, 1.8598, 1.8556, 1.8521, 1.8514, 1.8513, 1.8498, 1.8409, 1.8388, 1.8336, 1.8317, 1.8316, 1.8316, 1.8293, 1.8218, 1.8203, 1.8203, 1.8202, 1.8167, 1.7935, 1.7485, 1.8122, 1.7338, 1.731, 1.7643, 1.6754, 1.5822, 1.745, 1.386, 1.6703, 1.136, 1.4455, 1.4142, 1.2163, 1.2009, 1.5917, 1.538, 0.9636, 0.729, 1.2488, 1.2887, 1.1513, 0.8574, 0.2173, 1.0046, 0.3981, 0.8657, 0.2568, 0.7265, 0.2762, 0.4596, 0.0016, 0.7508, 2.1109, 2.1071, 2.0962, 2.0913, 2.0896, 2.0875, 2.0866, 2.0806, 2.0668, 2.0604, 2.0603, 2.0598, 2.0592, 2.0533, 2.051, 2.049, 2.0415, 2.0415, 2.0375, 2.0308, 2.0288, 2.0219, 2.0176, 2.0161, 2.0161, 2.0138, 2.0016, 2.0015, 2.0, 1.9909, 1.9673, 1.953, 1.974, 1.9203, 1.9341, 1.7659, 1.688, 1.7914, 1.8963, 1.3983, 1.464, 1.7637, 1.5888, 1.7401, 1.4907, 1.4297, 1.814, 1.3852, 1.6187, 1.4706, 1.4784, 1.3298, 1.418, 1.477, 1.5704, 1.0276, 1.0657, 1.4869, 0.7379, 1.0604, 1.2139, 1.1883, 0.7042, 0.9723, -1.0259, 2.1746, 2.1311, 2.1224, 2.1013, 2.1013, 2.1012, 2.0949, 2.0933, 2.0871, 2.0856, 2.0856, 2.0833, 2.0781, 2.0756, 2.0753, 2.0719, 2.0671, 2.0661, 2.0477, 2.0467, 2.0419, 2.0412, 2.0269, 2.0264, 2.0264, 2.0263, 2.0143, 2.0142, 2.008, 2.0034, 1.9884, 1.9535, 1.9736, 1.8671, 1.8691, 1.8156, 1.7201, 1.4884, 1.8317, 1.8794, 1.8008, 1.5498, 1.7288, 1.0068, 1.2913, 1.6028, 1.7569, 1.4019, 1.5444, 1.3391, 1.1173, 0.6898, 1.1643, 0.8342, 0.3848, 0.7889, 0.2362, 0.0111, 0.8649, 0.5833, 0.6646, 0.5155, 2.2283, 2.2126, 2.2031, 2.1999, 2.1943, 2.1728, 2.1684, 2.1668, 2.1614, 2.1459, 2.1397, 2.1376, 2.137, 2.1351, 2.1281, 2.1262, 2.1262, 2.1261, 2.125, 2.1223, 2.1152, 2.1151, 2.1023, 2.0996, 2.0996, 2.0993, 2.0982, 2.0982, 2.0971, 2.088, 2.0251, 2.013, 1.8947, 2.0068, 1.9679, 1.9552, 1.6806, 2.0263, 1.8508, 1.9024, 1.6567, 1.5599, 1.6545, 1.5548, 1.7516, 1.5016, 1.737, 1.4815, 0.4372, 1.696, 0.7648, 0.9248, 0.8633, 1.629, 0.3351, 1.2157, 0.6439, 0.8644, 0.4106, 0.4124, 0.4116, 2.2641, 2.2476, 2.2453, 2.2179, 2.2171, 2.1895, 2.1824, 2.1824, 2.1744, 2.1637, 2.1636, 2.1636, 2.1531, 2.1455, 2.1426, 2.1387, 2.1384, 2.1379, 2.1378, 2.1378, 2.1378, 2.1375, 2.1372, 2.1372, 2.1256, 2.1243, 2.1239, 2.1239, 2.1238, 2.1238, 2.1057, 2.1035, 2.1139, 2.1125, 2.0232, 2.0868, 2.0178, 1.8543, 2.0458, 1.9736, 2.1111, 1.7399, 1.9759, 1.9244, 1.5989, 1.8256, 1.1158, 1.5378, 1.2842, 1.082, 1.3668, 1.5097, 1.6182, 1.1412, 1.2602, 1.9208, 1.725, 1.0158, 0.9979, 1.2773, -0.2714, 0.6561, 0.5129, 0.5798, 0.4928, 0.7408, 1.1726, -0.0971, 0.9198, 0.2406, 0.405, 2.3249, 2.3018, 2.2915, 2.2868, 2.2801, 2.2776, 2.2775, 2.274, 2.2714, 2.2672, 2.2645, 2.2641, 2.2641, 2.2641, 2.2641, 2.264, 2.2502, 2.246, 2.246, 2.2446, 2.2396, 2.2334, 2.2284, 2.2166, 2.198, 2.1979, 2.1979, 2.1979, 2.1867, 2.1845, 2.1806, 2.1796, 2.1425, 2.0852, 2.004, 2.0235, 1.941, 1.9889, 1.724, 1.5828, 1.6305, 1.0285, 1.8535, 0.915, 1.6784, 1.7987, 0.0686, 0.2633, 1.1133, 1.1469, 1.2937, 0.108, 0.8154, -0.4379, 0.8735, 1.4677, 0.597, 0.9811, 1.4179, 1.1026, 0.4623, 2.3072, 2.2976, 2.2976, 2.2936, 2.2886, 2.2846, 2.2811, 2.276, 2.2719, 2.2667, 2.2581, 2.2545, 2.2471, 2.2471, 2.2458, 2.2452, 2.2399, 2.2398, 2.2267, 2.2093, 2.2061, 2.1978, 2.1976, 2.1941, 2.1939, 2.1932, 2.1905, 2.1791, 2.1692, 2.1669, 2.1586, 2.1395, 2.1634, 2.1115, 2.1562, 2.0914, 2.1121, 2.0751, 2.1218, 1.8418, 2.0098, 1.5744, 1.8113, 1.8409, 1.6781, 1.6003, 1.68, 1.3784, 1.9452, 1.3822, 1.2909, 1.0743, 0.1415, 1.0167, -0.6813, 0.6291, 0.8858, 0.8472, -0.9924, 2.3189, 2.2967, 2.2933, 2.2856, 2.2805, 2.2761, 2.2655, 2.2655, 2.2655, 2.2655, 2.2655, 2.2655, 2.265, 2.2645, 2.2629, 2.2574, 2.2512, 2.2475, 2.245, 2.2445, 2.2444, 2.2444, 2.2275, 2.2267, 2.2249, 2.2249, 2.2248, 2.2248, 2.223, 2.2139, 2.2109, 2.1946, 2.0849, 2.1664, 2.1879, 2.0596, 1.9327, 2.0673, 1.5829, 1.7934, 1.7027, 1.7206, 1.7805, 1.2766, 1.5465, 1.3737, 1.4537, 1.6937, 1.8519, 1.264, 0.836, 0.5114, 0.1852, 1.8176, 1.4763, 0.3271, 0.3215, 0.4506, 0.0713, 1.1548, 1.1926, 0.6759, 0.2403, -0.5882, -0.074, 2.4218, 2.4086, 2.395, 2.3765, 2.3709, 2.3616, 2.3616, 2.3499, 2.3444, 2.3378, 2.3331, 2.3299, 2.3232, 2.318, 2.3091, 2.3077, 2.3004, 2.2991, 2.298, 2.2852, 2.2823, 2.2822, 2.2769, 2.2742, 2.2679, 2.2673, 2.2656, 2.2517, 2.2455, 2.2372, 2.1462, 2.1447, 2.0575, 2.0855, 2.1098, 1.8868, 1.7926, 2.1119, 2.0638, 1.6975, 1.9967, 2.1179, 1.4324, 1.3269, 1.1965, 1.3084, 0.2289, 0.8454, 0.737, -0.3004, 1.3095, 0.3633, 0.2494, 1.452, 0.6779, 0.8389, 0.6885, -0.023, 2.4901, 2.469, 2.469, 2.4647, 2.4555, 2.4503, 2.4363, 2.4346, 2.4232, 2.4219, 2.4176, 2.4032, 2.4029, 2.3928, 2.3928, 2.3781, 2.378, 2.3723, 2.365, 2.365, 2.365, 2.3415, 2.3393, 2.3363, 2.3249, 2.3246, 2.3222, 2.3221, 2.3221, 2.322, 2.3182, 2.3187, 2.2965, 2.3003, 2.2933, 2.2531, 2.2699, 2.2098, 2.3041, 2.1524, 2.0907, 2.0563, 2.2197, 1.7904, 1.9541, 2.0002, 1.7487, 1.6745, 1.9078, 1.7728, 1.4253, 1.431, 1.5605, 1.4461, 1.3664, 0.0569, 0.9253, 1.3847, 0.6888, 1.0768, 0.7438, 0.6439, 0.3896]}, \"token.table\": {\"Topic\": [7, 4, 5, 7, 8, 9, 10, 5, 5, 3, 10, 9, 2, 1, 3, 5, 7, 10, 9, 7, 2, 2, 4, 2, 3, 4, 6, 7, 9, 4, 1, 2, 3, 4, 8, 10, 6, 5, 6, 10, 6, 10, 1, 1, 2, 3, 4, 5, 6, 8, 9, 10, 2, 3, 4, 6, 8, 9, 10, 1, 6, 7, 8, 7, 8, 10, 5, 9, 4, 2, 5, 7, 4, 10, 4, 2, 3, 5, 8, 9, 9, 3, 7, 8, 9, 9, 1, 1, 1, 2, 5, 6, 10, 6, 10, 3, 6, 2, 2, 6, 10, 2, 5, 6, 8, 7, 4, 4, 7, 2, 3, 5, 6, 7, 8, 9, 10, 1, 2, 3, 4, 5, 6, 7, 8, 9, 10, 9, 1, 7, 8, 9, 9, 8, 6, 1, 2, 3, 6, 7, 9, 1, 2, 5, 6, 7, 8, 9, 10, 1, 2, 3, 5, 6, 7, 8, 10, 10, 4, 6, 4, 5, 3, 6, 10, 9, 9, 7, 1, 2, 4, 5, 6, 7, 8, 9, 10, 1, 3, 4, 6, 7, 10, 2, 1, 2, 3, 4, 5, 7, 8, 9, 2, 4, 5, 7, 8, 4, 5, 8, 6, 10, 1, 7, 1, 4, 5, 2, 8, 7, 10, 1, 7, 8, 1, 2, 4, 5, 6, 9, 10, 1, 7, 6, 6, 6, 3, 4, 6, 8, 5, 7, 1, 5, 8, 2, 3, 5, 6, 9, 8, 1, 2, 3, 4, 5, 7, 8, 10, 10, 8, 1, 3, 4, 5, 6, 9, 10, 1, 3, 6, 8, 3, 2, 5, 1, 2, 3, 4, 5, 6, 7, 8, 9, 10, 1, 3, 10, 6, 1, 7, 9, 1, 4, 8, 10, 5, 1, 2, 3, 5, 6, 7, 2, 8, 8, 4, 8, 3, 6, 6, 2, 3, 4, 6, 8, 1, 7, 10, 4, 3, 5, 3, 4, 5, 8, 9, 1, 2, 3, 4, 5, 6, 7, 8, 9, 10, 1, 2, 3, 4, 5, 6, 9, 10, 5, 2, 5, 6, 8, 4, 1, 6, 6, 1, 4, 6, 10, 7, 10, 10, 1, 2, 8, 10, 1, 3, 7, 10, 4, 2, 3, 6, 7, 8, 9, 5, 7, 2, 7, 4, 2, 1, 9, 3, 6, 9, 10, 5, 7, 2, 8, 9, 10, 3, 3, 1, 2, 5, 6, 7, 8, 9, 10, 1, 10, 5, 3, 1, 4, 10, 1, 2, 3, 7, 2, 8, 3, 6, 8, 1, 1, 2, 3, 4, 5, 6, 7, 8, 9, 5, 7, 8, 7, 3, 6, 10, 4, 8, 3, 1, 2, 5, 8, 1, 5, 9, 4, 7, 1, 2, 3, 4, 5, 6, 7, 8, 9, 10, 1, 2, 7, 1, 3, 5, 6, 10, 1, 7, 1, 2, 3, 4, 5, 6, 8, 2, 3, 5, 6, 7, 8, 10, 1, 2, 3, 4, 6, 7, 8, 9, 10, 2, 6, 1, 2, 3, 6, 7, 8, 9, 3, 1, 3, 9, 2, 8, 3, 4, 5, 9, 5, 6, 1, 2, 3, 4, 6, 7, 8, 9, 10, 1, 2, 3, 4, 5, 6, 7, 8, 9, 10, 5, 5, 10, 6, 8, 2, 2, 5, 6, 7, 10, 2, 9, 2, 1, 2, 3, 4, 5, 6, 7, 8, 9, 3, 1, 2, 3, 4, 6, 7, 8, 9, 10, 3, 4, 6, 7, 8, 1, 2, 3, 6, 8, 10, 2, 4, 5, 7, 9, 2, 3, 6, 10, 5, 4, 5, 9, 10, 4, 8, 1, 2, 3, 4, 5, 6, 7, 8, 9, 10, 1, 2, 3, 4, 5, 6, 7, 8, 9, 10, 5, 2, 1, 6, 7, 3, 8, 8, 3, 1, 1, 10, 8, 8, 1, 1, 2, 3, 6, 8, 9, 10, 3, 4, 1, 9, 1, 2, 3, 4, 8, 9, 10, 1, 3, 4, 5, 6, 8, 10, 2, 5, 9, 2, 6, 10, 3, 10, 1, 4, 10, 2, 7, 9, 1, 2, 3, 5, 6, 10, 7, 2, 3, 8, 9, 10, 2, 4, 10, 8, 1, 3, 6, 7, 10, 1, 2, 3, 4, 5, 1, 2, 3, 5, 7, 8, 9, 10, 7, 8, 1, 8, 2, 3, 1, 2, 3, 6, 8, 9, 1, 2, 3, 4, 5, 6, 7, 8, 9, 2, 4, 6, 8, 9, 1, 2, 3, 6, 7, 8, 9, 10, 4, 1, 5, 3, 5, 1, 2, 4, 6, 9, 1, 2, 6, 7, 10, 7, 10, 3, 7, 8, 6, 1, 1, 3, 5, 9, 1, 2, 4, 6, 7, 8, 9, 10, 3, 4, 5, 7, 8, 9, 6, 5, 1, 9, 1, 2, 4, 6, 7, 8, 9, 10, 5, 2, 2, 1, 2, 3, 4, 5, 6, 7, 8, 9, 5, 5, 6, 7, 10, 1, 5, 3, 4, 6, 7, 9, 1, 2, 4, 7, 10, 1, 6, 1, 6, 2, 6, 7, 10, 2, 4, 5, 6, 7, 8, 1, 2, 4, 5, 7, 8, 10, 1, 2, 3, 4, 7, 8, 9, 10, 9, 1, 2, 4, 6, 1, 6, 1, 2, 3, 4, 5, 6, 7, 8, 9, 1, 9, 4, 1, 3, 5, 7, 10, 2, 4, 5, 6, 7, 8, 9, 10, 2, 5, 7, 1, 2, 3, 4, 5, 6, 7, 9, 10, 9, 10, 8, 8, 7, 8, 9, 4, 1, 2, 3, 5, 6, 7, 8, 9, 5, 5, 1, 3, 4, 5, 7, 8, 9, 10, 5, 5, 10, 9, 10, 8, 1, 10, 2, 10, 1, 6, 8, 9, 3, 5, 9, 8, 5, 8, 1, 2, 3, 4, 5, 6, 7, 8, 10, 1, 2, 3, 4, 5, 7, 2, 4, 5, 7, 3, 10, 7, 10, 2, 6, 10, 1, 4, 5, 7, 8, 9, 10, 2, 3, 4, 5, 6, 7, 8, 9, 10, 1, 2, 3, 4, 5, 6, 7, 8, 9, 8, 1, 2, 3, 4, 7, 8, 8, 2, 9, 3, 1, 2, 3, 6, 7, 8, 9, 10, 1, 5, 7, 8, 5, 7, 8, 9, 2, 4, 5, 9, 1, 2, 4, 5, 6, 7, 8, 9, 10, 7, 1, 2, 3, 4, 5, 6, 7, 8, 1, 2, 6, 8, 1, 5, 6, 10, 4, 5, 6, 7, 8, 1, 4, 5, 8, 9, 10, 4, 1, 5, 6, 7, 10, 2, 3, 4, 5, 6, 7, 10, 3, 4, 5, 6, 7, 9, 5, 5, 2, 1, 3, 4, 5, 6, 7, 8, 9, 10, 6, 7, 1, 2, 5, 6, 8, 10, 3, 3, 7, 9, 1, 6, 8, 9, 5, 7, 6, 7, 7, 6, 10, 8, 1, 2, 3, 4, 5, 6, 7, 8, 9, 10, 9, 7, 5, 8, 7, 5, 7, 1, 5, 7, 10, 8, 1, 4, 10, 5, 6, 10, 3, 8, 5, 6, 7, 9, 10, 1, 3, 5, 6, 7, 9, 2, 9, 7, 1, 2, 3, 5, 6, 8, 9, 10, 1, 2, 4, 10, 1, 2, 3, 4, 5, 6, 7, 8, 10, 4, 8, 10, 2, 3, 7, 5, 3, 6, 8, 1, 2, 3, 4, 5, 7, 8, 9, 7, 1, 2, 9, 9, 6, 10, 3, 4, 7, 10, 8, 10, 10, 6, 9, 2, 3, 8, 9, 5, 3, 7, 8, 9, 4, 6, 6, 1, 2, 4, 5, 6, 7, 8, 9, 10, 1, 4, 5, 6, 7, 8, 9, 10, 1, 3, 4, 5, 7, 8, 9, 10, 10, 2, 5, 9, 6, 8, 4, 5, 8, 1, 8, 10, 6, 1, 2, 3, 4, 5, 6, 8, 9, 10, 1, 3, 5, 9, 5, 2, 4, 2, 4, 5, 6, 8, 9, 10, 6, 4, 6, 8, 9, 3, 1, 3, 2, 3, 5, 6, 8, 9, 1, 2, 4, 5, 6, 8, 9, 10, 2, 3, 4, 6, 7, 9, 10, 4, 5, 6, 7, 10, 1, 2, 3, 4, 5, 6, 7, 8, 9, 10, 1, 3, 7, 2, 3, 4, 5, 7, 9, 10, 1, 2, 3, 7, 8, 9, 10, 1, 2, 6, 7, 8, 9, 10, 1, 2, 3, 4, 5, 6, 7, 8, 9, 1, 2, 5, 6, 7, 8, 9, 9, 4, 5, 2, 1, 5, 10, 1, 2, 3, 4, 5, 6, 7, 8, 9, 10, 6, 1, 2, 3, 4, 5, 6, 7, 8, 9, 10, 7, 9, 1, 3, 4, 5, 7, 1, 2, 4, 5, 6, 10, 2, 3, 4, 5, 7, 8, 9, 10, 4, 8, 5, 2, 3, 6, 7, 10, 2, 5, 3, 6, 8, 2, 1, 2, 5, 7, 10, 3, 1, 2, 3, 4, 5, 6, 7, 8, 9, 10, 1, 3, 1, 7, 3, 4, 6, 7, 8, 9, 10, 1, 4, 1, 9, 8, 2, 9, 9, 9, 1, 2, 3, 4, 5, 6, 7, 8, 10, 5, 10, 1, 3, 6, 8, 9, 10, 1, 6, 6, 4, 1, 2, 4, 5, 6, 7, 8, 9, 10, 1, 4, 1, 2, 4, 5, 6, 7, 8, 9, 10, 1, 2, 4, 5, 6, 7, 8, 9, 10, 1, 2, 4, 5, 8, 1, 2, 10, 1, 4, 9, 10, 6, 3, 9, 7, 1, 3, 4, 5, 6, 7, 8, 9, 1, 2, 8, 9, 5, 9, 10, 4, 10, 6, 6, 2, 3, 4, 6, 9, 3, 6, 1, 1, 2, 5, 7, 8, 9, 1, 2, 3, 4, 5, 7, 8, 9, 10, 3, 4, 6, 7, 8, 9, 10, 1, 3, 8, 10, 1, 3, 6, 7, 8, 10, 1, 2, 6, 9, 10, 2, 4, 7, 8, 10, 1, 4, 5, 7, 8], \"Freq\": [0.837253939058875, 0.6470089330958717, 0.05391741109132264, 0.08087611663698396, 0.05391741109132264, 0.05391741109132264, 0.08087611663698396, 0.8170778977428316, 0.826775165902144, 0.8171136403642018, 0.8673632801564505, 0.8609282490946437, 0.8240295187597471, 0.6263148660728223, 0.04175432440485482, 0.16701729761941927, 0.08350864880970964, 0.04175432440485482, 0.9466318497970445, 0.9050117039308284, 0.7835149657919054, 0.8810917826560443, 0.8791546662532784, 0.012218036760320825, 0.24436073520641652, 0.5375936174541164, 0.012218036760320825, 0.07330822056192496, 0.10996233084288744, 0.8998702728256021, 0.497327035494978, 0.3729952766212335, 0.0414439196245815, 0.06216587943687225, 0.02072195981229075, 0.02072195981229075, 0.8693387266952345, 0.11062076672221792, 0.7743453670555255, 0.11062076672221792, 0.5812681013021281, 0.3875120675347521, 0.8504934579051027, 0.017174826420596256, 0.4980699661972914, 0.13739861136477005, 0.03434965284119251, 0.03434965284119251, 0.15457343778536628, 0.05152447926178876, 0.05152447926178876, 0.03434965284119251, 0.4258808589986135, 0.2379922447345193, 0.01252590761760628, 0.21294042949930675, 0.02505181523521256, 0.07515544570563767, 0.01252590761760628, 0.03143495774422896, 0.12573983097691585, 0.754438985861495, 0.03143495774422896, 0.8469235733427314, 0.06049454095305224, 0.06049454095305224, 0.8707294469235994, 0.8887662185770666, 0.8016476576213908, 0.8778459558912022, 0.7596695011325092, 0.8542825454900321, 0.07334651755077709, 0.8801582106093251, 0.9147807956938062, 0.03709922905433137, 0.03709922905433137, 0.14839691621732548, 0.7419845810866273, 0.03709922905433137, 0.8547253576690301, 0.6001132528040157, 0.027277875127455258, 0.027277875127455258, 0.3273345015294631, 0.8533852322608654, 0.8833460494028136, 0.9155090305880882, 0.06070507990543776, 0.04047005327029184, 0.38446550606777247, 0.04047005327029184, 0.46540561260835617, 0.9092634127873033, 0.06994333944517718, 0.8392580464434446, 0.8701608082464757, 0.9020951937841671, 0.8596202310120286, 0.869407224478409, 0.7277394027128661, 0.07845093261169972, 0.5099310619760482, 0.03922546630584986, 0.3530291967526487, 0.7841686694456366, 0.7929940497717259, 0.8497400626590541, 0.9259840558542943, 0.0776791252666867, 0.05825934395001503, 0.3495560637000902, 0.05825934395001503, 0.23303737580006012, 0.13593846921670175, 0.019419781316671676, 0.05825934395001503, 0.42407820015671177, 0.04005183001480055, 0.02355990000870621, 0.1578513300583316, 0.07539168002785987, 0.061255740022636146, 0.04711980001741242, 0.02591589000957683, 0.06361173002350677, 0.08245965003047173, 0.9582130548274314, 0.865559697686067, 0.026229081748062637, 0.026229081748062637, 0.052458163496125275, 0.7776378259233235, 0.9622233042967467, 0.8124011413063992, 0.024296266905798048, 0.48592533811596095, 0.024296266905798048, 0.21866640215218242, 0.024296266905798048, 0.21866640215218242, 0.17605710807752759, 0.029342851346254598, 0.014671425673127299, 0.11737140538501839, 0.058685702692509195, 0.36678564182818246, 0.17605710807752759, 0.07335712836563649, 0.013493468511262935, 0.49925833491672855, 0.013493468511262935, 0.05397387404505174, 0.06746734255631467, 0.02698693702252587, 0.013493468511262935, 0.3238432442703104, 0.8434786976574637, 0.7937983558901552, 0.882487110142063, 0.9095287664610375, 0.9012188745717592, 0.10307604840052643, 0.10307604840052643, 0.721532338803685, 0.7850875998440631, 0.8161512594161302, 0.9443067689467471, 0.019175587324889925, 0.4506263021349132, 0.047938968312224814, 0.16299249226156437, 0.047938968312224814, 0.06711455563711474, 0.08629014296200466, 0.009587793662444962, 0.11505352394933954, 0.03097666214749314, 0.09292998644247942, 0.12390664858997257, 0.5266032565073834, 0.06195332429498628, 0.1548833107374657, 0.8688325231623009, 0.11520135874881084, 0.03291467392823167, 0.13165869571292668, 0.24686005446173753, 0.06582934785646334, 0.11520135874881084, 0.098744021784695, 0.19748804356939, 0.07947014641998701, 0.6754962445698897, 0.07947014641998701, 0.07947014641998701, 0.039735073209993504, 0.11545316189435786, 0.6927189713661471, 0.11545316189435786, 0.346801381186341, 0.6305479657933473, 0.8509388506984292, 0.05318367816865183, 0.21559135612558866, 0.7330106108270015, 0.04311827122511774, 0.8427371516157103, 0.09363746129063448, 0.05771996687771333, 0.9235194700434133, 0.09213337608691782, 0.6910003206518837, 0.18426675217383565, 0.01753555416590731, 0.5962088416408486, 0.05260666249772193, 0.05260666249772193, 0.14028443332725848, 0.08767777082953655, 0.01753555416590731, 0.8497323709610484, 0.8605024106835779, 0.9269264507121404, 0.9088102566636234, 0.9485830557773762, 0.8787674051704585, 0.054922962823153655, 0.054922962823153655, 0.8413262736890424, 0.8048051805506555, 0.08048051805506555, 0.1311151706344328, 0.7866910238065967, 0.8507869427560297, 0.678582418373217, 0.052198647567170534, 0.10439729513434107, 0.052198647567170534, 0.052198647567170534, 0.9010703669463154, 0.049925555233910436, 0.18306036919100493, 0.14977666570173132, 0.08320925872318406, 0.266269627914189, 0.1331348139570945, 0.016641851744636813, 0.08320925872318406, 0.8533804572251504, 0.9057399763774625, 0.17449225929998585, 0.04847007202777385, 0.48470072027773853, 0.02908204321666431, 0.02908204321666431, 0.17449225929998585, 0.038776057622219084, 0.03144598426710834, 0.6603656696092751, 0.18867590560265002, 0.09433795280132501, 0.8396215713646339, 0.7820312492059003, 0.14218749985561824, 0.2838417641765391, 0.05083733089729059, 0.2965510969008618, 0.004236444241440883, 0.03389155393152706, 0.1228568830017856, 0.10591110603602207, 0.05083733089729059, 0.01694577696576353, 0.03812799817296794, 0.8376369431398892, 0.13748472984953689, 0.8249083790972213, 0.9088703509845073, 0.7807449668880966, 0.048796560430506036, 0.1463896812915181, 0.10364296706021868, 0.310928901180656, 0.4145718682408747, 0.13819062274695823, 0.7609993138781407, 0.5829437274718713, 0.12954305054930473, 0.12954305054930473, 0.04857864395598927, 0.04857864395598927, 0.04857864395598927, 0.8024261369181424, 0.1003032671147678, 0.9011294735211982, 0.8591283314224584, 0.8978224499334593, 0.8448393254808201, 0.9086160253546776, 0.9224883212842184, 0.5257395768458151, 0.32858723552863445, 0.03285872355286344, 0.06571744710572688, 0.03285872355286344, 0.05707684607202553, 0.856152691080383, 0.05707684607202553, 0.8594894483146871, 0.7505431304862373, 0.1250905217477062, 0.057200281059921206, 0.057200281059921206, 0.17160084317976362, 0.5720028105992121, 0.11440056211984241, 0.02180592741084705, 0.1308355644650823, 0.02180592741084705, 0.23986520151931753, 0.06541778223254115, 0.2834770563410116, 0.02180592741084705, 0.1308355644650823, 0.0872237096433882, 0.02180592741084705, 0.2386625951939989, 0.09546503807759957, 0.09546503807759957, 0.047732519038799784, 0.047732519038799784, 0.3341276332715985, 0.09546503807759957, 0.047732519038799784, 0.8225894552396201, 0.06806490176637434, 0.13612980353274867, 0.7146814685469306, 0.06806490176637434, 0.8145646839971727, 0.7520822524947257, 0.9689740787447509, 0.9085736668733682, 0.053830447320063576, 0.10766089464012715, 0.053830447320063576, 0.75362626248089, 0.8887380604553721, 0.7862802612065167, 0.9423800958036336, 0.04854757135017468, 0.7767611416027949, 0.09709514270034936, 0.7528111987609927, 0.7522181536345066, 0.060728332477797714, 0.7894683222113703, 0.12145666495559543, 0.7931835047987351, 0.0320704812734009, 0.5131277003744144, 0.09621144382020268, 0.1282819250936036, 0.09621144382020268, 0.1282819250936036, 0.8333281571612758, 0.9001348461036847, 0.7528399025498862, 0.22585197076496588, 0.9529056080411109, 0.8723575106411451, 0.07187359299031983, 0.862483115883838, 0.02391336742775875, 0.02391336742775875, 0.9087079622548325, 0.02391336742775875, 0.12328699295159105, 0.8630089506611374, 0.04531892322470106, 0.13595676967410317, 0.6344649251458149, 0.18127569289880424, 0.8122285560386363, 0.8823494046284036, 0.03467089508948305, 0.20802537053689832, 0.03467089508948305, 0.20802537053689832, 0.03467089508948305, 0.03467089508948305, 0.34670895089483056, 0.03467089508948305, 0.08136987532427452, 0.8950686285670197, 0.7826589928205638, 0.9185142498625586, 0.9005749827124298, 0.9542652351130589, 0.8889060377471266, 0.6732489287122843, 0.04808920919373459, 0.09617841838746918, 0.14426762758120376, 0.0967725028002453, 0.7741800224019624, 0.9280483892040733, 0.09259419513659874, 0.8333477562293886, 0.8739831327427625, 0.03346431466283116, 0.011154771554277052, 0.06692862932566232, 0.24540497419409515, 0.1896311164227099, 0.1450120302056017, 0.11154771554277053, 0.1450120302056017, 0.04461908621710821, 0.6877936289327129, 0.06877936289327129, 0.13755872578654257, 0.8871642558553637, 0.06983625960059399, 0.8380351152071279, 0.06983625960059399, 0.23263814980065403, 0.7311484708020555, 0.8534183948979789, 0.022078870646780314, 0.04415774129356063, 0.48573515422916685, 0.44157741293560626, 0.9583373399482332, 0.7804432450298389, 0.8677595857669221, 0.9107600275812819, 0.7849267304199655, 0.03274785666765446, 0.04366380889020594, 0.18557118778337525, 0.054579761112757426, 0.010915952222551486, 0.12007547444806634, 0.010915952222551486, 0.4475540411246109, 0.06549571333530892, 0.03274785666765446, 0.19671647430949038, 0.7475226023760635, 0.8550057847570764, 0.2863791180035493, 0.06363980400078874, 0.15909951000197187, 0.4136587260051268, 0.03181990200039437, 0.8279653065520594, 0.15053914664582896, 0.01767229690933131, 0.053016890727993926, 0.7068918763732523, 0.03534459381866262, 0.08836148454665654, 0.10603378145598785, 0.01767229690933131, 0.020239262133661114, 0.18215335920295003, 0.24287114560393339, 0.10119631066830558, 0.04047852426732223, 0.08095704853464446, 0.32382819413857783, 0.07096937764350272, 0.01774234441087568, 0.01774234441087568, 0.10645406646525409, 0.03548468882175136, 0.5854973655588975, 0.12419641087612977, 0.01774234441087568, 0.01774234441087568, 0.8387524795098248, 0.9642209338575258, 0.17220548468573763, 0.08610274234286881, 0.028700914114289603, 0.028700914114289603, 0.028700914114289603, 0.6314201105143713, 0.028700914114289603, 0.7747961773302212, 0.055062031210584575, 0.8809924993693532, 0.946564175508731, 0.8438283944570079, 0.8981428359108417, 0.7099773514758954, 0.20612245688009864, 0.02290249520889985, 0.0458049904177997, 0.822397850156137, 0.8717805044391783, 0.020347332433043427, 0.14243132703130398, 0.020347332433043427, 0.5290306432591291, 0.10173666216521714, 0.020347332433043427, 0.020347332433043427, 0.10173666216521714, 0.04069466486608685, 0.07514697565757339, 0.4790619698170303, 0.02818011587159002, 0.037573487828786695, 0.018786743914393347, 0.04696685978598337, 0.04696685978598337, 0.21604755501552347, 0.009393371957196674, 0.037573487828786695, 0.9321147994660898, 0.08228140622858182, 0.9050954685144, 0.11872139837662589, 0.8310497886363812, 0.8318306694721903, 0.08794322596409587, 0.1319148389461438, 0.2638296778922876, 0.043971612982047936, 0.43971612982047936, 0.10086597470499244, 0.9077937723449319, 0.8188575838365534, 0.17301588811353377, 0.45496770578003326, 0.16019989640142016, 0.019223987568170422, 0.08971194198479529, 0.025631983424227227, 0.012815991712113613, 0.051263966848454454, 0.012815991712113613, 0.9282467720276564, 0.043218600956197596, 0.014406200318732533, 0.33134260733084825, 0.014406200318732533, 0.23049920509972052, 0.17287440382479038, 0.08643720191239519, 0.043218600956197596, 0.07203100159366266, 0.23474056473353436, 0.11737028236676718, 0.019561713727794527, 0.21517885100573983, 0.3912342745558906, 0.08236429304890111, 0.6589143443912089, 0.19218335044743595, 0.027454764349633707, 0.027454764349633707, 0.027454764349633707, 0.5614876439252013, 0.025522165632963698, 0.20417732506370959, 0.15313299379778217, 0.051044331265927397, 0.7810723918059356, 0.12016498335475932, 0.06008249167737966, 0.816888834722629, 0.8753863846586344, 0.5610712256146887, 0.12947797514185125, 0.172637300189135, 0.0863186500945675, 0.800978202293293, 0.9013002841880522, 0.04225864285862386, 0.04225864285862386, 0.04225864285862386, 0.15846991071983949, 0.11621126786121562, 0.02112932142931193, 0.07395262500259175, 0.010564660714655965, 0.4648450714448625, 0.031693982143967896, 0.1701675510842834, 0.02347138635645288, 0.4811634203072841, 0.026405309651009495, 0.03227315624012272, 0.10268731530948136, 0.035207079534679324, 0.02347138635645288, 0.10562123860403798, 0.00293392329455661, 0.8173156262279924, 0.9165789419653741, 0.9261347223392639, 0.06174231482261759, 0.9608567506673698, 0.8268934955182415, 0.850610804459577, 0.9208005390980502, 0.8328604358016981, 0.9352562832435669, 0.8865427234624914, 0.8964654795590378, 0.8978203424136654, 0.8507144060499374, 0.7520413736016317, 0.2741860308544713, 0.027418603085447128, 0.027418603085447128, 0.4935348555380483, 0.16451161851268278, 0.027418603085447128, 0.911950551855322, 0.8199436093224083, 0.0911048454802676, 0.8836580776088137, 0.7964401793916426, 0.03542965912728187, 0.03542965912728187, 0.14171863650912747, 0.6023042051637918, 0.03542965912728187, 0.07085931825456374, 0.1062889773818456, 0.025662095617906316, 0.14114152589848475, 0.10264838247162526, 0.564566103593939, 0.12831047808953158, 0.012831047808953158, 0.012831047808953158, 0.8670448304865885, 0.7814418704194482, 0.9433823098778178, 0.2737057992916512, 0.66471408399401, 0.03910082847023588, 0.81227955925855, 0.05801996851846786, 0.8387139304022825, 0.09319043671136472, 0.7279189367233871, 0.8274779433042848, 0.1103303924405713, 0.05516519622028565, 0.27608097761591704, 0.03944013965941672, 0.03944013965941672, 0.03944013965941672, 0.07888027931883344, 0.5521619552318341, 0.8961942621675677, 0.07872468165813754, 0.27553638580348133, 0.5510727716069627, 0.07872468165813754, 0.03936234082906877, 0.1594588209185578, 0.7441411642866029, 0.053152940306185927, 0.8976572909210631, 0.23737327148900603, 0.12947632990309418, 0.06473816495154709, 0.5610640962467415, 0.021579388317182365, 0.03682073315485153, 0.6627731967873275, 0.03682073315485153, 0.11046219946455459, 0.14728293261940612, 0.13674146996368475, 0.09944834179177073, 0.2113277263075128, 0.08701729906779938, 0.012431042723971341, 0.11187938451574207, 0.3232071108232549, 0.024862085447942682, 0.10331273186482978, 0.8265018549186383, 0.8038351478779159, 0.08038351478779159, 0.8326625019429442, 0.8330197563861295, 0.1279007331967215, 0.38370219959016444, 0.255801466393443, 0.10658394433060123, 0.08526715546448099, 0.042633577732240496, 0.10286445847214673, 0.02938984527775621, 0.21307637826373252, 0.139601765069342, 0.044084767916634314, 0.26450860749980587, 0.007347461319439053, 0.08816953583326863, 0.11021191979158579, 0.12083183473199802, 0.06041591736599901, 0.030207958682999504, 0.12083183473199802, 0.6645750910259891, 0.1241664183100328, 0.3273478300900865, 0.1918935555700507, 0.16931784315004472, 0.06772713726001789, 0.011287856210002983, 0.07901499347002088, 0.033863568630008944, 0.8592296993244452, 0.1543511791134641, 0.7717558955673206, 0.8252280597364853, 0.13753800995608087, 0.730555990542847, 0.02809830732857104, 0.02809830732857104, 0.16858984397142626, 0.02809830732857104, 0.050685314367854076, 0.050685314367854076, 0.6082237724142489, 0.2027412574714163, 0.10137062873570815, 0.9396873480457639, 0.7530489745530435, 0.9394094723161607, 0.8550957369100592, 0.9253659485196789, 0.9485887102650844, 0.9613241022112204, 0.04567578808967233, 0.7308126094347572, 0.04567578808967233, 0.1827031523586893, 0.2899320431563219, 0.08527413034009466, 0.08527413034009466, 0.2899320431563219, 0.0511644782040568, 0.06821930427207573, 0.11938378247613253, 0.017054826068018933, 0.04730780367398802, 0.11826950918497006, 0.04730780367398802, 0.04730780367398802, 0.02365390183699401, 0.7332709569468143, 0.8716782906567765, 0.8611034131697043, 0.908033480167749, 0.09080334801677489, 0.6602009008887544, 0.05594922888887749, 0.05594922888887749, 0.011189845777775497, 0.10070861199997948, 0.05594922888887749, 0.011189845777775497, 0.04475938311110199, 0.8168754650709018, 0.7611803988590824, 0.942380794317305, 0.7861626915497639, 0.035734667797716536, 0.01191155593257218, 0.01191155593257218, 0.10720400339314962, 0.01191155593257218, 0.01191155593257218, 0.01191155593257218, 0.035734667797716536, 0.9635280708852557, 0.16967018879658344, 0.2908631807941431, 0.5090105663897504, 0.02423859839951192, 0.9413867901637071, 0.7856292032432822, 0.2389965100900603, 0.5735916242161446, 0.04779930201801205, 0.0955986040360241, 0.04779930201801205, 0.2357716866862323, 0.21219451801760905, 0.1650401806803626, 0.02357716866862323, 0.37723469869797166, 0.8587496745038727, 0.07156247287532273, 0.8838488576681592, 0.8252299248476905, 0.21716034587746572, 0.05429008646936643, 0.6514810376323972, 0.05429008646936643, 0.13875565833382103, 0.13875565833382103, 0.21804460595314734, 0.059466710714494726, 0.25768907976281047, 0.17840013214348419, 0.22572948738190393, 0.045145897476380786, 0.13543769242914236, 0.022572948738190393, 0.22572948738190393, 0.022572948738190393, 0.31602128233466553, 0.32103327012608784, 0.1897014778017792, 0.26266358464861733, 0.04377726410810289, 0.05836968547747052, 0.04377726410810289, 0.01459242136936763, 0.08755452821620578, 0.895531373602485, 0.037859800701215, 0.643616611920655, 0.265018604908505, 0.037859800701215, 0.1262027950238402, 0.8834195651668814, 0.1701341404550973, 0.10826718028960738, 0.030933480082744966, 0.21653436057921477, 0.20106762053784227, 0.015466740041372483, 0.015466740041372483, 0.18560088049646978, 0.030933480082744966, 0.7437646339569624, 0.2125041811305607, 0.7822415458781883, 0.1495746493489791, 0.673085922070406, 0.1308778181803567, 0.018696831168622387, 0.018696831168622387, 0.23469313384709123, 0.2034007160008124, 0.015646208923139414, 0.07823104461569708, 0.26598555169337007, 0.06258483569255766, 0.07823104461569708, 0.04693862676941824, 0.9568220878581573, 0.7883369592625654, 0.1433339925931937, 0.054243343689366834, 0.10848668737873367, 0.6057173378645964, 0.027121671844683417, 0.00904055728156114, 0.00904055728156114, 0.00904055728156114, 0.027121671844683417, 0.15368947378653938, 0.8729950210381041, 0.8739555948983069, 0.8978327142223224, 0.8878955855488644, 0.062495099050939806, 0.24998039620375923, 0.6874460895603379, 0.8677157997093219, 0.026439982442031565, 0.05287996488406313, 0.23795984197828407, 0.3172797893043788, 0.18507987709422094, 0.10575992976812626, 0.05287996488406313, 0.026439982442031565, 0.920604636605873, 0.8423623635020151, 0.026130875507650524, 0.08710291835883507, 0.008710291835883508, 0.09581321019471858, 0.09581321019471858, 0.13065437753825263, 0.5051969264812435, 0.04355145917941754, 0.7622892180602729, 0.1975134753266343, 0.7900539013065372, 0.9474305230953475, 0.7279300040484381, 0.9180116586162091, 0.8717704751563236, 0.08717704751563236, 0.8695845573336399, 0.06689111979489537, 0.8070589938326035, 0.03362745807635848, 0.03362745807635848, 0.10088237422907544, 0.14073263851618475, 0.7036631925809237, 0.09382175901078983, 0.8644653589381112, 0.6719715556149007, 0.25198933335558776, 0.28546714076031054, 0.13522127720225238, 0.09014751813483492, 0.04507375906741746, 0.27044255440450476, 0.06009834542322328, 0.06009834542322328, 0.04507375906741746, 0.01502458635580582, 0.1596231723699574, 0.6384926894798296, 0.03990579309248935, 0.03990579309248935, 0.0798115861849787, 0.8427172083468513, 0.11382878070040313, 0.056914390350201564, 0.056914390350201564, 0.7398870745526204, 0.950869214366695, 0.9099940540396302, 0.7623363389166328, 0.0952920423645791, 0.06107897047079133, 0.12215794094158267, 0.732947645649496, 0.1411106908978322, 0.18142803115435568, 0.04031734025652349, 0.36285606230871137, 0.04031734025652349, 0.20158670128261744, 0.04031734025652349, 0.021207351289036898, 0.4453543770697748, 0.021207351289036898, 0.1484514590232583, 0.021207351289036898, 0.021207351289036898, 0.042414702578073796, 0.042414702578073796, 0.23328086417940588, 0.5473363799638512, 0.023126889294247235, 0.0693806678827417, 0.07708963098082412, 0.03083585239232965, 0.08479859407890654, 0.015417926196164824, 0.03854481549041206, 0.1233434095693186, 0.9057833605535381, 0.2962433166432663, 0.03703041458040829, 0.018515207290204144, 0.129606451031429, 0.4628801822551036, 0.05554562187061243, 0.8505553572777468, 0.8186598801381761, 0.8184132545540271, 0.8093453874146701, 0.01830690973706748, 0.01830690973706748, 0.3478312850042821, 0.2929105557930797, 0.07322763894826992, 0.03661381947413496, 0.18306909737067478, 0.03661381947413496, 0.05140574447846227, 0.2056229779138491, 0.5911660615023161, 0.1285143611961557, 0.36995315829624253, 0.09248828957406063, 0.5241003075863435, 0.03082942985802021, 0.044981620112264156, 0.044981620112264156, 0.7646875419084906, 0.13494486033679245, 0.08582021162563966, 0.0750926851724347, 0.021455052906409915, 0.17164042325127932, 0.010727526453204957, 0.04291010581281983, 0.0965477380788446, 0.27891568778332887, 0.1930954761576892, 0.807363652104093, 0.1332729344387042, 0.09995470082902815, 0.11106077869892017, 0.2554397910075164, 0.35539449183654453, 0.011106077869892017, 0.011106077869892017, 0.011106077869892017, 0.2845291405542468, 0.10669842770784255, 0.03556614256928085, 0.5690582811084935, 0.029830286419753035, 0.4474542962962955, 0.029830286419753035, 0.4474542962962955, 0.18252263455896559, 0.21294307365212653, 0.3954657082110921, 0.06084087818632186, 0.15210219546580467, 0.03156596346538396, 0.852281013565367, 0.03156596346538396, 0.06313192693076793, 0.03156596346538396, 0.9500780077379364, 0.9144884792146758, 0.02564000349015664, 0.05128000698031328, 0.05128000698031328, 0.05128000698031328, 0.7692001047046991, 0.4910025714821817, 0.03273350476547878, 0.06546700953095756, 0.11456726667917573, 0.01636675238273939, 0.03273350476547878, 0.22913453335835146, 0.06260803892798002, 0.43825627249586013, 0.020869346309326672, 0.12521607785596003, 0.14608542416528672, 0.16695477047461338, 0.7644618509476431, 0.8168911021729091, 0.8240350596800937, 0.09023836579192185, 0.10527809342390883, 0.045119182895960924, 0.06767877434394139, 0.007519863815993488, 0.45119182895960924, 0.1278376848718893, 0.06767877434394139, 0.045119182895960924, 0.8694359063527128, 0.9213084684537988, 0.19979549735518526, 0.05708442781576722, 0.19979549735518526, 0.02854221390788361, 0.513759850341905, 0.02854221390788361, 0.8934942966897174, 0.8265509227567993, 0.10331886534459991, 0.9179485859027368, 0.04942157627228662, 0.6919020678120127, 0.09884315254457324, 0.14826472881685987, 0.8317356137388231, 0.10396695171735289, 0.09985392490788539, 0.7988313992630831, 0.8056909018604287, 0.19140496634067863, 0.7656198653627145, 0.8978187123262155, 0.3171886221088529, 0.009912144440901653, 0.02973643332270496, 0.11894573329081984, 0.15859431105442645, 0.05947286664540992, 0.05947286664540992, 0.019824288881803306, 0.19824288881803306, 0.019824288881803306, 0.8775045129367243, 0.9003050602955647, 0.08129331306905117, 0.894226443759563, 0.8808675967002433, 0.7613338476431577, 0.9318864151427987, 0.1105799686147321, 0.6081898273810266, 0.05528998430736605, 0.16586995292209816, 0.8024221964464918, 0.1015895015255034, 0.8127160122040272, 0.7280266442176108, 0.04172265822411281, 0.417226582241128, 0.5423945569134665, 0.9074100163958329, 0.9364764176582284, 0.8327367851244928, 0.09028946303168485, 0.8126051672851637, 0.09028946303168485, 0.8673407768420306, 0.4761872789027691, 0.21977874410897033, 0.03662979068482839, 0.14651916273931356, 0.09157447671207097, 0.018314895342414195, 0.8730534193173254, 0.8625354624177977, 0.8892204648923822, 0.3786800163610669, 0.015147200654442675, 0.09088320392665605, 0.015147200654442675, 0.1211776052355414, 0.04544160196332803, 0.015147200654442675, 0.3332384143977389, 0.06648591311161892, 0.06648591311161892, 0.7313450442278081, 0.06648591311161892, 0.027049675221050843, 0.3245961026526101, 0.10819870088420337, 0.09467386327367795, 0.31107126504208465, 0.0676241880526271, 0.027049675221050843, 0.027049675221050843, 0.013524837610525422, 0.956886692928827, 0.8991066849937079, 0.8993597749841605, 0.12521391992849043, 0.7512835195709425, 0.09391043994636782, 0.8760245184526002, 0.2666340227903017, 0.10665360911612067, 0.5865948501386636, 0.018019394030073514, 0.2883103044811762, 0.018019394030073514, 0.45048485075183786, 0.1441551522405881, 0.018019394030073514, 0.018019394030073514, 0.018019394030073514, 0.7866486084414668, 0.06504326588051516, 0.06504326588051516, 0.845562456446697, 0.9148719800462998, 0.10830989805187781, 0.7581692863631447, 0.03338630385248961, 0.7678849886072611, 0.03338630385248961, 0.13354521540995845, 0.15493160238360312, 0.7746580119180156, 0.754431147927911, 0.9180999853549623, 0.8623386914746319, 0.03385633091163737, 0.8125519418792968, 0.1015689927349121, 0.03385633091163737, 0.7613512506566116, 0.1527620692911404, 0.763810346455702, 0.0381905173227851, 0.0381905173227851, 0.8932173091180861, 0.059547820607872406, 0.8782026586713597, 0.019199293947366032, 0.46078305473678477, 0.019199293947366032, 0.09599646973683015, 0.21119223342102636, 0.038398587894732064, 0.09599646973683015, 0.019199293947366032, 0.019199293947366032, 0.01557180282120478, 0.17128983103325257, 0.06228721128481912, 0.0778590141060239, 0.03114360564240956, 0.03114360564240956, 0.560584901563372, 0.04671540846361434, 0.46130542924753604, 0.08786770080905448, 0.03295038780339543, 0.01098346260113181, 0.01098346260113181, 0.02196692520226362, 0.35147080323621793, 0.02196692520226362, 0.8143934660956209, 0.8557735776292907, 0.0475429765349606, 0.0475429765349606, 0.9252631654924584, 0.8592921743502698, 0.8972423615566303, 0.042725826740791915, 0.042725826740791915, 0.8526690535084479, 0.9018395046087314, 0.861742859953134, 0.948573830478041, 0.4491345085130327, 0.22456725425651636, 0.022456725425651636, 0.033685088138477454, 0.06737017627695491, 0.04491345085130327, 0.04491345085130327, 0.033685088138477454, 0.07859853898978073, 0.15009431110619648, 0.6504086814601847, 0.15009431110619648, 0.05003143703539883, 0.86748567157981, 0.8788907951060084, 0.8381574649081921, 0.05316010205441839, 0.07974015308162759, 0.7442414287618574, 0.026580051027209194, 0.026580051027209194, 0.026580051027209194, 0.026580051027209194, 0.9189348994072476, 0.17158573625285395, 0.7721358131378429, 0.07963934972787974, 0.8760328470066772, 0.7954981285630591, 0.9689088068993241, 0.893429926735033, 0.02347660457832704, 0.2347660457832704, 0.18781283662661633, 0.4695320915665408, 0.02347660457832704, 0.04695320915665408, 0.7661325164178373, 0.07399536482788255, 0.05549652362091191, 0.11099304724182382, 0.25898377689758895, 0.05549652362091191, 0.018498841206970637, 0.42547334776032464, 0.7613525978594683, 0.16611563301401605, 0.677240657672527, 0.06389062808231387, 0.012778125616462773, 0.06389062808231387, 0.012778125616462773, 0.040795368513579386, 0.16318147405431754, 0.08159073702715877, 0.040795368513579386, 0.6527258962172702, 0.35397576771962014, 0.2311678483066907, 0.007223995259584085, 0.07223995259584085, 0.007223995259584085, 0.02167198577875225, 0.06501595733625676, 0.10113593363417718, 0.07946394785542493, 0.05056796681708859, 0.03372366008160047, 0.6744732016320095, 0.2697892806528038, 0.02616165321342864, 0.05232330642685728, 0.15696991928057186, 0.6278796771222874, 0.01308082660671432, 0.06540413303357161, 0.06540413303357161, 0.04468889603290019, 0.04468889603290019, 0.04468889603290019, 0.04468889603290019, 0.04468889603290019, 0.6703334404935029, 0.08937779206580038, 0.05670755693538284, 0.011341511387076569, 0.011341511387076569, 0.3742698757735268, 0.32890383022522046, 0.05670755693538284, 0.15878115941907195, 0.05026151742502686, 0.00837691957083781, 0.02513075871251343, 0.00837691957083781, 0.05863843699586467, 0.02513075871251343, 0.7874304396587541, 0.01675383914167562, 0.02513075871251343, 0.02748722772449494, 0.02748722772449494, 0.05497445544898988, 0.7146679208368685, 0.08246168317348482, 0.05497445544898988, 0.05497445544898988, 0.8594914283160564, 0.9068710426180513, 0.7645571284370405, 0.8735371274998507, 0.23231965903621274, 0.5807991475905319, 0.17423974427715958, 0.04552715067852871, 0.027316290407117222, 0.10926516162846889, 0.5463258081423444, 0.004552715067852871, 0.10471244656061603, 0.036421720542822965, 0.10926516162846889, 0.004552715067852871, 0.009105430135705741, 0.9485682829161084, 0.20529160690301007, 0.07849384969820973, 0.13887373408144799, 0.006037988438323825, 0.3018994219161913, 0.030189942191619128, 0.03622793062994295, 0.15698769939641946, 0.03622793062994295, 0.01207597687664765, 0.7893524894273258, 0.08770583215859176, 0.22016487997981507, 0.3914042310752268, 0.1957021155376134, 0.14677658665321006, 0.036694146663302514, 0.42461615705026484, 0.01846157204566369, 0.14769257636530952, 0.09230786022831844, 0.12923100431964582, 0.1661541484109732, 0.03981144129304996, 0.11943432387914989, 0.05971716193957494, 0.01990572064652498, 0.3383972509909247, 0.05971716193957494, 0.3184915303443997, 0.05971716193957494, 0.7345813881559623, 0.22955668379873823, 0.8708021521067942, 0.03954075309083675, 0.03954075309083675, 0.5140297901808778, 0.2372445185450205, 0.158163012363347, 0.9415214886316977, 0.8225641043424037, 0.376546776404943, 0.10269457538316627, 0.5134728769158314, 0.9152178155923356, 0.048943078976558994, 0.09788615795311799, 0.09788615795311799, 0.14682923692967698, 0.5873169477187079, 0.9279822474705192, 0.06114458573439414, 0.3159136929610364, 0.03057229286719707, 0.15286146433598535, 0.12228917146878827, 0.23438757864851087, 0.01019076428906569, 0.01019076428906569, 0.02038152857813138, 0.03057229286719707, 0.8941585860441498, 0.9001804885565587, 0.062476884371562624, 0.8746763812018767, 0.08270845034557081, 0.30326431793375963, 0.027569483448523602, 0.08270845034557081, 0.30326431793375963, 0.16541690069114162, 0.027569483448523602, 0.9594204392638359, 0.9509321708272765, 0.7645601812418544, 0.19945048206309246, 0.8978309759713208, 0.18643228772748388, 0.7457291509099355, 0.7732722460938166, 0.7960061447485007, 0.02793177929424459, 0.16759067576546754, 0.02793177929424459, 0.05586355858848918, 0.36311313082517965, 0.02793177929424459, 0.11172711717697836, 0.22345423435395673, 0.02793177929424459, 0.24101113000865884, 0.7230333900259766, 0.5582551790210433, 0.07203292632529591, 0.14406585265059182, 0.036016463162647956, 0.14406585265059182, 0.036016463162647956, 0.8478928046022126, 0.1413154674337021, 0.9077434043463837, 0.9114673177562495, 0.14080030826047105, 0.04693343608682368, 0.4849788395638447, 0.015644478695607894, 0.07822239347803947, 0.17208926565168683, 0.03128895739121579, 0.03128895739121579, 0.015644478695607894, 0.17015109038365353, 0.7656799067264408, 0.1278977064600087, 0.4689582570200319, 0.010658142205000725, 0.06394885323000435, 0.010658142205000725, 0.05329071102500363, 0.0852651376400058, 0.0426325688200029, 0.14921399087001017, 0.13479571170051788, 0.09735245845037403, 0.2171708688508344, 0.2920573753511221, 0.04493190390017263, 0.08237515715031649, 0.0524205545502014, 0.007488650650028772, 0.06739785585025894, 0.2840619088049931, 0.11835912866874712, 0.07101547720124828, 0.44976468894123905, 0.047343651467498846, 0.27334702481595563, 0.045557837469325936, 0.5922518871012372, 0.14098717678264727, 0.5169529815363734, 0.18798290237686302, 0.14098717678264727, 0.9564472106217243, 0.26123517450908645, 0.7183967298999877, 0.8889023957560839, 0.009691848934029468, 0.5136679935035617, 0.15506958294447148, 0.009691848934029468, 0.12599403614238308, 0.06784294253820627, 0.1163021872083536, 0.009691848934029468, 0.06465371159511178, 0.12930742319022356, 0.7111908275462296, 0.06465371159511178, 0.24525342824104063, 0.6744469276628617, 0.7541189199101616, 0.8677102784356321, 0.7862802612065167, 0.9468151710720772, 0.869428177793933, 0.4980560756908087, 0.11067912793129081, 0.08300934594846811, 0.27669781982822705, 0.027669781982822703, 0.8256585483199531, 0.09173983870221702, 0.9369352465542122, 0.14946452082343106, 0.14946452082343106, 0.20551371613221772, 0.018683065102928883, 0.3362951718527199, 0.13078145572050218, 0.06771637731420992, 0.040629826388525955, 0.13543275462841983, 0.06771637731420992, 0.013543275462841984, 0.5011011921251535, 0.013543275462841984, 0.16251930555410382, 0.7862802612065167, 0.5540534340023623, 0.0325913784707272, 0.0651827569414544, 0.0325913784707272, 0.19554827082436319, 0.09777413541218159, 0.0325913784707272, 0.040104463620219466, 0.040104463620219466, 0.8421937360246088, 0.08020892724043893, 0.15759848774938412, 0.41369603034213326, 0.19699810968673012, 0.03939962193734603, 0.1378986767807111, 0.019699810968673015, 0.026569327507345062, 0.053138655014690124, 0.13284663753672532, 0.7173718426983167, 0.053138655014690124, 0.5405726848670299, 0.03603817899113533, 0.018019089495567665, 0.09009544747783832, 0.3063245214246503, 0.18428965019326493, 0.3422522075017777, 0.10530837153900853, 0.052654185769504265, 0.28959802173227345], \"Term\": [\"access\", \"account\", \"account\", \"account\", \"account\", \"account\", \"account\", \"action\", \"activity\", \"ad\", \"adult\", \"advance\", \"ae\", \"age\", \"age\", \"age\", \"age\", \"age\", \"aha\", \"airport\", \"alex\", \"ampm\", \"amt\", \"anything\", \"anything\", \"anything\", \"anything\", \"anything\", \"anything\", \"asap\", \"ask\", \"ask\", \"ask\", \"ask\", \"ask\", \"ask\", \"ate\", \"auction\", \"auction\", \"auction\", \"await\", \"await\", \"awaiting\", \"b\", \"b\", \"b\", \"b\", \"b\", \"b\", \"b\", \"b\", \"b\", \"babe\", \"babe\", \"babe\", \"babe\", \"babe\", \"babe\", \"babe\", \"baby\", \"baby\", \"baby\", \"baby\", \"bank\", \"bank\", \"bank\", \"bathe\", \"battery\", \"bb\", \"beer\", \"befor\", \"bid\", \"bill\", \"bill\", \"bin\", \"birthday\", \"birthday\", \"birthday\", \"birthday\", \"birthday\", \"bishan\", \"bit\", \"bit\", \"bit\", \"bit\", \"blackberry\", \"bluetooth\", \"bos\", \"box\", \"box\", \"box\", \"box\", \"box\", \"boytoy\", \"boytoy\", \"brain\", \"bring\", \"brings\", \"btnationalrate\", \"buck\", \"bud\", \"bus\", \"bus\", \"bus\", \"bus\", \"business\", \"buying\", \"buzz\", \"bx\", \"c\", \"c\", \"c\", \"c\", \"c\", \"c\", \"c\", \"c\", \"call\", \"call\", \"call\", \"call\", \"call\", \"call\", \"call\", \"call\", \"call\", \"call\", \"camcorder\", \"camera\", \"camera\", \"camera\", \"camera\", \"campus\", \"cancel\", \"cancer\", \"cant\", \"cant\", \"cant\", \"cant\", \"cant\", \"cant\", \"care\", \"care\", \"care\", \"care\", \"care\", \"care\", \"care\", \"care\", \"cash\", \"cash\", \"cash\", \"cash\", \"cash\", \"cash\", \"cash\", \"cash\", \"cashbalance\", \"celebration\", \"cell\", \"charity\", \"cheer\", \"chennai\", \"chennai\", \"chennai\", \"choice\", \"choose\", \"cinema\", \"claim\", \"claim\", \"claim\", \"claim\", \"claim\", \"claim\", \"claim\", \"claim\", \"claim\", \"class\", \"class\", \"class\", \"class\", \"class\", \"class\", \"cm\", \"co\", \"co\", \"co\", \"co\", \"co\", \"co\", \"co\", \"co\", \"code\", \"code\", \"code\", \"code\", \"code\", \"collect\", \"collect\", \"collect\", \"collection\", \"collection\", \"colour\", \"colour\", \"come\", \"come\", \"come\", \"comp\", \"comp\", \"computer\", \"computer\", \"congrats\", \"congrats\", \"congrats\", \"contact\", \"contact\", \"contact\", \"contact\", \"contact\", \"contact\", \"contact\", \"contract\", \"convey\", \"cool\", \"costa\", \"cost\\u00e5\\u00a3pm\", \"course\", \"course\", \"course\", \"cover\", \"coz\", \"coz\", \"cr\", \"cr\", \"cream\", \"credit\", \"credit\", \"credit\", \"credit\", \"credit\", \"cup\", \"customer\", \"customer\", \"customer\", \"customer\", \"customer\", \"customer\", \"customer\", \"customer\", \"cute\", \"cuz\", \"da\", \"da\", \"da\", \"da\", \"da\", \"da\", \"da\", \"dad\", \"dad\", \"dad\", \"dad\", \"dare\", \"darlin\", \"darlin\", \"day\", \"day\", \"day\", \"day\", \"day\", \"day\", \"day\", \"day\", \"day\", \"day\", \"december\", \"decision\", \"decision\", \"del\", \"delivery\", \"delivery\", \"delivery\", \"detail\", \"detail\", \"detail\", \"detail\", \"di\", \"didnt\", \"didnt\", \"didnt\", \"didnt\", \"didnt\", \"didnt\", \"die\", \"die\", \"dint\", \"discus\", \"dload\", \"doc\", \"dog\", \"door\", \"dream\", \"dream\", \"dream\", \"dream\", \"dream\", \"drive\", \"drive\", \"drive\", \"drivin\", \"drop\", \"drop\", \"dude\", \"dude\", \"dude\", \"dude\", \"dude\", \"dun\", \"dun\", \"dun\", \"dun\", \"dun\", \"dun\", \"dun\", \"dun\", \"dun\", \"dun\", \"e\", \"e\", \"e\", \"e\", \"e\", \"e\", \"e\", \"e\", \"earth\", \"eat\", \"eat\", \"eat\", \"eat\", \"eatin\", \"eerie\", \"egg\", \"em\", \"email\", \"email\", \"email\", \"email\", \"energy\", \"eng\", \"england\", \"entry\", \"entry\", \"entry\", \"error\", \"etc\", \"evening\", \"evening\", \"evening\", \"everybody\", \"everything\", \"everything\", \"everything\", \"everything\", \"everything\", \"everything\", \"evng\", \"ex\", \"exam\", \"exam\", \"expires\", \"extra\", \"eye\", \"eye\", \"face\", \"face\", \"face\", \"face\", \"facebook\", \"facebook\", \"family\", \"family\", \"family\", \"family\", \"father\", \"feb\", \"feel\", \"feel\", \"feel\", \"feel\", \"feel\", \"feel\", \"feel\", \"feel\", \"feeling\", \"feeling\", \"fight\", \"find\", \"finger\", \"finish\", \"flag\", \"food\", \"food\", \"food\", \"food\", \"forget\", \"forget\", \"fr\", \"freemsg\", \"freemsg\", \"frens\", \"friend\", \"friend\", \"friend\", \"friend\", \"friend\", \"friend\", \"friend\", \"friend\", \"friend\", \"friendship\", \"friendship\", \"friendship\", \"frm\", \"fuck\", \"fuck\", \"fuck\", \"fun\", \"fun\", \"fyi\", \"game\", \"game\", \"game\", \"game\", \"gap\", \"gb\", \"ge\", \"gee\", \"germany\", \"get\", \"get\", \"get\", \"get\", \"get\", \"get\", \"get\", \"get\", \"get\", \"get\", \"gift\", \"gift\", \"goal\", \"god\", \"god\", \"god\", \"god\", \"god\", \"goin\", \"goin\", \"gon\", \"gon\", \"gon\", \"gon\", \"gon\", \"gon\", \"gon\", \"gud\", \"gud\", \"gud\", \"gud\", \"gud\", \"gud\", \"gud\", \"guy\", \"guy\", \"guy\", \"guy\", \"guy\", \"guy\", \"guy\", \"guy\", \"guy\", \"gym\", \"ha\", \"haha\", \"haha\", \"haha\", \"haha\", \"haha\", \"haha\", \"haha\", \"hahahause\", \"hair\", \"hair\", \"handset\", \"happen\", \"hate\", \"havent\", \"havent\", \"havent\", \"havent\", \"havnt\", \"heard\", \"help\", \"help\", \"help\", \"help\", \"help\", \"help\", \"help\", \"help\", \"help\", \"hey\", \"hey\", \"hey\", \"hey\", \"hey\", \"hey\", \"hey\", \"hey\", \"hey\", \"hey\", \"hiya\", \"hmm\", \"hmm\", \"ho\", \"ho\", \"holder\", \"holiday\", \"holiday\", \"holiday\", \"holiday\", \"holiday\", \"holla\", \"holla\", \"hols\", \"home\", \"home\", \"home\", \"home\", \"home\", \"home\", \"home\", \"home\", \"home\", \"honey\", \"hope\", \"hope\", \"hope\", \"hope\", \"hope\", \"hope\", \"hope\", \"hope\", \"hope\", \"hour\", \"hour\", \"hour\", \"hour\", \"hour\", \"house\", \"house\", \"house\", \"house\", \"house\", \"house\", \"hr\", \"hr\", \"hr\", \"hr\", \"hr\", \"huh\", \"huh\", \"huh\", \"ibiza\", \"ice\", \"id\", \"id\", \"id\", \"id\", \"idea\", \"identifier\", \"ill\", \"ill\", \"ill\", \"ill\", \"ill\", \"ill\", \"ill\", \"ill\", \"ill\", \"ill\", \"im\", \"im\", \"im\", \"im\", \"im\", \"im\", \"im\", \"im\", \"im\", \"im\", \"imagine\", \"inc\", \"information\", \"information\", \"insurance\", \"internet\", \"intro\", \"ip\", \"iq\", \"island\", \"izzit\", \"i\\u0089\\u00fb\\u00f7m\", \"java\", \"jess\", \"jesus\", \"job\", \"job\", \"job\", \"job\", \"job\", \"job\", \"joking\", \"joy\", \"joy\", \"jst\", \"juicy\", \"jus\", \"jus\", \"jus\", \"jus\", \"jus\", \"jus\", \"jus\", \"k\", \"k\", \"k\", \"k\", \"k\", \"k\", \"k\", \"kate\", \"kick\", \"kid\", \"kiss\", \"kiss\", \"kiss\", \"know\", \"know\", \"la\", \"la\", \"lab\", \"land\", \"land\", \"land\", \"landline\", \"landline\", \"landline\", \"landline\", \"landline\", \"landline\", \"law\", \"leh\", \"leh\", \"leh\", \"leh\", \"leh\", \"lei\", \"lei\", \"lei\", \"lem\", \"let\", \"let\", \"let\", \"let\", \"let\", \"liao\", \"liao\", \"liao\", \"liao\", \"liao\", \"life\", \"life\", \"life\", \"life\", \"life\", \"life\", \"life\", \"life\", \"link\", \"link\", \"log\", \"log\", \"login\", \"logo\", \"lol\", \"lol\", \"lol\", \"lol\", \"lol\", \"lol\", \"lor\", \"lor\", \"lor\", \"lor\", \"lor\", \"lor\", \"lor\", \"lor\", \"lor\", \"lot\", \"lot\", \"lot\", \"lot\", \"lot\", \"love\", \"love\", \"love\", \"love\", \"love\", \"love\", \"love\", \"love\", \"lt\", \"ltd\", \"ltd\", \"luck\", \"luck\", \"lunch\", \"lunch\", \"lunch\", \"lunch\", \"lunch\", \"luv\", \"luv\", \"luv\", \"luv\", \"luv\", \"malaria\", \"mall\", \"marry\", \"master\", \"match\", \"maxmins\", \"mayb\", \"mean\", \"mean\", \"mean\", \"mean\", \"meet\", \"meet\", \"meet\", \"meet\", \"meet\", \"meet\", \"meet\", \"meet\", \"meeting\", \"meeting\", \"meeting\", \"meeting\", \"meeting\", \"meeting\", \"meh\", \"member\", \"men\", \"men\", \"message\", \"message\", \"message\", \"message\", \"message\", \"message\", \"message\", \"message\", \"messageits\", \"mi\", \"midnight\", \"min\", \"min\", \"min\", \"min\", \"min\", \"min\", \"min\", \"min\", \"min\", \"mine\", \"minute\", \"minute\", \"minute\", \"minute\", \"miracle\", \"mm\", \"mob\", \"mob\", \"mob\", \"mob\", \"mob\", \"mobile\", \"mobile\", \"mobile\", \"mobile\", \"mobile\", \"mobileupd\", \"mobileupd\", \"moby\", \"model\", \"mom\", \"mom\", \"mom\", \"mom\", \"money\", \"money\", \"money\", \"money\", \"money\", \"money\", \"month\", \"month\", \"month\", \"month\", \"month\", \"month\", \"month\", \"morning\", \"morning\", \"morning\", \"morning\", \"morning\", \"morning\", \"morning\", \"morning\", \"mother\", \"movie\", \"movie\", \"movie\", \"movie\", \"mrt\", \"mrt\", \"msg\", \"msg\", \"msg\", \"msg\", \"msg\", \"msg\", \"msg\", \"msg\", \"msg\", \"mths\", \"mths\", \"murder\", \"name\", \"name\", \"name\", \"name\", \"name\", \"need\", \"need\", \"need\", \"need\", \"need\", \"need\", \"need\", \"need\", \"neva\", \"ni\", \"ni\", \"night\", \"night\", \"night\", \"night\", \"night\", \"night\", \"night\", \"night\", \"night\", \"nite\", \"noe\", \"noline\", \"none\", \"nope\", \"nope\", \"nope\", \"normptone\", \"nothing\", \"nothing\", \"nothing\", \"nothing\", \"nothing\", \"nothing\", \"nothing\", \"nothing\", \"notice\", \"ntt\", \"number\", \"number\", \"number\", \"number\", \"number\", \"number\", \"number\", \"number\", \"nvm\", \"nyt\", \"nyt\", \"okie\", \"oni\", \"online\", \"oops\", \"oops\", \"operator\", \"operator\", \"orange\", \"orange\", \"orange\", \"orange\", \"order\", \"order\", \"order\", \"oredi\", \"others\", \"others\", \"p\", \"p\", \"p\", \"p\", \"p\", \"p\", \"p\", \"p\", \"p\", \"pa\", \"pa\", \"pa\", \"pa\", \"pa\", \"pack\", \"pain\", \"pain\", \"pain\", \"pain\", \"parent\", \"park\", \"pas\", \"pas\", \"pay\", \"pay\", \"pay\", \"people\", \"people\", \"people\", \"people\", \"people\", \"people\", \"people\", \"person\", \"person\", \"person\", \"person\", \"person\", \"person\", \"person\", \"person\", \"person\", \"phone\", \"phone\", \"phone\", \"phone\", \"phone\", \"phone\", \"phone\", \"phone\", \"phone\", \"photo\", \"pick\", \"pick\", \"pick\", \"pick\", \"pick\", \"pick\", \"pie\", \"pilate\", \"pin\", \"pizza\", \"place\", \"place\", \"place\", \"place\", \"place\", \"place\", \"place\", \"place\", \"plan\", \"plan\", \"plan\", \"plan\", \"play\", \"play\", \"play\", \"play\", \"player\", \"player\", \"player\", \"player\", \"please\", \"please\", \"please\", \"please\", \"please\", \"please\", \"please\", \"please\", \"please\", \"pleasure\", \"pls\", \"pls\", \"pls\", \"pls\", \"pls\", \"pls\", \"pls\", \"pls\", \"pmin\", \"pmin\", \"pmin\", \"pmin\", \"po\", \"po\", \"po\", \"po\", \"pobox\", \"pobox\", \"pobox\", \"pobox\", \"pobox\", \"point\", \"point\", \"point\", \"point\", \"point\", \"poly\", \"polys\", \"ppm\", \"ppm\", \"ppm\", \"ppm\", \"ppm\", \"prize\", \"prize\", \"prize\", \"prize\", \"prize\", \"prize\", \"prize\", \"problem\", \"problem\", \"problem\", \"problem\", \"problem\", \"problem\", \"purchase\", \"purity\", \"qxj\", \"r\", \"r\", \"r\", \"r\", \"r\", \"r\", \"r\", \"r\", \"r\", \"radio\", \"rally\", \"rate\", \"rate\", \"rate\", \"rate\", \"rate\", \"rate\", \"rcvd\", \"rd\", \"rd\", \"realy\", \"reason\", \"reason\", \"reason\", \"reason\", \"reference\", \"reference\", \"regard\", \"regard\", \"rem\", \"rent\", \"rent\", \"rentl\", \"reply\", \"reply\", \"reply\", \"reply\", \"reply\", \"reply\", \"reply\", \"reply\", \"reply\", \"reply\", \"report\", \"respond\", \"return\", \"return\", \"reward\", \"ride\", \"ring\", \"ringtone\", \"ringtone\", \"ringtone\", \"ringtone\", \"ringtones\", \"run\", \"run\", \"rush\", \"sae\", \"sae\", \"sae\", \"saturday\", \"savamob\", \"saw\", \"school\", \"school\", \"school\", \"season\", \"see\", \"see\", \"see\", \"see\", \"see\", \"see\", \"selection\", \"self\", \"semester\", \"send\", \"send\", \"send\", \"send\", \"send\", \"send\", \"send\", \"send\", \"sent\", \"sent\", \"sent\", \"sent\", \"service\", \"service\", \"service\", \"service\", \"service\", \"service\", \"service\", \"service\", \"service\", \"sex\", \"share\", \"shd\", \"shes\", \"shes\", \"shes\", \"shirt\", \"shit\", \"shit\", \"shit\", \"show\", \"show\", \"show\", \"show\", \"show\", \"show\", \"show\", \"show\", \"shut\", \"si\", \"si\", \"si\", \"sight\", \"sign\", \"sign\", \"sir\", \"sir\", \"sir\", \"sir\", \"site\", \"site\", \"sk\", \"skxh\", \"skype\", \"sleep\", \"sleep\", \"sleep\", \"sleep\", \"slept\", \"smile\", \"smile\", \"smile\", \"smile\", \"smth\", \"smth\", \"sol\", \"someone\", \"someone\", \"someone\", \"someone\", \"someone\", \"someone\", \"someone\", \"someone\", \"someone\", \"something\", \"something\", \"something\", \"something\", \"something\", \"something\", \"something\", \"something\", \"sorry\", \"sorry\", \"sorry\", \"sorry\", \"sorry\", \"sorry\", \"sorry\", \"sorry\", \"south\", \"speak\", \"speak\", \"speak\", \"spree\", \"standard\", \"statement\", \"statement\", \"statement\", \"station\", \"std\", \"stock\", \"stockport\", \"stop\", \"stop\", \"stop\", \"stop\", \"stop\", \"stop\", \"stop\", \"stop\", \"stop\", \"story\", \"story\", \"story\", \"story\", \"street\", \"student\", \"study\", \"stuff\", \"stuff\", \"stuff\", \"stuff\", \"stuff\", \"stuff\", \"stuff\", \"suck\", \"summer\", \"summer\", \"support\", \"support\", \"sure\", \"surprise\", \"sweet\", \"talk\", \"talk\", \"talk\", \"talk\", \"talk\", \"talk\", \"tat\", \"tc\", \"tc\", \"tc\", \"tc\", \"tc\", \"tc\", \"tc\", \"tease\", \"tell\", \"tell\", \"tell\", \"tell\", \"tell\", \"tell\", \"test\", \"test\", \"test\", \"test\", \"test\", \"text\", \"text\", \"text\", \"text\", \"text\", \"text\", \"text\", \"text\", \"text\", \"text\", \"th\", \"th\", \"th\", \"thanks\", \"thanks\", \"thanks\", \"thanks\", \"thanks\", \"thanks\", \"thanks\", \"thanx\", \"thanx\", \"thanx\", \"thanx\", \"thanx\", \"thanx\", \"thanx\", \"thats\", \"thats\", \"thats\", \"thats\", \"thats\", \"thats\", \"thats\", \"thing\", \"thing\", \"thing\", \"thing\", \"thing\", \"thing\", \"thing\", \"thing\", \"thing\", \"think\", \"think\", \"think\", \"think\", \"think\", \"think\", \"think\", \"thnk\", \"thought\", \"thru\", \"tick\", \"til\", \"til\", \"til\", \"time\", \"time\", \"time\", \"time\", \"time\", \"time\", \"time\", \"time\", \"time\", \"time\", \"toclaim\", \"today\", \"today\", \"today\", \"today\", \"today\", \"today\", \"today\", \"today\", \"today\", \"today\", \"tomo\", \"tomo\", \"tomorrow\", \"tomorrow\", \"tomorrow\", \"tomorrow\", \"tomorrow\", \"tone\", \"tone\", \"tone\", \"tone\", \"tone\", \"tone\", \"tonight\", \"tonight\", \"tonight\", \"tonight\", \"tonight\", \"tonight\", \"tonight\", \"tonight\", \"tot\", \"tot\", \"touch\", \"town\", \"town\", \"town\", \"town\", \"town\", \"training\", \"travel\", \"trip\", \"trip\", \"trip\", \"truth\", \"try\", \"try\", \"try\", \"try\", \"try\", \"tuesday\", \"txt\", \"txt\", \"txt\", \"txt\", \"txt\", \"txt\", \"txt\", \"txt\", \"txt\", \"txt\", \"txts\", \"tyler\", \"uncle\", \"uncle\", \"use\", \"use\", \"use\", \"use\", \"use\", \"use\", \"use\", \"user\", \"version\", \"video\", \"video\", \"videophones\", \"voice\", \"voice\", \"vomit\", \"vote\", \"wait\", \"wait\", \"wait\", \"wait\", \"wait\", \"wait\", \"wait\", \"wait\", \"wait\", \"walk\", \"walk\", \"wan\", \"wan\", \"wan\", \"wan\", \"wan\", \"wan\", \"want\", \"want\", \"wasnt\", \"waste\", \"wat\", \"wat\", \"wat\", \"wat\", \"wat\", \"wat\", \"wat\", \"wat\", \"wat\", \"water\", \"water\", \"way\", \"way\", \"way\", \"way\", \"way\", \"way\", \"way\", \"way\", \"way\", \"week\", \"week\", \"week\", \"week\", \"week\", \"week\", \"week\", \"week\", \"week\", \"weekend\", \"weekend\", \"weekend\", \"weekend\", \"weekend\", \"wen\", \"wen\", \"wen\", \"wif\", \"wif\", \"wif\", \"wif\", \"wife\", \"wil\", \"wil\", \"wish\", \"work\", \"work\", \"work\", \"work\", \"work\", \"work\", \"work\", \"work\", \"worry\", \"worry\", \"worry\", \"worry\", \"wot\", \"wot\", \"wp\", \"wwq\", \"wwx\", \"xx\", \"xy\", \"ya\", \"ya\", \"ya\", \"ya\", \"ya\", \"yar\", \"yar\", \"yay\", \"yeah\", \"yeah\", \"yeah\", \"yeah\", \"yeah\", \"yeah\", \"year\", \"year\", \"year\", \"year\", \"year\", \"year\", \"year\", \"year\", \"yer\", \"yes\", \"yes\", \"yes\", \"yes\", \"yes\", \"yes\", \"yes\", \"yo\", \"yo\", \"yo\", \"yo\", \"youre\", \"youre\", \"youre\", \"youre\", \"youre\", \"youre\", \"yup\", \"yup\", \"yup\", \"yup\", \"yup\", \"\\u00e5\\u00a3\", \"\\u00e5\\u00a3\", \"\\u00e5\\u00a3\", \"\\u00e5\\u00a3\", \"\\u00e5\\u00a3\", \"\\u00ec\", \"\\u00ec\", \"\\u00ec\", \"\\u00ec\", \"\\u00ec\"]}, \"R\": 30, \"lambda.step\": 0.01, \"plot.opts\": {\"xlab\": \"PC1\", \"ylab\": \"PC2\"}, \"topic.order\": [2, 7, 3, 1, 6, 4, 8, 10, 5, 9]};\n",
       "\n",
       "function LDAvis_load_lib(url, callback){\n",
       "  var s = document.createElement('script');\n",
       "  s.src = url;\n",
       "  s.async = true;\n",
       "  s.onreadystatechange = s.onload = callback;\n",
       "  s.onerror = function(){console.warn(\"failed to load library \" + url);};\n",
       "  document.getElementsByTagName(\"head\")[0].appendChild(s);\n",
       "}\n",
       "\n",
       "if(typeof(LDAvis) !== \"undefined\"){\n",
       "   // already loaded: just create the visualization\n",
       "   !function(LDAvis){\n",
       "       new LDAvis(\"#\" + \"ldavis_el7161553999119368942594856\", ldavis_el7161553999119368942594856_data);\n",
       "   }(LDAvis);\n",
       "}else if(typeof define === \"function\" && define.amd){\n",
       "   // require.js is available: use it to load d3/LDAvis\n",
       "   require.config({paths: {d3: \"https://d3js.org/d3.v5\"}});\n",
       "   require([\"d3\"], function(d3){\n",
       "      window.d3 = d3;\n",
       "      LDAvis_load_lib(\"https://cdn.jsdelivr.net/gh/bmabey/pyLDAvis@3.4.0/pyLDAvis/js/ldavis.v3.0.0.js\", function(){\n",
       "        new LDAvis(\"#\" + \"ldavis_el7161553999119368942594856\", ldavis_el7161553999119368942594856_data);\n",
       "      });\n",
       "    });\n",
       "}else{\n",
       "    // require.js not available: dynamically load d3 & LDAvis\n",
       "    LDAvis_load_lib(\"https://d3js.org/d3.v5.js\", function(){\n",
       "         LDAvis_load_lib(\"https://cdn.jsdelivr.net/gh/bmabey/pyLDAvis@3.4.0/pyLDAvis/js/ldavis.v3.0.0.js\", function(){\n",
       "                 new LDAvis(\"#\" + \"ldavis_el7161553999119368942594856\", ldavis_el7161553999119368942594856_data);\n",
       "            })\n",
       "         });\n",
       "}\n",
       "</script>"
      ],
      "text/plain": [
       "PreparedData(topic_coordinates=              x         y  topics  cluster       Freq\n",
       "topic                                                \n",
       "1      0.021636  0.011099       1        1  13.602396\n",
       "6     -0.121378  0.117784       2        1  11.176769\n",
       "2      0.146622  0.095065       3        1  10.857177\n",
       "0      0.055685 -0.047574       4        1  10.187732\n",
       "5     -0.101050 -0.040267       5        1   9.894725\n",
       "3      0.027414  0.139717       6        1   9.460944\n",
       "7      0.031936 -0.139177       7        1   9.292504\n",
       "9     -0.007011 -0.054910       8        1   9.248479\n",
       "4      0.097331 -0.054040       9        1   8.478756\n",
       "8     -0.151184 -0.027696      10        1   7.800519, topic_info=       Term        Freq       Total Category  logprob  loglift\n",
       "62       im  340.000000  340.000000  Default  30.0000  30.0000\n",
       "368   thing  119.000000  119.000000  Default  29.0000  29.0000\n",
       "87     time  219.000000  219.000000  Default  28.0000  28.0000\n",
       "45     call  424.000000  424.000000  Default  27.0000  27.0000\n",
       "407  number  114.000000  114.000000  Default  26.0000  26.0000\n",
       "..      ...         ...         ...      ...      ...      ...\n",
       "307   night   17.182671  110.612650  Topic10  -4.7388   0.6888\n",
       "80    prize   13.989054   61.099476  Topic10  -4.9444   1.0768\n",
       "147   thats   14.469791   88.171670  Topic10  -4.9106   0.7438\n",
       "104     way   13.934906   93.824982  Topic10  -4.9483   0.6439\n",
       "46    claim   12.011984  104.299283  Topic10  -5.0968   0.3896\n",
       "\n",
       "[659 rows x 6 columns], token_table=      Topic      Freq     Term\n",
       "term                          \n",
       "811       7  0.837254   access\n",
       "395       4  0.647009  account\n",
       "395       5  0.053917  account\n",
       "395       7  0.080876  account\n",
       "395       8  0.053917  account\n",
       "...     ...       ...      ...\n",
       "995       1  0.184290        ì\n",
       "995       4  0.342252        ì\n",
       "995       5  0.105308        ì\n",
       "995       7  0.052654        ì\n",
       "995       8  0.289598        ì\n",
       "\n",
       "[1593 rows x 3 columns], R=30, lambda_step=0.01, plot_opts={'xlab': 'PC1', 'ylab': 'PC2'}, topic_order=[2, 7, 3, 1, 6, 4, 8, 10, 5, 9])"
      ]
     },
     "execution_count": 18,
     "metadata": {},
     "output_type": "execute_result"
    }
   ],
   "source": [
    "# !pip install pyLDAvis\n",
    "import pyLDAvis.gensim\n",
    "\n",
    "pyLDAvis.enable_notebook()\n",
    "pyLDAvis.gensim.prepare(ldamodel, corpus, dictionary)"
   ]
  },
  {
   "cell_type": "markdown",
   "id": "8408baff-b978-4dfe-9e97-9bc28063cee3",
   "metadata": {},
   "source": [
    " Obtener targets de las opiniones y sus aspectos utilizando el modelo word2vec"
   ]
  },
  {
   "cell_type": "markdown",
   "id": "fae1d79f-d790-4a89-9c44-7740d621a8ee",
   "metadata": {},
   "source": [
    "## Vectorizar palabras y términos con Word2Vec.\n",
    "\n",
    "El paquete gensim implementa el método para entrenar modelos Word2Vec."
   ]
  },
  {
   "cell_type": "code",
   "execution_count": 19,
   "id": "0d65d779-4851-4d5a-b6cf-005a424e73c3",
   "metadata": {},
   "outputs": [],
   "source": [
    "import gensim\n",
    "\n",
    "#Crear un modelo word2vec de las opiniones lematizadas. \n",
    "\n",
    "\n",
    "w2v_opinions = gensim.models.Word2Vec(\n",
    "        data.norm_text, \n",
    "        window=10, \n",
    "        min_count= 3, \n",
    "        workers= 1,\n",
    "        seed=1 \n",
    ")"
   ]
  },
  {
   "cell_type": "markdown",
   "id": "012c7499-6b5c-41b3-95a6-31e71ff6ab1a",
   "metadata": {},
   "source": [
    "A partir del vocabulario del modelo word2vec, seleccionar posibles aspectos de la opinión (call) y listar términos semánticamente relacionados con estos aspectos según este modelo.\n"
   ]
  },
  {
   "cell_type": "code",
   "execution_count": 44,
   "id": "50d4c793-ad49-4ad6-af14-ccc7cbb2dab2",
   "metadata": {},
   "outputs": [
    {
     "data": {
      "text/html": [
       "<div>\n",
       "<style scoped>\n",
       "    .dataframe tbody tr th:only-of-type {\n",
       "        vertical-align: middle;\n",
       "    }\n",
       "\n",
       "    .dataframe tbody tr th {\n",
       "        vertical-align: top;\n",
       "    }\n",
       "\n",
       "    .dataframe thead th {\n",
       "        text-align: right;\n",
       "    }\n",
       "</style>\n",
       "<table border=\"1\" class=\"dataframe\">\n",
       "  <thead>\n",
       "    <tr style=\"text-align: right;\">\n",
       "      <th></th>\n",
       "      <th>Term</th>\n",
       "      <th>Similitud</th>\n",
       "    </tr>\n",
       "  </thead>\n",
       "  <tbody>\n",
       "    <tr>\n",
       "      <th>0</th>\n",
       "      <td>å£</td>\n",
       "      <td>0.999648</td>\n",
       "    </tr>\n",
       "    <tr>\n",
       "      <th>1</th>\n",
       "      <td>draw</td>\n",
       "      <td>0.999411</td>\n",
       "    </tr>\n",
       "    <tr>\n",
       "      <th>2</th>\n",
       "      <td>cash</td>\n",
       "      <td>0.999407</td>\n",
       "    </tr>\n",
       "    <tr>\n",
       "      <th>3</th>\n",
       "      <td>urgent</td>\n",
       "      <td>0.999363</td>\n",
       "    </tr>\n",
       "    <tr>\n",
       "      <th>4</th>\n",
       "      <td>awarded</td>\n",
       "      <td>0.999304</td>\n",
       "    </tr>\n",
       "    <tr>\n",
       "      <th>5</th>\n",
       "      <td>prize</td>\n",
       "      <td>0.999157</td>\n",
       "    </tr>\n",
       "    <tr>\n",
       "      <th>6</th>\n",
       "      <td>call</td>\n",
       "      <td>0.999133</td>\n",
       "    </tr>\n",
       "    <tr>\n",
       "      <th>7</th>\n",
       "      <td>award</td>\n",
       "      <td>0.999070</td>\n",
       "    </tr>\n",
       "    <tr>\n",
       "      <th>8</th>\n",
       "      <td>line</td>\n",
       "      <td>0.999005</td>\n",
       "    </tr>\n",
       "    <tr>\n",
       "      <th>9</th>\n",
       "      <td>ppm</td>\n",
       "      <td>0.998878</td>\n",
       "    </tr>\n",
       "    <tr>\n",
       "      <th>10</th>\n",
       "      <td>customer</td>\n",
       "      <td>0.998840</td>\n",
       "    </tr>\n",
       "    <tr>\n",
       "      <th>11</th>\n",
       "      <td>mobile</td>\n",
       "      <td>0.998775</td>\n",
       "    </tr>\n",
       "    <tr>\n",
       "      <th>12</th>\n",
       "      <td>contact</td>\n",
       "      <td>0.998770</td>\n",
       "    </tr>\n",
       "    <tr>\n",
       "      <th>13</th>\n",
       "      <td>hr</td>\n",
       "      <td>0.998635</td>\n",
       "    </tr>\n",
       "    <tr>\n",
       "      <th>14</th>\n",
       "      <td>guaranteed</td>\n",
       "      <td>0.998633</td>\n",
       "    </tr>\n",
       "    <tr>\n",
       "      <th>15</th>\n",
       "      <td>bonus</td>\n",
       "      <td>0.998534</td>\n",
       "    </tr>\n",
       "    <tr>\n",
       "      <th>16</th>\n",
       "      <td>code</td>\n",
       "      <td>0.998477</td>\n",
       "    </tr>\n",
       "    <tr>\n",
       "      <th>17</th>\n",
       "      <td>nd</td>\n",
       "      <td>0.998456</td>\n",
       "    </tr>\n",
       "    <tr>\n",
       "      <th>18</th>\n",
       "      <td>selected</td>\n",
       "      <td>0.998383</td>\n",
       "    </tr>\n",
       "    <tr>\n",
       "      <th>19</th>\n",
       "      <td>number</td>\n",
       "      <td>0.998376</td>\n",
       "    </tr>\n",
       "  </tbody>\n",
       "</table>\n",
       "</div>"
      ],
      "text/plain": [
       "          Term  Similitud\n",
       "0           å£   0.999648\n",
       "1         draw   0.999411\n",
       "2         cash   0.999407\n",
       "3       urgent   0.999363\n",
       "4      awarded   0.999304\n",
       "5        prize   0.999157\n",
       "6         call   0.999133\n",
       "7        award   0.999070\n",
       "8         line   0.999005\n",
       "9          ppm   0.998878\n",
       "10    customer   0.998840\n",
       "11      mobile   0.998775\n",
       "12     contact   0.998770\n",
       "13          hr   0.998635\n",
       "14  guaranteed   0.998633\n",
       "15       bonus   0.998534\n",
       "16        code   0.998477\n",
       "17          nd   0.998456\n",
       "18    selected   0.998383\n",
       "19      number   0.998376"
      ]
     },
     "execution_count": 44,
     "metadata": {},
     "output_type": "execute_result"
    }
   ],
   "source": [
    "#Obtener el vocabulario:\n",
    "vocabulary = list(w2v_opinions.wv.key_to_index.keys())\n",
    "\n",
    "opinion_w2v_tuples = []\n",
    "\n",
    "term = 'claim'\n",
    "\n",
    "for i in range(0, len(vocabulary)):\n",
    "    if vocabulary[i] != term and w2v_opinions.wv.similarity(term, vocabulary[i]) > 0:\n",
    "        opinion_w2v_tuples.append((vocabulary[i], w2v_opinions.wv.similarity(term, vocabulary[i])))\n",
    "    \n",
    "opinion_w2v_sorted_tuples = sorted(opinion_w2v_tuples, key=lambda tup: tup[1], reverse=True)\n",
    "\n",
    "labels = ['Term', 'Similitud']\n",
    "\n",
    "df_opinion_msn = pd.DataFrame.from_records(opinion_w2v_sorted_tuples, columns=labels)\n",
    "\n",
    "df_opinion_msn.head(20)"
   ]
  },
  {
   "cell_type": "markdown",
   "id": "ae1a05fd-19c7-48da-8456-f59c58a8fbaf",
   "metadata": {},
   "source": [
    "Filtrar los documentos que tienen las palabras \"claim\" y \"cash\" para descubrir por qué dice la gente los relaciona de forma frecuente. "
   ]
  },
  {
   "cell_type": "code",
   "execution_count": 27,
   "id": "4f3522a1-1647-4a2c-b111-592a21298846",
   "metadata": {},
   "outputs": [
    {
     "data": {
      "text/plain": [
       "['WINNER!! As a valued network customer you have been selected to receivea å£900 prize reward! To claim call 09061701461. Claim code KL341. Valid 12 hours only.',\n",
       " 'Urgent UR awarded a complimentary trip to EuroDisinc Trav, Aco&Entry41 Or å£1000. To claim txt DIS to 87121 18+6*å£1.50(moreFrmMob. ShrAcomOrSglSuplt)10, LS1 3AJ',\n",
       " \"Yes I started to send requests to make it but pain came back so I'm back in bed. Double coins at the factory too. I gotta cash in all my nitros.\",\n",
       " 'Please call our customer service representative on 0800 169 6031 between 10am-9pm as you have WON a guaranteed å£1000 cash or å£5000 prize!',\n",
       " \"Aight, I'll hit you up when I get some cash\",\n",
       " 'You are a winner U have been specially selected 2 receive å£1000 or a 4* holiday (flights inc) speak to a live operator 2 claim 0871277810910p/min (18+) ',\n",
       " 'PRIVATE! Your 2004 Account Statement for 07742676969 shows 786 unredeemed Bonus Points. To claim call 08719180248 Identifier Code: 45239 Expires',\n",
       " 'Todays Voda numbers ending 7548 are selected to receive a $350 award. If you have a match please call 08712300220 quoting claim code 4041 standard rates app',\n",
       " 'You are a winner U have been specially selected 2 receive å£1000 cash or a 4* holiday (flights inc) speak to a live operator 2 claim 0871277810810',\n",
       " 'Please call our customer service representative on FREEPHONE 0808 145 4742 between 9am-11pm as you have WON a guaranteed å£1000 cash or å£5000 prize!']"
      ]
     },
     "execution_count": 27,
     "metadata": {},
     "output_type": "execute_result"
    }
   ],
   "source": [
    "data_claim = data[data['text'].str.contains('claim|cash')]\n",
    "data_claim['text'].to_list()[:10]"
   ]
  },
  {
   "cell_type": "markdown",
   "id": "336d4b80-2443-4053-a0cf-30e2950d59d5",
   "metadata": {},
   "source": [
    "En varios de los mensajes revisados se identifica un patrón: **¿estafa?**"
   ]
  },
  {
   "cell_type": "code",
   "execution_count": 32,
   "id": "80b7f38e-4cfc-4499-a99b-1851732832eb",
   "metadata": {},
   "outputs": [
    {
     "data": {
      "text/html": [
       "<div>\n",
       "<style scoped>\n",
       "    .dataframe tbody tr th:only-of-type {\n",
       "        vertical-align: middle;\n",
       "    }\n",
       "\n",
       "    .dataframe tbody tr th {\n",
       "        vertical-align: top;\n",
       "    }\n",
       "\n",
       "    .dataframe thead th {\n",
       "        text-align: right;\n",
       "    }\n",
       "</style>\n",
       "<table border=\"1\" class=\"dataframe\">\n",
       "  <thead>\n",
       "    <tr style=\"text-align: right;\">\n",
       "      <th></th>\n",
       "      <th>text</th>\n",
       "      <th>target</th>\n",
       "    </tr>\n",
       "  </thead>\n",
       "  <tbody>\n",
       "    <tr>\n",
       "      <th>5378</th>\n",
       "      <td>Free entry to the gr8prizes wkly comp 4 a chance to win the latest Nokia 8800, PSP or å£250 cash every wk.TXT GREAT to 80878 http//www.gr8prizes.com 08715705022</td>\n",
       "      <td>spam</td>\n",
       "    </tr>\n",
       "    <tr>\n",
       "      <th>1873</th>\n",
       "      <td>You have WON a guaranteed å£1000 cash or a å£2000 prize.To claim yr prize call our customer service representative on</td>\n",
       "      <td>spam</td>\n",
       "    </tr>\n",
       "    <tr>\n",
       "      <th>3187</th>\n",
       "      <td>This is the 2nd time we have tried 2 contact u. U have won the 750 Pound prize. 2 claim is easy, call 08712101358 NOW! Only 10p per min. BT-national-rate</td>\n",
       "      <td>spam</td>\n",
       "    </tr>\n",
       "    <tr>\n",
       "      <th>4045</th>\n",
       "      <td>Win a å£1000 cash prize or a prize worth å£5000</td>\n",
       "      <td>spam</td>\n",
       "    </tr>\n",
       "    <tr>\n",
       "      <th>4784</th>\n",
       "      <td>Urgent -call 09066649731from Landline. Your complimentary 4* Ibiza Holiday or å£10,000 cash await collection SAE T&amp;Cs PO BOX 434 SK3 8WP 150ppm 18+</td>\n",
       "      <td>spam</td>\n",
       "    </tr>\n",
       "    <tr>\n",
       "      <th>2091</th>\n",
       "      <td>Then get some cash together and I'll text jason</td>\n",
       "      <td>ham</td>\n",
       "    </tr>\n",
       "    <tr>\n",
       "      <th>5368</th>\n",
       "      <td>IMPORTANT MESSAGE. This is a final contact attempt. You have important messages waiting out our customer claims dept. Expires 13/4/04. Call 08717507382 NOW!</td>\n",
       "      <td>spam</td>\n",
       "    </tr>\n",
       "    <tr>\n",
       "      <th>4758</th>\n",
       "      <td>Thanks 4 your continued support Your question this week will enter u in2 our draw 4 å£100 cash. Name the NEW US President? txt ans to 80082</td>\n",
       "      <td>spam</td>\n",
       "    </tr>\n",
       "    <tr>\n",
       "      <th>5232</th>\n",
       "      <td>YOU ARE CHOSEN TO RECEIVE A å£350 AWARD! Pls call claim number 09066364311 to collect your award which you are selected to receive as a valued mobile customer.</td>\n",
       "      <td>spam</td>\n",
       "    </tr>\n",
       "    <tr>\n",
       "      <th>1740</th>\n",
       "      <td>UR GOING 2 BAHAMAS! CallFREEFONE 08081560665 and speak to a live operator to claim either Bahamas cruise ofå£2000 CASH 18+only. To opt out txt X to 07786200117</td>\n",
       "      <td>spam</td>\n",
       "    </tr>\n",
       "  </tbody>\n",
       "</table>\n",
       "</div>"
      ],
      "text/plain": [
       "                                                                                                                                                                  text  \\\n",
       "5378  Free entry to the gr8prizes wkly comp 4 a chance to win the latest Nokia 8800, PSP or å£250 cash every wk.TXT GREAT to 80878 http//www.gr8prizes.com 08715705022   \n",
       "1873                                             You have WON a guaranteed å£1000 cash or a å£2000 prize.To claim yr prize call our customer service representative on   \n",
       "3187         This is the 2nd time we have tried 2 contact u. U have won the 750 Pound prize. 2 claim is easy, call 08712101358 NOW! Only 10p per min. BT-national-rate   \n",
       "4045                                                                                                                   Win a å£1000 cash prize or a prize worth å£5000   \n",
       "4784               Urgent -call 09066649731from Landline. Your complimentary 4* Ibiza Holiday or å£10,000 cash await collection SAE T&Cs PO BOX 434 SK3 8WP 150ppm 18+   \n",
       "2091                                                                                                                   Then get some cash together and I'll text jason   \n",
       "5368      IMPORTANT MESSAGE. This is a final contact attempt. You have important messages waiting out our customer claims dept. Expires 13/4/04. Call 08717507382 NOW!   \n",
       "4758                       Thanks 4 your continued support Your question this week will enter u in2 our draw 4 å£100 cash. Name the NEW US President? txt ans to 80082   \n",
       "5232   YOU ARE CHOSEN TO RECEIVE A å£350 AWARD! Pls call claim number 09066364311 to collect your award which you are selected to receive as a valued mobile customer.   \n",
       "1740   UR GOING 2 BAHAMAS! CallFREEFONE 08081560665 and speak to a live operator to claim either Bahamas cruise ofå£2000 CASH 18+only. To opt out txt X to 07786200117   \n",
       "\n",
       "     target  \n",
       "5378   spam  \n",
       "1873   spam  \n",
       "3187   spam  \n",
       "4045   spam  \n",
       "4784   spam  \n",
       "2091    ham  \n",
       "5368   spam  \n",
       "4758   spam  \n",
       "5232   spam  \n",
       "1740   spam  "
      ]
     },
     "execution_count": 32,
     "metadata": {},
     "output_type": "execute_result"
    }
   ],
   "source": [
    "# Veamos la clase asociada a cada mensaje\n",
    "data_claim[['text', 'target']].sample(10, random_state = 1)"
   ]
  },
  {
   "cell_type": "markdown",
   "id": "76200ac3-8a0c-49cd-b358-426f7426bf6b",
   "metadata": {},
   "source": [
    "La mayoría de los mensajes revisados están clasificados como **spam** ¿cuántos?"
   ]
  },
  {
   "cell_type": "code",
   "execution_count": 34,
   "id": "ccd4870b-5057-46f8-b712-9d9aefe735c8",
   "metadata": {},
   "outputs": [
    {
     "data": {
      "text/plain": [
       "target\n",
       "spam    114\n",
       "ham      13\n",
       "Name: count, dtype: int64"
      ]
     },
     "execution_count": 34,
     "metadata": {},
     "output_type": "execute_result"
    }
   ],
   "source": [
    "#cantidad de mensajes en lo que hay claim y cash:\n",
    "data_claim.shape\n",
    "#cantidad de mensajes por categoría:\n",
    "data_claim['target'].value_counts()"
   ]
  },
  {
   "cell_type": "code",
   "execution_count": 40,
   "id": "9be432fa-9858-4935-b389-b7563c9230ed",
   "metadata": {},
   "outputs": [
    {
     "data": {
      "text/html": [
       "<div>\n",
       "<style scoped>\n",
       "    .dataframe tbody tr th:only-of-type {\n",
       "        vertical-align: middle;\n",
       "    }\n",
       "\n",
       "    .dataframe tbody tr th {\n",
       "        vertical-align: top;\n",
       "    }\n",
       "\n",
       "    .dataframe thead th {\n",
       "        text-align: right;\n",
       "    }\n",
       "</style>\n",
       "<table border=\"1\" class=\"dataframe\">\n",
       "  <thead>\n",
       "    <tr style=\"text-align: right;\">\n",
       "      <th></th>\n",
       "      <th>text</th>\n",
       "    </tr>\n",
       "  </thead>\n",
       "  <tbody>\n",
       "    <tr>\n",
       "      <th>87</th>\n",
       "      <td>Yes I started to send requests to make it but pain came back so I'm back in bed. Double coins at the factory too. I gotta cash in all my nitros.</td>\n",
       "    </tr>\n",
       "    <tr>\n",
       "      <th>106</th>\n",
       "      <td>Aight, I'll hit you up when I get some cash</td>\n",
       "    </tr>\n",
       "    <tr>\n",
       "      <th>602</th>\n",
       "      <td>Speaking of does he have any cash yet?</td>\n",
       "    </tr>\n",
       "    <tr>\n",
       "      <th>624</th>\n",
       "      <td>Nah it's straight, if you can just bring bud or drinks or something that's actually a little more useful than straight cash</td>\n",
       "    </tr>\n",
       "    <tr>\n",
       "      <th>1260</th>\n",
       "      <td>Yo, I'm at my parents' gettin cash. Good news: we picked up a downstem</td>\n",
       "    </tr>\n",
       "    <tr>\n",
       "      <th>2091</th>\n",
       "      <td>Then get some cash together and I'll text jason</td>\n",
       "    </tr>\n",
       "    <tr>\n",
       "      <th>2614</th>\n",
       "      <td>Sir, hope your day is going smoothly. i really hoped i wont have to bother you about this. I have some bills that i can't settle this month. I am out of all extra cash. I know this is a challenging time for you also but i have to let you know.</td>\n",
       "    </tr>\n",
       "    <tr>\n",
       "      <th>3108</th>\n",
       "      <td>Lol I was gonna last month. I cashed some in but I left &amp;lt;#&amp;gt; just in case. I was collecting more during the week cause they announced it on the blog.</td>\n",
       "    </tr>\n",
       "    <tr>\n",
       "      <th>3798</th>\n",
       "      <td>Actually nvm, got hella cash, we still on for  &amp;lt;#&amp;gt; ish?</td>\n",
       "    </tr>\n",
       "    <tr>\n",
       "      <th>4670</th>\n",
       "      <td>Probably not, I'm almost out of gas and I get some cash tomorrow</td>\n",
       "    </tr>\n",
       "    <tr>\n",
       "      <th>5014</th>\n",
       "      <td>I think the other two still need to get cash but we can def be ready by 9</td>\n",
       "    </tr>\n",
       "    <tr>\n",
       "      <th>5161</th>\n",
       "      <td>Lol no. I just need to cash in my nitros. Hurry come on before I crash out!</td>\n",
       "    </tr>\n",
       "    <tr>\n",
       "      <th>5554</th>\n",
       "      <td>Well keep in mind I've only got enough gas for one more round trip barring a sudden influx of cash</td>\n",
       "    </tr>\n",
       "  </tbody>\n",
       "</table>\n",
       "</div>"
      ],
      "text/plain": [
       "                                                                                                                                                                                                                                                     text\n",
       "87                                                                                                       Yes I started to send requests to make it but pain came back so I'm back in bed. Double coins at the factory too. I gotta cash in all my nitros.\n",
       "106                                                                                                                                                                                                           Aight, I'll hit you up when I get some cash\n",
       "602                                                                                                                                                                                                                Speaking of does he have any cash yet?\n",
       "624                                                                                                                           Nah it's straight, if you can just bring bud or drinks or something that's actually a little more useful than straight cash\n",
       "1260                                                                                                                                                                               Yo, I'm at my parents' gettin cash. Good news: we picked up a downstem\n",
       "2091                                                                                                                                                                                                      Then get some cash together and I'll text jason\n",
       "2614  Sir, hope your day is going smoothly. i really hoped i wont have to bother you about this. I have some bills that i can't settle this month. I am out of all extra cash. I know this is a challenging time for you also but i have to let you know.\n",
       "3108                                                                                           Lol I was gonna last month. I cashed some in but I left &lt;#&gt; just in case. I was collecting more during the week cause they announced it on the blog.\n",
       "3798                                                                                                                                                                                        Actually nvm, got hella cash, we still on for  &lt;#&gt; ish?\n",
       "4670                                                                                                                                                                                     Probably not, I'm almost out of gas and I get some cash tomorrow\n",
       "5014                                                                                                                                                                            I think the other two still need to get cash but we can def be ready by 9\n",
       "5161                                                                                                                                                                          Lol no. I just need to cash in my nitros. Hurry come on before I crash out!\n",
       "5554                                                                                                                                                   Well keep in mind I've only got enough gas for one more round trip barring a sudden influx of cash"
      ]
     },
     "execution_count": 40,
     "metadata": {},
     "output_type": "execute_result"
    }
   ],
   "source": [
    "data_claim[data_claim['target']=='ham'][['text']]"
   ]
  },
  {
   "cell_type": "code",
   "execution_count": 43,
   "id": "b47522c6-25d7-4fed-8dc2-23e67c4cc8ec",
   "metadata": {},
   "outputs": [
    {
     "name": "stdout",
     "output_type": "stream",
     "text": [
      "[-0.13418166  0.44490755  0.12138461  0.21206103 -0.00827794 -0.82713807\n",
      "  0.31698495  1.176215   -0.33177388 -0.2681997  -0.343002   -0.6643424\n",
      " -0.4374638   0.33283994  0.24190699 -0.44246125 -0.02426469 -0.76515377\n",
      " -0.03956847 -0.95109576  0.19872445  0.477969    0.11202367 -0.07213885\n",
      " -0.09470686 -0.07986061 -0.55422753 -0.6595815  -0.5631862   0.16406758\n",
      "  0.44761428  0.23817393  0.0515654  -0.1353634  -0.39129594  0.58246326\n",
      " -0.08368029 -0.7312183  -0.36403626 -1.1271764   0.0921372  -0.5767545\n",
      " -0.02736039 -0.08437293  0.67282534 -0.13547203 -0.386186   -0.10739736\n",
      "  0.2082831   0.511056    0.31494966 -0.6995141  -0.05873352 -0.01917737\n",
      " -0.2883541   0.43869877  0.4170522  -0.20821421 -0.5123256   0.0722736\n",
      "  0.16092618  0.32100725 -0.19174619 -0.31480962 -0.63292384  0.382321\n",
      " -0.0137976   0.47857523 -0.81680894  0.7567161  -0.28708935  0.05952022\n",
      "  0.7068754  -0.2539527   0.6791874   0.31063926 -0.13228157  0.02254582\n",
      " -0.5589634   0.10635392 -0.04555888  0.01661677 -0.6834957   0.86428607\n",
      "  0.05444223 -0.02975622  0.0538438   0.713973    0.7618594   0.14908887\n",
      "  0.59622574  0.2028778  -0.30116147  0.15911339  0.7682191   0.54404306\n",
      "  0.40598243 -0.5290183   0.2642753  -0.26886186]\n"
     ]
    },
    {
     "data": {
      "text/plain": [
       "100"
      ]
     },
     "execution_count": 43,
     "metadata": {},
     "output_type": "execute_result"
    }
   ],
   "source": [
    "# Vectores de cada término:\n",
    "\n",
    "print(w2v_opinions.wv['claim'])\n",
    "len(w2v_opinions.wv['claim']) # longitud de los arreglos: 100"
   ]
  },
  {
   "cell_type": "code",
   "execution_count": 52,
   "id": "726c6092-7ed4-427e-8b94-7d782681053b",
   "metadata": {},
   "outputs": [
    {
     "data": {
      "text/plain": [
       "array([[ 0.54410644,  0.14263146],\n",
       "       [-0.28223228,  0.102101  ],\n",
       "       [-0.71997645, -0.06089546],\n",
       "       [ 1.45495201, -0.11252609],\n",
       "       [-0.99684972, -0.07131092]])"
      ]
     },
     "execution_count": 52,
     "metadata": {},
     "output_type": "execute_result"
    }
   ],
   "source": [
    "# Obtener los vectores de ciertas palabras:\n",
    "\n",
    "terms = ['claim', 'cash', 'thanks', 'call', 'sorry']\n",
    "\n",
    "vectors_terms = [] # Para guardar los vectores de todas las palabras de interés.\n",
    "for t in terms:\n",
    "    vectors_terms.append(w2v_opinions.wv[t]) \n",
    "\n",
    "# Reducir la dimensionalidad con PCA:\n",
    "from sklearn.decomposition import PCA\n",
    "\n",
    "# Reducir dimensiones (de 100 a 2 CP) usando PCA\n",
    "pca = PCA(n_components=2)\n",
    "vectors_pca = pca.fit_transform(vectors_terms)\n",
    "vectors_pca"
   ]
  },
  {
   "cell_type": "code",
   "execution_count": 55,
   "id": "0b77fe36-8875-446b-92b0-026b253db9f5",
   "metadata": {},
   "outputs": [
    {
     "data": {
      "image/png": "[encoded data removed]",
      "text/plain": [
       "<Figure size 500x500 with 1 Axes>"
      ]
     },
     "metadata": {},
     "output_type": "display_data"
    }
   ],
   "source": [
    "# Visualización:\n",
    "\n",
    "import matplotlib.pyplot as plt\n",
    "%matplotlib inline\n",
    "\n",
    "# Visualizar\n",
    "fig, axes = plt.subplots(1, 1, figsize=(5, 5))\n",
    "axes.scatter(vectors_pca[:, 0], vectors_pca[:, 1])\n",
    "for i, word in enumerate(terms):\n",
    "    axes.annotate(word, (vectors_pca[i, 0]+.02, vectors_pca[i, 1]+.02))\n",
    "axes.set_title('PCA de Embeddings de Palabras')\n",
    "plt.show()"
   ]
  }
 ],
 "metadata": {
  "kernelspec": {
   "display_name": "env_master",
   "language": "python",
   "name": "python3"
  },
  "language_info": {
   "codemirror_mode": {
    "name": "ipython",
    "version": 3
   },
   "file_extension": ".py",
   "mimetype": "text/x-python",
   "name": "python",
   "nbconvert_exporter": "python",
   "pygments_lexer": "ipython3",
   "version": "3.11.10"
  }
 },
 "nbformat": 4,
 "nbformat_minor": 5
}
