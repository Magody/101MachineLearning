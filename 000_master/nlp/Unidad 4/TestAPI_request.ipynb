{
 "cells": [
  {
   "attachments": {},
   "cell_type": "markdown",
   "id": "0b68ed35-61fa-4bc9-b960-eb2e844d49ac",
   "metadata": {},
   "source": [
    "# UNIDAD 4: Uso de LLMs mediante APIs - Parte I (Gemini)\n",
    "\n",
    "\n",
    "\n",
    "The **Gemini model** family includes models that work with multimodal prompt requests. The term multimodal indicates that you can use more than one modality, or type of input, in a prompt. Models that aren't multimodal accept prompts only with text. Modalities can include text, audio, video, and more.\n",
    "\n",
    "- Documentación de la API: https://cloud.google.com/vertex-ai/generative-ai/docs/model-reference/inference#python_1\n",
    "\n",
    "To **request access**, go ton: https://aistudio.google.com/\n"
   ]
  },
  {
   "cell_type": "code",
   "execution_count": 3,
   "id": "26a08c3f-6cfa-423b-afbc-5968068f3a8e",
   "metadata": {},
   "outputs": [],
   "source": [
    "import requests\n",
    "import json\n",
    "from dotenv import load_dotenv\n",
    "import os\n",
    "\n",
    "# Warning control\n",
    "import warnings\n",
    "warnings.filterwarnings(\"ignore\")"
   ]
  },
  {
   "cell_type": "markdown",
   "id": "ac7cb1dc-55cf-4586-a225-24b7ff2a85e7",
   "metadata": {},
   "source": [
    "<b>Obtención de la API key desde archivo de variables de entorno y definición del Endpoint de Gemini</b>"
   ]
  },
  {
   "cell_type": "code",
   "execution_count": 4,
   "id": "395c6fbb-e735-4675-966f-c33ef3cdf38b",
   "metadata": {},
   "outputs": [],
   "source": [
    "assert load_dotenv('env', override=True)\n",
    "\n",
    "# API de Gemini:\n",
    "GOOGLE_API_KEY = os.getenv('GOOGLE_API_KEY')\n",
    "GOOGLE_API_KEY\n",
    "\n",
    "# URL de la API de Gemini\n",
    "url = f\"https://generativelanguage.googleapis.com/v1/models/gemini-pro:generateContent?key={GOOGLE_API_KEY}\""
   ]
  },
  {
   "cell_type": "code",
   "execution_count": 5,
   "id": "eaf38ae6-b189-428c-9b25-5e6037d3536c",
   "metadata": {},
   "outputs": [
    {
     "data": {
      "text/html": [
       "<div>\n",
       "<style scoped>\n",
       "    .dataframe tbody tr th:only-of-type {\n",
       "        vertical-align: middle;\n",
       "    }\n",
       "\n",
       "    .dataframe tbody tr th {\n",
       "        vertical-align: top;\n",
       "    }\n",
       "\n",
       "    .dataframe thead th {\n",
       "        text-align: right;\n",
       "    }\n",
       "</style>\n",
       "<table border=\"1\" class=\"dataframe\">\n",
       "  <thead>\n",
       "    <tr style=\"text-align: right;\">\n",
       "      <th></th>\n",
       "      <th>id</th>\n",
       "      <th>text</th>\n",
       "      <th>rating</th>\n",
       "    </tr>\n",
       "  </thead>\n",
       "  <tbody>\n",
       "    <tr>\n",
       "      <th>0</th>\n",
       "      <td>1</td>\n",
       "      <td>\"Exploring the historic city of #Quito was amazing! Can't wait to come back! 🇪🇨 @VisitEcuador https://t.co/quito_adventures\"</td>\n",
       "      <td>5</td>\n",
       "    </tr>\n",
       "    <tr>\n",
       "      <th>1</th>\n",
       "      <td>2</td>\n",
       "      <td>\"The Galápagos Islands are truly a paradise! 🐢😍 #Galapagos #WildlifeTravel https://t.co/galapagos\"</td>\n",
       "      <td>5</td>\n",
       "    </tr>\n",
       "    <tr>\n",
       "      <th>2</th>\n",
       "      <td>3</td>\n",
       "      <td>\"Had a great time in #Quito but wish there were more options for vegetarians. @TravelEcuador https://t.co/quito_food\"</td>\n",
       "      <td>3</td>\n",
       "    </tr>\n",
       "  </tbody>\n",
       "</table>\n",
       "</div>"
      ],
      "text/plain": [
       "   id  \\\n",
       "0   1   \n",
       "1   2   \n",
       "2   3   \n",
       "\n",
       "                                                                                                                            text  \\\n",
       "0   \"Exploring the historic city of #Quito was amazing! Can't wait to come back! 🇪🇨 @VisitEcuador https://t.co/quito_adventures\"   \n",
       "1                             \"The Galápagos Islands are truly a paradise! 🐢😍 #Galapagos #WildlifeTravel https://t.co/galapagos\"   \n",
       "2          \"Had a great time in #Quito but wish there were more options for vegetarians. @TravelEcuador https://t.co/quito_food\"   \n",
       "\n",
       "   rating  \n",
       "0       5  \n",
       "1       5  \n",
       "2       3  "
      ]
     },
     "execution_count": 5,
     "metadata": {},
     "output_type": "execute_result"
    }
   ],
   "source": [
    "import pandas as pd\n",
    "pd.set_option('display.max_colwidth', 300)\n",
    "\n",
    "opinions = pd.read_csv('../commentsEC.csv', names = ['id', 'text', 'rating'])\n",
    "opinions.head(3)"
   ]
  },
  {
   "cell_type": "markdown",
   "id": "47056000-ddb3-4ce8-a96d-6fd7ea818190",
   "metadata": {},
   "source": [
    "<b> Interacción con la API</b>"
   ]
  },
  {
   "cell_type": "code",
   "execution_count": 6,
   "id": "0b107047-97dd-442f-af36-21a1a0610125",
   "metadata": {},
   "outputs": [],
   "source": [
    "import time\n",
    "\n",
    "def call_LLM(prompt):\n",
    "    # Cuerpo de la solicitud\n",
    "    data = {\n",
    "        \"contents\": [\n",
    "            {\n",
    "                \"role\": \"user\",\n",
    "                \"parts\": [\n",
    "                    {\"text\": prompt}\n",
    "                ]\n",
    "            }\n",
    "        ]\n",
    "    }\n",
    "    \n",
    "    # Encabezados de la solicitud\n",
    "    headers = {\n",
    "        \"Content-Type\": \"application/json\"\n",
    "    }\n",
    "    \n",
    "    # Enviar la solicitud POST\n",
    "    response = requests.post(url, headers=headers, data=json.dumps(data))\n",
    "    \n",
    "    # Verificar si la solicitud fue exitosa\n",
    "    if response.status_code == 200:\n",
    "        # Procesar la respuesta JSON\n",
    "        result = response.json()\n",
    "        result = json.dumps(result, indent=2)\n",
    "        result = json.loads(result)\n",
    "        time.sleep(5) \n",
    "        return result\n",
    "    else:\n",
    "        # Manejar errores\n",
    "        print(f\"Error: {response.status_code}\")\n",
    "        time.sleep(5) \n",
    "        return response.text"
   ]
  },
  {
   "cell_type": "markdown",
   "id": "07058b8f-f0d1-45bc-ae98-c430ec30f6b8",
   "metadata": {},
   "source": [
    "<b>Uso de la API</b>"
   ]
  },
  {
   "cell_type": "code",
   "execution_count": 7,
   "id": "fb18aebe-efc3-49c5-bf58-be344d61c80e",
   "metadata": {},
   "outputs": [
    {
     "name": "stdout",
     "output_type": "stream",
     "text": [
      "{'candidates': [{'content': {'parts': [{'text': 'Guillermo Lasso'}], 'role': 'model'}, 'finishReason': 'STOP', 'index': 0, 'safetyRatings': [{'category': 'HARM_CATEGORY_SEXUALLY_EXPLICIT', 'probability': 'NEGLIGIBLE'}, {'category': 'HARM_CATEGORY_HATE_SPEECH', 'probability': 'NEGLIGIBLE'}, {'category': 'HARM_CATEGORY_HARASSMENT', 'probability': 'NEGLIGIBLE'}, {'category': 'HARM_CATEGORY_DANGEROUS_CONTENT', 'probability': 'NEGLIGIBLE'}]}], 'usageMetadata': {'promptTokenCount': 8, 'candidatesTokenCount': 2, 'totalTokenCount': 10}, 'modelVersion': 'gemini-pro'}\n"
     ]
    }
   ],
   "source": [
    "result = call_LLM(\"Who is the Ecuador's President\")\n",
    "print(result)"
   ]
  },
  {
   "cell_type": "markdown",
   "id": "fb841ad4-1cec-4878-b9f3-d1a1ee56c71e",
   "metadata": {},
   "source": [
    "## Uso de LLM para análisis de sentimientos\n",
    "\n",
    "<b>Carga de datos de opiniones:</b>"
   ]
  },
  {
   "cell_type": "code",
   "execution_count": 8,
   "id": "6bb4001f-fe8b-4859-9a52-77cf326b5745",
   "metadata": {},
   "outputs": [
    {
     "data": {
      "text/html": [
       "<div>\n",
       "<style scoped>\n",
       "    .dataframe tbody tr th:only-of-type {\n",
       "        vertical-align: middle;\n",
       "    }\n",
       "\n",
       "    .dataframe tbody tr th {\n",
       "        vertical-align: top;\n",
       "    }\n",
       "\n",
       "    .dataframe thead th {\n",
       "        text-align: right;\n",
       "    }\n",
       "</style>\n",
       "<table border=\"1\" class=\"dataframe\">\n",
       "  <thead>\n",
       "    <tr style=\"text-align: right;\">\n",
       "      <th></th>\n",
       "      <th>id</th>\n",
       "      <th>text</th>\n",
       "      <th>rating</th>\n",
       "    </tr>\n",
       "  </thead>\n",
       "  <tbody>\n",
       "    <tr>\n",
       "      <th>0</th>\n",
       "      <td>1</td>\n",
       "      <td>\"Exploring the historic city of #Quito was amazing! Can't wait to come back! 🇪🇨 @VisitEcuador https://t.co/quito_adventures\"</td>\n",
       "      <td>5</td>\n",
       "    </tr>\n",
       "    <tr>\n",
       "      <th>1</th>\n",
       "      <td>2</td>\n",
       "      <td>\"The Galápagos Islands are truly a paradise! 🐢😍 #Galapagos #WildlifeTravel https://t.co/galapagos\"</td>\n",
       "      <td>5</td>\n",
       "    </tr>\n",
       "    <tr>\n",
       "      <th>2</th>\n",
       "      <td>3</td>\n",
       "      <td>\"Had a great time in #Quito but wish there were more options for vegetarians. @TravelEcuador https://t.co/quito_food\"</td>\n",
       "      <td>3</td>\n",
       "    </tr>\n",
       "  </tbody>\n",
       "</table>\n",
       "</div>"
      ],
      "text/plain": [
       "   id  \\\n",
       "0   1   \n",
       "1   2   \n",
       "2   3   \n",
       "\n",
       "                                                                                                                            text  \\\n",
       "0   \"Exploring the historic city of #Quito was amazing! Can't wait to come back! 🇪🇨 @VisitEcuador https://t.co/quito_adventures\"   \n",
       "1                             \"The Galápagos Islands are truly a paradise! 🐢😍 #Galapagos #WildlifeTravel https://t.co/galapagos\"   \n",
       "2          \"Had a great time in #Quito but wish there were more options for vegetarians. @TravelEcuador https://t.co/quito_food\"   \n",
       "\n",
       "   rating  \n",
       "0       5  \n",
       "1       5  \n",
       "2       3  "
      ]
     },
     "execution_count": 8,
     "metadata": {},
     "output_type": "execute_result"
    }
   ],
   "source": [
    "import pandas as pd\n",
    "pd.set_option('display.max_colwidth', 300)\n",
    "\n",
    "opinions = pd.read_csv('../commentsEC.csv', names = ['id', 'text', 'rating'])\n",
    "opinions.head(3)"
   ]
  },
  {
   "cell_type": "markdown",
   "id": "c3aab02c-4acb-4eab-ace6-274a455cbfc5",
   "metadata": {},
   "source": [
    "<b>Definición del prompt para análisis de sentimientos a nivel de documento</b>"
   ]
  },
  {
   "cell_type": "code",
   "execution_count": 9,
   "id": "e0c0df3c-3fad-4099-8903-06383d9e97ce",
   "metadata": {},
   "outputs": [
    {
     "name": "stdout",
     "output_type": "stream",
     "text": [
      "Given the following opinion {  \"Exploring the historic city of #Quito was amazing! Can't wait to come back! 🇪🇨 @VisitEcuador https://t.co/quito_adventures\"}\n",
      "            1) Make sentiment analysis and classify the sentence according the opinion expressed by the user.\n",
      "            2) Provide an explanation used to make the inference.\n",
      "            3) Return the output in csv format (\"sentiment\", \"explanation\"). \n",
      " ---------------------------------------- \n",
      "\n",
      "{'candidates': [{'content': {'parts': [{'text': '| sentiment | explanation |\\n|---|---|\\n| positive | The user expresses a positive opinion about the experience of exploring the historic city of Quito and expresses a desire to return. |'}], 'role': 'model'}, 'finishReason': 'STOP', 'index': 0, 'safetyRatings': [{'category': 'HARM_CATEGORY_SEXUALLY_EXPLICIT', 'probability': 'NEGLIGIBLE'}, {'category': 'HARM_CATEGORY_HATE_SPEECH', 'probability': 'NEGLIGIBLE'}, {'category': 'HARM_CATEGORY_HARASSMENT', 'probability': 'NEGLIGIBLE'}, {'category': 'HARM_CATEGORY_DANGEROUS_CONTENT', 'probability': 'NEGLIGIBLE'}]}], 'usageMetadata': {'promptTokenCount': 91, 'candidatesTokenCount': 36, 'totalTokenCount': 127}, 'modelVersion': 'gemini-pro'}\n"
     ]
    }
   ],
   "source": [
    "\n",
    "for opinion in opinions[:1].iterrows():\n",
    "    prompt = \"\"\"Given the following opinion { \"\"\" + opinion[1]['text'] + \"\"\"}\n",
    "            1) Make sentiment analysis and classify the sentence according the opinion expressed by the user.\n",
    "            2) Provide an explanation used to make the inference.\n",
    "            3) Return the output in csv format (\"sentiment\", \"explanation\").\"\"\"\n",
    "    print(prompt, '\\n', 40*'-','\\n', )\n",
    "    \n",
    "    print(call_LLM(prompt))"
   ]
  },
  {
   "cell_type": "markdown",
   "id": "eda09918-9d08-4e5f-bbec-2757d3dfebf6",
   "metadata": {},
   "source": [
    "<b>Definición del prompt para análisis de sentimientos a nivel de frase o aspecto</b>"
   ]
  },
  {
   "cell_type": "code",
   "execution_count": 56,
   "id": "1e862178-c16e-48c0-a692-0ccfffd7a606",
   "metadata": {},
   "outputs": [],
   "source": [
    "##############################\n",
    "##\n",
    "##############################"
   ]
  }
 ],
 "metadata": {
  "kernelspec": {
   "display_name": "env_master",
   "language": "python",
   "name": "python3"
  },
  "language_info": {
   "codemirror_mode": {
    "name": "ipython",
    "version": 3
   },
   "file_extension": ".py",
   "mimetype": "text/x-python",
   "name": "python",
   "nbconvert_exporter": "python",
   "pygments_lexer": "ipython3",
   "version": "3.11.10"
  }
 },
 "nbformat": 4,
 "nbformat_minor": 5
}
