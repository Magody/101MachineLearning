{
 "cells": [
  {
   "cell_type": "markdown",
   "metadata": {},
   "source": [
    "# 1. Semantic Annotation\n",
    "\n",
    "- NEL: Named Entity Link."
   ]
  },
  {
   "cell_type": "markdown",
   "metadata": {},
   "source": [
    "##  DBpedia Spotlight\n",
    "\n"
   ]
  },
  {
   "cell_type": "markdown",
   "metadata": {},
   "source": [
    "- Home page: https://www.dbpedia-spotlight.org\n",
    "\n",
    "- API Documentation: \n",
    "\n",
    "\n",
    "- Way 1: using the pyspotlight library of Python: pip install pyspotlight\n",
    "\n",
    "    https://pypi.org/project/pyspotlight/\n",
    "    \n",
    "    \n",
    "    \n",
    "- Way 2: using the spotligh library of Python: pip install spacy-dbpedia-spotlight\n",
    "\n",
    "    https://pypi.org/project/spacy-dbpedia-spotlight/"
   ]
  },
  {
   "cell_type": "code",
   "execution_count": 1,
   "metadata": {},
   "outputs": [
    {
     "data": {
      "text/plain": [
       "[{'URI': 'http://dbpedia.org/resource/Ecuador',\n",
       "  'support': 28534,\n",
       "  'types': 'Wikidata:Q6256,Schema:Place,Schema:Country,DBpedia:PopulatedPlace,DBpedia:Place,DBpedia:Location,DBpedia:Country',\n",
       "  'surfaceForm': 'Ecuador',\n",
       "  'offset': 0,\n",
       "  'similarityScore': 0.9999994216404355,\n",
       "  'percentageOfSecondRank': 5.729822094487011e-07},\n",
       " {'URI': 'http://dbpedia.org/resource/South_America',\n",
       "  'support': 23064,\n",
       "  'types': 'Schema:Place,Schema:Continent,DBpedia:PopulatedPlace,DBpedia:Place,DBpedia:Location,DBpedia:Continent',\n",
       "  'surfaceForm': 'South America',\n",
       "  'offset': 37,\n",
       "  'similarityScore': 0.9864850873307217,\n",
       "  'percentageOfSecondRank': 0.013652354225269397},\n",
       " {'URI': 'http://dbpedia.org/resource/Colombia',\n",
       "  'support': 46668,\n",
       "  'types': 'Wikidata:Q6256,Schema:Place,Schema:Country,DBpedia:PopulatedPlace,DBpedia:Place,DBpedia:Location,DBpedia:Country',\n",
       "  'surfaceForm': 'Colombia',\n",
       "  'offset': 64,\n",
       "  'similarityScore': 0.9891655196905323,\n",
       "  'percentageOfSecondRank': 0.010239521588100726},\n",
       " {'URI': 'http://dbpedia.org/resource/Peru',\n",
       "  'support': 49858,\n",
       "  'types': 'Wikidata:Q6256,Schema:Place,Schema:Country,DBpedia:PopulatedPlace,DBpedia:Place,DBpedia:Location,DBpedia:Country',\n",
       "  'surfaceForm': 'Peru',\n",
       "  'offset': 87,\n",
       "  'similarityScore': 0.9995289140230913,\n",
       "  'percentageOfSecondRank': 0.0004618275074312752},\n",
       " {'URI': 'http://dbpedia.org/resource/Pacific_Ocean',\n",
       "  'support': 30839,\n",
       "  'types': 'Schema:Place,Schema:BodyOfWater,DBpedia:Place,DBpedia:NaturalPlace,DBpedia:Location,DBpedia:BodyOfWater',\n",
       "  'surfaceForm': 'Pacific Ocean',\n",
       "  'offset': 123,\n",
       "  'similarityScore': 0.9999995316237533,\n",
       "  'percentageOfSecondRank': 4.438902243160686e-07},\n",
       " {'URI': 'http://dbpedia.org/resource/Quito',\n",
       "  'support': 4674,\n",
       "  'types': 'Wikidata:Q515,Wikidata:Q486972,Schema:Place,Schema:City,DBpedia:Settlement,DBpedia:PopulatedPlace,DBpedia:Place,DBpedia:Location,DBpedia:City',\n",
       "  'surfaceForm': 'Quito',\n",
       "  'offset': 175,\n",
       "  'similarityScore': 0.9916771299385739,\n",
       "  'percentageOfSecondRank': 0.00622658388419362},\n",
       " {'URI': 'http://dbpedia.org/resource/City',\n",
       "  'support': 21829,\n",
       "  'types': '',\n",
       "  'surfaceForm': 'city',\n",
       "  'offset': 197,\n",
       "  'similarityScore': 0.969153048347361,\n",
       "  'percentageOfSecondRank': 0.028897183029920656},\n",
       " {'URI': 'http://dbpedia.org/resource/Guayaquil',\n",
       "  'support': 3030,\n",
       "  'types': 'Wikidata:Q515,Wikidata:Q486972,Schema:Place,Schema:City,DBpedia:Settlement,DBpedia:PopulatedPlace,DBpedia:Place,DBpedia:Location,DBpedia:City',\n",
       "  'surfaceForm': 'Guayaquil',\n",
       "  'offset': 205,\n",
       "  'similarityScore': 0.9999929852933362,\n",
       "  'percentageOfSecondRank': 5.2543863848351124e-06}]"
      ]
     },
     "execution_count": 1,
     "metadata": {},
     "output_type": "execute_result"
    }
   ],
   "source": [
    "import spotlight\n",
    "text = \"\"\"Ecuador is a country in northwestern South America, bordered by Colombia on the north,\n",
    "Peru on the east and south, and the Pacific Ocean on the west.\n",
    "The country's capital is Quito and its largest city is Guayaquil.\"\"\"\n",
    "\n",
    "results = spotlight.annotate('https://api.dbpedia-spotlight.org/en/annotate', text, confidence=0.5, \n",
    "support=20)\n",
    "results"
   ]
  },
  {
   "cell_type": "code",
   "execution_count": null,
   "metadata": {},
   "outputs": [],
   "source": []
  }
 ],
 "metadata": {
  "finalized": {
   "timestamp": 1635427982689,
   "trusted": true
  },
  "kernelspec": {
   "display_name": "env_master",
   "language": "python",
   "name": "python3"
  },
  "language_info": {
   "codemirror_mode": {
    "name": "ipython",
    "version": 3
   },
   "file_extension": ".py",
   "mimetype": "text/x-python",
   "name": "python",
   "nbconvert_exporter": "python",
   "pygments_lexer": "ipython3",
   "version": "3.11.10"
  }
 },
 "nbformat": 4,
 "nbformat_minor": 4
}
