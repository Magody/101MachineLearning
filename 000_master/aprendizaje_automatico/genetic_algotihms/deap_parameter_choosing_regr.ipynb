{
 "cells": [
  {
   "cell_type": "code",
   "execution_count": 2,
   "metadata": {},
   "outputs": [],
   "source": [
    "import numpy as np\n",
    "import pandas as pd\n",
    "from sklearn.datasets import load_diabetes\n",
    "from sklearn.model_selection import train_test_split\n",
    "from sklearn.tree import DecisionTreeRegressor\n",
    "from sklearn.metrics import mean_squared_error\n",
    "import matplotlib.pyplot as plt\n",
    "import seaborn as sns\n",
    "from deap import base, creator, tools, algorithms\n",
    "import random"
   ]
  },
  {
   "cell_type": "code",
   "execution_count": 3,
   "metadata": {},
   "outputs": [
    {
     "name": "stdout",
     "output_type": "stream",
     "text": [
      "Error cuadrático medio con todos los atributos: 5697.7895\n"
     ]
    }
   ],
   "source": [
    "# Cargar el dataset de diabetes\n",
    "data = load_diabetes()\n",
    "X = pd.DataFrame(data.data, columns=data.feature_names)\n",
    "y = pd.Series(data.target)\n",
    "\n",
    "# Dividir los datos en entrenamiento y prueba\n",
    "X_train, X_test, y_train, y_test = train_test_split(X, y, test_size=0.3, random_state=42)\n",
    "\n",
    "# Entrenar el modelo de árbol de decisión con todos los atributos\n",
    "reg = DecisionTreeRegressor(random_state=42)\n",
    "reg.fit(X_train, y_train)\n",
    "# Evaluar el modelo\n",
    "y_pred = reg.predict(X_test)\n",
    "mse_all_features = mean_squared_error(y_test, y_pred)\n",
    "print(f\"Error cuadrático medio con todos los atributos: {mse_all_features:.4f}\")"
   ]
  },
  {
   "cell_type": "code",
   "execution_count": 5,
   "metadata": {},
   "outputs": [
    {
     "name": "stderr",
     "output_type": "stream",
     "text": [
      "c:\\Users\\usuario\\anaconda3\\envs\\env_101\\Lib\\site-packages\\deap\\creator.py:185: RuntimeWarning: A class named 'FitnessMin' has already been created and it will be overwritten. Consider deleting previous creation of that class or rename it.\n",
      "  warnings.warn(\"A class named '{0}' has already been created and it \"\n",
      "c:\\Users\\usuario\\anaconda3\\envs\\env_101\\Lib\\site-packages\\deap\\creator.py:185: RuntimeWarning: A class named 'Individual' has already been created and it will be overwritten. Consider deleting previous creation of that class or rename it.\n",
      "  warnings.warn(\"A class named '{0}' has already been created and it \"\n"
     ]
    },
    {
     "name": "stdout",
     "output_type": "stream",
     "text": [
      "Mejores características seleccionadas: [0, 1, 4, 7, 8, 9]\n",
      "Max depth seleccionado: 2\n",
      "Min samples split seleccionado: 13\n",
      "Best fitness (mse): 3035.7523569750565\n"
     ]
    }
   ],
   "source": [
    "# Configuración del Algoritmo Genético\n",
    "creator.create(\"FitnessMin\", base.Fitness, weights=(-1.0,))  # Ahora minimizamos el error (mse)\n",
    "creator.create(\"Individual\", list, fitness=creator.FitnessMin)\n",
    "toolbox = base.Toolbox()\n",
    "\n",
    "# Los primeros 'X_train.shape[1]' valores son las características, los siguientes son max_depth y min_samples_split\n",
    "toolbox.register(\"attr_bool\", lambda: random.randint(0, 1))  # Para las características (0 o 1)\n",
    "toolbox.register(\"attr_max_depth\", lambda: random.randint(2, 20))  # Para max_depth (profundidad entre 2 y 20)\n",
    "toolbox.register(\"attr_min_samples_split\", lambda: random.randint(2, 20))  # Para min_samples_split (2 a 20)\n",
    "\n",
    "# Crear individuo con 10 características y los hiperparámetros max_depth y min_samples_split\n",
    "def create_individual():\n",
    "    features = [toolbox.attr_bool() for _ in range(X_train.shape[1])]  # 10 valores binarios para diabetes\n",
    "    max_depth = toolbox.attr_max_depth()  # Profundidad máxima del árbol\n",
    "    min_samples_split = toolbox.attr_min_samples_split()  # Muestras mínimas para dividir\n",
    "    individual = creator.Individual(features + [max_depth, min_samples_split])  # Convertir en un objeto Individual\n",
    "    return individual\n",
    "\n",
    "toolbox.register(\"individual\", create_individual)\n",
    "\n",
    "# Crear la población\n",
    "toolbox.register(\"population\", tools.initRepeat, list, toolbox.individual)\n",
    "\n",
    "# Función de evaluación\n",
    "def evaluate(individual):\n",
    "    # Las características seleccionadas son desde el primer elemento hasta el antepenúltimo\n",
    "    selected_features = [i for i in range(len(individual) - 2) if individual[i] == 1]  # Ignorar los últimos dos valores\n",
    "    max_depth = int(individual[-2])  # Penúltimo valor es max_depth\n",
    "    min_samples_split = int(individual[-1])  # Último valor es min_samples_split\n",
    "\n",
    "    if len(selected_features) == 0:\n",
    "        return float('inf'),  # Evitar selecciones vacías devolviendo un error muy alto\n",
    "\n",
    "    # Seleccionar las características correctas del conjunto de entrenamiento y prueba\n",
    "    X_train_selected = X_train.iloc[:, selected_features]\n",
    "    X_test_selected = X_test.iloc[:, selected_features]\n",
    "\n",
    "    # Crear el regressor con max_depth y min_samples_split del individuo\n",
    "    reg = DecisionTreeRegressor(random_state=42, max_depth=max_depth, min_samples_split=min_samples_split)\n",
    "    reg.fit(X_train_selected, y_train)\n",
    "    y_pred = reg.predict(X_test_selected)\n",
    "\n",
    "    return mean_squared_error(y_test, y_pred),\n",
    "\n",
    "# Mutación de características, max_depth y min_samples_split\n",
    "def custom_mutate(individual, indpb):\n",
    "    # Mutar las características binarias (0/1)\n",
    "    for i in range(len(individual) - 2):  # Características\n",
    "        if random.random() < indpb:\n",
    "            individual[i] = 1 if individual[i] == 0 else 0\n",
    "\n",
    "    # Mutar max_depth\n",
    "    if random.random() < indpb:\n",
    "        individual[-2] = random.randint(2, 20)  # Mutar max_depth a un nuevo valor\n",
    "    \n",
    "    # Mutar min_samples_split\n",
    "    if random.random() < indpb:\n",
    "        individual[-1] = random.randint(2, 20)  # Mutar min_samples_split a un nuevo valor\n",
    "    \n",
    "    return individual,\n",
    "\n",
    "# Operadores genéticos\n",
    "toolbox.register(\"mate\", tools.cxTwoPoint)\n",
    "toolbox.register(\"mutate\", custom_mutate, indpb=0.1)\n",
    "toolbox.register(\"select\", tools.selTournament, tournsize=3)\n",
    "toolbox.register(\"evaluate\", evaluate)\n",
    "\n",
    "# Configuración del algoritmo genético\n",
    "population = toolbox.population(n=100)\n",
    "ngen = 100\n",
    "\n",
    "# Ejecutar el algoritmo genético\n",
    "result_population, logbook = algorithms.eaSimple(population, toolbox, cxpb=0.5, mutpb=0.2, ngen=ngen, verbose=False)\n",
    "\n",
    "# Seleccionar el mejor individuo\n",
    "best_individual = tools.selBest(result_population, k=1)[0]\n",
    "\n",
    "# Extraer las características seleccionadas, max_depth, y min_samples_split por separado\n",
    "selected_features = [i for i in range(len(best_individual) - 2) if best_individual[i] == 1]  # Características\n",
    "max_depth = best_individual[-2]  # Penúltimo valor es max_depth\n",
    "min_samples_split = best_individual[-1]  # Último valor es min_samples_split\n",
    "\n",
    "print(f\"Mejores características seleccionadas: {selected_features}\")\n",
    "print(f\"Max depth seleccionado: {max_depth}\")\n",
    "print(f\"Min samples split seleccionado: {min_samples_split}\")\n",
    "\n",
    "best_fit = best_individual.fitness.values[0]  # El fitness es una tupla, por lo que accedes al primer valor\n",
    "print(f\"Best fitness (mse): {best_fit}\")"
   ]
  },
  {
   "cell_type": "code",
   "execution_count": null,
   "metadata": {},
   "outputs": [],
   "source": []
  }
 ],
 "metadata": {
  "kernelspec": {
   "display_name": "env_101",
   "language": "python",
   "name": "python3"
  },
  "language_info": {
   "codemirror_mode": {
    "name": "ipython",
    "version": 3
   },
   "file_extension": ".py",
   "mimetype": "text/x-python",
   "name": "python",
   "nbconvert_exporter": "python",
   "pygments_lexer": "ipython3",
   "version": "3.11.9"
  }
 },
 "nbformat": 4,
 "nbformat_minor": 2
}
