{
  "nbformat": 4,
  "nbformat_minor": 0,
  "metadata": {
    "colab": {
      "provenance": []
    },
    "kernelspec": {
      "name": "python3",
      "display_name": "Python 3"
    },
    "language_info": {
      "name": "python"
    }
  },
  "cells": [
    {
      "cell_type": "markdown",
      "source": [
        "# Integrantes - Caso 4"
      ],
      "metadata": {
        "id": "3kVizAch9R1l"
      }
    },
    {
      "cell_type": "markdown",
      "source": [
        "* Danny Diaz\n",
        "* Daniel Ortega\n",
        "* Ruben Tocain"
      ],
      "metadata": {
        "id": "BEQs1UNb9Uzs"
      }
    },
    {
      "cell_type": "markdown",
      "source": [
        "# Instrucciones"
      ],
      "metadata": {
        "id": "GqLcqOsZ9SQ0"
      }
    },
    {
      "cell_type": "markdown",
      "source": [
        "1. Ingresar a https://scikit-learn.org/stable/datasets/toy_dataset.html y seleccionar un dataset de clasificación o regresión como caso de estudio.\n",
        "2. Seleccionar 1 modelo de aprendizaje supervisado para abordar el caso de estudio.\n",
        "3. Evaluar el modelo de clasificación o regresión mediante hold-out y seleccionar el mejor conjunto de hiperparámetros.\n",
        "4. Evaluar 1 modelo de clasificación o regresión mediante validación cruzada con k-fold y seleccionar el mejor conjunto de hiperparámetros."
      ],
      "metadata": {
        "id": "j_CHi1kk9dOE"
      }
    },
    {
      "cell_type": "markdown",
      "source": [
        "# Dependencias"
      ],
      "metadata": {
        "id": "xlxv8GXj9jVU"
      }
    },
    {
      "cell_type": "code",
      "execution_count": 7,
      "metadata": {
        "id": "2Wm8oKjYx1yS"
      },
      "outputs": [],
      "source": [
        "import numpy as np\n",
        "from sklearn.datasets import load_files\n",
        "from sklearn.model_selection import train_test_split, GridSearchCV, KFold\n",
        "from sklearn.ensemble import RandomForestClassifier\n",
        "from sklearn.metrics import accuracy_score, precision_score, recall_score, roc_curve, auc\n",
        "import matplotlib.pyplot as plt\n",
        "from sklearn.preprocessing import label_binarize\n",
        "from sklearn.feature_extraction.text import TfidfVectorizer\n",
        "from sklearn.pipeline import make_pipeline\n",
        "from sklearn.datasets import fetch_20newsgroups\n",
        "from sklearn.metrics import classification_report"
      ]
    },
    {
      "cell_type": "markdown",
      "source": [
        "# Preprocesamiento"
      ],
      "metadata": {
        "id": "UZc5d4WX94Wc"
      }
    },
    {
      "cell_type": "code",
      "source": [
        "dataset = fetch_20newsgroups(subset='all', categories=['alt.atheism', 'sci.space'], shuffle=True, random_state=42)\n",
        "\n",
        "# Binarizar las etiquetas (necesario para ROC y AUC en caso multi-clase)\n",
        "y = dataset.target\n",
        "y_bin = label_binarize(y, classes=np.unique(y))\n",
        "n_classes = y_bin.shape[1]"
      ],
      "metadata": {
        "id": "omKOZtrZ94ns"
      },
      "execution_count": 2,
      "outputs": []
    },
    {
      "cell_type": "markdown",
      "source": [
        "# Selección de hiperparámetros Hold-out + Grid Search + K-Fold"
      ],
      "metadata": {
        "id": "m94T2qmi9tps"
      }
    },
    {
      "cell_type": "code",
      "source": [
        "# Dividir en entrenamiento y prueba (80% entrenamiento, 20% prueba)\n",
        "X_train, X_test, y_train, y_test = train_test_split(dataset.data, y, test_size=0.2, random_state=42)\n",
        "\n",
        "# Definir el vectorizador y el modelo en un pipeline\n",
        "model = make_pipeline(TfidfVectorizer(), RandomForestClassifier(random_state=42))\n",
        "param_grid = {\n",
        "    'randomforestclassifier__n_estimators': [50, 100, 200],\n",
        "    'randomforestclassifier__max_depth': [None, 10, 20],\n",
        "    'randomforestclassifier__min_samples_split': [2, 5, 10]\n",
        "}\n",
        "\n",
        "# Definir el número de pliegues para k-fold\n",
        "kf = KFold(n_splits=5, shuffle=True, random_state=42)\n",
        "\n",
        "# Usar GridSearchCV para encontrar los mejores hiperparámetros con k-fold\n",
        "grid_search = GridSearchCV(estimator=model, param_grid=param_grid, cv=kf)\n",
        "grid_search.fit(X_train, y_train)\n",
        "\n",
        "# Predecir en el conjunto de prueba\n",
        "y_pred = grid_search.best_estimator_.predict(X_test)\n",
        "\n",
        "# Calcular métricas\n",
        "accuracy = accuracy_score(y_test, y_pred)\n",
        "precision = precision_score(y_test, y_pred, average='weighted')\n",
        "recall = recall_score(y_test, y_pred, average='weighted')\n",
        "\n",
        "print(\"Mejores hiperparámetros (Hold-out):\", grid_search.best_params_)\n",
        "print(f\"Exactitud (Hold-out): {accuracy:.4f}\")\n",
        "print(f\"Precisión (Hold-out): {precision:.4f}\")\n",
        "print(f\"Recall (Hold-out): {recall:.4f}\")"
      ],
      "metadata": {
        "colab": {
          "base_uri": "https://localhost:8080/"
        },
        "id": "HfjWEHyb91b0",
        "outputId": "71ab081c-eda2-4e7d-dde7-8be156b8c3ca"
      },
      "execution_count": 5,
      "outputs": [
        {
          "output_type": "stream",
          "name": "stdout",
          "text": [
            "Mejores hiperparámetros (Hold-out): {'randomforestclassifier__max_depth': None, 'randomforestclassifier__min_samples_split': 2, 'randomforestclassifier__n_estimators': 200}\n",
            "Exactitud (Hold-out): 0.9832\n",
            "Precisión (Hold-out): 0.9837\n",
            "Recall (Hold-out): 0.9832\n"
          ]
        }
      ]
    },
    {
      "cell_type": "code",
      "source": [
        "print(\"Reporte de Clasificación (Hold-out):\")\n",
        "print(classification_report(y_test, y_pred))"
      ],
      "metadata": {
        "colab": {
          "base_uri": "https://localhost:8080/"
        },
        "id": "0yZsx24m_UNE",
        "outputId": "11ba1c3b-65c6-4163-a5f8-bb07ddaaa4e8"
      },
      "execution_count": 8,
      "outputs": [
        {
          "output_type": "stream",
          "name": "stdout",
          "text": [
            "Reporte de Clasificación (Hold-out):\n",
            "              precision    recall  f1-score   support\n",
            "\n",
            "           0       1.00      0.96      0.98       157\n",
            "           1       0.97      1.00      0.99       201\n",
            "\n",
            "    accuracy                           0.98       358\n",
            "   macro avg       0.99      0.98      0.98       358\n",
            "weighted avg       0.98      0.98      0.98       358\n",
            "\n"
          ]
        }
      ]
    },
    {
      "cell_type": "markdown",
      "source": [
        "# AUC-ROC"
      ],
      "metadata": {
        "id": "DRI-JlE6_G4c"
      }
    },
    {
      "cell_type": "code",
      "source": [
        "# Predecir probabilidades para calcular la curva ROC y AUC\n",
        "y_prob = grid_search.best_estimator_.predict_proba(X_test)\n",
        "\n",
        "# Binarizar solo las etiquetas del conjunto de prueba para ROC y AUC\n",
        "y_test_bin = label_binarize(y_test, classes=np.unique(y))\n",
        "\n",
        "# Calcular curva ROC y AUC para cada clase\n",
        "fpr = dict()\n",
        "tpr = dict()\n",
        "roc_auc = dict()\n",
        "\n",
        "for i in range(n_classes):\n",
        "    fpr[i], tpr[i], _ = roc_curve(y_test_bin[:, i], y_prob[:, i])\n",
        "    roc_auc[i] = auc(fpr[i], tpr[i])\n",
        "\n",
        "# Graficar la curva ROC\n",
        "plt.figure()\n",
        "colors = ['blue', 'green', 'red']\n",
        "for i, color in enumerate(colors[:n_classes]):  # Limitar colores si hay más clases\n",
        "    plt.plot(fpr[i], tpr[i], color=color, lw=2, label=f'Clase {i} (AUC = {roc_auc[i]:.2f})')\n",
        "\n",
        "plt.plot([1, 0], [1, 0], color='navy', lw=2, linestyle='--')\n",
        "plt.xlim([1.0, 0.0])\n",
        "plt.ylim([1.05, 0.0])\n",
        "plt.xlabel('False Positive Rate')\n",
        "plt.ylabel('True Positive Rate')\n",
        "plt.title('Curva ROC Multi-Clase')\n",
        "plt.legend(loc=\"lower right\")\n",
        "plt.show()"
      ],
      "metadata": {
        "colab": {
          "base_uri": "https://localhost:8080/",
          "height": 472
        },
        "id": "arb8bbEQ-Dxt",
        "outputId": "1ac57e10-6b7c-40c0-ec5a-a25d23bb06c0"
      },
      "execution_count": 9,
      "outputs": [
        {
          "output_type": "display_data",
          "data": {
            "text/plain": [
              "<Figure size 640x480 with 1 Axes>"
            ],
            "image/png": "[encoded data removed]"
          },
          "metadata": {}
        }
      ]
    },
    {
      "cell_type": "markdown",
      "source": [
        "# END"
      ],
      "metadata": {
        "id": "w1zYxGFD9sN8"
      }
    }
  ]
}