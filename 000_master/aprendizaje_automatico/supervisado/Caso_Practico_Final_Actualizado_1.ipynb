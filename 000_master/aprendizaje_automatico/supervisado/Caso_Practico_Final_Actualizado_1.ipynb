{
 "cells": [
  {
   "cell_type": "markdown",
   "metadata": {},
   "source": [
    "### UNIVERSIDAD HEMISFERIOS\n",
    "#### MODULO APRENDIZAJE AUTOMATICO\n",
    "#### Integrantes : Danny Diaz  |  Daniel Ortega  | Ruben Tocaín"
   ]
  },
  {
   "cell_type": "markdown",
   "metadata": {},
   "source": [
    "\n",
    "#### Diagnóstico de Condición de Caja de Engranajes con Señales de Vibración\n",
    "\n",
    "Este notebook aborda el caso práctico de la Unidad Final, cuyo objetivo es desarrollar un modelo basado en Máquinas de Soporte Vectorial (SVM) para diagnosticar la condición de una caja de engranajes. Las condiciones a identificar son:\n",
    "1. **Normal**\n",
    "2. **Picadura en el piñón**\n",
    "3. **Rotura del diente al 100%**\n",
    "\n",
    "Se dispone de una base de datos de señales de vibración medidas bajo diferentes velocidades y cargas, y se utilizarán técnicas de procesamiento de señales y machine learning para construir el modelo.\n",
    "\n",
    "## Objetivos:\n",
    "1. Importar y procesar la base de datos de señales.\n",
    "2. Extraer características en los dominios de tiempo y tiempo-frecuencia.\n",
    "3. Crear conjuntos de entrenamiento y prueba.\n",
    "4. Escalar las características.\n",
    "5. Seleccionar características relevantes utilizando un enfoque supervisado.\n",
    "6. Entrenar un modelo SVM y optimizar hiperparámetros.\n",
    "7. Evaluar el desempeño del modelo en el conjunto de prueba.\n",
    "\n",
    "Empecemos con el análisis.\n"
   ]
  },
  {
   "cell_type": "code",
   "execution_count": 3,
   "metadata": {},
   "outputs": [],
   "source": [
    "file_path = 'D:/Ruben Tocain/MAESTRIAS/IA INTELIGENCIA ARTIFICIAL/Modulo 5_Aprendizaje Automático/Caso Practico Final/Base_Datos_matlab.mat'"
   ]
  },
  {
   "cell_type": "markdown",
   "metadata": {},
   "source": [
    "#### 1. Carga y preprocesamiento de la Base de Datos\n",
    "Este paso incluye la importación de la base de datos en formato .mat y la conversión de los datos en un DataFrame."
   ]
  },
  {
   "cell_type": "code",
   "execution_count": 1,
   "metadata": {},
   "outputs": [],
   "source": [
    "# pip install PyWavelets\n",
    "# conda install pywavelets\n",
    "\n",
    "\n",
    "from scipy.io import loadmat\n",
    "import pywt # Librería para wavelets\n",
    "import numpy as np\n",
    "from scipy.stats import skew, kurtosis, sem, differential_entropy\n",
    "from sklearn.model_selection import train_test_split\n",
    "from sklearn.preprocessing import MinMaxScaler\n",
    "from sklearn.linear_model import LogisticRegression\n",
    "from sklearn.feature_selection import SequentialFeatureSelector\n",
    "from sklearn.model_selection import GridSearchCV\n",
    "from sklearn.svm import SVC\n",
    "\n",
    "# Carga de la base de datos de señales \n",
    "# \n",
    "data = loadmat('Base_Datos_matlab.mat')"
   ]
  },
  {
   "cell_type": "markdown",
   "metadata": {},
   "source": [
    "#### 2.Extraccion de caracteristicas de tiempo y tiempo-frecuencia"
   ]
  },
  {
   "cell_type": "code",
   "execution_count": 2,
   "metadata": {},
   "outputs": [],
   "source": [
    "# Procesamiento de la base de datos para la extracción de características en el dominio del tiempo y tiempo-frecuencia:\n",
    "# \n",
    "def wavelet_features(signal):\n",
    "    power = []\n",
    "    for wavelet in ['db7','sym3','coif4','bior3.5','rbio3.5']:\n",
    "        wp = pywt.WaveletPacket(data=signal, wavelet=wavelet, mode='symmetric')\n",
    "        power.extend([np.square(node.data).mean() for node in wp.get_level(5, 'freq')])        \n",
    "    return power\n",
    "\n",
    "\n",
    "def compute_features(signal):\n",
    "    mean = np.mean(signal)\n",
    "    var = np.var(signal)\n",
    "    sk = skew(signal)\n",
    "    kur = kurtosis(signal)\n",
    "    rms = np.sqrt(np.mean(signal**2))\n",
    "    max_val = np.max(signal)\n",
    "    min_val = np.min(signal)\n",
    "    std_error = sem(signal)\n",
    "    ent = differential_entropy(signal)\n",
    "    std = np.std(signal)\n",
    "    power = wavelet_features(signal)\n",
    "    return [mean, var, sk, kur, rms, max_val, min_val, std_error, ent, std, *power]\n",
    "\n",
    "X_list = []\n",
    "y_list = []\n",
    "for condition in [0,3,11]:\n",
    "    for power in range(3):\n",
    "        for speed in range(5):\n",
    "            for repetition in range(10):\n",
    "                signal = data['CXX'][0][condition][0][power][speed][repetition][:,1]\n",
    "                features = compute_features(signal)\n",
    "                X_list.append(features)\n",
    "                y_list.append(condition)\n",
    "X = np.array(X_list)\n",
    "y = np.array(y_list)"
   ]
  },
  {
   "cell_type": "markdown",
   "metadata": {},
   "source": [
    "#### 3. Creación de grupo de entrenamiento y prueba"
   ]
  },
  {
   "cell_type": "code",
   "execution_count": 3,
   "metadata": {},
   "outputs": [
    {
     "name": "stdout",
     "output_type": "stream",
     "text": [
      "Train set: X_train shape: (315, 170), y_train shape: (315,)\n",
      "Test set: X_test shape: (135, 170), y_test shape: (135,)\n"
     ]
    }
   ],
   "source": [
    "import numpy as np\n",
    "from sklearn.model_selection import train_test_split\n",
    "\n",
    "# Dividir los datos en conjuntos de entrenamiento y prueba (70% entrenamiento, 30% prueba)\n",
    "X_train, X_test, y_train, y_test = train_test_split(X,y,test_size=0.3,stratify=y)  \n",
    "\n",
    "\n",
    "# Verificar las dimensiones\n",
    "print(f\"Train set: X_train shape: {X_train.shape}, y_train shape: {y_train.shape}\")\n",
    "print(f\"Test set: X_test shape: {X_test.shape}, y_test shape: {y_test.shape}\")"
   ]
  },
  {
   "cell_type": "markdown",
   "metadata": {},
   "source": [
    "#### 4. Escalar las caracteristicas\n",
    "El escalado es importante, especialmente para modelos como SVM que son sensibles a la escala de las características."
   ]
  },
  {
   "cell_type": "code",
   "execution_count": 4,
   "metadata": {},
   "outputs": [],
   "source": [
    "from sklearn.preprocessing import StandardScaler\n",
    "\n",
    "# Escalamiento de las características: Normalización\n",
    "scaler = MinMaxScaler()\n",
    "scaler.fit(X_train)\n",
    "X_train_norm = scaler.transform(X_train)\n",
    "X_test_norm = scaler.transform(X_test)"
   ]
  },
  {
   "cell_type": "markdown",
   "metadata": {},
   "source": [
    "#### 5. Selección de Características\n",
    "Seleccionaremos el 50% de las características usando un método supervisado para simplificar el modelo y potencialmente mejorar el rendimiento."
   ]
  },
  {
   "cell_type": "code",
   "execution_count": 13,
   "metadata": {},
   "outputs": [
    {
     "name": "stdout",
     "output_type": "stream",
     "text": [
      "Total de características seleccionadas: 85\n"
     ]
    }
   ],
   "source": [
    "from sklearn.svm import SVC\n",
    "from sklearn.feature_selection import RFE\n",
    "from sklearn.preprocessing import StandardScaler\n",
    "\n",
    "# Escalar los datos\n",
    "scaler = StandardScaler()\n",
    "X_train_scaled = scaler.fit_transform(X_train)\n",
    "X_test_scaled = scaler.transform(X_test)\n",
    "\n",
    "# Definir el modelo base (por ejemplo, SVM)\n",
    "svm = SVC(kernel='linear')  # Usamos un kernel lineal para la importancia de las características\n",
    "\n",
    "# Crear el selector RFE para seleccionar el 50% de las características\n",
    "n_features_to_select = int(X_train_scaled.shape[1] * 0.5)\n",
    "rfe = RFE(estimator=svm, n_features_to_select=n_features_to_select)\n",
    "\n",
    "# Ajustar el selector a los datos de entrenamiento\n",
    "X_train_selected = rfe.fit_transform(X_train_scaled, y_train)\n",
    "\n",
    "# Transformar el conjunto de prueba\n",
    "X_test_selected = rfe.transform(X_test_scaled)\n",
    "\n",
    "# Ver las características seleccionadas\n",
    "print(f\"Total de características seleccionadas: {X_train_selected.shape[1]}\")"
   ]
  },
  {
   "cell_type": "code",
   "execution_count": 7,
   "metadata": {},
   "outputs": [
    {
     "data": {
      "text/plain": [
       "((315, 170), (315, 85))"
      ]
     },
     "execution_count": 7,
     "metadata": {},
     "output_type": "execute_result"
    }
   ],
   "source": [
    "X_train_scaled.shape, X_train_selected.shape"
   ]
  },
  {
   "cell_type": "markdown",
   "metadata": {},
   "source": [
    "#### 6. Seleccionar los Hiperparámetros del Modelo SVM\n",
    "Usaremos GridSearchCV para encontrar los mejores hiperparámetros para nuestro modelo SVM."
   ]
  },
  {
   "cell_type": "code",
   "execution_count": 14,
   "metadata": {},
   "outputs": [
    {
     "name": "stdout",
     "output_type": "stream",
     "text": [
      "Total de combinaciones a probar: 72\n",
      "Fitting 5 folds for each of 72 candidates, totalling 360 fits\n",
      "Mejores parámetros encontrados: {'C': 10, 'gamma': 0.1, 'kernel': 'poly'}\n",
      "Precisión en el conjunto de prueba: 0.9629629629629629\n"
     ]
    }
   ],
   "source": [
    "from sklearn.svm import SVC\n",
    "from sklearn.model_selection import GridSearchCV, StratifiedKFold\n",
    "\n",
    "# Definir el modelo\n",
    "svm = SVC()\n",
    "\n",
    "# Parámetros para explorar en la búsqueda en malla\n",
    "param_grid = {\n",
    "    'C': [0.1, 1, 10, 100],  # Parámetro de regularización\n",
    "    'gamma': ['scale', 'auto', 0.001, 0.01, 0.1, 1],  # Coeficiente para 'rbf', 'poly' y 'sigmoid'\n",
    "    'kernel': ['rbf', 'poly', 'sigmoid']  # Tipos de kernel a probar\n",
    "}\n",
    "\n",
    "# Calcular el número total de combinaciones\n",
    "num_combinations = len(param_grid['C']) * len(param_grid['gamma']) * len(param_grid['kernel'])\n",
    "print(f\"Total de combinaciones a probar: {num_combinations}\")\n",
    "\n",
    "# Definir la validación cruzada estratificada\n",
    "cv = StratifiedKFold(n_splits=5)\n",
    "\n",
    "# Configurar GridSearchCV con más información en verbose\n",
    "grid_search = GridSearchCV(svm, param_grid, cv=cv, scoring='accuracy', verbose=3, n_jobs=-1)\n",
    "\n",
    "# Ajustar el modelo al conjunto de datos de entrenamiento\n",
    "grid_search.fit(X_train_selected, y_train)\n",
    "\n",
    "# Imprimir los mejores parámetros encontrados\n",
    "print(f\"Mejores parámetros encontrados: {grid_search.best_params_}\")\n",
    "\n",
    "best_svm = grid_search.best_estimator_\n",
    "# Evaluar el modelo en el conjunto de prueba\n",
    "accuracy_test = best_svm.score(X_test_selected, y_test)\n",
    "print(f\"Precisión en el conjunto de prueba: {accuracy_test}\")"
   ]
  },
  {
   "cell_type": "markdown",
   "metadata": {},
   "source": [
    "#### 7. Evaluar el Mejor Modelo en el Conjunto de Prueba\n",
    "Finalmente, evaluaremos el desempeño del modelo seleccionado en el conjunto de prueba."
   ]
  },
  {
   "cell_type": "code",
   "execution_count": 15,
   "metadata": {},
   "outputs": [
    {
     "name": "stdout",
     "output_type": "stream",
     "text": [
      "Precisión en el conjunto de prueba: 0.9629629629629629\n",
      "Reporte de clasificación:\n",
      "              precision    recall  f1-score   support\n",
      "\n",
      "           0       0.96      0.98      0.97        45\n",
      "           3       0.98      0.91      0.94        45\n",
      "          11       0.96      1.00      0.98        45\n",
      "\n",
      "    accuracy                           0.96       135\n",
      "   macro avg       0.96      0.96      0.96       135\n",
      "weighted avg       0.96      0.96      0.96       135\n",
      "\n"
     ]
    }
   ],
   "source": [
    "from sklearn.svm import SVC\n",
    "from sklearn.metrics import accuracy_score, classification_report\n",
    "\n",
    "# Entrenar el modelo con los mejores parámetros obtenidos\n",
    "best_svm.fit(X_train_selected, y_train)\n",
    "\n",
    "# Realizar predicciones en el conjunto de prueba\n",
    "y_pred = best_svm.predict(X_test_selected)\n",
    "\n",
    "# Evaluar la precisión en el conjunto de prueba\n",
    "accuracy = accuracy_score(y_test, y_pred)\n",
    "print(f\"Precisión en el conjunto de prueba: {accuracy}\")\n",
    "\n",
    "# Imprimir un reporte de clasificación más detallado (precision, recall, f1-score)\n",
    "print(\"Reporte de clasificación:\")\n",
    "print(classification_report(y_test, y_pred))\n"
   ]
  },
  {
   "cell_type": "markdown",
   "metadata": {},
   "source": [
    "Visualizacion de Matriz de Confusion"
   ]
  },
  {
   "cell_type": "code",
   "execution_count": 16,
   "metadata": {},
   "outputs": [
    {
     "data": {
      "image/png": "[encoded data removed]",
      "text/plain": [
       "<Figure size 640x480 with 2 Axes>"
      ]
     },
     "metadata": {},
     "output_type": "display_data"
    }
   ],
   "source": [
    "# Visualización de las métricas de desempeño\n",
    "import matplotlib.pyplot as plt\n",
    "from sklearn.metrics import ConfusionMatrixDisplay\n",
    "\n",
    "# Mostrar la matriz de confusión\n",
    "ConfusionMatrixDisplay.from_estimator(best_svm, X_test_selected, y_test)\n",
    "plt.title(\"Matriz de confusión del modelo SVM\")\n",
    "plt.show()"
   ]
  },
  {
   "cell_type": "code",
   "execution_count": 8,
   "id": "4acbd5ec",
   "metadata": {},
   "outputs": [
    {
     "name": "stdout",
     "output_type": "stream",
     "text": [
      "Escalado de características completado.\n"
     ]
    }
   ],
   "source": [
    "\n",
    "# Paso 4: Escalado de características\n",
    "from sklearn.preprocessing import StandardScaler\n",
    "\n",
    "scaler = StandardScaler()\n",
    "X_train_scaled = scaler.fit_transform(X_train)\n",
    "X_test_scaled = scaler.transform(X_test)\n",
    "\n",
    "print(\"Escalado de características completado.\")\n"
   ]
  },
  {
   "cell_type": "code",
   "execution_count": 9,
   "id": "ab602619",
   "metadata": {},
   "outputs": [
    {
     "name": "stdout",
     "output_type": "stream",
     "text": [
      "Selección de características completada. Características seleccionadas:  85\n"
     ]
    }
   ],
   "source": [
    "\n",
    "# Paso 5: Selección del 50% de las características usando un enfoque supervisado (por ejemplo, RandomForest)\n",
    "from sklearn.ensemble import RandomForestClassifier\n",
    "from sklearn.feature_selection import SelectFromModel\n",
    "\n",
    "selector = SelectFromModel(RandomForestClassifier(n_estimators=100), threshold=\"median\")\n",
    "X_train_selected = selector.fit_transform(X_train_scaled, y_train)\n",
    "X_test_selected = selector.transform(X_test_scaled)\n",
    "\n",
    "print(\"Selección de características completada. Características seleccionadas: \", X_train_selected.shape[1])\n"
   ]
  },
  {
   "cell_type": "code",
   "execution_count": 10,
   "id": "90a5d911",
   "metadata": {},
   "outputs": [
    {
     "name": "stdout",
     "output_type": "stream",
     "text": [
      "Fitting 5 folds for each of 16 candidates, totalling 80 fits\n",
      "[CV] END .........................C=0.1, gamma=1, kernel=rbf; total time=   0.0s\n",
      "[CV] END .........................C=0.1, gamma=1, kernel=rbf; total time=   0.0s\n",
      "[CV] END .........................C=0.1, gamma=1, kernel=rbf; total time=   0.0s\n",
      "[CV] END .........................C=0.1, gamma=1, kernel=rbf; total time=   0.0s\n",
      "[CV] END .........................C=0.1, gamma=1, kernel=rbf; total time=   0.0s\n",
      "[CV] END .......................C=0.1, gamma=0.1, kernel=rbf; total time=   0.0s\n",
      "[CV] END .......................C=0.1, gamma=0.1, kernel=rbf; total time=   0.0s\n",
      "[CV] END .......................C=0.1, gamma=0.1, kernel=rbf; total time=   0.0s\n",
      "[CV] END .......................C=0.1, gamma=0.1, kernel=rbf; total time=   0.0s\n",
      "[CV] END .......................C=0.1, gamma=0.1, kernel=rbf; total time=   0.0s\n",
      "[CV] END ......................C=0.1, gamma=0.01, kernel=rbf; total time=   0.0s\n",
      "[CV] END ......................C=0.1, gamma=0.01, kernel=rbf; total time=   0.0s\n",
      "[CV] END ......................C=0.1, gamma=0.01, kernel=rbf; total time=   0.0s\n",
      "[CV] END ......................C=0.1, gamma=0.01, kernel=rbf; total time=   0.0s\n",
      "[CV] END ......................C=0.1, gamma=0.01, kernel=rbf; total time=   0.0s\n",
      "[CV] END .....................C=0.1, gamma=0.001, kernel=rbf; total time=   0.0s\n",
      "[CV] END .....................C=0.1, gamma=0.001, kernel=rbf; total time=   0.0s\n",
      "[CV] END .....................C=0.1, gamma=0.001, kernel=rbf; total time=   0.0s\n",
      "[CV] END .....................C=0.1, gamma=0.001, kernel=rbf; total time=   0.0s\n",
      "[CV] END .....................C=0.1, gamma=0.001, kernel=rbf; total time=   0.0s\n",
      "[CV] END ...........................C=1, gamma=1, kernel=rbf; total time=   0.0s\n",
      "[CV] END ...........................C=1, gamma=1, kernel=rbf; total time=   0.0s\n",
      "[CV] END ...........................C=1, gamma=1, kernel=rbf; total time=   0.0s\n",
      "[CV] END ...........................C=1, gamma=1, kernel=rbf; total time=   0.0s\n",
      "[CV] END ...........................C=1, gamma=1, kernel=rbf; total time=   0.0s\n",
      "[CV] END .........................C=1, gamma=0.1, kernel=rbf; total time=   0.0s\n",
      "[CV] END .........................C=1, gamma=0.1, kernel=rbf; total time=   0.0s\n",
      "[CV] END .........................C=1, gamma=0.1, kernel=rbf; total time=   0.0s\n",
      "[CV] END .........................C=1, gamma=0.1, kernel=rbf; total time=   0.0s\n",
      "[CV] END .........................C=1, gamma=0.1, kernel=rbf; total time=   0.0s\n",
      "[CV] END ........................C=1, gamma=0.01, kernel=rbf; total time=   0.0s\n",
      "[CV] END ........................C=1, gamma=0.01, kernel=rbf; total time=   0.0s\n",
      "[CV] END ........................C=1, gamma=0.01, kernel=rbf; total time=   0.0s\n",
      "[CV] END ........................C=1, gamma=0.01, kernel=rbf; total time=   0.0s\n",
      "[CV] END ........................C=1, gamma=0.01, kernel=rbf; total time=   0.0s\n",
      "[CV] END .......................C=1, gamma=0.001, kernel=rbf; total time=   0.0s\n",
      "[CV] END .......................C=1, gamma=0.001, kernel=rbf; total time=   0.0s\n",
      "[CV] END .......................C=1, gamma=0.001, kernel=rbf; total time=   0.0s\n",
      "[CV] END .......................C=1, gamma=0.001, kernel=rbf; total time=   0.0s\n",
      "[CV] END .......................C=1, gamma=0.001, kernel=rbf; total time=   0.0s\n",
      "[CV] END ..........................C=10, gamma=1, kernel=rbf; total time=   0.0s\n",
      "[CV] END ..........................C=10, gamma=1, kernel=rbf; total time=   0.0s\n",
      "[CV] END ..........................C=10, gamma=1, kernel=rbf; total time=   0.0s\n",
      "[CV] END ..........................C=10, gamma=1, kernel=rbf; total time=   0.0s\n",
      "[CV] END ..........................C=10, gamma=1, kernel=rbf; total time=   0.0s\n",
      "[CV] END ........................C=10, gamma=0.1, kernel=rbf; total time=   0.0s\n",
      "[CV] END ........................C=10, gamma=0.1, kernel=rbf; total time=   0.0s\n",
      "[CV] END ........................C=10, gamma=0.1, kernel=rbf; total time=   0.0s\n",
      "[CV] END ........................C=10, gamma=0.1, kernel=rbf; total time=   0.0s\n",
      "[CV] END ........................C=10, gamma=0.1, kernel=rbf; total time=   0.0s\n",
      "[CV] END .......................C=10, gamma=0.01, kernel=rbf; total time=   0.0s\n",
      "[CV] END .......................C=10, gamma=0.01, kernel=rbf; total time=   0.0s\n",
      "[CV] END .......................C=10, gamma=0.01, kernel=rbf; total time=   0.0s\n",
      "[CV] END .......................C=10, gamma=0.01, kernel=rbf; total time=   0.0s\n",
      "[CV] END .......................C=10, gamma=0.01, kernel=rbf; total time=   0.0s\n",
      "[CV] END ......................C=10, gamma=0.001, kernel=rbf; total time=   0.0s\n",
      "[CV] END ......................C=10, gamma=0.001, kernel=rbf; total time=   0.0s\n",
      "[CV] END ......................C=10, gamma=0.001, kernel=rbf; total time=   0.0s\n",
      "[CV] END ......................C=10, gamma=0.001, kernel=rbf; total time=   0.0s\n",
      "[CV] END ......................C=10, gamma=0.001, kernel=rbf; total time=   0.0s\n",
      "[CV] END .........................C=100, gamma=1, kernel=rbf; total time=   0.0s\n",
      "[CV] END .........................C=100, gamma=1, kernel=rbf; total time=   0.0s\n",
      "[CV] END .........................C=100, gamma=1, kernel=rbf; total time=   0.0s\n",
      "[CV] END .........................C=100, gamma=1, kernel=rbf; total time=   0.0s\n",
      "[CV] END .........................C=100, gamma=1, kernel=rbf; total time=   0.0s\n",
      "[CV] END .......................C=100, gamma=0.1, kernel=rbf; total time=   0.0s\n",
      "[CV] END .......................C=100, gamma=0.1, kernel=rbf; total time=   0.0s\n",
      "[CV] END .......................C=100, gamma=0.1, kernel=rbf; total time=   0.0s\n",
      "[CV] END .......................C=100, gamma=0.1, kernel=rbf; total time=   0.0s\n",
      "[CV] END .......................C=100, gamma=0.1, kernel=rbf; total time=   0.0s\n",
      "[CV] END ......................C=100, gamma=0.01, kernel=rbf; total time=   0.0s\n",
      "[CV] END ......................C=100, gamma=0.01, kernel=rbf; total time=   0.0s\n",
      "[CV] END ......................C=100, gamma=0.01, kernel=rbf; total time=   0.0s\n",
      "[CV] END ......................C=100, gamma=0.01, kernel=rbf; total time=   0.0s\n",
      "[CV] END ......................C=100, gamma=0.01, kernel=rbf; total time=   0.0s\n",
      "[CV] END .....................C=100, gamma=0.001, kernel=rbf; total time=   0.0s\n",
      "[CV] END .....................C=100, gamma=0.001, kernel=rbf; total time=   0.0s\n",
      "[CV] END .....................C=100, gamma=0.001, kernel=rbf; total time=   0.0s\n",
      "[CV] END .....................C=100, gamma=0.001, kernel=rbf; total time=   0.0s\n",
      "[CV] END .....................C=100, gamma=0.001, kernel=rbf; total time=   0.0s\n",
      "Mejores hiperparámetros:  {'C': 100, 'gamma': 0.01, 'kernel': 'rbf'}\n"
     ]
    }
   ],
   "source": [
    "\n",
    "# Paso 6: Selección de hiperparámetros para el modelo de SVM\n",
    "from sklearn.svm import SVC\n",
    "from sklearn.model_selection import GridSearchCV\n",
    "\n",
    "# Definir la búsqueda en malla de hiperparámetros\n",
    "param_grid = {\n",
    "    'C': [0.1, 1, 10, 100],\n",
    "    'gamma': [1, 0.1, 0.01, 0.001],\n",
    "    'kernel': ['rbf']\n",
    "}\n",
    "\n",
    "grid = GridSearchCV(SVC(), param_grid, refit=True, verbose=2, cv=5)\n",
    "grid.fit(X_train_selected, y_train)\n",
    "\n",
    "print(\"Mejores hiperparámetros: \", grid.best_params_)\n",
    "best_svm = grid.best_estimator_\n"
   ]
  },
  {
   "cell_type": "code",
   "execution_count": 11,
   "id": "537c2eff",
   "metadata": {},
   "outputs": [
    {
     "name": "stdout",
     "output_type": "stream",
     "text": [
      "Exactitud del modelo en el conjunto de prueba:  0.9629629629629629\n",
      "Reporte de clasificación: \n",
      "              precision    recall  f1-score   support\n",
      "\n",
      "           0       0.94      0.98      0.96        45\n",
      "           3       1.00      0.96      0.98        45\n",
      "          11       0.96      0.96      0.96        45\n",
      "\n",
      "    accuracy                           0.96       135\n",
      "   macro avg       0.96      0.96      0.96       135\n",
      "weighted avg       0.96      0.96      0.96       135\n",
      "\n"
     ]
    }
   ],
   "source": [
    "\n",
    "# Paso 7: Evaluar el modelo en el conjunto de prueba\n",
    "from sklearn.metrics import classification_report, accuracy_score\n",
    "\n",
    "y_pred = best_svm.predict(X_test_selected)\n",
    "accuracy = accuracy_score(y_test, y_pred)\n",
    "\n",
    "print(\"Exactitud del modelo en el conjunto de prueba: \", accuracy)\n",
    "print(\"Reporte de clasificación: \")\n",
    "print(classification_report(y_test, y_pred))\n"
   ]
  },
  {
   "cell_type": "markdown",
   "metadata": {},
   "source": [
    "Visualizacion de Matriz de Confusion"
   ]
  },
  {
   "cell_type": "code",
   "execution_count": 12,
   "metadata": {},
   "outputs": [
    {
     "data": {
      "image/png": "[encoded data removed]",
      "text/plain": [
       "<Figure size 640x480 with 2 Axes>"
      ]
     },
     "metadata": {},
     "output_type": "display_data"
    }
   ],
   "source": [
    "# Visualización de las métricas de desempeño\n",
    "import matplotlib.pyplot as plt\n",
    "from sklearn.metrics import ConfusionMatrixDisplay\n",
    "\n",
    "# Mostrar la matriz de confusión\n",
    "ConfusionMatrixDisplay.from_estimator(best_svm, X_test_selected, y_test)\n",
    "plt.title(\"Matriz de confusión del modelo SVM\")\n",
    "plt.show()"
   ]
  }
 ],
 "metadata": {
  "kernelspec": {
   "display_name": "Python 3",
   "language": "python",
   "name": "python3"
  },
  "language_info": {
   "codemirror_mode": {
    "name": "ipython",
    "version": 3
   },
   "file_extension": ".py",
   "mimetype": "text/x-python",
   "name": "python",
   "nbconvert_exporter": "python",
   "pygments_lexer": "ipython3",
   "version": "3.12.5"
  }
 },
 "nbformat": 4,
 "nbformat_minor": 2
}
