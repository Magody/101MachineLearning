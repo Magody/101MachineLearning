{
 "cells": [
  {
   "cell_type": "code",
   "execution_count": 16,
   "metadata": {},
   "outputs": [],
   "source": [
    "import numpy as np\n",
    "import pandas as pd\n",
    "from sklearn.datasets import load_diabetes\n",
    "from sklearn.model_selection import train_test_split\n",
    "from sklearn.tree import DecisionTreeClassifier\n",
    "from sklearn.metrics import accuracy_score\n",
    "import matplotlib.pyplot as plt\n",
    "import seaborn as sns\n",
    "from deap import base, creator, tools, algorithms\n",
    "import random\n",
    "# Cargar el dataset\n",
    "data = load_diabetes()\n",
    "X = pd.DataFrame(data.data, columns=data.feature_names)\n",
    "y = pd.Series(data.target)\n",
    "# Dividir los datos en entrenamiento y prueba\n",
    "X_train, X_test, y_train, y_test = train_test_split(X, y, test_size=0.3, random_state=42)"
   ]
  },
  {
   "cell_type": "code",
   "execution_count": 17,
   "metadata": {},
   "outputs": [
    {
     "name": "stdout",
     "output_type": "stream",
     "text": [
      "Error cuadrático medio con todos los atributos: 5697.7895\n"
     ]
    }
   ],
   "source": [
    "# Entrenar el modelo de rbol de Decisi n con todos los atributos\n",
    "clf = DecisionTreeClassifier(random_state=42)\n",
    "clf.fit(X_train, y_train)\n",
    "# Evaluar el modelo\n",
    "y_pred = clf.predict(X_test)\n",
    "accuracy_all_features = accuracy_score(y_test, y_pred)\n",
    "print(f\"Exactitud con todos los atributos: {accuracy_all_features:.4f}\")"
   ]
  },
  {
   "cell_type": "code",
   "execution_count": 13,
   "metadata": {},
   "outputs": [
    {
     "name": "stderr",
     "output_type": "stream",
     "text": [
      "c:\\Users\\usuario\\anaconda3\\envs\\env_101\\Lib\\site-packages\\deap\\creator.py:185: RuntimeWarning: A class named 'FitnessMax' has already been created and it will be overwritten. Consider deleting previous creation of that class or rename it.\n",
      "  warnings.warn(\"A class named '{0}' has already been created and it \"\n",
      "c:\\Users\\usuario\\anaconda3\\envs\\env_101\\Lib\\site-packages\\deap\\creator.py:185: RuntimeWarning: A class named 'Individual' has already been created and it will be overwritten. Consider deleting previous creation of that class or rename it.\n",
      "  warnings.warn(\"A class named '{0}' has already been created and it \"\n"
     ]
    },
    {
     "name": "stdout",
     "output_type": "stream",
     "text": [
      "Mejores características seleccionadas: [1, 3, 5, 7, 12, 13, 14, 16, 19, 20, 22, 23]\n",
      "Max depth seleccionado: 3\n",
      "Min samples split seleccionado: 11\n",
      "Best fitness: 0.9824561403508771\n"
     ]
    }
   ],
   "source": [
    "# Configuración del Algoritmo Genético\n",
    "creator.create(\"FitnessMax\", base.Fitness, weights=(1.0,))\n",
    "creator.create(\"Individual\", list, fitness=creator.FitnessMax)\n",
    "toolbox = base.Toolbox()\n",
    "\n",
    "# Los primeros 'X_train.shape[1]' valores son las características, los siguientes son max_depth y min_samples_split\n",
    "toolbox.register(\"attr_bool\", lambda: random.randint(0, 1))  # Para las características (0 o 1)\n",
    "toolbox.register(\"attr_max_depth\", lambda: random.randint(2, 20))  # Para max_depth (profundidad entre 3 y 20)\n",
    "toolbox.register(\"attr_min_samples_split\", lambda: random.randint(2, 20))  # Para min_samples_split (2 a 20)\n",
    "\n",
    "# Crear individuo con 30 características y los hiperparámetros max_depth y min_samples_split\n",
    "def create_individual():\n",
    "    features = [toolbox.attr_bool() for _ in range(X_train.shape[1])]  # 30 valores binarios\n",
    "    max_depth = toolbox.attr_max_depth()  # Profundidad máxima del árbol\n",
    "    min_samples_split = toolbox.attr_min_samples_split()  # Muestras mínimas para dividir\n",
    "    individual = creator.Individual(features + [max_depth, min_samples_split])  # Convertir en un objeto Individual\n",
    "    return individual\n",
    "\n",
    "toolbox.register(\"individual\", create_individual)\n",
    "\n",
    "# Crear la población\n",
    "toolbox.register(\"population\", tools.initRepeat, list, toolbox.individual)\n",
    "\n",
    "# Función de evaluación\n",
    "def evaluate(individual):\n",
    "    # Las características seleccionadas son desde el primer elemento hasta el antepenúltimo\n",
    "    selected_features = [i for i in range(len(individual) - 2) if individual[i] == 1]  # Ignorar los últimos dos valores\n",
    "    max_depth = int(individual[-2])  # Penúltimo valor es max_depth\n",
    "    min_samples_split = int(individual[-1])  # Último valor es min_samples_split\n",
    "\n",
    "    if len(selected_features) == 0:\n",
    "        return 0,  # Evitar selecciones vacías\n",
    "\n",
    "    # Asegurarse de que selected_features no exceda el número de columnas\n",
    "    if max(selected_features) >= X_train.shape[1]:\n",
    "        print(individual, selected_features, X_train.shape)\n",
    "        raise IndexError(\"Selected feature index is out of bounds.\")\n",
    "\n",
    "    # Seleccionar las características correctas del conjunto de entrenamiento y prueba\n",
    "    X_train_selected = X_train.iloc[:, selected_features]\n",
    "    X_test_selected = X_test.iloc[:, selected_features]\n",
    "\n",
    "    # Crear el clasificador con max_depth y min_samples_split del individuo\n",
    "    clf = DecisionTreeClassifier(random_state=42, max_depth=max_depth, min_samples_split=min_samples_split)\n",
    "    clf.fit(X_train_selected, y_train)\n",
    "    y_pred = clf.predict(X_test_selected)\n",
    "\n",
    "    return accuracy_score(y_test, y_pred),\n",
    "\n",
    "# Mutación de características, max_depth y min_samples_split\n",
    "def custom_mutate(individual, indpb):\n",
    "    # Mutar las características binarias (0/1)\n",
    "    for i in range(len(individual) - 2):  # Características\n",
    "        if random.random() < indpb:\n",
    "            individual[i] = 1 if individual[i] == 0 else 0\n",
    "\n",
    "    # Mutar max_depth\n",
    "    if random.random() < indpb:\n",
    "        individual[-2] = random.randint(3, 20)  # Mutar max_depth a un nuevo valor\n",
    "    \n",
    "    # Mutar min_samples_split\n",
    "    if random.random() < indpb:\n",
    "        individual[-1] = random.randint(2, 20)  # Mutar min_samples_split a un nuevo valor\n",
    "    \n",
    "    return individual,\n",
    "\n",
    "# Operadores genéticos\n",
    "toolbox.register(\"mate\", tools.cxTwoPoint)\n",
    "toolbox.register(\"mutate\", custom_mutate, indpb=0.1)\n",
    "toolbox.register(\"select\", tools.selTournament, tournsize=3)\n",
    "toolbox.register(\"evaluate\", evaluate)\n",
    "\n",
    "# Configuración del algoritmo genético\n",
    "population = toolbox.population(n=100)\n",
    "ngen = 100\n",
    "\n",
    "# controla la probabilidad de realizar la operación de cruce (crossover) entre dos individuos durante el proceso de evolución.\n",
    "cxpb = 0.5\n",
    "\n",
    "# controla la probabilidad de aplicar la operación de mutación a un individuo durante el proceso de evolución.\n",
    "mutpb = 0.2\n",
    "\n",
    "# Ejecutar el algoritmo genético\n",
    "result_population, logbook = algorithms.eaSimple(population, toolbox, cxpb, mutpb, ngen, verbose=False)\n",
    "\n",
    "# Seleccionar el mejor individuo\n",
    "best_individual = tools.selBest(result_population, k=1)[0]\n",
    "\n",
    "# Extraer las características seleccionadas, max_depth, y min_samples_split por separado\n",
    "selected_features = [i for i in range(len(best_individual) - 2) if best_individual[i] == 1]  # Características\n",
    "max_depth = best_individual[-2]  # Penúltimo valor es max_depth\n",
    "min_samples_split = best_individual[-1]  # Último valor es min_samples_split\n",
    "\n",
    "print(f\"Mejores características seleccionadas: {selected_features}\")\n",
    "print(f\"Max depth seleccionado: {max_depth}\")\n",
    "print(f\"Min samples split seleccionado: {min_samples_split}\")\n",
    "\n",
    "best_fit = best_individual.fitness.values[0]  # El fitness es una tupla, por lo que accedes al primer valor\n",
    "print(f\"Best fitness: {best_fit}\")"
   ]
  },
  {
   "cell_type": "code",
   "execution_count": 10,
   "metadata": {},
   "outputs": [
    {
     "name": "stdout",
     "output_type": "stream",
     "text": [
      "Exactitud con las mejores características: 0.9766\n"
     ]
    }
   ],
   "source": [
    "# Entrenar con las mejores caractersticas seleccionadas\n",
    "X_train_selected = X_train.iloc[:, selected_features]\n",
    "X_test_selected = X_test.iloc[:, selected_features]\n",
    "clf = DecisionTreeClassifier(random_state=42, max_depth=max_depth, min_samples_split=min_samples_split)\n",
    "clf.fit(X_train_selected, y_train)\n",
    "# Evaluar el modelo\n",
    "y_pred = clf.predict(X_test_selected)\n",
    "accuracy_selected_features = accuracy_score(y_test, y_pred)\n",
    "# 0.9766\n",
    "print(f\"Exactitud con las mejores características: {accuracy_selected_features:.4f}\")"
   ]
  },
  {
   "cell_type": "code",
   "execution_count": 31,
   "metadata": {},
   "outputs": [
    {
     "data": {
      "image/png": "[encoded data removed]",
      "text/plain": [
       "<Figure size 800x600 with 1 Axes>"
      ]
     },
     "metadata": {},
     "output_type": "display_data"
    }
   ],
   "source": [
    "# Comparaci n de resultados\n",
    "results = pd.DataFrame({\n",
    "    'Tipo de Entrenamiento': ['Todos los Atributos', 'Atributos Seleccionados'],\n",
    "    'Exactitud': [accuracy_all_features, accuracy_selected_features]\n",
    "})\n",
    "# Gr fico de barras\n",
    "plt.figure(figsize=(8, 6))\n",
    "sns.barplot(x='Tipo de Entrenamiento', y='Exactitud', data=results)\n",
    "plt.title('Comparaci n de Exactitud entre Todos los Atributos y Selecci n de Caractersticas')\n",
    "plt.show()"
   ]
  },
  {
   "cell_type": "code",
   "execution_count": null,
   "metadata": {},
   "outputs": [],
   "source": []
  }
 ],
 "metadata": {
  "kernelspec": {
   "display_name": "env_101",
   "language": "python",
   "name": "python3"
  },
  "language_info": {
   "codemirror_mode": {
    "name": "ipython",
    "version": 3
   },
   "file_extension": ".py",
   "mimetype": "text/x-python",
   "name": "python",
   "nbconvert_exporter": "python",
   "pygments_lexer": "ipython3",
   "version": "3.11.9"
  }
 },
 "nbformat": 4,
 "nbformat_minor": 2
}
