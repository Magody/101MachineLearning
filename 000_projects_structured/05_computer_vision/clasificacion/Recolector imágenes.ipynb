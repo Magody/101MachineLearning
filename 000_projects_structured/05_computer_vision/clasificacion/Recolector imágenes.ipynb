{
 "cells": [
  {
   "cell_type": "code",
   "execution_count": 4,
   "metadata": {},
   "outputs": [],
   "source": [
    "import cv2\n",
    "from time import sleep\n",
    "import os\n",
    "\n",
    "folder = f\"./input/rostro\"\n",
    "folder_basename = \"mi_rostro\"\n",
    "\n",
    "num_photos = 500\n",
    "\n",
    "cap = cv2.VideoCapture(0)  # Cambia el índice si tienes múltiples cámaras\n",
    "\n",
    "for i in range(num_photos):\n",
    "    ret, frame = cap.read()\n",
    "    if ret:\n",
    "        cv2.imwrite(f\"{folder}/{folder_basename}_{i+1}.jpg\", frame)\n",
    "        sleep(0.05)\n",
    "    else:\n",
    "        break\n",
    "\n",
    "cap.release()\n",
    "cv2.destroyAllWindows()"
   ]
  },
  {
   "cell_type": "code",
   "execution_count": null,
   "metadata": {},
   "outputs": [],
   "source": []
  }
 ],
 "metadata": {
  "kernelspec": {
   "display_name": "Python 3",
   "language": "python",
   "name": "python3"
  },
  "language_info": {
   "codemirror_mode": {
    "name": "ipython",
    "version": 3
   },
   "file_extension": ".py",
   "mimetype": "text/x-python",
   "name": "python",
   "nbconvert_exporter": "python",
   "pygments_lexer": "ipython3",
   "version": "3.11.9"
  }
 },
 "nbformat": 4,
 "nbformat_minor": 2
}
