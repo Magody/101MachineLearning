{
 "cells": [
  {
   "cell_type": "code",
   "execution_count": null,
   "metadata": {},
   "outputs": [],
   "source": []
  },
  {
   "cell_type": "code",
   "execution_count": 68,
   "metadata": {},
   "outputs": [
    {
     "name": "stdout",
     "output_type": "stream",
     "text": [
      "<re.Match object; span=(0, 331), match='⏰ Zona horaria: UTC -3   \\n💰5 minutos de caducida>\n"
     ]
    }
   ],
   "source": [
    "⏰ Zona horaria: UTC -3  \n",
    "💰5 minutos de caducidad  \n",
    "EUR/NZD;19:08;CALL 🟥  \n",
    "  \n",
    "🕐HORA HASTA LAS 19:13  \n",
    "  \n",
    "1º GALE —>HORA HASTA LAS 19:18  \n",
    "2º GALE —>HORA HASTA LAS 19:22  \n",
    "  \n",
    "📲 Haga clic para abrir el broker  \n",
    "🙋‍♂️ ¿Aún no sabes operar? Haga clic aquí"
   ]
  },
  {
   "cell_type": "code",
   "execution_count": 55,
   "metadata": {},
   "outputs": [
    {
     "name": "stdout",
     "output_type": "stream",
     "text": [
      "{'TEST': 1234}\n",
      "\u001b[34m[INFO] 2024-07-06 21:23:45.921512+00:00: Mensaje con formato específico recibido: ⏰ Zona horaria: UTC -3\n",
      "💰5 minutos de caducidad\n",
      "AUD/CAD;18:25;CALL \n",
      "\n",
      "🕐HORA HASTA LAS 18:30\n",
      "\n",
      "1º GALE —>HORA HASTA LAS 18:35\n",
      "2º GALE —>HORA HASTA LAS 18:40\n",
      "\n",
      "📲 Haga clic para abrir el broker\n",
      "🙋‍♂️ ¿Aún no sabes operar? Haga clic aquí\u001b[0m\n",
      "\u001b[36m[DEBUG] 2024-07-06 21:23:45.922511+00:00: Groups: ('-3', '5', 'AUD/CAD;18:25;CALL ', '18:30', '18:35', '18:40')\u001b[0m\n",
      "\u001b[36m[DEBUG] 2024-07-06 21:23:45.922511+00:00: |asset:AUDCAD|start_time:2024-07-06 21:25:00+00:00|action:call|\u001b[0m\n",
      "\u001b[34m[INFO] 2024-07-06 21:23:45.922511+00:00: Getting initial balance...\u001b[0m\n",
      "\u001b[36m[DEBUG] 2024-07-06 21:24:17.826816+00:00: Balance: 9984.9\u001b[0m\n",
      "\u001b[36m[DEBUG] 2024-07-06 21:24:18.059272+00:00: WAITING UNTIL TIME UTC: 2024-07-06 21:24:35+00:00\u001b[0m\n",
      "\u001b[36m[DEBUG] 2024-07-06 21:24:35.412367+00:00: STARTING TRADE\u001b[0m\n",
      "\u001b[33m[WARNING] 2024-07-06 21:25:06.940075+00:00: Asset is closed.\u001b[0m\n",
      "\u001b[33m[WARNING] 2024-07-06 21:25:06.940075+00:00: Trying OTC Asset -> AUDCAD_otc\u001b[0m\n",
      "\u001b[34m[INFO] 2024-07-06 21:25:06.940075+00:00: Asset AUDCAD_otc is open.\u001b[0m\n",
      "\u001b[34m[INFO] 2024-07-06 21:25:07.912870+00:00: TRADE PLACED: {'id': '66fb5156-8968-4e1f-970e-b5c5f25e962e', 'openTime': '2024-07-06 21:25:07', 'closeTime': '2024-07-06 21:30:07', 'openTimestamp': 1720301107, 'closeTimestamp': 1720301407, 'uid': 44477579, 'isDemo': 1, 'tournamentId': 0, 'amount': 9, 'purchaseTime': 1720301377, 'profit': 8.1, 'percentProfit': 90, 'percentLoss': 100, 'openPrice': 0.93779, 'copyTicket': '', 'closePrice': 0, 'command': 0, 'asset': 'AUDCAD_otc', 'nickname': '#44477579', 'accountBalance': 9984.9, 'requestId': 1720301106, 'openMs': 26, 'currency': 'USD'}\u001b[0m\n",
      "\u001b[34m[INFO] 2024-07-06 21:25:07.912870+00:00: WAITING UNTIL OPERATION END: 2024-07-06 21:30:17.912870+00:00\u001b[0m\n",
      "\u001b[34m[INFO] 2024-07-06 21:30:17.950426+00:00: Getting final balance...\u001b[0m\n",
      "\u001b[36m[DEBUG] 2024-07-06 21:30:38.834251+00:00: Balance: 9975.9\u001b[0m\n",
      "\u001b[34m[INFO] 2024-07-06 21:30:39.053661+00:00: LOSE -> PROFIT: -9.0\u001b[0m\n"
     ]
    }
   ],
   "source": [
    "import nest_asyncio\n",
    "nest_asyncio.apply()\n",
    "\n",
    "def run(y):\n",
    "    loop = asyncio.new_event_loop()\n",
    "    asyncio.set_event_loop(loop)\n",
    "    z = loop.run_until_complete(y)\n",
    "    return z\n",
    "\n",
    "\n",
    "def debug_minutes_0(minutes):\n",
    "        if minutes < 10:\n",
    "            return f\"0{minutes}\"\n",
    "        return str(minutes)\n",
    "    \n",
    "debug_minutes = 30\n",
    "\n",
    "message_text = f\"\"\"⏰ Zona horaria: UTC -3\n",
    "💰5 minutos de caducidad\n",
    "AUD/CAD;18:{debug_minutes_0(debug_minutes)};CALL \n",
    "\n",
    "🕐HORA HASTA LAS 18:{debug_minutes_0(debug_minutes + 5)}\n",
    "\n",
    "1º GALE —>HORA HASTA LAS 18:{debug_minutes_0(debug_minutes + 10)}\n",
    "2º GALE —>HORA HASTA LAS 18:{debug_minutes_0(debug_minutes + 15)}\n",
    "\n",
    "📲 Haga clic para abrir el broker\n",
    "🙋‍♂️ ¿Aún no sabes operar? Haga clic aquí\"\"\"\n",
    "\n",
    "\n",
    "run(main({\n",
    "    \"message_text\": message_text,\n",
    "    \"maximum_amount\": 1\n",
    "}))"
   ]
  },
  {
   "cell_type": "code",
   "execution_count": 37,
   "metadata": {},
   "outputs": [
    {
     "name": "stdout",
     "output_type": "stream",
     "text": [
      "36 AUD/CAD True\n"
     ]
    }
   ],
   "source": [
    "asset = \"AUDCAD\"\n",
    "\n",
    "for i in broker.client.api.instruments:\n",
    "    if asset_parse(asset) == i[2]:\n",
    "        print(i[0], i[2], i[14])"
   ]
  },
  {
   "cell_type": "code",
   "execution_count": 46,
   "metadata": {},
   "outputs": [
    {
     "name": "stdout",
     "output_type": "stream",
     "text": [
      "None\n"
     ]
    }
   ],
   "source": [
    "print(broker.client.api.trade_successful)"
   ]
  },
  {
   "cell_type": "code",
   "execution_count": 45,
   "metadata": {},
   "outputs": [
    {
     "data": {
      "text/plain": [
       "datetime.datetime(2024, 7, 6, 18, 9, tzinfo=<UTC>)"
      ]
     },
     "execution_count": 45,
     "metadata": {},
     "output_type": "execute_result"
    }
   ],
   "source": []
  },
  {
   "cell_type": "code",
   "execution_count": 37,
   "metadata": {},
   "outputs": [
    {
     "data": {
      "text/plain": [
       "'2024-07-06 17:19:29.305739+00:00'"
      ]
     },
     "execution_count": 37,
     "metadata": {},
     "output_type": "execute_result"
    }
   ],
   "source": [
    "str(TimeHandler.get_now_utc(utc_offset))"
   ]
  },
  {
   "cell_type": "code",
   "execution_count": null,
   "metadata": {},
   "outputs": [],
   "source": []
  }
 ],
 "metadata": {
  "kernelspec": {
   "display_name": "env_ai",
   "language": "python",
   "name": "python3"
  },
  "language_info": {
   "codemirror_mode": {
    "name": "ipython",
    "version": 3
   },
   "file_extension": ".py",
   "mimetype": "text/x-python",
   "name": "python",
   "nbconvert_exporter": "python",
   "pygments_lexer": "ipython3",
   "version": "3.11.9"
  }
 },
 "nbformat": 4,
 "nbformat_minor": 2
}
