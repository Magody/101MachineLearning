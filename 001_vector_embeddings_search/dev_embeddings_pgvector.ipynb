{
 "cells": [
  {
   "cell_type": "markdown",
   "metadata": {},
   "source": [
    "# Setup environment"
   ]
  },
  {
   "cell_type": "code",
   "execution_count": 2,
   "metadata": {},
   "outputs": [],
   "source": [
    "import os\n",
    "import json\n",
    "\n",
    "with open(\".env.json\", \"r\") as f_in:\n",
    "    env_json: dict = json.load(f_in)\n",
    "    for key, value in env_json.items():\n",
    "        os.environ[key] = value"
   ]
  },
  {
   "cell_type": "markdown",
   "metadata": {},
   "source": [
    "# Helper Functions"
   ]
  },
  {
   "cell_type": "code",
   "execution_count": 3,
   "metadata": {},
   "outputs": [],
   "source": [
    "import pandas as pd\n",
    "import numpy as np"
   ]
  },
  {
   "cell_type": "code",
   "execution_count": 4,
   "metadata": {},
   "outputs": [],
   "source": [
    "path_data = \"C:/Users/usuario/Documents/GitHub/101MachineLearning/000_data\""
   ]
  },
  {
   "cell_type": "markdown",
   "metadata": {},
   "source": [
    "# Data"
   ]
  },
  {
   "cell_type": "code",
   "execution_count": 5,
   "metadata": {},
   "outputs": [
    {
     "name": "stdout",
     "output_type": "stream",
     "text": [
      "<class 'pandas.core.frame.DataFrame'>\n",
      "RangeIndex: 6919 entries, 0 to 6918\n",
      "Data columns (total 6 columns):\n",
      " #   Column       Non-Null Count  Dtype \n",
      "---  ------       --------------  ----- \n",
      " 0   CIIU4_COD    6919 non-null   object\n",
      " 1   CIIU4_DESC   6919 non-null   object\n",
      " 2   CIIU4_NIVEL  6919 non-null   object\n",
      " 3   CIIU3_COD    4788 non-null   object\n",
      " 4   CIIU3_DESC   4788 non-null   object\n",
      " 5   CIIU3_NIVEL  5852 non-null   object\n",
      "dtypes: object(6)\n",
      "memory usage: 324.5+ KB\n",
      "CIIU 4\n",
      "CIIU4_COD      6919\n",
      "CIIU4_DESC     6919\n",
      "CIIU4_NIVEL    6919\n",
      "dtype: int64\n",
      "CIIU 4 - Level 2\n",
      "index          91\n",
      "CIIU4_COD      91\n",
      "CIIU4_DESC     91\n",
      "CIIU4_NIVEL    91\n",
      "dtype: int64\n",
      "CIIU 4 - Level 6\n",
      "index          1908\n",
      "CIIU4_COD      1908\n",
      "CIIU4_DESC     1908\n",
      "CIIU4_NIVEL    1908\n",
      "dtype: int64\n"
     ]
    },
    {
     "data": {
      "text/html": [
       "<div>\n",
       "<style scoped>\n",
       "    .dataframe tbody tr th:only-of-type {\n",
       "        vertical-align: middle;\n",
       "    }\n",
       "\n",
       "    .dataframe tbody tr th {\n",
       "        vertical-align: top;\n",
       "    }\n",
       "\n",
       "    .dataframe thead th {\n",
       "        text-align: right;\n",
       "    }\n",
       "</style>\n",
       "<table border=\"1\" class=\"dataframe\">\n",
       "  <thead>\n",
       "    <tr style=\"text-align: right;\">\n",
       "      <th></th>\n",
       "      <th>index</th>\n",
       "      <th>CIIU4_COD</th>\n",
       "      <th>CIIU4_DESC</th>\n",
       "      <th>CIIU4_NIVEL</th>\n",
       "    </tr>\n",
       "  </thead>\n",
       "  <tbody>\n",
       "    <tr>\n",
       "      <th>0</th>\n",
       "      <td>6</td>\n",
       "      <td>A0111.11</td>\n",
       "      <td>Cultivo de trigo.</td>\n",
       "      <td>6</td>\n",
       "    </tr>\n",
       "    <tr>\n",
       "      <th>1</th>\n",
       "      <td>8</td>\n",
       "      <td>A0111.12</td>\n",
       "      <td>Cultivo de maíz.</td>\n",
       "      <td>6</td>\n",
       "    </tr>\n",
       "    <tr>\n",
       "      <th>2</th>\n",
       "      <td>10</td>\n",
       "      <td>A0111.13</td>\n",
       "      <td>Cultivo de quinua.</td>\n",
       "      <td>6</td>\n",
       "    </tr>\n",
       "    <tr>\n",
       "      <th>3</th>\n",
       "      <td>13</td>\n",
       "      <td>A0111.19</td>\n",
       "      <td>Otros cultivos de cereales n.c.p.: sorgo, ceba...</td>\n",
       "      <td>6</td>\n",
       "    </tr>\n",
       "    <tr>\n",
       "      <th>4</th>\n",
       "      <td>16</td>\n",
       "      <td>A0111.21</td>\n",
       "      <td>Cultivo de fréjol.</td>\n",
       "      <td>6</td>\n",
       "    </tr>\n",
       "  </tbody>\n",
       "</table>\n",
       "</div>"
      ],
      "text/plain": [
       "   index CIIU4_COD                                         CIIU4_DESC  \\\n",
       "0      6  A0111.11                                  Cultivo de trigo.   \n",
       "1      8  A0111.12                                   Cultivo de maíz.   \n",
       "2     10  A0111.13                                 Cultivo de quinua.   \n",
       "3     13  A0111.19  Otros cultivos de cereales n.c.p.: sorgo, ceba...   \n",
       "4     16  A0111.21                                 Cultivo de fréjol.   \n",
       "\n",
       "  CIIU4_NIVEL  \n",
       "0           6  \n",
       "1           6  \n",
       "2           6  \n",
       "3           6  \n",
       "4           6  "
      ]
     },
     "execution_count": 5,
     "metadata": {},
     "output_type": "execute_result"
    }
   ],
   "source": [
    "column_name_content_ciiu = \"CIIU4_DESC\"\n",
    "\n",
    "df_ciiu = pd.read_excel(f\"{path_data}/CIIU.xlsx\", sheet_name=\"CIIU 4.0\")\n",
    "df_ciiu.info()\n",
    "\n",
    "df_ciiu_4 = df_ciiu[[\"CIIU4_COD\", \"CIIU4_DESC\", \"CIIU4_NIVEL\"]]\n",
    "print(\"CIIU 4\")\n",
    "print(df_ciiu_4.count())\n",
    "df_ciiu_4.head()\n",
    "\n",
    "df_ciiu_4_level2 = df_ciiu_4[df_ciiu_4[\"CIIU4_NIVEL\"] == 2].drop_duplicates([\"CIIU4_COD\"]).reset_index()\n",
    "print(\"CIIU 4 - Level 2\")\n",
    "print(df_ciiu_4_level2.count())\n",
    "df_ciiu_4_level2.head(10)\n",
    "\n",
    "df_ciiu_4_level6 = df_ciiu_4[df_ciiu_4[\"CIIU4_NIVEL\"] == 6].drop_duplicates([\"CIIU4_COD\"]).reset_index()\n",
    "print(\"CIIU 4 - Level 6\")\n",
    "print(df_ciiu_4_level6.count())\n",
    "df_ciiu_4_level6.head()"
   ]
  },
  {
   "cell_type": "code",
   "execution_count": 15,
   "metadata": {},
   "outputs": [
    {
     "name": "stdout",
     "output_type": "stream",
     "text": [
      "38\n",
      "LEY ORGÁNICA DE PROTECCIÓN DE DATOS\n",
      "PERSONALES\n",
      "Ley 0\n",
      "Registro Oficial Suplemento 459 de 26-may.-2021 141871\n"
     ]
    }
   ],
   "source": [
    "# importing all the required modules\n",
    "import PyPDF2\n",
    "\n",
    "# creating a pdf reader object\n",
    "file_name_0 = f\"{path_data}/ley_organica_de_proteccion_de_datos_personales.pdf\"\n",
    "reader = PyPDF2.PdfReader(file_name_0)\n",
    "\n",
    "print(len(reader.pages))\n",
    "pages_text_only = [reader.pages[i].extract_text() for i in range(len(reader.pages))]\n",
    "pages_text_only_full = \" \".join(pages_text_only)\n",
    "print(pages_text_only_full[0:100], len(pages_text_only_full))"
   ]
  },
  {
   "cell_type": "markdown",
   "metadata": {},
   "source": [
    "# Embeddings"
   ]
  },
  {
   "cell_type": "code",
   "execution_count": 106,
   "metadata": {},
   "outputs": [],
   "source": [
    "# from .Embedder import Embedder, EmbedderAWS\n",
    "\n",
    "import tiktoken\n",
    "from langchain.text_splitter import RecursiveCharacterTextSplitter\n",
    "import PyPDF2\n",
    "import pandas as pd\n",
    "\n",
    "class Embedder:\n",
    "\n",
    "    def __init__(self, configuration, encoder):\n",
    "        self.config_model = configuration[\"model\"]\n",
    "        self.config_splitter = configuration[\"splitter\"]\n",
    "        self.encoder = encoder\n",
    "        self._text_splitter = None\n",
    "\n",
    "    def get_splitter(self):\n",
    "\n",
    "        if self._text_splitter is None:\n",
    "\n",
    "            self._text_splitter = RecursiveCharacterTextSplitter(\n",
    "                chunk_size=self.config_splitter[\"chunk_size\"],\n",
    "                chunk_overlap=self.config_splitter[\"chunk_overlap\"],\n",
    "                length_function=self.config_splitter[\"length_function\"],\n",
    "                add_start_index=self.config_splitter[\"add_start_index\"],\n",
    "            )\n",
    "        return self._text_splitter\n",
    "    \n",
    "    def split_and_explode(self, df_to_split_explode, column_name_content_ciiu):\n",
    "        # TODO: optimizar copia que se haga en el mismo dataframe\n",
    "        column_name_content_ciiu_split = column_name_content_ciiu + \"_split\"\n",
    "        # TODO: Paralelizable\n",
    "        df_to_split_explode[column_name_content_ciiu_split] = df_to_split_explode[column_name_content_ciiu].apply(self.get_splitter().split_text)\n",
    "        # TODO: Paralelizable\n",
    "        return df_to_split_explode.drop([column_name_content_ciiu], axis=1).explode(column_name_content_ciiu_split).rename(columns={column_name_content_ciiu_split: column_name_content_ciiu})\n",
    "            \n",
    "    def embed_dataframe(self, df_to_embed, column_name_content_ciiu, check_cost=True):\n",
    "\n",
    "        if check_cost:\n",
    "            total_cost, total_tokens = Embedder.get_total_embeddings_cost_df(df_to_embed, column_name_content=column_name_content_ciiu)\n",
    "            print(\"Precio estimado DF = $\" + str(total_cost) + f\" para {total_tokens} tokens\")\n",
    "\n",
    "        documents_embeddings = self.encoder.embed_documents(\n",
    "            list(df_to_embed[column_name_content_ciiu].values)\n",
    "        )\n",
    "\n",
    "        return pd.concat([\n",
    "            df_to_embed.reset_index(),\n",
    "            pd.Series(documents_embeddings).to_frame().rename(columns={0: 'embeddings'})\n",
    "        ], axis=1)\n",
    "    \n",
    "    def split_document(self, document_type, path_file, preprocess_function=None):\n",
    "\n",
    "        documents_text_only = None\n",
    "\n",
    "        if document_type.lower() == \"pdf\":\n",
    "            reader = PyPDF2.PdfReader(path_file)\n",
    "            print(\"Pages PDF: \", len(reader.pages))\n",
    "            pages_text_only = [reader.pages[i].extract_text() for i in range(len(reader.pages))]\n",
    "\n",
    "            # print(pages_text_only_full[0:100], len(pages_text_only_full))\n",
    "            documents = self.get_splitter().create_documents([\" \".join(pages_text_only)], [{\"filename\": path_file}])\n",
    "\n",
    "            if preprocess_function is not None:\n",
    "                documents_text_only = [preprocess_function(documents[i].page_content) for i in range(len(documents))]\n",
    "            else:\n",
    "                documents_text_only = [documents[i].page_content for i in range(len(documents))]\n",
    "        else:\n",
    "            raise Exception(\"Not implemented\")\n",
    "        \n",
    "        return documents_text_only\n",
    "\n",
    "    def embed_pdf(self, path_file, check_cost=True, preprocess_function=None):\n",
    "\n",
    "        if check_cost:\n",
    "            chunks_pdf = self.split_document(\"PDF\", path_file)\n",
    "\n",
    "            total_tokens = Embedder.num_tokens_from_string(\"\".join(chunks_pdf))\n",
    "            total_cost = Embedder.get_embedding_cost(total_tokens)\n",
    "            print(\"Precio estimado PDF: $\" + str(total_cost) + f\" para {total_tokens} tokens\")\n",
    "            \n",
    "        \n",
    "        documents_text_only = self.split_document(\"pdf\", path_file, preprocess_function)\n",
    "        documents_embeddings = self.encoder.embed_documents(\n",
    "            documents_text_only\n",
    "        )\n",
    "\n",
    "        return pd.concat([\n",
    "            pd.Series(documents_text_only).to_frame().rename(columns={0: 'content'}),\n",
    "            pd.Series(documents_embeddings).to_frame().rename(columns={0: 'embeddings'})\n",
    "        ], axis=1)\n",
    "\n",
    "\n",
    "    @staticmethod\n",
    "    def num_tokens_from_string(string: str, encoding_name = \"cl100k_base\") -> int:\n",
    "        if not string:\n",
    "            return 0\n",
    "        encoding = tiktoken.get_encoding(encoding_name)\n",
    "        num_tokens = len(encoding.encode(string))\n",
    "        return num_tokens\n",
    "\n",
    "\n",
    "    @staticmethod\n",
    "    def get_embedding_cost(num_tokens):\n",
    "        return num_tokens/1000*0.0001\n",
    "\n",
    "\n",
    "    @staticmethod\n",
    "    def get_total_embeddings_cost_df(df, column_name_content='content'):\n",
    "        total_tokens = 0\n",
    "        for i in df.index:\n",
    "            text = df[column_name_content][i]\n",
    "            token_len = Embedder.num_tokens_from_string(text)\n",
    "            total_tokens = total_tokens + token_len\n",
    "        total_cost = Embedder.get_embedding_cost(total_tokens)\n",
    "        return total_cost, total_tokens\n",
    "    \n",
    "\n",
    "import boto3\n",
    "from langchain.embeddings import BedrockEmbeddings\n",
    "\n",
    "\n",
    "class EmbedderAWS(Embedder):\n",
    "    \n",
    "    def __init__(self, configuration, encoder=None):\n",
    "        super().__init__(configuration, encoder)\n",
    "\n",
    "        self.client_bedrock = boto3.client(\n",
    "            'bedrock-runtime',\n",
    "            region_name=configuration[\"provider\"][\"region\"],\n",
    "            aws_access_key_id=configuration[\"provider\"][\"credentials\"][\"aws_access_key_id\"],\n",
    "            aws_secret_access_key=configuration[\"provider\"][\"credentials\"][\"aws_secret_access_key\"]\n",
    "        )\n",
    "\n",
    "        if encoder is None:\n",
    "            self.encoder = BedrockEmbeddings(\n",
    "                model_id=self.config_model[\"id\"],\n",
    "                client=self.client_bedrock\n",
    "            )"
   ]
  },
  {
   "cell_type": "code",
   "execution_count": 131,
   "metadata": {},
   "outputs": [],
   "source": [
    "configuration = {\n",
    "    \"provider\": {\n",
    "        \"region\": os.environ.get(\"aws_region\", None),\n",
    "        \"credentials\": {\n",
    "            \"aws_access_key_id\": os.environ.get(\"aws_access_key\", None),\n",
    "            \"aws_secret_access_key\": os.environ.get(\"aws_secret_key\", None)\n",
    "        }\n",
    "    },\n",
    "    \"model\": {\n",
    "        \"id\": \"amazon.titan-embed-text-v1\"\n",
    "    },\n",
    "    \"splitter\":{\n",
    "        \"chunk_size\": 1024,\n",
    "        \"chunk_overlap\": 50,\n",
    "        \"length_function\": len,\n",
    "        \"add_start_index\": True\n",
    "    }\n",
    "}\n",
    "\n",
    "embedder = EmbedderAWS(configuration)"
   ]
  },
  {
   "cell_type": "markdown",
   "metadata": {},
   "source": [
    "# Usage: Embeddings"
   ]
  },
  {
   "cell_type": "code",
   "execution_count": 13,
   "metadata": {},
   "outputs": [
    {
     "name": "stdout",
     "output_type": "stream",
     "text": [
      "Precio estimado = $0.0076984 para 76984 tokens\n"
     ]
    }
   ],
   "source": [
    "# CIIU nivel 6\n",
    "total_cost, total_tokens = Embedder.get_total_embeddings_cost_df(df_ciiu_4_level6, column_name_content_ciiu=column_name_content_ciiu)\n",
    "print(\"Precio estimado para tokens de CIIU nivel 6= $\" + str(total_cost) + f\" para {total_tokens} tokens\")\n",
    "\n",
    "df_ciiu_4_level6 = embedder.split_and_explode(df_ciiu_4_level6, column_name_content_ciiu)\n",
    "print(df_ciiu_4_level6.count())"
   ]
  },
  {
   "cell_type": "code",
   "execution_count": null,
   "metadata": {},
   "outputs": [],
   "source": [
    "df_ciiu_4_level6 = embedder.embed_dataframe(df_ciiu_4_level6, column_name_content_ciiu, check_cost=True)\n",
    "\n",
    "print(df_ciiu_4_level6.count())\n",
    "df_ciiu_4_level6.head(10)"
   ]
  },
  {
   "cell_type": "code",
   "execution_count": 40,
   "metadata": {},
   "outputs": [
    {
     "name": "stdout",
     "output_type": "stream",
     "text": [
      "Pages PDF:  38\n",
      "Chunks:  114\n",
      "Precio estimado para tokens de PDF LODPD= $0.0035543999999999997 para 35544 tokens\n"
     ]
    }
   ],
   "source": [
    "file_name_0 = f\"{path_data}/ley_organica_de_proteccion_de_datos_personales.pdf\"\n",
    "chunks_pdf = embedder.split_document(\"PDF\", file_name_0)\n",
    "print(\"Chunks: \", len(chunks_pdf))\n",
    "\n",
    "total_tokens = Embedder.num_tokens_from_string(\"\".join(chunks_pdf))\n",
    "total_cost = Embedder.get_embedding_cost(total_tokens)\n",
    "print(\"Precio estimado para tokens de PDF LODPD= $\" + str(total_cost) + f\" para {total_tokens} tokens\")"
   ]
  },
  {
   "cell_type": "code",
   "execution_count": 108,
   "metadata": {},
   "outputs": [
    {
     "name": "stdout",
     "output_type": "stream",
     "text": [
      "Hola Múndó!\n"
     ]
    }
   ],
   "source": [
    "def preprocesspdf(text):\n",
    "    return text.replace(\"\\n\", \" \")\n",
    "\n",
    "print(preprocesspdf(\"Hola\\nMúndó!\"))"
   ]
  },
  {
   "cell_type": "code",
   "execution_count": null,
   "metadata": {},
   "outputs": [],
   "source": []
  },
  {
   "cell_type": "code",
   "execution_count": 132,
   "metadata": {},
   "outputs": [
    {
     "name": "stdout",
     "output_type": "stream",
     "text": [
      "Pages PDF:  38\n",
      "Precio estimado PDF: $0.0035664000000000004 para 35664 tokens\n",
      "Pages PDF:  38\n",
      "content       146\n",
      "embeddings    146\n",
      "dtype: int64\n"
     ]
    },
    {
     "data": {
      "text/html": [
       "<div>\n",
       "<style scoped>\n",
       "    .dataframe tbody tr th:only-of-type {\n",
       "        vertical-align: middle;\n",
       "    }\n",
       "\n",
       "    .dataframe tbody tr th {\n",
       "        vertical-align: top;\n",
       "    }\n",
       "\n",
       "    .dataframe thead th {\n",
       "        text-align: right;\n",
       "    }\n",
       "</style>\n",
       "<table border=\"1\" class=\"dataframe\">\n",
       "  <thead>\n",
       "    <tr style=\"text-align: right;\">\n",
       "      <th></th>\n",
       "      <th>content</th>\n",
       "      <th>embeddings</th>\n",
       "    </tr>\n",
       "  </thead>\n",
       "  <tbody>\n",
       "    <tr>\n",
       "      <th>0</th>\n",
       "      <td>LEY ORGÁNICA DE PROTECCIÓN DE DATOS PERSONALES...</td>\n",
       "      <td>[0.8671875, -0.06982422, 0.28515625, -0.233398...</td>\n",
       "    </tr>\n",
       "    <tr>\n",
       "      <th>1</th>\n",
       "      <td>Adicionalmente, agradeceré a usted que, una ve...</td>\n",
       "      <td>[1.171875, -0.19824219, 0.18359375, -0.1103515...</td>\n",
       "    </tr>\n",
       "    <tr>\n",
       "      <th>2</th>\n",
       "      <td>Estado constitucional de derechos y justicia, ...</td>\n",
       "      <td>[0.53515625, -0.17089844, 0.31054688, 0.328125...</td>\n",
       "    </tr>\n",
       "    <tr>\n",
       "      <th>3</th>\n",
       "      <td>autoridades garantizarán su cumplimiento.\"; Qu...</td>\n",
       "      <td>[0.49023438, -0.18847656, 0.12451172, 0.080078...</td>\n",
       "    </tr>\n",
       "    <tr>\n",
       "      <th>4</th>\n",
       "      <td>injustificadamente el ejercicio de los derecho...</td>\n",
       "      <td>[0.08251953, -0.19433594, 0.24511719, 0.125976...</td>\n",
       "    </tr>\n",
       "    <tr>\n",
       "      <th>5</th>\n",
       "      <td>las personas a lo largo de su vida y un deber ...</td>\n",
       "      <td>[0.6640625, -0.14550781, 0.33398438, 0.0268554...</td>\n",
       "    </tr>\n",
       "    <tr>\n",
       "      <th>6</th>\n",
       "      <td>desastres naturales o antropogénicos. El Estad...</td>\n",
       "      <td>[0.6796875, -0.20214844, 0.16601562, 0.2675781...</td>\n",
       "    </tr>\n",
       "    <tr>\n",
       "      <th>7</th>\n",
       "      <td>personas: \"19. El derecho a la protección de d...</td>\n",
       "      <td>[0.58203125, 0.013793945, 0.34375, -0.32617188...</td>\n",
       "    </tr>\n",
       "    <tr>\n",
       "      <th>8</th>\n",
       "      <td>misma, o sobre sus bienes, consten en entidade...</td>\n",
       "      <td>[0.9375, -0.07080078, 0.19042969, -0.32226562,...</td>\n",
       "    </tr>\n",
       "    <tr>\n",
       "      <th>9</th>\n",
       "      <td>constituye un servicio a la colectividad que s...</td>\n",
       "      <td>[0.65234375, -0.123046875, 0.29492188, 0.07470...</td>\n",
       "    </tr>\n",
       "  </tbody>\n",
       "</table>\n",
       "</div>"
      ],
      "text/plain": [
       "                                             content  \\\n",
       "0  LEY ORGÁNICA DE PROTECCIÓN DE DATOS PERSONALES...   \n",
       "1  Adicionalmente, agradeceré a usted que, una ve...   \n",
       "2  Estado constitucional de derechos y justicia, ...   \n",
       "3  autoridades garantizarán su cumplimiento.\"; Qu...   \n",
       "4  injustificadamente el ejercicio de los derecho...   \n",
       "5  las personas a lo largo de su vida y un deber ...   \n",
       "6  desastres naturales o antropogénicos. El Estad...   \n",
       "7  personas: \"19. El derecho a la protección de d...   \n",
       "8  misma, o sobre sus bienes, consten en entidade...   \n",
       "9  constituye un servicio a la colectividad que s...   \n",
       "\n",
       "                                          embeddings  \n",
       "0  [0.8671875, -0.06982422, 0.28515625, -0.233398...  \n",
       "1  [1.171875, -0.19824219, 0.18359375, -0.1103515...  \n",
       "2  [0.53515625, -0.17089844, 0.31054688, 0.328125...  \n",
       "3  [0.49023438, -0.18847656, 0.12451172, 0.080078...  \n",
       "4  [0.08251953, -0.19433594, 0.24511719, 0.125976...  \n",
       "5  [0.6640625, -0.14550781, 0.33398438, 0.0268554...  \n",
       "6  [0.6796875, -0.20214844, 0.16601562, 0.2675781...  \n",
       "7  [0.58203125, 0.013793945, 0.34375, -0.32617188...  \n",
       "8  [0.9375, -0.07080078, 0.19042969, -0.32226562,...  \n",
       "9  [0.65234375, -0.123046875, 0.29492188, 0.07470...  "
      ]
     },
     "execution_count": 132,
     "metadata": {},
     "output_type": "execute_result"
    }
   ],
   "source": [
    "# PDF: ley organica de datos personales\n",
    "df_pdf_lodpd_embeddings = embedder.embed_pdf(file_name_0, check_cost=True, preprocess_function=preprocesspdf)\n",
    "print(df_pdf_lodpd_embeddings.count())\n",
    "df_pdf_lodpd_embeddings.head(10)"
   ]
  },
  {
   "cell_type": "markdown",
   "metadata": {},
   "source": [
    "# Postgres - pgvector"
   ]
  },
  {
   "cell_type": "markdown",
   "metadata": {},
   "source": [
    "## Connection"
   ]
  },
  {
   "cell_type": "code",
   "execution_count": 52,
   "metadata": {},
   "outputs": [],
   "source": [
    "configuration_db = {\n",
    "    \"postgresql\": {\n",
    "        \"database\": os.environ.get(\"postgres_database\", None),\n",
    "        \"user\": os.environ.get(\"postgres_user\", None),\n",
    "        \"password\": os.environ.get(\"postgres_password\", None),\n",
    "        \"host\": os.environ.get(\"postgres_host\", None),\n",
    "        \"port\": os.environ.get(\"postgres_port\", None),\n",
    "    }\n",
    "}"
   ]
  },
  {
   "cell_type": "code",
   "execution_count": 159,
   "metadata": {},
   "outputs": [],
   "source": [
    "import psycopg2\n",
    "from pgvector.psycopg2 import register_vector\n",
    "from psycopg2.extras import execute_values\n",
    "\n",
    "class PostgresHandler:\n",
    "\n",
    "    def __init__(self, configuration_db, verbose=1):\n",
    "        self.configuration_db = configuration_db\n",
    "        self.conn = None\n",
    "        self.verbose = verbose\n",
    "\n",
    "    def log(self, message, minimum_verbose=1):\n",
    "\n",
    "        if self.verbose >= minimum_verbose:\n",
    "            message_len = len(message)\n",
    "\n",
    "            if message_len > 2000:\n",
    "                print(message[0:2000])\n",
    "            else:\n",
    "                print(message)\n",
    "\n",
    "    def connect(self):\n",
    "\n",
    "        self.close()\n",
    "        # Establishing the connection\n",
    "        self.conn = psycopg2.connect(\n",
    "            database=self.configuration_db[\"postgresql\"][\"database\"],\n",
    "            user=self.configuration_db[\"postgresql\"][\"user\"],\n",
    "            password=self.configuration_db[\"postgresql\"][\"password\"],\n",
    "            host=self.configuration_db[\"postgresql\"][\"host\"],\n",
    "            port=self.configuration_db[\"postgresql\"][\"port\"]\n",
    "        )\n",
    "\n",
    "    def close(self):\n",
    "        if self.conn is not None:\n",
    "            self.conn.close()\n",
    "\n",
    "        self.conn = None\n",
    "\n",
    "    def __del__(self):\n",
    "        self.close()\n",
    "\n",
    "    def _check_open(self, open_and_close):\n",
    "\n",
    "        if open_and_close:\n",
    "            self.connect()\n",
    "        else:\n",
    "            if self.conn is None:\n",
    "                raise Exception(\"Create connection first (use self.connect() and other functions needed for startup)\")\n",
    "            \n",
    "    def _check_commit_and_close(self, commit=True, open_and_close=False):\n",
    "        if commit:\n",
    "            self.conn.commit()\n",
    "\n",
    "        if open_and_close:\n",
    "            self.close()\n",
    "\n",
    "    def execute_statement(self, statement, commit=True, open_and_close=False):\n",
    "        self._check_open(open_and_close)\n",
    "        \n",
    "        cursor = self.conn.cursor()\n",
    "        cursor.execute(statement)\n",
    "\n",
    "        self._check_commit_and_close(commit, open_and_close)\n",
    "        return cursor\n",
    "        \n",
    "\n",
    "    def enable_vector_extension(self):\n",
    "        self.execute_statement(\"CREATE EXTENSION IF NOT EXISTS vector\", open_and_close=True)\n",
    "\n",
    "    def register_vector_in_conn(self):\n",
    "        register_vector(self.conn)\n",
    "\n",
    "    def insert_values(self, data_list, sql_columns, register_vector_conn=True, commit=True, open_and_close=False):\n",
    "        self._check_open(open_and_close)\n",
    "\n",
    "        if register_vector_conn:\n",
    "           self.register_vector_in_conn()\n",
    "\n",
    "        cursor = self.conn.cursor()\n",
    "\n",
    "        execute_values(\n",
    "            cursor, \n",
    "            f\"INSERT INTO {sql_columns} VALUES %s\", \n",
    "            data_list\n",
    "        )\n",
    "\n",
    "        self._check_commit_and_close(commit, open_and_close)\n",
    "\n",
    "\n",
    "    def get_similar_docs(self, embedder, user_input, schema, table_name, k=3, custom_where=\"\", columns=\"content\", register_vector_conn=True, commit=True, open_and_close=False):\n",
    "        \"\"\"Obtiene el top 3 documentos similares a un query determinado por la distancia definida en el índice\n",
    "    \n",
    "            Parameters:\n",
    "                embedder (Embedder): Objeto instanciado de la clase Embedder con su configuración\n",
    "                user_input (str): String con la consulta del usuario\n",
    "                schema (str): Schema de postgres en donde está la tabla con los embeddings\n",
    "                table_name (str): Nombre de la tabla con los embeddings\n",
    "                k (int): Número de documentos a recopilar de la base de datos\n",
    "                register_vector_before (bool): indicador de si debe usarse register_vector (True) o no. Si no se registró al vector antes o se cerró la conexión entonces es necesario ponerlo en True\n",
    "                custom_where (str): Condición where para prefiltrar datos de la tabla de embeddings\n",
    "                columns (str): Comma separated strings of columns to retrieve\n",
    "                register_vector_conn (bool): indicador de si debe usarse register_vector (True) o no. Si no se registró al vector antes o se cerró la conexión entonces es necesario ponerlo en True\n",
    "                commit (bool): indicador de si se debe hacer un commit en la operación al final o no\n",
    "                open_and_close (bool): indicador de si debe auto gestionar el inicio y final de la conexión\n",
    "\n",
    "            Returns:\n",
    "                top_docs (List[Tuple]): Lista que contiene tantas tuplas como k. Cada uno indicando su distancia al final junto a varios atributos predefinidos\n",
    "            \n",
    "        \"\"\"\n",
    "        \n",
    "        self._check_open(open_and_close)\n",
    "\n",
    "        if register_vector_conn:\n",
    "           self.register_vector_in_conn()\n",
    "\n",
    "        self.embedding_array = np.array(embedder.encoder.embed_query(user_input))\n",
    "\n",
    "        cur = self.conn.cursor()\n",
    "\n",
    "        # Get the top k most similar documents using the KNN <=> operator\n",
    "        cur.execute(f\"SELECT {columns}, embedding <=> %s as distance FROM {schema}.{table_name} {custom_where} ORDER BY distance LIMIT {k}\", (self.embedding_array,))\n",
    "        \n",
    "        top_docs = cur.fetchall()\n",
    "        \n",
    "        self._check_commit_and_close(commit, open_and_close)\n",
    "\n",
    "        return top_docs"
   ]
  },
  {
   "cell_type": "markdown",
   "metadata": {},
   "source": [
    "## Setup"
   ]
  },
  {
   "cell_type": "code",
   "execution_count": 160,
   "metadata": {},
   "outputs": [],
   "source": [
    "postgres_handler = PostgresHandler(configuration_db, verbose=10)"
   ]
  },
  {
   "cell_type": "code",
   "execution_count": 79,
   "metadata": {},
   "outputs": [],
   "source": [
    "postgres_handler.enable_vector_extension()"
   ]
  },
  {
   "cell_type": "code",
   "execution_count": null,
   "metadata": {},
   "outputs": [],
   "source": [
    "postgres_handler.connect()\n",
    "# DROP TABLE IF EXISTS public.pg_embeddings_ciiu\n",
    "postgres_handler.execute_statement(\"\"\"CREATE TABLE IF NOT EXISTS public.pg_embeddings_ciiu (\n",
    "    id int GENERATED BY DEFAULT AS IDENTITY PRIMARY KEY,\n",
    "    content text,\n",
    "    embedding vector(1536),\n",
    "    code VARCHAR(255),\n",
    "    level VARCHAR(2),\n",
    "    embedding_tool VARCHAR(255),\n",
    "    source VARCHAR(255) DEFAULT 'CIIU CATALOG',\n",
    "    version varchar(3) DEFAULT '1',\n",
    "    date_update TIMESTAMP DEFAULT NOW()\n",
    ");\n",
    "CREATE INDEX IF NOT EXISTS ON public.pg_embeddings_ciiu USING hnsw (embedding vector_cosine_ops) WITH (m = 16, ef_construction = 64);\n",
    "\"\"\")\n",
    "postgres_handler.close()"
   ]
  },
  {
   "cell_type": "code",
   "execution_count": 176,
   "metadata": {},
   "outputs": [],
   "source": [
    "postgres_handler.connect()\n",
    "\n",
    "postgres_handler.execute_statement(\"\"\"DROP TABLE IF EXISTS public.pg_embeddings_general;\n",
    "CREATE TABLE IF NOT EXISTS public.pg_embeddings_general (\n",
    "    id int GENERATED BY DEFAULT AS IDENTITY PRIMARY KEY,\n",
    "    content text,\n",
    "    embedding vector(1536),\n",
    "    embedding_tool VARCHAR(255),\n",
    "    source VARCHAR(255),\n",
    "    version varchar(3) DEFAULT '1',\n",
    "    date_update TIMESTAMP DEFAULT NOW()\n",
    ");\n",
    "CREATE INDEX ON public.pg_embeddings_general USING hnsw (embedding vector_cosine_ops) WITH (m = 16, ef_construction = 64);\n",
    "\"\"\")\n",
    "postgres_handler.close()"
   ]
  },
  {
   "cell_type": "markdown",
   "metadata": {},
   "source": [
    "## ETL Postgres"
   ]
  },
  {
   "cell_type": "code",
   "execution_count": 55,
   "metadata": {},
   "outputs": [],
   "source": [
    "data_list_ciiu = [\n",
    "    (\n",
    "        row[column_name_content_ciiu], \n",
    "        np.array(row['embeddings']), \n",
    "        row['CIIU4_COD'], \n",
    "        row['CIIU4_NIVEL'], \n",
    "        configuration[\"model\"][\"id\"]\n",
    "    ) for index, row in df_ciiu_4_level6.iterrows()\n",
    "]\n",
    "\n",
    "postgres_handler.insert_values(\n",
    "    data_list_ciiu,\n",
    "    sql_columns=\"public.pg_embeddings_ciiu (content, embedding, code, level, embedding_tool)\",\n",
    "    register_vector_conn=True,\n",
    "    commit=True,\n",
    "    open_and_close=True\n",
    ")"
   ]
  },
  {
   "cell_type": "code",
   "execution_count": 178,
   "metadata": {},
   "outputs": [],
   "source": [
    "data_list_pdf_0 = [\n",
    "    (\n",
    "        row[\"content\"], \n",
    "        np.array(row['embeddings']), \n",
    "        configuration[\"model\"][\"id\"],\n",
    "        file_name_0.split(\"/\")[-1],\n",
    "        \"1\"\n",
    "    ) for index, row in df_pdf_lodpd_embeddings.iterrows()\n",
    "]\n",
    "\n",
    "postgres_handler.insert_values(\n",
    "    data_list_pdf_0,\n",
    "    sql_columns=\"public.pg_embeddings_general (content, embedding, embedding_tool, source, version)\",\n",
    "    register_vector_conn=True,\n",
    "    commit=True,\n",
    "    open_and_close=True\n",
    ")"
   ]
  },
  {
   "cell_type": "code",
   "execution_count": 179,
   "metadata": {},
   "outputs": [
    {
     "name": "stdout",
     "output_type": "stream",
     "text": [
      "[('LEY ORGÁNICA DE PROTECCIÓN DE DATOS PERSONALES Ley 0 Registro Oficial Suplemento 459 de 26-may.-2021 Estado: Vigente ASAMBLEA NACIONAL LEY ORGÁNICA DE PROTECCIÓN DE DATOS PERSONALES PRESIDENCIA DE LA REPÚBLICA DEL ECUADOR Oficio No. T. 680-SGJ-21-0263 Quito, 21 de mayo de 2021 Señor Ingeniero Hugo Del Pozo Barrezueta DIRECTOR DEL REGISTRO OFICIAL En su despacho De mi consideración: Con oficio número PAN-CLC-2021-0384 de 11 de mayo de 2021, el señor Ingeniero César Litardo Caicedo, Presidente de la Asamblea Nacional, remitió el proyecto de LEY ORGÁNICA DE PROTECCIÓN DE DATOS PERSONALES. Dicho proyecto de ley ha sido sancionado por el señor Presidente de la República, el día de hoy, por lo que, conforme a lo dispuesto en los artículos 137 de la Constitución de la República y 63 de la Ley Orgánica de la Función Legislativa, se la remito a usted en original y en copia certificada, junto con el certificado de discusión, para su correspondiente publicación en el Registro Oficial.',), ('Dado y suscrito, a los diez días del mes de mayo de del año dos mil veintiuno. ING. CÉSAR LITARDO CAICEDO Presidente DR. JAVIER RUBIO DUQUE Secretario General PALACIO NACIONAL, DISTRITO METROPOLITANO DE QUITO, A VEINTIUNO DE MAYO DE DOS MIL VEINTIUNO. SANCIÓNASE Y PROMÚLGASE Lenin Moreno Garcés PRESIDENTE CONSTITUCIONAL DE LA REPÚBLICA Es fiel copia del original.-Lo Certifico Quito, 21 de mayo del 2021 Dra. Johana Pesántez Benítez SECRETARIA GENERAL JURÍDICA PRESIDENCIA DE LA REPÚBLICA. LEY ORGÁNICA DE PROTECCIÓN DE DATOS PERSONALES - Página 38 FINDER LOYAL - www.lexis.com.ec',)]\n"
     ]
    }
   ],
   "source": [
    "postgres_handler.connect()\n",
    "print(postgres_handler.execute_statement(\"\"\"\n",
    "SELECT content FROM public.pg_embeddings_general WHERE LOWER(content) like '%litardo%'\n",
    "\"\"\", open_and_close=False).fetchall()[0:10])\n",
    "postgres_handler.close()"
   ]
  },
  {
   "cell_type": "markdown",
   "metadata": {},
   "source": [
    "# Usage: Getting similar docs"
   ]
  },
  {
   "cell_type": "markdown",
   "metadata": {},
   "source": [
    "Requirements: instantiate embedder and create connection to postgres"
   ]
  },
  {
   "cell_type": "code",
   "execution_count": 72,
   "metadata": {},
   "outputs": [
    {
     "name": "stdout",
     "output_type": "stream",
     "text": [
      "Top documentos relacionados para el query: soldador\n",
      "('C2593.14', 'Fabricación de machetes, espadas, bayonetas, etcétera.', 0.576861512125129)\n",
      "('C1410.01', 'Fabricación de prendas de vestir de cuero o cuero regenerado, incluidos accesorios de trabajo de cuero como: mandiles para soldadores, ropa de trabajo, etcétera.', 0.6866575668773417)\n",
      "('G4620.15', 'Venta al por mayor de flores y plantas.', 0.7138840390908127)\n"
     ]
    }
   ],
   "source": [
    "user_input_ciiu = \"soldador\"\n",
    "related_docs_ciiu = postgres_handler.get_similar_docs(\n",
    "    embedder,\n",
    "    user_input=user_input_ciiu,\n",
    "    schema=\"public\",\n",
    "    table_name=\"pg_embeddings_ciiu\",\n",
    "    k=3,\n",
    "    custom_where=\"WHERE level = '6'\",  # WHERE level = 2\n",
    "    columns=\"code, content\",\n",
    "    register_vector_conn=True,\n",
    "    commit=True,\n",
    "    open_and_close=True\n",
    ")\n",
    "print(f\"Top documentos relacionados para el query: {user_input_ciiu}\")\n",
    "for related in related_docs_ciiu:\n",
    "    print(related)"
   ]
  },
  {
   "cell_type": "code",
   "execution_count": 180,
   "metadata": {},
   "outputs": [],
   "source": [
    "postgres_handler.connect()\n",
    "postgres_handler.register_vector_in_conn()"
   ]
  },
  {
   "cell_type": "code",
   "execution_count": 181,
   "metadata": {},
   "outputs": [
    {
     "name": "stdout",
     "output_type": "stream",
     "text": [
      "SELECT version, content, source, embedding <=> [-0.17480469 -0.41601562  0.00643921 ...  0.17382812 -0.34179688\n",
      " -0.921875  ] as distance FROM public.pg_embeddings_general  ORDER BY distance LIMIT 3\n",
      "Top documentos relacionados para el query: señor Ingeniero César Litardo\n",
      "Doc 1 version:1 (0.5661279907125014): Dado y suscrito, a los diez días del mes de mayo de del año dos mil veintiuno. ING. CÉSAR LITARDO CAICEDO Presidente DR. JAVIER RUBIO DUQUE Secretario General PALACIO NACIONAL, DISTRITO METROPOLITANO DE QUITO, A VEINTIUNO DE MAYO DE DOS MIL VEINTIUNO. SANCIÓNASE Y PROMÚLGASE Lenin Moreno Garcés PRESIDENTE CONSTITUCIONAL DE LA REPÚBLICA Es fiel copia del original.-Lo Certifico Quito, 21 de mayo del 2021 Dra. Johana Pesántez Benítez SECRETARIA GENERAL JURÍDICA PRESIDENCIA DE LA REPÚBLICA. LEY ORGÁNICA DE PROTECCIÓN DE DATOS PERSONALES - Página 38 FINDER LOYAL - www.lexis.com.ec\n",
      "\n",
      "Doc 2 version:1 (0.6468258015937673): FINDER LOYAL - www.lexis.com.ec En el caso que los datos se obtengan directamente del titular, la información deberá ser comunicada de forma previa a este, es decir, en el momento mismo de la recogida del dato personal. Cuando los datos personales no se obtuvieren de forma directa del titular o fueren obtenidos de una fuente accesible al público, el titular deberá ser informado dentro de los siguientes treinta (30) días o al momento de la primera comunicación con el titular, cualquiera de las dos circunstancias que ocurra primero. Se le deberá proporcionar información expresa, inequívoca, transparente, inteligible, concisa, precisa y sin barreras técnicas. La información proporcionada al titular podrá transmitirse de cualquier modo comprobable en un lenguaje claro, sencillo y de fácil comprensión, de preferencia propendiendo a que pueda ser accesible en la lengua de su elección. En el caso de productos o servicios dirigidos, utilizados o que pudieran ser utilizados por niñas, niños\n",
      "\n",
      "Doc 3 version:1 (0.6479268895848889): FINDER LOYAL - www.lexis.com.ec sido obtenidos los mismos; e. Impugnar la decisión ante el responsable o encargado del tratamiento No se aplicará este derecho cuando: 1. La decisión es necesaria para la celebración o ejecución de un contrato entre el titular y el responsable o encargado del tratamiento de datos personales; 2. Está autorizada por la normativa aplicable, orden judicial, resolución o mandato motivado de autoridad técnica competente, para lo cual se deberá establecer medidas adecuadas para salvaguardar los derechos fundamentales y libertades del titular; o, 3. Se base en el consentimiento explícito del titular. 4. La decisión no conlleve impactos graves o riesgos verificables para el titular. No se podrá exigir la renuncia a este derecho en forma adelantada a través de contratos de adhesión masivos. A más tardar en el momento de la primera comunicación con el titular de los datos personales, para informar una decisión basada únicamente en valoraciones automatizadas, este\n",
      "\n"
     ]
    }
   ],
   "source": [
    "user_input_pdf = \"señor Ingeniero César Litardo\"\n",
    "related_docs_pdf = postgres_handler.get_similar_docs(\n",
    "    embedder,\n",
    "    user_input=user_input_pdf,\n",
    "    schema=\"public\",\n",
    "    table_name=\"pg_embeddings_general\",\n",
    "    k=3,\n",
    "    custom_where=\"\",  # WHERE source = 'ley_organica_de_proteccion_de_datos_personales.pdf'\n",
    "    columns=\"version, content, source\",\n",
    "    register_vector_conn=True,\n",
    "    commit=True,\n",
    "    open_and_close=False\n",
    ")\n",
    "print(f\"Top documentos relacionados para el query: {user_input_pdf}\")\n",
    "for i, related in enumerate(related_docs_pdf):\n",
    "    print(f\"Doc {i+1} version:{related[0]} ({related[3]}): {related[1]}\\n\")\n",
    "\n",
    "\n",
    "\"\"\"\n",
    "SET hnsw.ef_search = 100;\n",
    "A higher value provides better recall at the cost of speed.\n",
    "\n",
    "Use SET LOCAL inside a transaction to set it for a single query\n",
    "\n",
    "BEGIN;\n",
    "SET LOCAL hnsw.ef_search = 100;\n",
    "SELECT ...\n",
    "COMMIT;\n",
    "\n",
    "\"\"\""
   ]
  },
  {
   "cell_type": "code",
   "execution_count": 167,
   "metadata": {},
   "outputs": [],
   "source": [
    "with open(\"../000_output/output_sql.txt\", \"w\") as f_out:\n",
    "    sql_save = f\"SELECT version, content, source, embedding <=> {list(postgres_handler.embedding_array)} as distance FROM public.pg_embeddings_general ORDER BY distance LIMIT 3\"\n",
    "    f_out.write(sql_save)    "
   ]
  },
  {
   "cell_type": "code",
   "execution_count": 171,
   "metadata": {},
   "outputs": [
    {
     "data": {
      "text/plain": [
       "[('LEY ORGÁNICA DE PROTECCIÓN DE DATOS PERSONALES Ley 0 Registro Oficial Suplemento 459 de 26-may.-2021 Estado: Vigente ASAMBLEA NACIONAL LEY ORGÁNICA DE PROTECCIÓN DE DATOS PERSONALES PRESIDENCIA DE LA REPÚBLICA DEL ECUADOR Oficio No. T. 680-SGJ-21-0263 Quito, 21 de mayo de 2021 Señor Ingeniero Hugo Del Pozo Barrezueta DIRECTOR DEL REGISTRO OFICIAL En su despacho De mi consideración: Con oficio número PAN-CLC-2021-0384 de 11 de mayo de 2021, el señor Ingeniero César Litardo Caicedo, Presidente de la Asamblea Nacional, remitió el proyecto de LEY ORGÁNICA DE PROTECCIÓN DE DATOS PERSONALES. Dicho proyecto de ley ha sido sancionado por el señor Presidente de la República, el día de hoy, por lo que, conforme a lo dispuesto en los artículos 137 de la Constitución de la República y 63 de la Ley Orgánica de la Función Legislativa, se la remito a usted en original y en copia certificada, junto con el certificado de discusión, para su correspondiente publicación en el Registro Oficial.',),\n",
       " ('Dado y suscrito, a los diez días del mes de mayo de del año dos mil veintiuno. ING. CÉSAR LITARDO CAICEDO Presidente DR. JAVIER RUBIO DUQUE Secretario General PALACIO NACIONAL, DISTRITO METROPOLITANO DE QUITO, A VEINTIUNO DE MAYO DE DOS MIL VEINTIUNO. SANCIÓNASE Y PROMÚLGASE Lenin Moreno Garcés PRESIDENTE CONSTITUCIONAL DE LA REPÚBLICA Es fiel copia del original.-Lo Certifico Quito, 21 de mayo del 2021 Dra. Johana Pesántez Benítez SECRETARIA GENERAL JURÍDICA PRESIDENCIA DE LA REPÚBLICA. LEY ORGÁNICA DE PROTECCIÓN DE DATOS PERSONALES - Página 38 FINDER LOYAL - www.lexis.com.ec',)]"
      ]
     },
     "execution_count": 171,
     "metadata": {},
     "output_type": "execute_result"
    }
   ],
   "source": [
    "df_result = postgres_handler.execute_statement(\"\"\"\n",
    "SELECT content FROM public.pg_embeddings_general WHERE LOWER(content) like '%litardo%'\n",
    "\"\"\").fetchall()\n",
    "df_result"
   ]
  },
  {
   "cell_type": "markdown",
   "metadata": {},
   "source": [
    "# Clean UP"
   ]
  },
  {
   "cell_type": "code",
   "execution_count": 108,
   "metadata": {},
   "outputs": [],
   "source": [
    "del postgres_handler"
   ]
  },
  {
   "cell_type": "markdown",
   "metadata": {},
   "source": [
    "# END"
   ]
  }
 ],
 "metadata": {
  "kernelspec": {
   "display_name": "general",
   "language": "python",
   "name": "python3"
  },
  "language_info": {
   "codemirror_mode": {
    "name": "ipython",
    "version": 3
   },
   "file_extension": ".py",
   "mimetype": "text/x-python",
   "name": "python",
   "nbconvert_exporter": "python",
   "pygments_lexer": "ipython3",
   "version": "3.10.13"
  }
 },
 "nbformat": 4,
 "nbformat_minor": 2
}
