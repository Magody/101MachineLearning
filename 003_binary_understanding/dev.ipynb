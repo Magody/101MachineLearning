{
 "cells": [
  {
   "cell_type": "code",
   "execution_count": 2,
   "metadata": {},
   "outputs": [],
   "source": [
    "# Uso del programa\n",
    "binary_file = './StupidCrackMe.exe'  # Reemplaza con la ruta correcta de tu archivo binario\n",
    "output_file = './disassembled.txt'  # Reemplaza con la ruta donde quieres guardar el resultado"
   ]
  },
  {
   "cell_type": "code",
   "execution_count": 5,
   "metadata": {},
   "outputs": [
    {
     "name": "stdout",
     "output_type": "stream",
     "text": [
      "Sección .text\u0000\u0000\u0000 encontrada en el offset 0x400\n",
      "Sección .rdata\u0000\u0000 encontrada en el offset 0x17200\n",
      "Sección .data\u0000\u0000\u0000 encontrada en el offset 0x1B600\n",
      "Sección .idata\u0000\u0000 encontrada en el offset 0x1CA00\n",
      "Sección .reloc\u0000\u0000 encontrada en el offset 0x1D600\n",
      "El código desensamblado se ha guardado en ./disassembled.txt\n"
     ]
    }
   ],
   "source": [
    "import pefile\n",
    "from capstone import *\n",
    "\n",
    "def disassemble_binary(file_path):\n",
    "    # Cargar el archivo PE\n",
    "    pe = pefile.PE(file_path)\n",
    "    \n",
    "    # Inicializar el desensamblador de Capstone para arquitectura x86 (32 bits)\n",
    "    md = Cs(CS_ARCH_X86, CS_MODE_32)\n",
    "    \n",
    "    disassembled_code = []\n",
    "    \n",
    "    # Buscar secciones ejecutables\n",
    "    for section in pe.sections:\n",
    "        # if section.Characteristics & 0x20000020:  # Verificar si la sección es ejecutable\n",
    "        print(f\"Sección {section.Name.decode().rstrip()} encontrada en el offset 0x{section.PointerToRawData:X}\")\n",
    "        \n",
    "        # Obtener datos binarios de la sección\n",
    "        code = section.get_data()\n",
    "        \n",
    "        # Desensamblar el código\n",
    "        for instruction in md.disasm(code, section.VirtualAddress):\n",
    "            disassembled_code.append(f\"0x{instruction.address:X}:\\t{instruction.mnemonic}\\t{instruction.op_str}\")\n",
    "    \n",
    "    return disassembled_code\n",
    "\n",
    "def write_disassembled_code(disassembled_code, output_file):\n",
    "    with open(output_file, 'w') as f:\n",
    "        for line in disassembled_code:\n",
    "            f.write(line + \"\\n\")\n",
    "\n",
    "\n",
    "disassembled_code = disassemble_binary(binary_file)\n",
    "write_disassembled_code(disassembled_code, output_file)\n",
    "\n",
    "print(f\"El código desensamblado se ha guardado en {output_file}\")"
   ]
  },
  {
   "cell_type": "code",
   "execution_count": 4,
   "metadata": {},
   "outputs": [
    {
     "name": "stdout",
     "output_type": "stream",
     "text": [
      "dict_keys(['offset', 'esil', 'refptr', 'fcn_addr', 'fcn_last', 'size', 'opcode', 'disasm', 'bytes', 'family', 'type', 'reloc', 'type_num', 'type2_num', 'jump', 'fail', 'flags', 'refs'])\n"
     ]
    },
    {
     "ename": "KeyError",
     "evalue": "'mnemonic'",
     "output_type": "error",
     "traceback": [
      "\u001b[1;31m---------------------------------------------------------------------------\u001b[0m",
      "\u001b[1;31mKeyError\u001b[0m                                  Traceback (most recent call last)",
      "Cell \u001b[1;32mIn[4], line 32\u001b[0m\n\u001b[0;32m     29\u001b[0m         \u001b[38;5;28;01mfor\u001b[39;00m line \u001b[38;5;129;01min\u001b[39;00m disassembled_code:\n\u001b[0;32m     30\u001b[0m             f\u001b[38;5;241m.\u001b[39mwrite(line \u001b[38;5;241m+\u001b[39m \u001b[38;5;124m\"\u001b[39m\u001b[38;5;130;01m\\n\u001b[39;00m\u001b[38;5;124m\"\u001b[39m)\n\u001b[1;32m---> 32\u001b[0m disassembled_code \u001b[38;5;241m=\u001b[39m disassemble_binary(binary_file)\n\u001b[0;32m     33\u001b[0m write_disassembled_code(disassembled_code, output_file)\n\u001b[0;32m     35\u001b[0m \u001b[38;5;28mprint\u001b[39m(\u001b[38;5;124mf\u001b[39m\u001b[38;5;124m\"\u001b[39m\u001b[38;5;124mEl código desensamblado y anotado se ha guardado en \u001b[39m\u001b[38;5;132;01m{\u001b[39;00moutput_file\u001b[38;5;132;01m}\u001b[39;00m\u001b[38;5;124m\"\u001b[39m)\n",
      "Cell \u001b[1;32mIn[4], line 20\u001b[0m, in \u001b[0;36mdisassemble_binary\u001b[1;34m(file_path)\u001b[0m\n\u001b[0;32m     18\u001b[0m \u001b[38;5;28mprint\u001b[39m(instr\u001b[38;5;241m.\u001b[39mkeys())\n\u001b[0;32m     19\u001b[0m address \u001b[38;5;241m=\u001b[39m instr[\u001b[38;5;124m'\u001b[39m\u001b[38;5;124moffset\u001b[39m\u001b[38;5;124m'\u001b[39m]\n\u001b[1;32m---> 20\u001b[0m mnemonic \u001b[38;5;241m=\u001b[39m instr[\u001b[38;5;124m'\u001b[39m\u001b[38;5;124mmnemonic\u001b[39m\u001b[38;5;124m'\u001b[39m]\n\u001b[0;32m     21\u001b[0m op_str \u001b[38;5;241m=\u001b[39m instr[\u001b[38;5;124m'\u001b[39m\u001b[38;5;124mopcode\u001b[39m\u001b[38;5;124m'\u001b[39m]\n\u001b[0;32m     22\u001b[0m disassembled_code\u001b[38;5;241m.\u001b[39mappend(\u001b[38;5;124mf\u001b[39m\u001b[38;5;124m\"\u001b[39m\u001b[38;5;124m0x\u001b[39m\u001b[38;5;132;01m{\u001b[39;00maddress\u001b[38;5;132;01m:\u001b[39;00m\u001b[38;5;124mX\u001b[39m\u001b[38;5;132;01m}\u001b[39;00m\u001b[38;5;124m: \u001b[39m\u001b[38;5;132;01m{\u001b[39;00mmnemonic\u001b[38;5;132;01m}\u001b[39;00m\u001b[38;5;124m \u001b[39m\u001b[38;5;132;01m{\u001b[39;00mop_str\u001b[38;5;132;01m}\u001b[39;00m\u001b[38;5;124m\"\u001b[39m)\n",
      "\u001b[1;31mKeyError\u001b[0m: 'mnemonic'"
     ]
    }
   ],
   "source": [
    "import r2pipe\n",
    "import json\n",
    "\n",
    "def disassemble_binary(file_path):\n",
    "    r2 = r2pipe.open(file_path)\n",
    "    r2.cmd('aaa')  # Analiza todo el binario\n",
    "    functions = r2.cmdj('aflj')  # Obtiene la lista de funciones en formato JSON\n",
    "\n",
    "    disassembled_code = []\n",
    "    for func in functions:\n",
    "        func_name = func['name']\n",
    "        func_start = func['offset']\n",
    "        disassembled_code.append(f\"\\nFunción {func_name} en 0x{func_start:X}:\")\n",
    "\n",
    "        # Desensamblar instrucciones en la función\n",
    "        instructions = r2.cmdj(f'pdj 100 @ {func_start}')\n",
    "        for instr in instructions:\n",
    "            print(instr.keys())\n",
    "            address = instr['offset']\n",
    "            mnemonic = instr['mnemonic']\n",
    "            op_str = instr['opcode']\n",
    "            disassembled_code.append(f\"0x{address:X}: {mnemonic} {op_str}\")\n",
    "\n",
    "    r2.quit()\n",
    "    return disassembled_code\n",
    "\n",
    "def write_disassembled_code(disassembled_code, output_file):\n",
    "    with open(output_file, 'w') as f:\n",
    "        for line in disassembled_code:\n",
    "            f.write(line + \"\\n\")\n",
    "\n",
    "disassembled_code = disassemble_binary(binary_file)\n",
    "write_disassembled_code(disassembled_code, output_file)\n",
    "\n",
    "print(f\"El código desensamblado y anotado se ha guardado en {output_file}\")"
   ]
  },
  {
   "cell_type": "code",
   "execution_count": null,
   "metadata": {},
   "outputs": [],
   "source": []
  }
 ],
 "metadata": {
  "kernelspec": {
   "display_name": "env_ai",
   "language": "python",
   "name": "python3"
  },
  "language_info": {
   "codemirror_mode": {
    "name": "ipython",
    "version": 3
   },
   "file_extension": ".py",
   "mimetype": "text/x-python",
   "name": "python",
   "nbconvert_exporter": "python",
   "pygments_lexer": "ipython3",
   "version": "3.11.9"
  }
 },
 "nbformat": 4,
 "nbformat_minor": 2
}
