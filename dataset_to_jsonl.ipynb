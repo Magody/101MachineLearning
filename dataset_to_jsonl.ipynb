{
 "cells": [
  {
   "cell_type": "code",
   "execution_count": 1,
   "metadata": {},
   "outputs": [
    {
     "name": "stdout",
     "output_type": "stream",
     "text": [
      "1000 lines converted\n"
     ]
    }
   ],
   "source": [
    "import json\n",
    "from datasets import load_dataset\n",
    "\n",
    "dataset = load_dataset(\"mlabonne/guanaco-llama2-1k\")\n",
    "\n",
    "# Replace 'dataset_split' with the appropriate split you want to export, e.g., 'train', 'test', etc.\n",
    "split_data = dataset[\"train\"]\n",
    "\n",
    "counter = 0\n",
    "with open(\"datasets/guanaco-llama2-1k.jsonl\", \"w\") as f:\n",
    "    for item in split_data:\n",
    "        json.dump(item, f)\n",
    "        counter += f.write(\"\\n\")\n",
    "\n",
    "print(f\"{counter} lines converted\")"
   ]
  },
  {
   "cell_type": "code",
   "execution_count": null,
   "metadata": {},
   "outputs": [],
   "source": []
  }
 ],
 "metadata": {
  "kernelspec": {
   "display_name": "env_llm",
   "language": "python",
   "name": "python3"
  },
  "language_info": {
   "codemirror_mode": {
    "name": "ipython",
    "version": 3
   },
   "file_extension": ".py",
   "mimetype": "text/x-python",
   "name": "python",
   "nbconvert_exporter": "python",
   "pygments_lexer": "ipython3",
   "version": "3.11.10"
  }
 },
 "nbformat": 4,
 "nbformat_minor": 2
}
