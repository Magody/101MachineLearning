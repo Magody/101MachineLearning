{
 "cells": [
  {
   "cell_type": "code",
   "execution_count": 6,
   "metadata": {},
   "outputs": [],
   "source": [
    "import os\n",
    "import json\n",
    "\n",
    "with open(\".env.json\", \"r\") as f_in:\n",
    "    env_json: dict = json.load(f_in)\n",
    "    for key, value in env_json.items():\n",
    "        os.environ[key] = value"
   ]
  },
  {
   "cell_type": "code",
   "execution_count": 7,
   "metadata": {},
   "outputs": [
    {
     "data": {
      "text/html": [
       "<div>\n",
       "<style scoped>\n",
       "    .dataframe tbody tr th:only-of-type {\n",
       "        vertical-align: middle;\n",
       "    }\n",
       "\n",
       "    .dataframe tbody tr th {\n",
       "        vertical-align: top;\n",
       "    }\n",
       "\n",
       "    .dataframe thead th {\n",
       "        text-align: right;\n",
       "    }\n",
       "</style>\n",
       "<table border=\"1\" class=\"dataframe\">\n",
       "  <thead>\n",
       "    <tr style=\"text-align: right;\">\n",
       "      <th></th>\n",
       "      <th>input</th>\n",
       "      <th>expected_output</th>\n",
       "    </tr>\n",
       "  </thead>\n",
       "  <tbody>\n",
       "    <tr>\n",
       "      <th>0</th>\n",
       "      <td>hola</td>\n",
       "      <td>hola como estas</td>\n",
       "    </tr>\n",
       "  </tbody>\n",
       "</table>\n",
       "</div>"
      ],
      "text/plain": [
       "  input  expected_output\n",
       "0  hola  hola como estas"
      ]
     },
     "execution_count": 7,
     "metadata": {},
     "output_type": "execute_result"
    }
   ],
   "source": [
    "import pandas as pd\n",
    "df_dataset_val = pd.DataFrame([\n",
    "    [\"hola\", \"hola como estas\"]\n",
    "], columns=['input', 'expected_output'])\n",
    "df_dataset_val.head()"
   ]
  },
  {
   "cell_type": "code",
   "execution_count": 8,
   "metadata": {},
   "outputs": [
    {
     "name": "stdout",
     "output_type": "stream",
     "text": [
      "2024-02-08 05:44:57.474344-05:00: Modelo EnumGenAIModelsIdsOpenAI.MODEL_CHAT_GPT_3_5_TURBO construido\n",
      "True\n"
     ]
    }
   ],
   "source": [
    "from framework_genai.GenAIMemory import GenAIMemory, EnumMemoryType\n",
    "from framework_genai.GenAILLM import GenAILLM, EnumGenAIPlatforms, EnumGenAIModelsIdsOpenAI\n",
    "from framework_genai.LoggingAndTelemetry import EnumLogs\n",
    "import os\n",
    "\n",
    "ai_prefix = \"Human\"\n",
    "human_prefix = \"Assistant\"\n",
    "\n",
    "gen_ai_llm = GenAILLM(\n",
    "    platform = EnumGenAIPlatforms.PLATFORM_OPENAI,\n",
    "    model_id = EnumGenAIModelsIdsOpenAI.MODEL_CHAT_GPT_3_5_TURBO,\n",
    "    parameters_inference = {\n",
    "        'max_tokens':512, \n",
    "        \"temperature\": 0,\n",
    "        \"top_p\": 0.1\n",
    "    },\n",
    "    ai_prefix = ai_prefix,\n",
    "    human_prefix = human_prefix,\n",
    "    component_memory=GenAIMemory(EnumMemoryType.MEMORY_CHAT_BUFFER, ai_prefix, human_prefix),\n",
    "    platform_configuration = {\n",
    "        \"OPENAI_API_KEY\": os.environ[\"OPENAI_API_KEY\"]\n",
    "    },\n",
    "    verify_ssl=True,\n",
    "    verbose_level=EnumLogs.LOG_LEVEL_DEBUG\n",
    ")\n",
    "print(gen_ai_llm.llm_model.verbose)\n",
    "# print(gen_ai_llm.invoke(\"Hola\", return_completion_only=True, save_in_memory=False))"
   ]
  },
  {
   "cell_type": "code",
   "execution_count": 9,
   "metadata": {},
   "outputs": [
    {
     "name": "stdout",
     "output_type": "stream",
     "text": [
      "2024-02-08 05:44:57.500333-05:00: Invocando modelo EnumGenAIModelsIdsOpenAI.MODEL_CHAT_GPT_3_5_TURBO con Hola\n"
     ]
    },
    {
     "data": {
      "text/html": [
       "<div>\n",
       "<style scoped>\n",
       "    .dataframe tbody tr th:only-of-type {\n",
       "        vertical-align: middle;\n",
       "    }\n",
       "\n",
       "    .dataframe tbody tr th {\n",
       "        vertical-align: top;\n",
       "    }\n",
       "\n",
       "    .dataframe thead th {\n",
       "        text-align: right;\n",
       "    }\n",
       "</style>\n",
       "<table border=\"1\" class=\"dataframe\">\n",
       "  <thead>\n",
       "    <tr style=\"text-align: right;\">\n",
       "      <th></th>\n",
       "      <th>input</th>\n",
       "      <th>expected_output</th>\n",
       "      <th>actual_output</th>\n",
       "    </tr>\n",
       "  </thead>\n",
       "  <tbody>\n",
       "    <tr>\n",
       "      <th>0</th>\n",
       "      <td>hola</td>\n",
       "      <td>hola como estas</td>\n",
       "      <td>¡Hola! ¿En qué puedo ayudarte hoy?</td>\n",
       "    </tr>\n",
       "  </tbody>\n",
       "</table>\n",
       "</div>"
      ],
      "text/plain": [
       "  input  expected_output                       actual_output\n",
       "0  hola  hola como estas  ¡Hola! ¿En qué puedo ayudarte hoy?"
      ]
     },
     "execution_count": 9,
     "metadata": {},
     "output_type": "execute_result"
    }
   ],
   "source": [
    "def pseudo_invoke(input):\n",
    "    return gen_ai_llm.invoke(\"Hola\", return_completion_only=True, save_in_memory=False)\n",
    "df_dataset_val[\"actual_output\"] = df_dataset_val[\"input\"].apply(pseudo_invoke)\n",
    "df_dataset_val.head()"
   ]
  },
  {
   "cell_type": "code",
   "execution_count": 11,
   "metadata": {},
   "outputs": [
    {
     "data": {
      "text/plain": [
       "['¡Hola! ¿En qué puedo ayudarte hoy?']"
      ]
     },
     "execution_count": 11,
     "metadata": {},
     "output_type": "execute_result"
    }
   ],
   "source": [
    "list(df_dataset_val[\"actual_output\"].values)"
   ]
  },
  {
   "cell_type": "code",
   "execution_count": 12,
   "metadata": {},
   "outputs": [
    {
     "name": "stdout",
     "output_type": "stream",
     "text": [
      "calculating scores...\n",
      "computing bert embedding.\n"
     ]
    },
    {
     "name": "stderr",
     "output_type": "stream",
     "text": [
      "100%|██████████| 1/1 [00:16<00:00, 16.26s/it]\n"
     ]
    },
    {
     "name": "stdout",
     "output_type": "stream",
     "text": [
      "computing greedy matching.\n"
     ]
    },
    {
     "name": "stderr",
     "output_type": "stream",
     "text": [
      "100%|██████████| 1/1 [00:09<00:00,  9.04s/it]\n"
     ]
    },
    {
     "name": "stdout",
     "output_type": "stream",
     "text": [
      "done in 25.64 seconds, 0.04 sentences/sec\n",
      "tensor([0.6277]) tensor([0.6612]) tensor([0.6440])\n"
     ]
    }
   ],
   "source": [
    "from bert_score import score\n",
    "\n",
    "P, R, F1 = score(list(df_dataset_val[\"actual_output\"].values), list(df_dataset_val[\"expected_output\"].values), lang=\"es\", verbose=True)\n",
    "print(P, R, F1)"
   ]
  },
  {
   "cell_type": "code",
   "execution_count": null,
   "metadata": {},
   "outputs": [],
   "source": []
  }
 ],
 "metadata": {
  "kernelspec": {
   "display_name": "env_ai",
   "language": "python",
   "name": "python3"
  },
  "language_info": {
   "codemirror_mode": {
    "name": "ipython",
    "version": 3
   },
   "file_extension": ".py",
   "mimetype": "text/x-python",
   "name": "python",
   "nbconvert_exporter": "python",
   "pygments_lexer": "ipython3",
   "version": "3.11.7"
  }
 },
 "nbformat": 4,
 "nbformat_minor": 2
}
