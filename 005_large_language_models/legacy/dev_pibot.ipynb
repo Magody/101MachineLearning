{
 "cells": [
  {
   "cell_type": "markdown",
   "metadata": {},
   "source": [
    "# INIT"
   ]
  },
  {
   "cell_type": "code",
   "execution_count": 2,
   "metadata": {},
   "outputs": [],
   "source": [
    "import os\n",
    "import json\n",
    "import boto3\n",
    "\n",
    "with open(\".env.json\", \"r\") as f_in:\n",
    "    env_json: dict = json.load(f_in)\n",
    "    for key, value in env_json.items():\n",
    "        os.environ[key] = value\n",
    "\n",
    "aws_access_key = os.environ['aws_access_key']\n",
    "aws_secret_key = os.environ['aws_secret_key']\n",
    "aws_region = os.environ['aws_region']"
   ]
  },
  {
   "cell_type": "markdown",
   "metadata": {},
   "source": [
    "# DEV"
   ]
  },
  {
   "cell_type": "code",
   "execution_count": 35,
   "metadata": {},
   "outputs": [],
   "source": [
    "from langchain.llms.bedrock import Bedrock\n",
    "from langchain.chains import LLMChain\n",
    "from langchain.prompts import (\n",
    "    ChatPromptTemplate,\n",
    "    MessagesPlaceholder,\n",
    "    SystemMessagePromptTemplate,\n",
    "    HumanMessagePromptTemplate,\n",
    ")\n",
    "from bert_score import score\n",
    "\n",
    "def lambda_handler(event, context):\n",
    "   \n",
    "    event_method = event[\"httpMethod\"]\n",
    "   \n",
    "    if event_method != 'POST':\n",
    "        return {\n",
    "            'statusCode': 200,\n",
    "            'body': json.dumps(\"Not implemented\")\n",
    "        }\n",
    "       \n",
    "    event_body = event[\"body\"]\n",
    "    prompt_data = event_body[\"prompt_input\"]\n",
    "    reference_output = event_body[\"respuesta_esperada\"]\n",
    "\n",
    "   \n",
    "    client_bedrock_runtime = boto3.client(\n",
    "        service_name=\"bedrock-runtime\",\n",
    "        region_name=aws_region,\n",
    "        aws_access_key_id=aws_access_key,\n",
    "        aws_secret_access_key=aws_secret_key,\n",
    "        verify=False\n",
    "    )\n",
    "   \n",
    "    model_id = 'amazon.titan-text-express-v1'\n",
    "    \n",
    "    titan_llm = Bedrock(\n",
    "        model_id=model_id, \n",
    "        client=client_bedrock_runtime\n",
    "    )\n",
    "\n",
    "    titan_llm.model_kwargs = {\n",
    "        'temperature': 0.5, \n",
    "        \"maxTokenCount\": 700,\n",
    "        \"topP\": 0.9\n",
    "    }\n",
    "\n",
    "    chain = LLMChain(llm=titan_llm, prompt=rules_prompt, memory=memory, verbose=False) \n",
    "    chain_response = chain.run(prompt_data)\n",
    "    #P, R, F1 = score(chain_response, reference_summaries, lang='es', verbose=True)\n",
    "    P, R, F1 = score([chain_response], [reference_output], lang=\"es\", verbose=True)\n",
    "\n",
    "    return {\n",
    "        'statusCode': 200,\n",
    "        'body': json.dumps({\n",
    "            'respuesta': chain_response,\n",
    "            'precision': P.mean().item(),\n",
    "            'recall': R.mean().item(),\n",
    "            'f1': F1.mean().item(),\n",
    "    })\n",
    "    }"
   ]
  },
  {
   "cell_type": "code",
   "execution_count": null,
   "metadata": {},
   "outputs": [],
   "source": [
    "test_input={\"question\": \"Why should a victim go to the doctor after a Heimlich manoeuvre?\"},\n",
    "reference_output={\"answer\": \"Because the Heimlich manoeuvre may have caused internal bleeding.\"},"
   ]
  },
  {
   "cell_type": "code",
   "execution_count": 54,
   "metadata": {},
   "outputs": [
    {
     "name": "stderr",
     "output_type": "stream",
     "text": [
      "c:\\Users\\oriverac\\AppData\\Local\\anaconda3\\envs\\env_ai\\Lib\\site-packages\\urllib3\\connectionpool.py:1061: InsecureRequestWarning: Unverified HTTPS request is being made to host 'bedrock-runtime.us-east-1.amazonaws.com'. Adding certificate verification is strongly advised. See: https://urllib3.readthedocs.io/en/1.26.x/advanced-usage.html#ssl-warnings\n",
      "  warnings.warn(\n",
      "c:\\Users\\oriverac\\AppData\\Local\\anaconda3\\envs\\env_ai\\Lib\\site-packages\\urllib3\\connectionpool.py:1061: InsecureRequestWarning: Unverified HTTPS request is being made to host 'huggingface.co'. Adding certificate verification is strongly advised. See: https://urllib3.readthedocs.io/en/1.26.x/advanced-usage.html#ssl-warnings\n",
      "  warnings.warn(\n",
      "c:\\Users\\oriverac\\AppData\\Local\\anaconda3\\envs\\env_ai\\Lib\\site-packages\\urllib3\\connectionpool.py:1061: InsecureRequestWarning: Unverified HTTPS request is being made to host 'huggingface.co'. Adding certificate verification is strongly advised. See: https://urllib3.readthedocs.io/en/1.26.x/advanced-usage.html#ssl-warnings\n",
      "  warnings.warn(\n"
     ]
    },
    {
     "name": "stdout",
     "output_type": "stream",
     "text": [
      "calculating scores...\n",
      "computing bert embedding.\n"
     ]
    },
    {
     "name": "stderr",
     "output_type": "stream",
     "text": [
      "100%|██████████| 1/1 [00:00<00:00, 14.92it/s]\n"
     ]
    },
    {
     "name": "stdout",
     "output_type": "stream",
     "text": [
      "computing greedy matching.\n"
     ]
    },
    {
     "name": "stderr",
     "output_type": "stream",
     "text": [
      "100%|██████████| 1/1 [00:00<00:00, 1000.31it/s]"
     ]
    },
    {
     "name": "stdout",
     "output_type": "stream",
     "text": [
      "done in 0.07 seconds, 13.69 sentences/sec\n",
      "{'statusCode': 200, 'body': '{\"respuesta\": \"\\\\nLa cuota adicional por la inclusi\\\\u00f3n de nuevos Beneficiarios se agregar\\\\u00e1 al global de las siguientes cuotas del Contrato.\", \"precision\": 0.9366027116775513, \"recall\": 0.9170214533805847, \"f1\": 0.9267086386680603}'}\n",
      "{\"respuesta\": \"\\nLa cuota adicional por la inclusi\\u00f3n de nuevos Beneficiarios se agregar\\u00e1 al global de las siguientes cuotas del Contrato.\", \"precision\": 0.9366027116775513, \"recall\": 0.9170214533805847, \"f1\": 0.9267086386680603}\n"
     ]
    },
    {
     "name": "stderr",
     "output_type": "stream",
     "text": [
      "\n"
     ]
    }
   ],
   "source": [
    "event = {\n",
    "    \"httpMethod\": \"POST\",\n",
    "    \"body\": {\n",
    "        \"prompt_input\": {prompt_input},\n",
    "        \"respuesta_esperada\": {reference_output}\n",
    "    }\n",
    "}\n",
    "lambda_response = lambda_handler(event, context=None)\n",
    "print(lambda_response)\n",
    "print(lambda_response.get('body'))"
   ]
  },
  {
   "cell_type": "markdown",
   "metadata": {},
   "source": [
    "# Postgres Initial Setup"
   ]
  },
  {
   "cell_type": "code",
   "execution_count": 3,
   "metadata": {},
   "outputs": [],
   "source": [
    "import os\n",
    "from PostgresHandler import PostgresHandler\n",
    "configuration_db = {\n",
    "    \"postgresql\": {\n",
    "        \"database\": os.environ.get(\"postgres_database\", None),\n",
    "        \"user\": os.environ.get(\"postgres_user\", None),\n",
    "        \"password\": os.environ.get(\"postgres_password\", None),\n",
    "        \"host\": os.environ.get(\"postgres_host\", None),\n",
    "        \"port\": os.environ.get(\"postgres_port\", None),\n",
    "    }\n",
    "}\n",
    "\n",
    "postgres_handler = PostgresHandler(configuration_db, verbose=10)\n",
    "postgres_handler.enable_vector_extension()"
   ]
  },
  {
   "cell_type": "code",
   "execution_count": 4,
   "metadata": {},
   "outputs": [
    {
     "name": "stdout",
     "output_type": "stream",
     "text": [
      "rrhh.general_pibot\n"
     ]
    }
   ],
   "source": [
    "db_schema = \"rrhh\"\n",
    "db_table = \"general_pibot\"\n",
    "db_full_table_name = f\"{db_schema}.{db_table}\"\n",
    "print(db_full_table_name)"
   ]
  },
  {
   "cell_type": "code",
   "execution_count": 5,
   "metadata": {},
   "outputs": [
    {
     "data": {
      "text/plain": [
       "<cursor object at 0x000001EA6B211380; closed: 0>"
      ]
     },
     "execution_count": 5,
     "metadata": {},
     "output_type": "execute_result"
    }
   ],
   "source": [
    "\n",
    "postgres_handler.execute_statement(f\"\"\"CREATE SCHEMA IF NOT EXISTS {db_schema};\n",
    "CREATE TABLE IF NOT EXISTS {db_schema}.{db_table} (\n",
    "    id int GENERATED BY DEFAULT AS IDENTITY PRIMARY KEY,\n",
    "    contenido_original text,\n",
    "    contenido_vector vector(1536),\n",
    "    vectorizacion_algoritmo VARCHAR(255),\n",
    "    version varchar(3) DEFAULT '1',\n",
    "\tfecha_actualizacion\tTIMESTAMP,\n",
    "\tusuario_actualizacion\tVARCHAR(30),\n",
    "\tfecha_creacion\tTIMESTAMP NOT NULL,\n",
    "\tusuario_creacion\tVARCHAR(30) NOT NULL,\n",
    "    metadata_topico VARCHAR(20)\n",
    ");\n",
    "\"\"\", open_and_close=True)"
   ]
  },
  {
   "cell_type": "code",
   "execution_count": 6,
   "metadata": {},
   "outputs": [
    {
     "data": {
      "text/plain": [
       "<cursor object at 0x000001EA6B2119A0; closed: 0>"
      ]
     },
     "execution_count": 6,
     "metadata": {},
     "output_type": "execute_result"
    }
   ],
   "source": [
    "postgres_handler.execute_statement(f\"\"\"CREATE INDEX IF NOT EXISTS {db_schema}_{db_table}_contenido_vector_idx ON {db_schema}.{db_table} \n",
    "USING hnsw (contenido_vector vector_cosine_ops) \n",
    "WITH (m = 16, ef_construction = 64)\n",
    "\"\"\", open_and_close=True)"
   ]
  },
  {
   "cell_type": "code",
   "execution_count": null,
   "metadata": {},
   "outputs": [],
   "source": [
    "from Embedder import *\n",
    "\n",
    "configuration_embedder = {\n",
    "    \"provider\": {\n",
    "        \"region\": os.environ.get(\"aws_region\", None),\n",
    "        \"credentials\": {\n",
    "            \"aws_access_key_id\": os.environ.get(\"aws_access_key\", None),\n",
    "            \"aws_secret_access_key\": os.environ.get(\"aws_secret_key\", None),\n",
    "        },\n",
    "    },\n",
    "    \"model\": {\"id\": \"amazon.titan-embed-text-v1\"},\n",
    "    \"splitter\": {\n",
    "        \"chunk_size\": 500,\n",
    "        \"chunk_overlap\": 20,\n",
    "        \"length_function\": Embedder.num_tokens_from_string,\n",
    "        \"add_start_index\": True,\n",
    "    },\n",
    "}\n",
    "\n",
    "embedder = EmbedderAWS(configuration_embedder, verify=False)"
   ]
  },
  {
   "cell_type": "code",
   "execution_count": null,
   "metadata": {},
   "outputs": [],
   "source": [
    "from aws_llm_helpers import generate_vectors\n",
    "\n"
   ]
  },
  {
   "cell_type": "code",
   "execution_count": null,
   "metadata": {},
   "outputs": [],
   "source": [
    "import numpy as np\n",
    "from datetime import datetime as datetime_CIIU\n",
    "datetime_now = datetime_CIIU.now().date()\n",
    "data_list_ciiu = [\n",
    "    (\n",
    "        row[\"DescLevel2\"], \n",
    "        np.array(row['embeddings']), \n",
    "        configuration_embedder[\"model\"][\"id\"],\n",
    "        '1',\n",
    "        datetime_now, \n",
    "        'ddiazpad',\n",
    "        datetime_now, \n",
    "        'ddiazpad',\n",
    "        row['CodeLevel2'],\n",
    "    ) for index, row in cur_data_lvl2_desclevel2.iterrows()\n",
    "]\n",
    "\n",
    "postgres_handler.insert_values(\n",
    "    data_list_ciiu,\n",
    "    sql_columns=f\"{db_full_table_name} (contenido_original, contenido_vector, vectorizacion_algoritmo, version, fecha_actualizacion, usuario_actualizacion, fecha_creacion, usuario_creacion, metadata_topico)\",\n",
    "    register_vector_conn=True,\n",
    "    commit=True,\n",
    "    open_and_close=True\n",
    ")"
   ]
  },
  {
   "cell_type": "markdown",
   "metadata": {},
   "source": [
    "# API Function"
   ]
  },
  {
   "cell_type": "code",
   "execution_count": 20,
   "metadata": {},
   "outputs": [
    {
     "name": "stdout",
     "output_type": "stream",
     "text": [
      "¿Cuándo se agregará el valor de la cuota adicional por la inclusión de nuevos Beneficiarios según la poliza de salud de la organizacion BBB?\n"
     ]
    },
    {
     "name": "stderr",
     "output_type": "stream",
     "text": [
      "c:\\Users\\usuario\\anaconda3\\envs\\general\\lib\\site-packages\\urllib3\\connectionpool.py:1100: InsecureRequestWarning: Unverified HTTPS request is being made to host 'bedrock-runtime.us-east-1.amazonaws.com'. Adding certificate verification is strongly advised. See: https://urllib3.readthedocs.io/en/latest/advanced-usage.html#tls-warnings\n",
      "  warnings.warn(\n"
     ]
    },
    {
     "name": "stdout",
     "output_type": "stream",
     "text": [
      "{'context': 'ABCD', 'human_input': '¿Cuándo se agregará el valor de la cuota adicional por la inclusión de nuevos Beneficiarios según la poliza de salud de la organizacion BBB?'}\n",
      "\n",
      "\n",
      "\u001b[1m> Entering new LLMChain chain...\u001b[0m\n",
      "Prompt after formatting:\n",
      "\u001b[32;1m\u001b[1;3mUtiliza el siguiente contexto para responder a la pregunta\n",
      "Contexto: ABCD\n",
      "Pregunta: ¿Cuándo se agregará el valor de la cuota adicional por la inclusión de nuevos Beneficiarios según la poliza de salud de la organizacion BBB?\u001b[0m\n"
     ]
    },
    {
     "name": "stderr",
     "output_type": "stream",
     "text": [
      "c:\\Users\\usuario\\anaconda3\\envs\\general\\lib\\site-packages\\urllib3\\connectionpool.py:1100: InsecureRequestWarning: Unverified HTTPS request is being made to host 'bedrock-runtime.us-east-1.amazonaws.com'. Adding certificate verification is strongly advised. See: https://urllib3.readthedocs.io/en/latest/advanced-usage.html#tls-warnings\n",
      "  warnings.warn(\n"
     ]
    },
    {
     "name": "stdout",
     "output_type": "stream",
     "text": [
      "\n",
      "\u001b[1m> Finished chain.\u001b[0m\n",
      "{'context': 'ABCD', 'human_input': '¿Cuándo se agregará el valor de la cuota adicional por la inclusión de nuevos Beneficiarios según la poliza de salud de la organizacion BBB?', 'chat_history': [HumanMessage(content='¿Cuándo se agregará el valor de la cuota adicional por la inclusión de nuevos Beneficiarios según la poliza de salud de la organizacion BBB?'), AIMessage(content='\\n\\nEl valor de la cuota adicional se agregará al mes siguiente\\n')], 'text': '\\n\\nEl valor de la cuota adicional se agregará al mes siguiente\\n'}\n",
      "calculating scores...\n",
      "computing bert embedding.\n"
     ]
    },
    {
     "name": "stderr",
     "output_type": "stream",
     "text": [
      "100%|██████████| 1/1 [00:00<00:00, 58.19it/s]\n"
     ]
    },
    {
     "name": "stdout",
     "output_type": "stream",
     "text": [
      "computing greedy matching.\n"
     ]
    },
    {
     "name": "stderr",
     "output_type": "stream",
     "text": [
      "100%|██████████| 1/1 [00:00<00:00, 193.07it/s]"
     ]
    },
    {
     "name": "stdout",
     "output_type": "stream",
     "text": [
      "done in 0.03 seconds, 36.02 sentences/sec\n"
     ]
    },
    {
     "name": "stderr",
     "output_type": "stream",
     "text": [
      "\n"
     ]
    },
    {
     "ename": "TypeError",
     "evalue": "Object of type HumanMessage is not JSON serializable",
     "output_type": "error",
     "traceback": [
      "\u001b[1;31m---------------------------------------------------------------------------\u001b[0m",
      "\u001b[1;31mTypeError\u001b[0m                                 Traceback (most recent call last)",
      "Cell \u001b[1;32mIn[20], line 163\u001b[0m\n\u001b[0;32m    154\u001b[0m reference_output \u001b[38;5;241m=\u001b[39m \u001b[38;5;124m'\u001b[39m\u001b[38;5;124mEl valor de la cuota adicional se agregará al global de las siguientes cuotas del Contrato después de la inclusión de nuevos Beneficiarios.\u001b[39m\u001b[38;5;124m'\u001b[39m\n\u001b[0;32m    156\u001b[0m event \u001b[38;5;241m=\u001b[39m {\n\u001b[0;32m    157\u001b[0m     \u001b[38;5;124m\"\u001b[39m\u001b[38;5;124mhttpMethod\u001b[39m\u001b[38;5;124m\"\u001b[39m: \u001b[38;5;124m\"\u001b[39m\u001b[38;5;124mPOST\u001b[39m\u001b[38;5;124m\"\u001b[39m,\n\u001b[0;32m    158\u001b[0m     \u001b[38;5;124m\"\u001b[39m\u001b[38;5;124mbody\u001b[39m\u001b[38;5;124m\"\u001b[39m: {\n\u001b[1;32m   (...)\u001b[0m\n\u001b[0;32m    161\u001b[0m     }\n\u001b[0;32m    162\u001b[0m }\n\u001b[1;32m--> 163\u001b[0m lambda_response \u001b[38;5;241m=\u001b[39m \u001b[43mhandler\u001b[49m\u001b[43m(\u001b[49m\u001b[43mevent\u001b[49m\u001b[43m,\u001b[49m\u001b[43m \u001b[49m\u001b[43mcontext\u001b[49m\u001b[38;5;241;43m=\u001b[39;49m\u001b[38;5;28;43;01mNone\u001b[39;49;00m\u001b[43m)\u001b[49m\n\u001b[0;32m    164\u001b[0m \u001b[38;5;28mprint\u001b[39m(lambda_response)\n\u001b[0;32m    165\u001b[0m \u001b[38;5;28mprint\u001b[39m(lambda_response\u001b[38;5;241m.\u001b[39mget(\u001b[38;5;124m'\u001b[39m\u001b[38;5;124mbody\u001b[39m\u001b[38;5;124m'\u001b[39m))\n",
      "Cell \u001b[1;32mIn[20], line 144\u001b[0m, in \u001b[0;36mhandler\u001b[1;34m(event, context)\u001b[0m\n\u001b[0;32m    139\u001b[0m \u001b[38;5;66;03m#P, R, F1 = score(chain_response, reference_summaries, lang='es', verbose=True)\u001b[39;00m\n\u001b[0;32m    140\u001b[0m P, R, F1 \u001b[38;5;241m=\u001b[39m score([chain_response[\u001b[38;5;124m\"\u001b[39m\u001b[38;5;124mhuman_input\u001b[39m\u001b[38;5;124m\"\u001b[39m]], [reference_output], lang\u001b[38;5;241m=\u001b[39m\u001b[38;5;124m\"\u001b[39m\u001b[38;5;124mes\u001b[39m\u001b[38;5;124m\"\u001b[39m, verbose\u001b[38;5;241m=\u001b[39m\u001b[38;5;28;01mTrue\u001b[39;00m)\n\u001b[0;32m    142\u001b[0m \u001b[38;5;28;01mreturn\u001b[39;00m {\n\u001b[0;32m    143\u001b[0m     \u001b[38;5;124m'\u001b[39m\u001b[38;5;124mstatusCode\u001b[39m\u001b[38;5;124m'\u001b[39m: \u001b[38;5;241m200\u001b[39m,\n\u001b[1;32m--> 144\u001b[0m     \u001b[38;5;124m'\u001b[39m\u001b[38;5;124mbody\u001b[39m\u001b[38;5;124m'\u001b[39m: \u001b[43mjson\u001b[49m\u001b[38;5;241;43m.\u001b[39;49m\u001b[43mdumps\u001b[49m\u001b[43m(\u001b[49m\u001b[43m{\u001b[49m\n\u001b[0;32m    145\u001b[0m \u001b[43m        \u001b[49m\u001b[38;5;124;43m'\u001b[39;49m\u001b[38;5;124;43mchain_response\u001b[39;49m\u001b[38;5;124;43m'\u001b[39;49m\u001b[43m:\u001b[49m\u001b[43m \u001b[49m\u001b[43mchain_response\u001b[49m\u001b[43m,\u001b[49m\n\u001b[0;32m    146\u001b[0m \u001b[43m        \u001b[49m\u001b[38;5;124;43m'\u001b[39;49m\u001b[38;5;124;43mprecision\u001b[39;49m\u001b[38;5;124;43m'\u001b[39;49m\u001b[43m:\u001b[49m\u001b[43m \u001b[49m\u001b[43mP\u001b[49m\u001b[38;5;241;43m.\u001b[39;49m\u001b[43mmean\u001b[49m\u001b[43m(\u001b[49m\u001b[43m)\u001b[49m\u001b[38;5;241;43m.\u001b[39;49m\u001b[43mitem\u001b[49m\u001b[43m(\u001b[49m\u001b[43m)\u001b[49m\u001b[43m,\u001b[49m\n\u001b[0;32m    147\u001b[0m \u001b[43m        \u001b[49m\u001b[38;5;124;43m'\u001b[39;49m\u001b[38;5;124;43mrecall\u001b[39;49m\u001b[38;5;124;43m'\u001b[39;49m\u001b[43m:\u001b[49m\u001b[43m \u001b[49m\u001b[43mR\u001b[49m\u001b[38;5;241;43m.\u001b[39;49m\u001b[43mmean\u001b[49m\u001b[43m(\u001b[49m\u001b[43m)\u001b[49m\u001b[38;5;241;43m.\u001b[39;49m\u001b[43mitem\u001b[49m\u001b[43m(\u001b[49m\u001b[43m)\u001b[49m\u001b[43m,\u001b[49m\n\u001b[0;32m    148\u001b[0m \u001b[43m        \u001b[49m\u001b[38;5;124;43m'\u001b[39;49m\u001b[38;5;124;43mf1\u001b[39;49m\u001b[38;5;124;43m'\u001b[39;49m\u001b[43m:\u001b[49m\u001b[43m \u001b[49m\u001b[43mF1\u001b[49m\u001b[38;5;241;43m.\u001b[39;49m\u001b[43mmean\u001b[49m\u001b[43m(\u001b[49m\u001b[43m)\u001b[49m\u001b[38;5;241;43m.\u001b[39;49m\u001b[43mitem\u001b[49m\u001b[43m(\u001b[49m\u001b[43m)\u001b[49m\u001b[43m,\u001b[49m\n\u001b[0;32m    149\u001b[0m \u001b[43m\u001b[49m\u001b[43m}\u001b[49m\u001b[43m)\u001b[49m\n\u001b[0;32m    150\u001b[0m }\n",
      "File \u001b[1;32mc:\\Users\\usuario\\anaconda3\\envs\\general\\lib\\json\\__init__.py:231\u001b[0m, in \u001b[0;36mdumps\u001b[1;34m(obj, skipkeys, ensure_ascii, check_circular, allow_nan, cls, indent, separators, default, sort_keys, **kw)\u001b[0m\n\u001b[0;32m    226\u001b[0m \u001b[38;5;66;03m# cached encoder\u001b[39;00m\n\u001b[0;32m    227\u001b[0m \u001b[38;5;28;01mif\u001b[39;00m (\u001b[38;5;129;01mnot\u001b[39;00m skipkeys \u001b[38;5;129;01mand\u001b[39;00m ensure_ascii \u001b[38;5;129;01mand\u001b[39;00m\n\u001b[0;32m    228\u001b[0m     check_circular \u001b[38;5;129;01mand\u001b[39;00m allow_nan \u001b[38;5;129;01mand\u001b[39;00m\n\u001b[0;32m    229\u001b[0m     \u001b[38;5;28mcls\u001b[39m \u001b[38;5;129;01mis\u001b[39;00m \u001b[38;5;28;01mNone\u001b[39;00m \u001b[38;5;129;01mand\u001b[39;00m indent \u001b[38;5;129;01mis\u001b[39;00m \u001b[38;5;28;01mNone\u001b[39;00m \u001b[38;5;129;01mand\u001b[39;00m separators \u001b[38;5;129;01mis\u001b[39;00m \u001b[38;5;28;01mNone\u001b[39;00m \u001b[38;5;129;01mand\u001b[39;00m\n\u001b[0;32m    230\u001b[0m     default \u001b[38;5;129;01mis\u001b[39;00m \u001b[38;5;28;01mNone\u001b[39;00m \u001b[38;5;129;01mand\u001b[39;00m \u001b[38;5;129;01mnot\u001b[39;00m sort_keys \u001b[38;5;129;01mand\u001b[39;00m \u001b[38;5;129;01mnot\u001b[39;00m kw):\n\u001b[1;32m--> 231\u001b[0m     \u001b[38;5;28;01mreturn\u001b[39;00m \u001b[43m_default_encoder\u001b[49m\u001b[38;5;241;43m.\u001b[39;49m\u001b[43mencode\u001b[49m\u001b[43m(\u001b[49m\u001b[43mobj\u001b[49m\u001b[43m)\u001b[49m\n\u001b[0;32m    232\u001b[0m \u001b[38;5;28;01mif\u001b[39;00m \u001b[38;5;28mcls\u001b[39m \u001b[38;5;129;01mis\u001b[39;00m \u001b[38;5;28;01mNone\u001b[39;00m:\n\u001b[0;32m    233\u001b[0m     \u001b[38;5;28mcls\u001b[39m \u001b[38;5;241m=\u001b[39m JSONEncoder\n",
      "File \u001b[1;32mc:\\Users\\usuario\\anaconda3\\envs\\general\\lib\\json\\encoder.py:199\u001b[0m, in \u001b[0;36mJSONEncoder.encode\u001b[1;34m(self, o)\u001b[0m\n\u001b[0;32m    195\u001b[0m         \u001b[38;5;28;01mreturn\u001b[39;00m encode_basestring(o)\n\u001b[0;32m    196\u001b[0m \u001b[38;5;66;03m# This doesn't pass the iterator directly to ''.join() because the\u001b[39;00m\n\u001b[0;32m    197\u001b[0m \u001b[38;5;66;03m# exceptions aren't as detailed.  The list call should be roughly\u001b[39;00m\n\u001b[0;32m    198\u001b[0m \u001b[38;5;66;03m# equivalent to the PySequence_Fast that ''.join() would do.\u001b[39;00m\n\u001b[1;32m--> 199\u001b[0m chunks \u001b[38;5;241m=\u001b[39m \u001b[38;5;28;43mself\u001b[39;49m\u001b[38;5;241;43m.\u001b[39;49m\u001b[43miterencode\u001b[49m\u001b[43m(\u001b[49m\u001b[43mo\u001b[49m\u001b[43m,\u001b[49m\u001b[43m \u001b[49m\u001b[43m_one_shot\u001b[49m\u001b[38;5;241;43m=\u001b[39;49m\u001b[38;5;28;43;01mTrue\u001b[39;49;00m\u001b[43m)\u001b[49m\n\u001b[0;32m    200\u001b[0m \u001b[38;5;28;01mif\u001b[39;00m \u001b[38;5;129;01mnot\u001b[39;00m \u001b[38;5;28misinstance\u001b[39m(chunks, (\u001b[38;5;28mlist\u001b[39m, \u001b[38;5;28mtuple\u001b[39m)):\n\u001b[0;32m    201\u001b[0m     chunks \u001b[38;5;241m=\u001b[39m \u001b[38;5;28mlist\u001b[39m(chunks)\n",
      "File \u001b[1;32mc:\\Users\\usuario\\anaconda3\\envs\\general\\lib\\json\\encoder.py:257\u001b[0m, in \u001b[0;36mJSONEncoder.iterencode\u001b[1;34m(self, o, _one_shot)\u001b[0m\n\u001b[0;32m    252\u001b[0m \u001b[38;5;28;01melse\u001b[39;00m:\n\u001b[0;32m    253\u001b[0m     _iterencode \u001b[38;5;241m=\u001b[39m _make_iterencode(\n\u001b[0;32m    254\u001b[0m         markers, \u001b[38;5;28mself\u001b[39m\u001b[38;5;241m.\u001b[39mdefault, _encoder, \u001b[38;5;28mself\u001b[39m\u001b[38;5;241m.\u001b[39mindent, floatstr,\n\u001b[0;32m    255\u001b[0m         \u001b[38;5;28mself\u001b[39m\u001b[38;5;241m.\u001b[39mkey_separator, \u001b[38;5;28mself\u001b[39m\u001b[38;5;241m.\u001b[39mitem_separator, \u001b[38;5;28mself\u001b[39m\u001b[38;5;241m.\u001b[39msort_keys,\n\u001b[0;32m    256\u001b[0m         \u001b[38;5;28mself\u001b[39m\u001b[38;5;241m.\u001b[39mskipkeys, _one_shot)\n\u001b[1;32m--> 257\u001b[0m \u001b[38;5;28;01mreturn\u001b[39;00m \u001b[43m_iterencode\u001b[49m\u001b[43m(\u001b[49m\u001b[43mo\u001b[49m\u001b[43m,\u001b[49m\u001b[43m \u001b[49m\u001b[38;5;241;43m0\u001b[39;49m\u001b[43m)\u001b[49m\n",
      "File \u001b[1;32mc:\\Users\\usuario\\anaconda3\\envs\\general\\lib\\json\\encoder.py:179\u001b[0m, in \u001b[0;36mJSONEncoder.default\u001b[1;34m(self, o)\u001b[0m\n\u001b[0;32m    160\u001b[0m \u001b[38;5;28;01mdef\u001b[39;00m \u001b[38;5;21mdefault\u001b[39m(\u001b[38;5;28mself\u001b[39m, o):\n\u001b[0;32m    161\u001b[0m \u001b[38;5;250m    \u001b[39m\u001b[38;5;124;03m\"\"\"Implement this method in a subclass such that it returns\u001b[39;00m\n\u001b[0;32m    162\u001b[0m \u001b[38;5;124;03m    a serializable object for ``o``, or calls the base implementation\u001b[39;00m\n\u001b[0;32m    163\u001b[0m \u001b[38;5;124;03m    (to raise a ``TypeError``).\u001b[39;00m\n\u001b[1;32m   (...)\u001b[0m\n\u001b[0;32m    177\u001b[0m \n\u001b[0;32m    178\u001b[0m \u001b[38;5;124;03m    \"\"\"\u001b[39;00m\n\u001b[1;32m--> 179\u001b[0m     \u001b[38;5;28;01mraise\u001b[39;00m \u001b[38;5;167;01mTypeError\u001b[39;00m(\u001b[38;5;124mf\u001b[39m\u001b[38;5;124m'\u001b[39m\u001b[38;5;124mObject of type \u001b[39m\u001b[38;5;132;01m{\u001b[39;00mo\u001b[38;5;241m.\u001b[39m\u001b[38;5;18m__class__\u001b[39m\u001b[38;5;241m.\u001b[39m\u001b[38;5;18m__name__\u001b[39m\u001b[38;5;132;01m}\u001b[39;00m\u001b[38;5;124m \u001b[39m\u001b[38;5;124m'\u001b[39m\n\u001b[0;32m    180\u001b[0m                     \u001b[38;5;124mf\u001b[39m\u001b[38;5;124m'\u001b[39m\u001b[38;5;124mis not JSON serializable\u001b[39m\u001b[38;5;124m'\u001b[39m)\n",
      "\u001b[1;31mTypeError\u001b[0m: Object of type HumanMessage is not JSON serializable"
     ]
    }
   ],
   "source": [
    "from langchain.llms.bedrock import Bedrock\n",
    "from langchain.chains import LLMChain\n",
    "from langchain.prompts import (\n",
    "    ChatPromptTemplate,\n",
    "    MessagesPlaceholder,\n",
    "    SystemMessagePromptTemplate,\n",
    "    HumanMessagePromptTemplate,\n",
    ")\n",
    "from bert_score import score\n",
    "import os\n",
    "import json\n",
    "import boto3\n",
    "\n",
    "with open(\".env.json\", \"r\") as f_in:\n",
    "    env_json: dict = json.load(f_in)\n",
    "    for key, value in env_json.items():\n",
    "        os.environ[key] = value\n",
    "\n",
    "aws_access_key = os.environ['aws_access_key']\n",
    "aws_secret_key = os.environ['aws_secret_key']\n",
    "aws_region = os.environ['aws_region']\n",
    "\n",
    "from langchain.prompts.prompt import PromptTemplate\n",
    "from langchain.memory import ConversationBufferMemory\n",
    "import os\n",
    "from PostgresHandler import PostgresHandler\n",
    "configuration_db = {\n",
    "    \"postgresql\": {\n",
    "        \"database\": os.environ.get(\"postgres_database\", None),\n",
    "        \"user\": os.environ.get(\"postgres_user\", None),\n",
    "        \"password\": os.environ.get(\"postgres_password\", None),\n",
    "        \"host\": os.environ.get(\"postgres_host\", None),\n",
    "        \"port\": os.environ.get(\"postgres_port\", None),\n",
    "    }\n",
    "}\n",
    "\n",
    "postgres_handler = PostgresHandler(configuration_db, verbose=10)\n",
    "postgres_handler.enable_vector_extension()\n",
    "\n",
    "_DEFAULT_TEMPLATE = \"\"\"Utiliza el siguiente contexto para responder a la pregunta\n",
    "Contexto: {context}\n",
    "Pregunta: {human_input}\"\"\"\n",
    "\n",
    "rules_prompt = PromptTemplate(\n",
    "    input_variables=[\"context\", \"human_input\"], \n",
    "    template=_DEFAULT_TEMPLATE\n",
    ")\n",
    "\n",
    "memory = ConversationBufferMemory(memory_key=\"chat_history\", input_key=\"human_input\", return_messages=True)\n",
    "\n",
    "from Embedder import *\n",
    "\n",
    "configuration_embedder = {\n",
    "    \"provider\": {\n",
    "        \"region\": os.environ.get(\"aws_region\", None),\n",
    "        \"credentials\": {\n",
    "            \"aws_access_key_id\": os.environ.get(\"aws_access_key\", None),\n",
    "            \"aws_secret_access_key\": os.environ.get(\"aws_secret_key\", None),\n",
    "        },\n",
    "    },\n",
    "    \"model\": {\"id\": \"amazon.titan-embed-text-v1\"},\n",
    "    \"splitter\": {\n",
    "        \"chunk_size\": 500,\n",
    "        \"chunk_overlap\": 20,\n",
    "        \"length_function\": Embedder.num_tokens_from_string,\n",
    "        \"add_start_index\": True,\n",
    "    },\n",
    "}\n",
    "\n",
    "embedder = EmbedderAWS(configuration_embedder, verify=False)\n",
    "\n",
    "def handler(event, context):\n",
    "   \n",
    "    event_method = event[\"httpMethod\"]\n",
    "   \n",
    "    if event_method != 'POST':\n",
    "        return {\n",
    "            'statusCode': 200,\n",
    "            'body': json.dumps(\"Not implemented\")\n",
    "        }\n",
    "       \n",
    "    event_body = event[\"body\"]\n",
    "    prompt_data = event_body[\"prompt_input\"]\n",
    "    reference_output = event_body[\"respuesta_esperada\"]\n",
    "\n",
    "   \n",
    "    client_bedrock_runtime = boto3.client(\n",
    "        service_name=\"bedrock-runtime\",\n",
    "        region_name=aws_region,\n",
    "        aws_access_key_id=aws_access_key,\n",
    "        aws_secret_access_key=aws_secret_key,\n",
    "        verify=False\n",
    "    )\n",
    "   \n",
    "    model_id = 'amazon.titan-text-express-v1'\n",
    "    \n",
    "    titan_llm = Bedrock(\n",
    "        model_id=model_id, \n",
    "        client=client_bedrock_runtime\n",
    "    )\n",
    "\n",
    "    titan_llm.model_kwargs = {\n",
    "        'temperature': 0.5, \n",
    "        \"maxTokenCount\": 700,\n",
    "        \"topP\": 0.9\n",
    "    }\n",
    "    extra_where = \"\"\n",
    "    version = 1\n",
    "    print(prompt_data)\n",
    "    similar_docs = postgres_handler.get_similar_docs(\n",
    "        embedder,\n",
    "        user_input=prompt_data,\n",
    "        schema=\"rrhh\",\n",
    "        table_name=\"general_pibot\",\n",
    "        k=3,\n",
    "        custom_where=f\"WHERE version = '{version}' {extra_where}\",\n",
    "        columns=\"contenido_original, metadata_topico\",\n",
    "        register_vector_conn=True,\n",
    "        commit=True,\n",
    "        open_and_close=True,\n",
    "        col_name_embedding=\"contenido_vector\",\n",
    "        partition_by=None,\n",
    "    )\n",
    "\n",
    "    context = \"\"\n",
    "    for c in similar_docs:\n",
    "        context += f\"{c[0]}\\n\"\n",
    "\n",
    "\n",
    "    input_dict = {\n",
    "        \"context\": context + str(\"ABCD\"),\n",
    "        \"human_input\": prompt_data\n",
    "    }\n",
    "    print(input_dict)\n",
    "\n",
    "    chain = LLMChain(llm=titan_llm, prompt=rules_prompt, memory=memory, verbose=True) \n",
    "    chain_response = chain(input_dict)\n",
    "    print(chain_response)\n",
    "    #P, R, F1 = score(chain_response, reference_summaries, lang='es', verbose=True)\n",
    "    P, R, F1 = score([chain_response[\"human_input\"]], [reference_output], lang=\"es\", verbose=True)\n",
    "\n",
    "    return {\n",
    "        'statusCode': 200,\n",
    "        'body': json.dumps({\n",
    "            'chain_response': chain_response,\n",
    "            'precision': P.mean().item(),\n",
    "            'recall': R.mean().item(),\n",
    "            'f1': F1.mean().item(),\n",
    "    })\n",
    "    }\n",
    "\n",
    "\n",
    "prompt_input = '¿Cuándo se agregará el valor de la cuota adicional por la inclusión de nuevos Beneficiarios según la poliza de salud de la organizacion BBB?'\n",
    "reference_output = 'El valor de la cuota adicional se agregará al global de las siguientes cuotas del Contrato después de la inclusión de nuevos Beneficiarios.'\n",
    "\n",
    "event = {\n",
    "    \"httpMethod\": \"POST\",\n",
    "    \"body\": {\n",
    "        \"prompt_input\": prompt_input,\n",
    "        \"respuesta_esperada\": reference_output\n",
    "    }\n",
    "}\n",
    "lambda_response = handler(event, context=None)\n",
    "print(lambda_response)\n",
    "print(lambda_response.get('body'))"
   ]
  },
  {
   "cell_type": "code",
   "execution_count": null,
   "metadata": {},
   "outputs": [],
   "source": []
  },
  {
   "cell_type": "markdown",
   "metadata": {},
   "source": [
    "# END"
   ]
  }
 ],
 "metadata": {
  "kernelspec": {
   "display_name": "env_ai",
   "language": "python",
   "name": "python3"
  },
  "language_info": {
   "codemirror_mode": {
    "name": "ipython",
    "version": 3
   },
   "file_extension": ".py",
   "mimetype": "text/x-python",
   "name": "python",
   "nbconvert_exporter": "python",
   "pygments_lexer": "ipython3",
   "version": "3.11.7"
  }
 },
 "nbformat": 4,
 "nbformat_minor": 2
}
