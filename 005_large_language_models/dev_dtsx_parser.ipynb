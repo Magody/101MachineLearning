{
 "cells": [
  {
   "cell_type": "code",
   "execution_count": 7,
   "metadata": {},
   "outputs": [
    {
     "data": {
      "text/plain": [
       "True"
      ]
     },
     "execution_count": 7,
     "metadata": {},
     "output_type": "execute_result"
    }
   ],
   "source": [
    "from lib.framework_genai.GenAILLM import EnumGenAIModelsIdsOpenAI, EnumGenAIPlatforms, GenAILLM\n",
    "from lib.framework_genai.GenAIMemory import EnumMemoryType, GenAIMemory\n",
    "from lib.framework_genai.LoggingAndTelemetry import EnumLogs\n",
    "import os\n",
    "from dotenv import load_dotenv\n",
    "load_dotenv()"
   ]
  },
  {
   "cell_type": "code",
   "execution_count": 8,
   "metadata": {},
   "outputs": [
    {
     "name": "stdout",
     "output_type": "stream",
     "text": [
      "2024-02-14 17:45:57.970213-05:00: Modelo EnumGenAIModelsIdsOpenAI.MODEL_CHAT_GPT_3_5_TURBO_16k construido\n"
     ]
    }
   ],
   "source": [
    "ai_prefix = \"Assistant\"\n",
    "human_prefix = \"Human\"\n",
    "verbose_level:EnumLogs = EnumLogs.LOG_LEVEL_DEBUG\n",
    "\n",
    "gen_ai_llm = GenAILLM(\n",
    "    platform = EnumGenAIPlatforms.PLATFORM_OPENAI,\n",
    "    model_id = EnumGenAIModelsIdsOpenAI.MODEL_CHAT_GPT_3_5_TURBO_16k,\n",
    "    parameters_inference = {\n",
    "        'max_tokens': 1024, \n",
    "        \"temperature\": 0.1,\n",
    "        \"top_p\": 0.2\n",
    "    },\n",
    "    ai_prefix = ai_prefix,\n",
    "    human_prefix = human_prefix,\n",
    "    component_memory=GenAIMemory(EnumMemoryType.MEMORY_CHAT_BUFFER, ai_prefix, human_prefix),\n",
    "    platform_configuration = {\n",
    "        \"OPENAI_API_KEY\": os.environ[\"OPENAI_API_KEY\"]\n",
    "    },\n",
    "    verify_ssl=True,\n",
    "    verbose_level=verbose_level\n",
    ")"
   ]
  },
  {
   "cell_type": "code",
   "execution_count": 9,
   "metadata": {},
   "outputs": [],
   "source": [
    "import xml.etree.ElementTree as ET\n",
    "\n",
    "def save_part(xml_elements, name, path=\"./temp/dtsx_query/parts_basic01\"):\n",
    "    if not isinstance(xml_elements, list):\n",
    "        xml_elements = [xml_elements]\n",
    "\n",
    "    if \".\" not in name:\n",
    "        name = f\"{name}.txt\"\n",
    "\n",
    "    xml_str = \"\"\n",
    "    for xml_element in xml_elements:\n",
    "        xml_str += ET.tostring(xml_element, encoding='unicode').strip()\n",
    "    with open(f\"{path}/{name}\", \"w\") as f_out:\n",
    "        f_out.write(xml_str)"
   ]
  },
  {
   "cell_type": "code",
   "execution_count": 10,
   "metadata": {},
   "outputs": [],
   "source": [
    "path = \"./temp/dtsx_query/parts_basic01\"\n",
    "namespace = \"{www.microsoft.com/SqlServer/Dts}\"\n",
    "\n",
    "# Parse the XML file\n",
    "tree = ET.parse('./temp/dtsx_query/basic01.dtsx')\n",
    "root = tree.getroot()\n",
    "\n",
    "# Extract the ConnectionManagers\n",
    "connection_managers = root.findall(f\".//{namespace}ConnectionManagers\")\n",
    "variables = root.findall(f\".//{namespace}Variable\")\n",
    "precedence_constraints = root.findall(f\".//{namespace}PrecedenceConstraints\")\n",
    "\n",
    "save_part(connection_managers, \"connection_managers\", path)\n",
    "save_part(variables, \"variables\", path)\n",
    "save_part(precedence_constraints, \"precedence_constraints\", path)\n",
    "\n",
    "executables = root.findall(f\".//{namespace}Executable\")\n",
    "for executable in executables:\n",
    "\n",
    "    object_data = executable.find(f\".//{namespace}ObjectData\")\n",
    "    script_project = executable.find(f\".//ScriptProject\")\n",
    "\n",
    "    if script_project is not None:\n",
    "        script_project_name = script_project.attrib['Name']\n",
    "        save_part(script_project, f\"script_project-{script_project_name}\", path)\n",
    "        object_data.remove(script_project)\n",
    "        object_data.append(ET.fromstring(f\"<ScriptProjectExtracted Name='{script_project_name}'>{script_project_name}</ScriptProjectExtracted>\"))\n",
    "        \n",
    "save_part(executables, \"executables\", path)\n"
   ]
  },
  {
   "cell_type": "code",
   "execution_count": 11,
   "metadata": {},
   "outputs": [
    {
     "name": "stdout",
     "output_type": "stream",
     "text": [
      "<ns0:ConnectionManagers xmlns:ns0=\"www.microsoft.com/SqlServer/Dts\">\n",
      "    <ns0:ConnectionManager ns0:refId=\"Package.ConnectionManagers[ECBPPRQ121,11124.BDDELIVERY]\" ns0:CreationName=\"OLEDB\" ns0:DTSID=\"{F86D37AE-A474-4354-89A7-7A232A318205}\" ns0:ObjectName=\"ECBPPRQ121,11124.BDDELIVERY\">\n",
      "      <ns0:ObjectData>\n",
      "        <ns0:ConnectionManager ns0:ConnectRetryCount=\"1\" ns0:ConnectRetryInterval=\"5\" ns0:ConnectionString=\"Data Source=ECBPPRQ121,11124;Initial Catalog=BDDELIVERY;Provider=SQLNCLI11.1;Integrated Security=SSPI;Application Name=SSIS-Package-{F86D37AE-A474-4354-89A7-7A232A318205}ECBPPRQ121,11124.BDDELIVERY;Auto Translate=False;\" />\n",
      "      </ns0:ObjectData>\n",
      "    </ns0:ConnectionManager>\n",
      "  </ns0:ConnectionManagers>\n",
      "<ns0:Executable xmlns:ns0=\"www.microsoft.com/SqlServer/Dts\" xmlns:ns1=\"www.microsoft.com/sqlserver/dts/tasks/sqltask\" ns0:refId=\"Package\\Tarea Ejecutar SQL\" ns0:CreationName=\"Microsoft.ExecuteSQLTask\" ns0:Description=\"Tarea Ejecutar SQL\" ns0:DTSID=\"{E950AC02-29BD-47C8-B327-7AF383853887}\" ns0:ExecutableType=\"Microsoft.ExecuteSQLTask\" ns0:LocaleID=\"-1\" ns0:ObjectName=\"Tarea Ejecutar SQL\" ns0:ThreadHint=\"0\">\n",
      "      <ns0:Variables />\n",
      "      <ns0:ObjectData>\n",
      "        <ns1:SqlTaskData ns1:Connection=\"{F86D37AE-A474-4354-89A7-7A232A318205}\" ns1:SqlStatementSource=\"SELECT &#10;count(*) as conteo &#10;FROM [BDDELIVERY].[UIO\\ddiazpad].[ClientesRolerosPublicosMesBackup20231107] WITH(NOLOCK)\" ns1:ResultType=\"ResultSetType_SingleRow\">\n",
      "          <ns1:ResultBinding ns1:ResultName=\"Conteo\" ns1:DtsVariableName=\"User::VariableDemo\" />\n",
      "        </ns1:SqlTaskData>\n",
      "      </ns0:ObjectData>\n",
      "    </ns0:Executable><ns0:Executable xmlns:ns0=\"www.microsoft.com/SqlServer/Dts\" ns0:refId=\"Package\\Tarea Script\" ns0:CreationName=\"Microsoft.ScriptTask\" ns0:Description=\"Tarea Script\" ns0:DTSID=\"{F7B8F311-B03D-4371-A326-E039DB1D70B1}\" ns0:ExecutableType=\"Microsoft.ScriptTask\" ns0:LocaleID=\"-1\" ns0:ObjectName=\"Tarea Script\" ns0:ThreadHint=\"0\">\n",
      "      <ns0:Variables />\n",
      "      <ns0:ObjectData>\n",
      "        <ScriptProjectExtracted Name=\"ST_e599122295f343bc9305b92f28265c8d\">ST_e599122295f343bc9305b92f28265c8d</ScriptProjectExtracted></ns0:ObjectData>\n",
      "    </ns0:Executable>\n",
      "<ns0:PrecedenceConstraints xmlns:ns0=\"www.microsoft.com/SqlServer/Dts\">\n",
      "    <ns0:PrecedenceConstraint ns0:refId=\"Package.PrecedenceConstraints[Constraint]\" ns0:CreationName=\"\" ns0:DTSID=\"{0EA362C5-E180-4D8B-A3CA-F6781662A218}\" ns0:From=\"Package\\Tarea Ejecutar SQL\" ns0:LogicalAnd=\"True\" ns0:ObjectName=\"Constraint\" ns0:To=\"Package\\Tarea Script\" />\n",
      "  </ns0:PrecedenceConstraints>\n",
      "<ns0:Variable xmlns:ns0=\"www.microsoft.com/SqlServer/Dts\" ns0:CreationName=\"\" ns0:DTSID=\"{08B83097-99A1-41F7-9050-86AF90FCE475}\" ns0:IncludeInDebugDump=\"2345\" ns0:Namespace=\"User\" ns0:ObjectName=\"VariableDemo\">\n",
      "      <ns0:VariableValue ns0:DataType=\"8\">VARIABLE_DEMO</ns0:VariableValue>\n",
      "    </ns0:Variable>\n",
      "\n"
     ]
    }
   ],
   "source": [
    "dtsx_context = \"\"\n",
    "files = [\n",
    "    \"connection_managers.txt\",\n",
    "    \"executables.txt\",\n",
    "    \"precedence_constraints.txt\",\n",
    "    \"variables.txt\",\n",
    "]\n",
    "for file in files:\n",
    "    with open(f\"{path}/{file}\", \"r\") as f_in:\n",
    "        dtsx_context += f\"{f_in.read()}\\n\"\n",
    "\n",
    "print(dtsx_context)"
   ]
  },
  {
   "cell_type": "code",
   "execution_count": 12,
   "metadata": {},
   "outputs": [
    {
     "name": "stdout",
     "output_type": "stream",
     "text": [
      "2024-02-14 17:45:58.684020-05:00: Invocando modelo EnumGenAIModelsIdsOpenAI.MODEL_CHAT_GPT_3_5_TURBO_16k con Te compartiré un fragmento de un archivo DTSX, tu tarea será entenderlo y extraer metadata del mismo.\n",
      "Por cada tarea se debe extraer la siguiente información en una tabla cuyo separador es '|':\n",
      "1. Orden.- El orden de precedencia de la tarea.\n",
      "2. Tarea.- Es el nombre de la tarea, executable o caja.\n",
      "3. Tipo de tarea.- Si es posible, identificar el tipo de tarea o caja.\n",
      "4. Descripción de tarea.- Luego de ver la tarea al completo se podría generar una descripción útil.\n",
      "5. Servidor de entrada.- Si lo tiene, mapear el nombre del servidor de entrada con su puerto. Un servidor de entrada puede ser un nombre de un SQL Server por ejemplo de donde vienen los datos.\n",
      "6. Base de datos de entrada.- Si lo tiene, mapear el nombre de la base de datos de entrada. Usualmente la base de entrada suele estar cerca del nombre del servidor de entrada.\n",
      "7. Tabla de entrada.- Si la tiene, mapear el nombre de la tabla usada desde la base de datos de entrada.\n",
      "8. Campo de entrada.- Si es posible, determinar el campo o campos usados en la entrada.\n",
      "9. Parametros de entrada.- Lista de todos los parámetros enviados como entrada a la tarea.\n",
      "10. Procesamiento.- Esta es la parte central. Es un resumen de lo que hace la tarea, el script, código de programación o algo identificativo que sea ejecutado por la tarea. En el caso de un C# script por ejemplo es todo el código de programación, para una tarea de SQL puede ser todo el SQL Statement. \n",
      "11. Servidor de salida.- Si lo tiene, mapear el nombre del servidor de salida. Este puede ser en dónde termina la salida de la tarea.\n",
      "12. Base de datos de salida.- Si lo tiene, mapear el nombre de la base de datos asociado al servidor de salida.\n",
      "13. Tabla de salida.- Si la tiene, mapear el nombre de la tabla usada desde la base de datos de salida.\n",
      "14. Campo de salida.- Si es posible, determinar el campo o campos usados para la salida.\n",
      "15. Resultado de salida.- Lista de todos los resultados que salen de la tarea.\n",
      "16. Extracteds.- Son fragmentos XML que fueron extraidos y reemplazados por una versión mínima\n",
      "\n",
      "Por ejemplo si existe una tarea SQL llamada 'SUB-1234' que trunca datos en una tabla. Todo esto debe desembocar en un registro. En el procesamiento mapea las etiquetas xml que tengan 'Extracted' en el nombre:\n",
      "\n",
      "Orden|Tarea|Tipo de tarea|Descripción de tarea|Servidor de entrada|Base de datos de entrada|Tabla de entrada|Campo de entrada|Parametros de entrada|Procesamiento|Servidor de salida|Base de datos de salida|Tabla de salida|Campo de salida|Resultado de salida\n",
      "1|SUB-1234|Ejecutar SQL|Realiza un conteo de datos|ECBPPRQ29 11429|DQ_BI||||TRUNCATE TABLE [dbo].[Q59_DTSX_INFO]||||||ScriptProjectExtracted\n",
      "\n",
      "El DTSX es: <ns0:ConnectionManagers xmlns:ns0=\"www.microsoft.com/SqlServer/Dts\">\n",
      "    <ns0:ConnectionManager ns0:refId=\"Package.ConnectionManagers[ECBPPRQ121,11124.BDDELIVERY]\" ns0:CreationName=\"OLEDB\" ns0:DTSID=\"{F86D37AE-A474-4354-89A7-7A232A318205}\" ns0:ObjectName=\"ECBPPRQ121,11124.BDDELIVERY\">\n",
      "      <ns0:ObjectData>\n",
      "        <ns0:ConnectionManager ns0:ConnectRetryCount=\"1\" ns0:ConnectRetryInterval=\"5\" ns0:ConnectionString=\"Data Source=ECBPPRQ121,11124;Initial Catalog=BDDELIVERY;Provider=SQLNCLI11.1;Integrated Security=SSPI;Application Name=SSIS-Package-{F86D37AE-A474-4354-89A7-7A232A318205}ECBPPRQ121,11124.BDDELIVERY;Auto Translate=False;\" />\n",
      "      </ns0:ObjectData>\n",
      "    </ns0:ConnectionManager>\n",
      "  </ns0:ConnectionManagers>\n",
      "<ns0:Executable xmlns:ns0=\"www.microsoft.com/SqlServer/Dts\" xmlns:ns1=\"www.microsoft.com/sqlserver/dts/tasks/sqltask\" ns0:refId=\"Package\\Tarea Ejecutar SQL\" ns0:CreationName=\"Microsoft.ExecuteSQLTask\" ns0:Description=\"Tarea Ejecutar SQL\" ns0:DTSID=\"{E950AC02-29BD-47C8-B327-7AF383853887}\" ns0:ExecutableType=\"Microsoft.ExecuteSQLTask\" ns0:LocaleID=\"-1\" ns0:ObjectName=\"Tarea Ejecutar SQL\" ns0:ThreadHint=\"0\">\n",
      "      <ns0:Variables />\n",
      "      <ns0:ObjectData>\n",
      "        <ns1:SqlTaskData ns1:Connection=\"{F86D37AE-A474-4354-89A7-7A232A318205}\" ns1:SqlStatementSource=\"SELECT &#10;count(*) as conteo &#10;FROM [BDDELIVERY].[UIO\\ddiazpad].[ClientesRolerosPublicosMesBackup20231107] WITH(NOLOCK)\" ns1:ResultType=\"ResultSetType_SingleRow\">\n",
      "          <ns1:ResultBinding ns1:ResultName=\"Conteo\" ns1:DtsVariableName=\"User::VariableDemo\" />\n",
      "        </ns1:SqlTaskData>\n",
      "      </ns0:ObjectData>\n",
      "    </ns0:Executable><ns0:Executable xmlns:ns0=\"www.microsoft.com/SqlServer/Dts\" ns0:refId=\"Package\\Tarea Script\" ns0:CreationName=\"Microsoft.ScriptTask\" ns0:Description=\"Tarea Script\" ns0:DTSID=\"{F7B8F311-B03D-4371-A326-E039DB1D70B1}\" ns0:ExecutableType=\"Microsoft.ScriptTask\" ns0:LocaleID=\"-1\" ns0:ObjectName=\"Tarea Script\" ns0:ThreadHint=\"0\">\n",
      "      <ns0:Variables />\n",
      "      <ns0:ObjectData>\n",
      "        <ScriptProjectExtracted Name=\"ST_e599122295f343bc9305b92f28265c8d\">ST_e599122295f343bc9305b92f28265c8d</ScriptProjectExtracted></ns0:ObjectData>\n",
      "    </ns0:Executable>\n",
      "<ns0:PrecedenceConstraints xmlns:ns0=\"www.microsoft.com/SqlServer/Dts\">\n",
      "    <ns0:PrecedenceConstraint ns0:refId=\"Package.PrecedenceConstraints[Constraint]\" ns0:CreationName=\"\" ns0:DTSID=\"{0EA362C5-E180-4D8B-A3CA-F6781662A218}\" ns0:From=\"Package\\Tarea Ejecutar SQL\" ns0:LogicalAnd=\"True\" ns0:ObjectName=\"Constraint\" ns0:To=\"Package\\Tarea Script\" />\n",
      "  </ns0:PrecedenceConstraints>\n",
      "<ns0:Variable xmlns:ns0=\"www.microsoft.com/SqlServer/Dts\" ns0:CreationName=\"\" ns0:DTSID=\"{08B83097-99A1-41F7-9050-86AF90FCE475}\" ns0:IncludeInDebugDump=\"2345\" ns0:Namespace=\"User\" ns0:ObjectName=\"VariableDemo\">\n",
      "      <ns0:VariableValue ns0:DataType=\"8\">VARIABLE_DEMO</ns0:VariableValue>\n",
      "    </ns0:Variable>\n",
      "\n",
      "\n",
      "|Orden|Tarea|Tipo de tarea|Descripción de tarea|Servidor de entrada|Base de datos de entrada|Tabla de entrada|Campo de entrada|Parametros de entrada|Procesamiento|Servidor de salida|Base de datos de salida|Tabla de salida|Campo de salida|Resultado de salida|\n",
      "|---|---|---|---|---|---|---|---|---|---|---|---|---|---|---|\n",
      "|1|Tarea Ejecutar SQL|Ejecutar SQL|Realiza un conteo de datos|ECBPPRQ121,11124|BDDELIVERY|UIO\\ddiazpad.ClientesRolerosPublicosMesBackup20231107|||SELECT count(*) as conteo FROM [BDDELIVERY].[UIO\\ddiazpad].[ClientesRolerosPublicosMesBackup20231107] WITH(NOLOCK)|||||Conteo|\n",
      "|2|Tarea Script|Script Task|Tarea Script|N/A|N/A|N/A|N/A|N/A|ScriptProjectExtracted|||ST_e599122295f343bc9305b92f28265c8d|||\n"
     ]
    }
   ],
   "source": [
    "actual_chat = gen_ai_llm.component_memory.get_raw_memory()\n",
    "# PROMPT_DIRECT = f\"\"\"{actual_chat}\n",
    "# {human_prefix}: ¿Qué es un archivo DTSX? ¿Cómo es su estructura?\n",
    "# {ai_prefix}: \n",
    "# \"\"\".strip()\n",
    "PROMPT_DIRECT = f\"\"\"Te compartiré un fragmento de un archivo DTSX, tu tarea será entenderlo y extraer metadata del mismo.\n",
    "Por cada tarea se debe extraer la siguiente información en una tabla cuyo separador es '|':\n",
    "1. Orden.- El orden de precedencia de la tarea.\n",
    "2. Tarea.- Es el nombre de la tarea, executable o caja.\n",
    "3. Tipo de tarea.- Si es posible, identificar el tipo de tarea o caja.\n",
    "4. Descripción de tarea.- Luego de ver la tarea al completo se podría generar una descripción útil.\n",
    "5. Servidor de entrada.- Si lo tiene, mapear el nombre del servidor de entrada con su puerto. Un servidor de entrada puede ser un nombre de un SQL Server por ejemplo de donde vienen los datos.\n",
    "6. Base de datos de entrada.- Si lo tiene, mapear el nombre de la base de datos de entrada. Usualmente la base de entrada suele estar cerca del nombre del servidor de entrada.\n",
    "7. Tabla de entrada.- Si la tiene, mapear el nombre de la tabla usada desde la base de datos de entrada.\n",
    "8. Campo de entrada.- Si es posible, determinar el campo o campos usados en la entrada.\n",
    "9. Parametros de entrada.- Lista de todos los parámetros enviados como entrada a la tarea.\n",
    "10. Procesamiento.- Esta es la parte central. Es un resumen de lo que hace la tarea, el script, código de programación o algo identificativo que sea ejecutado por la tarea. En el caso de un C# script por ejemplo es todo el código de programación, para una tarea de SQL puede ser todo el SQL Statement. \n",
    "11. Servidor de salida.- Si lo tiene, mapear el nombre del servidor de salida. Este puede ser en dónde termina la salida de la tarea.\n",
    "12. Base de datos de salida.- Si lo tiene, mapear el nombre de la base de datos asociado al servidor de salida.\n",
    "13. Tabla de salida.- Si la tiene, mapear el nombre de la tabla usada desde la base de datos de salida.\n",
    "14. Campo de salida.- Si es posible, determinar el campo o campos usados para la salida.\n",
    "15. Resultado de salida.- Lista de todos los resultados que salen de la tarea.\n",
    "16. Extracteds.- Son fragmentos XML que fueron extraidos y reemplazados por una versión mínima\n",
    "\n",
    "Por ejemplo si existe una tarea SQL llamada 'SUB-1234' que trunca datos en una tabla. Todo esto debe desembocar en un registro. En el procesamiento mapea las etiquetas xml que tengan 'Extracted' en el nombre:\n",
    "\n",
    "Orden|Tarea|Tipo de tarea|Descripción de tarea|Servidor de entrada|Base de datos de entrada|Tabla de entrada|Campo de entrada|Parametros de entrada|Procesamiento|Servidor de salida|Base de datos de salida|Tabla de salida|Campo de salida|Resultado de salida\n",
    "1|SUB-1234|Ejecutar SQL|Realiza un conteo de datos|ECBPPRQ29 11429|DQ_BI||||TRUNCATE TABLE [dbo].[Q59_DTSX_INFO]||||||ScriptProjectExtracted\n",
    "\n",
    "El DTSX es: {dtsx_context}\n",
    "\"\"\"\n",
    "llm_result = gen_ai_llm.invoke(PROMPT_DIRECT, save_in_memory=True)\n",
    "\n",
    "print(llm_result)"
   ]
  },
  {
   "cell_type": "code",
   "execution_count": 18,
   "metadata": {},
   "outputs": [
    {
     "name": "stdout",
     "output_type": "stream",
     "text": [
      "La información extraída de las tareas del flujo en el archivo DTSX es la siguiente:\n",
      "\n",
      "1. Tarea Ejecutar SQL:\n",
      "   - Orden: 1\n",
      "   - TaskName: Tarea Ejecutar SQL\n",
      "   - Servidor Entrada: ECBPPRQ121,11124\n",
      "   - Base de datos Entrada: BDDELIVERY\n",
      "   - Tabla Entrada: ClientesRolerosPublicosMesBackup20231107\n",
      "   - Proceso: SELECT count(*) as conteo FROM [BDDELIVERY].[UIO\\ddiazpad].[ClientesRolerosPublicosMesBackup20231107] WITH(NOLOCK)\n",
      "\n",
      "2. Tarea Script:\n",
      "   - Orden: 2\n",
      "   - TaskName: Tarea Script\n",
      "   - Servidor Entrada: N/A\n",
      "   - Base de datos Entrada: N/A\n",
      "   - Tabla Entrada: N/A\n",
      "   - Proceso: C# Script (ver ScriptMain.cs en el archivo)\n"
     ]
    }
   ],
   "source": []
  },
  {
   "cell_type": "code",
   "execution_count": 5,
   "metadata": {},
   "outputs": [
    {
     "data": {
      "text/plain": [
       "'Assistant'"
      ]
     },
     "execution_count": 5,
     "metadata": {},
     "output_type": "execute_result"
    }
   ],
   "source": []
  },
  {
   "cell_type": "markdown",
   "metadata": {},
   "source": [
    "# END"
   ]
  }
 ],
 "metadata": {
  "kernelspec": {
   "display_name": "env_ai",
   "language": "python",
   "name": "python3"
  },
  "language_info": {
   "codemirror_mode": {
    "name": "ipython",
    "version": 3
   },
   "file_extension": ".py",
   "mimetype": "text/x-python",
   "name": "python",
   "nbconvert_exporter": "python",
   "pygments_lexer": "ipython3",
   "version": "3.11.7"
  }
 },
 "nbformat": 4,
 "nbformat_minor": 2
}
