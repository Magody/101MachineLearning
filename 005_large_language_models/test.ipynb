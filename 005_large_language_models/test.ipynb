{
 "cells": [
  {
   "cell_type": "code",
   "execution_count": null,
   "metadata": {},
   "outputs": [],
   "source": [
    "from moviepy.editor import VideoFileClip"
   ]
  },
  {
   "cell_type": "code",
   "execution_count": 1,
   "metadata": {},
   "outputs": [],
   "source": [
    "path_input = \"./data/input\"\n",
    "path_output = \"./data/output\""
   ]
  },
  {
   "cell_type": "code",
   "execution_count": null,
   "metadata": {},
   "outputs": [],
   "source": [
    "# Define the input video file and output audio file\n",
    "video_file = f\"{path_input}/podcast_piloto_kenotepase_1.mp4\"\n",
    "video_name = video_file.split(\"/\")[-1].split(\".\")[0]\n",
    "mp3_file = f\"{path_output}/{video_name}.mp3\"\n",
    "\n",
    "# Load the video clip\n",
    "video_clip = VideoFileClip(video_file)\n",
    "\n",
    "# Extract the audio from the video clip\n",
    "audio_clip = video_clip.audio\n",
    "\n",
    "# Write the audio to a separate file\n",
    "audio_clip.write_audiofile(mp3_file)\n",
    "\n",
    "# Close the video and audio clips\n",
    "audio_clip.close()\n",
    "video_clip.close()\n",
    "\n",
    "print(\"Audio extraction successful!\")"
   ]
  },
  {
   "cell_type": "code",
   "execution_count": 6,
   "metadata": {},
   "outputs": [],
   "source": [
    "video_name = \"w1\"\n",
    "mp3_file = f\"{path_input}/audios/w1.mp3\""
   ]
  },
  {
   "cell_type": "code",
   "execution_count": 7,
   "metadata": {},
   "outputs": [
    {
     "name": "stdout",
     "output_type": "stream",
     "text": [
      "NORMAL SIZE\n"
     ]
    }
   ],
   "source": [
    "from openai import OpenAI\n",
    "from dotenv import load_dotenv\n",
    "from pydub import AudioSegment\n",
    "load_dotenv()\n",
    "client = OpenAI()\n",
    "\n",
    "def getSize(fileobject):\n",
    "    fileobject.seek(0,2) # move the cursor to the end of the file\n",
    "    size = fileobject.tell()\n",
    "    return size\n",
    "\n",
    "with open(mp3_file, \"rb\") as audio_file:\n",
    "    size_in_mb = getSize(audio_file)/(1024*1024)\n",
    "\n",
    "    if size_in_mb >= 25:\n",
    "        print(\"MP3 big, starting chunks of 10 minutes\")\n",
    "        audio = AudioSegment.from_mp3(\"good_morning.mp3\")\n",
    "\n",
    "        ten_minutes = 10 * 60 * 1000\n",
    "\n",
    "        audio_len = len(audio)\n",
    "        pointer_start = 0\n",
    "        pointer_end = ten_minutes\n",
    "\n",
    "        files_parts = []\n",
    "        part = 1\n",
    "        while pointer_start < audio_len:\n",
    "            mp3_to_export = audio[pointer_start:pointer_end]\n",
    "            files_parts.append(f\"{mp3_file.replace('.mp3', '')}_{part}.mp3\")\n",
    "            mp3_to_export.export(files_parts[-1], format=\"mp3\")\n",
    "\n",
    "            pointer_start = pointer_end\n",
    "            pointer_end = min(pointer_end + ten_minutes + 1, audio_len)\n",
    "            part += 1\n",
    "\n",
    "        for file_name in files_parts:\n",
    "            transcription = \"\"\n",
    "            with open(file_name, \"rb\") as audio_file_part:\n",
    "                transcription_part = client.audio.transcriptions.create(\n",
    "                    model=\"whisper-1\", \n",
    "                    file=audio_file_part, \n",
    "                    response_format=\"text\",\n",
    "                    # prompt=\"ZyntriQix, Digique Plus, CynapseFive, VortiQore V8, EchoNix Array, OrbitalLink Seven, DigiFractal Matrix, PULSE, RAPT, B.R.I.C.K., Q.U.A.R.T.Z., F.L.I.N.T.\"\n",
    "                )\n",
    "                transcription += f\"{transcription_part} \"\n",
    "            transcription = transcription.strip()\n",
    "\n",
    "    else:\n",
    "        print(\"NORMAL SIZE\")\n",
    "        transcription = client.audio.transcriptions.create(\n",
    "            model=\"whisper-1\", \n",
    "            file=audio_file, \n",
    "            response_format=\"text\",\n",
    "            # prompt=\"ZyntriQix, Digique Plus, CynapseFive, VortiQore V8, EchoNix Array, OrbitalLink Seven, DigiFractal Matrix, PULSE, RAPT, B.R.I.C.K., Q.U.A.R.T.Z., F.L.I.N.T.\"\n",
    "        )\n",
    "\n",
    "with open(f\"{path_output}/{video_name}.txt\", \"w\") as f_out:\n",
    "    if isinstance(transcription, str):\n",
    "        f_out.write(transcription)\n",
    "    else:\n",
    "        f_out.write(transcription.text)"
   ]
  },
  {
   "cell_type": "code",
   "execution_count": null,
   "metadata": {},
   "outputs": [],
   "source": [
    "from pathlib import Path\n",
    "from openai import OpenAI\n",
    "client = OpenAI()\n",
    "\n",
    "text = \"\"\n",
    "with open(f\"{path_output}/dummy.txt\", \"r\") as f_out:\n",
    "    text = f_out.read()\n",
    "\n",
    "print(len(text))\n",
    "\n",
    "speech_file_path = f\"{path_output}/tts_{video_name}.mp3\"\n",
    "response = client.audio.speech.create(\n",
    "    model=\"tts-1\",\n",
    "    voice=\"nova\",\n",
    "    input=text  # [:100]\n",
    ")\n",
    "\n",
    "response.stream_to_file(speech_file_path)"
   ]
  },
  {
   "cell_type": "code",
   "execution_count": null,
   "metadata": {},
   "outputs": [],
   "source": [
    "import os\n",
    "from pydub import AudioSegment\n",
    "from pydub.playback import play\n",
    "\n",
    "\n",
    "# cwd = os.getcwd()\n",
    "sound = AudioSegment.from_file(f\"{path_output}/tts_podcast_piloto_2_hembra.mp3\", format=\"mp3\")\n",
    "\n",
    "# print(sound.frame_rate)\n",
    "# shift the pitch down by half an octave (speed will decrease proportionally)\n",
    "octaves = +0.7\n",
    "\n",
    "new_sample_rate = int(sound.frame_rate * (2.0 ** octaves))\n",
    "\n",
    "new_sound = sound._spawn(sound.raw_data)  # , overrides={'frame_rate': new_sample_rate}\n",
    "\n",
    "new_sound.export(f\"{path_output}/tts_podcast_piloto_2_hembra_modulado.mp3\", format=\"mp3\")"
   ]
  }
 ],
 "metadata": {
  "kernelspec": {
   "display_name": "env_ai",
   "language": "python",
   "name": "python3"
  },
  "language_info": {
   "codemirror_mode": {
    "name": "ipython",
    "version": 3
   },
   "file_extension": ".py",
   "mimetype": "text/x-python",
   "name": "python",
   "nbconvert_exporter": "python",
   "pygments_lexer": "ipython3",
   "version": "3.11.7"
  }
 },
 "nbformat": 4,
 "nbformat_minor": 2
}
