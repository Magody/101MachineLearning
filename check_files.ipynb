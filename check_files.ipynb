{
 "cells": [
  {
   "cell_type": "code",
   "execution_count": 2,
   "metadata": {},
   "outputs": [
    {
     "name": "stdout",
     "output_type": "stream",
     "text": [
      "46.08 MB - 000_projects_structured/00_EDA/youtube/CodeBullet_comments.csv\n",
      "16.66 MB - 000_master/percepcion_computacional/Reconocimiento_Facial/models/face_recognition_model.keras\n",
      "16.66 MB - 000_projects_structured/05_computer_vision/Reconocimiento_Facial/models/face_recognition_model.keras\n",
      "16.53 MB - 000_master/percepcion_computacional/Reconocimiento_Facial/models/face_recognition_model.h5\n",
      "16.53 MB - 000_projects_structured/05_computer_vision/Reconocimiento_Facial/models/face_recognition_model.h5\n",
      "12.38 MB - 000_projects_structured/05_computer_vision/Reconstruccion_3D/taza_1.png\n",
      "12.04 MB - 000_projects_structured/05_computer_vision/Reconstruccion_3D/taza_2.png\n",
      "11.85 MB - 000_projects_structured/05_computer_vision/Reconstruccion_3D/taza_4.png\n",
      "11.01 MB - 000_projects_structured/05_computer_vision/Reconstruccion_3D/taza_3.png\n",
      "8.69 MB - 004_transformers_hugging_faces/fine-tuning/Fine_tune_Llama_2.ipynb\n",
      "7.42 MB - 000_projects_structured/00_EDA/youtube/input.txt\n",
      "7.07 MB - 000_projects_structured/00_EDA/youtube/youtube_channel_Insights.ipynb\n",
      "6.36 MB - 000_projects_structured/00_EDA/youtube/youtube_channel_Insights_KenJee.ipynb\n",
      "6.23 MB - 000_master/percepcion_computacional/YOLO-Tiempo_Real/yolo-Weights/yolov8n.pt\n",
      "6.23 MB - 000_projects_structured/05_computer_vision/YOLO-Tiempo_Real/yolo-Weights/yolov8n.pt\n",
      "5.22 MB - 000_master/percepcion_computacional/Conectando_con_APIs/Conectando_OpenAI_API.ipynb\n",
      "5.22 MB - 005_large_language_models/Conectando_con_APIs/Conectando_OpenAI_API.ipynb\n",
      "4.86 MB - 000_master/nlp/Unidad 3/thematicCorpus.csv\n",
      "4.47 MB - 000_master/nlp/Unidad 4/Unidad 4.pdf\n",
      "4.27 MB - 000_projects_structured/01_supervised_learning/regression/pyspark_house_price_prediction.ipynb\n"
     ]
    }
   ],
   "source": [
    "import subprocess\n",
    "import os\n",
    "\n",
    "# Obtener archivos rastreados por Git excluyendo los ignorados\n",
    "tracked_files = subprocess.check_output(\n",
    "    [\"git\", \"ls-files\", \"-oc\", \"--exclude-standard\"],\n",
    "    text=True\n",
    ").splitlines()\n",
    "\n",
    "# Obtener tamaño de cada archivo\n",
    "file_sizes = []\n",
    "for file in tracked_files:\n",
    "    if os.path.isfile(file):  # Ignorar directorios\n",
    "        size = os.path.getsize(file)\n",
    "        file_sizes.append((size, file))\n",
    "\n",
    "# Ordenar de mayor a menor\n",
    "file_sizes.sort(reverse=True, key=lambda x: x[0])\n",
    "\n",
    "# Mostrar los archivos más pesados\n",
    "for size, file in file_sizes[:20]:\n",
    "    print(f\"{size / (1024*1024):.2f} MB - {file}\")\n"
   ]
  },
  {
   "cell_type": "code",
   "execution_count": null,
   "metadata": {},
   "outputs": [],
   "source": []
  }
 ],
 "metadata": {
  "kernelspec": {
   "display_name": "env_master",
   "language": "python",
   "name": "python3"
  },
  "language_info": {
   "codemirror_mode": {
    "name": "ipython",
    "version": 3
   },
   "file_extension": ".py",
   "mimetype": "text/x-python",
   "name": "python",
   "nbconvert_exporter": "python",
   "pygments_lexer": "ipython3",
   "version": "3.11.10"
  }
 },
 "nbformat": 4,
 "nbformat_minor": 2
}
